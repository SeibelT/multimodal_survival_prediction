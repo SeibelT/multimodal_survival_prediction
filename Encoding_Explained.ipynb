{
 "cells": [
  {
   "attachments": {},
   "cell_type": "markdown",
   "metadata": {},
   "source": [
    "# Fine Tuning of Feature encoder\n",
    "\n",
    "A very common way of applying deep learning techniques in digital pathology is Multiple Instance Learning (MIL) \n",
    "The giga pixel image is cropped into a set of equally sized non overlapping tiles. The tiles are encoded with a pretrained feature extractor and then aggregated within in a second step by a trainable model to solve a specific task. \n",
    "Tipically used feature encoders were pretrained either on Imagenet21k or even on larger histological datasets. The architectures of such models can reach from smaller ones like the Resnet18  up to Swim transformer based transformer architectures. \n",
    "Since pre training larger models from scratch requires huge amounts of ressources, the focus of this model is fine tuning a pretrained model. \n",
    "\n",
    "**The following experiments attempt to explore whether existing feature encoders can be fine-tuned for better survival analysis.**\n",
    "\n",
    "\n",
    "The aim is to carry out the following experiments:\n",
    "\n",
    "1. Resnet18: train from scratch/fine tune on Survival Analysis\n",
    "2. ViT Tiny: train from scratch/fine tune on Survival Analysis (+Multimodality)\n",
    "3. Vit Tiny MAE: fine tune on Survival Analysis \n",
    "4. Vit Tiny MAE: fine tune on Survival Analysis in a supMAE fashion\n",
    "\n",
    "To aquire those experiments, the following subtasks are needed: \n",
    "1. Create a custom dataset(from zip) that statifies on a patient level into a train/test split.\n",
    "2. Create models,find checkpoints,load parameters such that DDP is applicable\n",
    "3. Create a training function which allows partially freezing weights, finetune, train from checkpoint.\n",
    "4. Create an encoding pipeline. \n"
   ]
  },
  {
   "cell_type": "markdown",
   "metadata": {},
   "source": [
    "# DataLoader\n",
    "\n",
    "The Data consists of ~1000 patients. Each patient has exactly one genetic feature vector and can have multiple sets(can have multiple slides) of tile-sets.\n",
    "\n",
    "Idea: \n",
    "\n",
    "The dataloader receives a dataframe which contains meta data and genetic data (stratified by train/test split on a patient level)\n",
    "and further a path to the tiles. From this path, an os.walk is done to create a second dataframe which contains the file path and the slide_id.\n",
    "the dataframe will be adapted to contain the tile_path, meta data and the index of the respecitve row within the genomic tensor\n",
    "\n",
    "1. Import Dataframe, create Gen tensor, metadataframe\n",
    "2. os.walk on tilepath to create tile dataframe,\n",
    "3.  add mapping for slide_id idx\n"
   ]
  },
  {
   "cell_type": "code",
   "execution_count": null,
   "metadata": {},
   "outputs": [],
   "source": [
    "# 1.)\n",
    "from utils.Aggregation_Utils import *\n",
    "df_path = ...\n",
    "df_train,df_test,df_val = prepare_csv(df_path=\"/work4/seibel/PORPOISE/datasets_csv/tcga_brca_all_clean.csv.zip\",split=\"traintestval\",n_bins=4,save = False,frac_train=0.7,frac_val=0.1)\n",
    "df_train = df_train[df_train[\"traintest\"]==0] # if train \n",
    "\n",
    "\n",
    "\n",
    "genomics_tensor = torch.Tensor(df_train[df_train.keys()[11:]].to_numpy()).to(torch.float32)\n",
    "df_meta = df_train[[\"slide_id\",\"survival_months_discretized\",\"censorship\",\"survival_months\"]]\n",
    "diction = dict([(name,idx) for idx,name in enumerate(df_meta[\"slide_id\"]) ])"
   ]
  },
  {
   "cell_type": "code",
   "execution_count": null,
   "metadata": {},
   "outputs": [],
   "source": [
    "#2.)\n",
    "import os\n",
    "import pandas as pd\n",
    "tile_path = \"/globalwork/seibel/TCGA-BRCA-TILES-NORM/\"\n",
    "ext = \"jpg\"\n",
    "file_list = []\n",
    "root_list = []\n",
    "for root, dirs, files in os.walk(tile_path, topdown=False):\n",
    "    for name in files:\n",
    "        file_list.append(os.path.join(root, name))\n",
    "        root_list.append(root.split(\"/\")[-1]+\".svs\")\n",
    "\n",
    "df_tiles = pd.DataFrame({\"tilepath\":file_list,\"slide_id\":root_list},)\n",
    "df_tiles = df_tiles[df_tiles[\"tilepath\"].str.endswith(ext)] # Avoid having other files than .<ext> files in Dataframe\n",
    "\n",
    "\n",
    "print(df_tiles.tilepath.iloc[0])\n",
    "print(df_tiles.slide_id.iloc[0])\n",
    "df_tiles.head()"
   ]
  },
  {
   "cell_type": "markdown",
   "metadata": {},
   "source": [
    "## safe dataframe"
   ]
  },
  {
   "cell_type": "code",
   "execution_count": null,
   "metadata": {},
   "outputs": [],
   "source": [
    "#title = \"df-TCGA-BRCA-TIILES-NORM.csv\"\n",
    "#df_tiles.to_csv(title,index=False)"
   ]
  },
  {
   "cell_type": "code",
   "execution_count": null,
   "metadata": {},
   "outputs": [],
   "source": [
    "# 3.)\n",
    "df_tiles.insert(2,\"slideid_idx\",df_tiles[\"slide_id\"].map(diction))\n",
    "df_tiles = df_tiles.dropna()\n",
    "df_tiles.slideid_idx = df_tiles.slideid_idx.astype(int)\n",
    "df_tiles"
   ]
  },
  {
   "cell_type": "markdown",
   "metadata": {},
   "source": [
    "## Complete Custom Dataset\n",
    "It is better to create the dataframe once instead of including the os-walk within the dataloader! "
   ]
  },
  {
   "cell_type": "code",
   "execution_count": null,
   "metadata": {},
   "outputs": [],
   "source": [
    "from torch.utils.data import DataLoader,Dataset\n",
    "from utils.Aggregation_Utils import *\n",
    "import pandas as pd\n",
    "import os \n",
    "from PIL import Image\n",
    "from torchvision import transforms\n",
    "\n",
    "\n",
    "\n",
    "class TileDataset(Dataset):\n",
    "    def __init__(self,df_path,tile_path,ext,trainmode,transform):\n",
    "        \"\"\"Custom Dataset for Feature Extractor Finetuning for Survival Analysis \n",
    "\n",
    "        Args:\n",
    "            df_path (str): Path to Dataframe which contains meta data and genomic data \n",
    "            tilepath (str): path to folder which contains subfolders with tiles(subfolder names must ne slide id)\n",
    "            ext (str): file extension of tiles(eg jpg or png)\n",
    "            trainmode (Bool): To generate train set or test set \n",
    "        \"\"\"\n",
    "        super(TileDataset,self).__init__()\n",
    "        #Genomic Tensor and Meta Dataframe\n",
    "        df = pd.read_csv(df_path) \n",
    "\n",
    "        assert trainmode in [\"train\",\"test\",\"val\"], \"Dataset mode not known\"\n",
    "        df[df[\"traintest\"]==(0 if trainmode==\"train\" else 1 if trainmode==\"test\" else 2)]\n",
    "        \n",
    "            \n",
    "        self.genomics_tensor = torch.Tensor(df[df.keys()[11:]].to_numpy()).to(torch.float32)\n",
    "        self.df_meta = df[[\"slide_id\",\"survival_months_discretized\",\"censorship\",\"survival_months\"]]\n",
    "        \n",
    "        # Tile Data Frame\n",
    "        file_list = []\n",
    "        root_list = []\n",
    "        for root, dirs, files in os.walk(tile_path, topdown=False):\n",
    "            for name in files:\n",
    "                file_list.append(os.path.join(root, name))\n",
    "                root_list.append(root.split(\"/\")[-1]+\".svs\")\n",
    "\n",
    "\n",
    "        df_tiles = pd.DataFrame({\"tilepath\":file_list,\"slide_id\":root_list},)\n",
    "        df_tiles = df_tiles[df_tiles[\"tilepath\"].str.endswith(ext)]\n",
    "        \n",
    "        # add slide_id to index mapping\n",
    "        diction= dict([(name,idx) for idx,name in enumerate(self.df_meta[\"slide_id\"]) ]) \n",
    "        df_tiles.insert(2,\"slideid_idx\",df_tiles[\"slide_id\"].map(diction))\n",
    "        df_tiles = df_tiles.dropna()\n",
    "        df_tiles.slideid_idx = df_tiles.slideid_idx.astype(int)\n",
    "        self.df_tiles = df_tiles\n",
    "        \n",
    "        # TODO transforms \n",
    "        self.transforms = transform\n",
    "    def __len__(self):\n",
    "        return len(self.df_tiles)\n",
    "    def __getitem__(self,idx):\n",
    "        \n",
    "        tile_path,_,slide_idx = self.df_tiles.iloc[idx]\n",
    "        tile = Image.open(tile_path)\n",
    "        tile = self.transforms(tile)\n",
    "        \n",
    "        label = torch.tensor(self.df_meta.iloc[slide_idx, 1]).type(torch.int64)\n",
    "        censorship = torch.tensor(self.df_meta.iloc[slide_idx, 2]).type(torch.int64)\n",
    "        label_cont = torch.tensor(self.df_meta.iloc[slide_idx,3]).type(torch.int64)\n",
    "        return tile, self.genomics_tensor[slide_idx], censorship, label,label_cont\n",
    "        \n",
    "        \n",
    "        \n",
    "        \n",
    "df_path_train = \"/work4/seibel/PORPOISE/datasets_csv/tcga_brca__4bins_trainsplit.csv\"\n",
    "df_path_test = \"/work4/seibel/PORPOISE/datasets_csv/tcga_brca__4bins_testsplit.csv\"\n",
    "\n",
    "tilepath = \"/work4/seibel/data/TCGA-BRCA-TILES/\"\n",
    "ext = \"jpg\"\n",
    "\n",
    "trainmode=\"train\"\n",
    "\n",
    "\n",
    "DS = TileDataset(df_path_train,tilepath,ext,trainmode,transform=transforms.ToTensor())\n",
    "DS.__getitem__(8)"
   ]
  },
  {
   "cell_type": "code",
   "execution_count": null,
   "metadata": {},
   "outputs": [],
   "source": [
    "from datasets.Tile_Dataset import TileDataset\n",
    "from torchvision import transforms\n",
    "import os \n",
    "df_path_train =\"/nodes/bevog/work4/seibel/PORPOISE/datasets_csv/tcga_brca__4bins_trainsplit.csv\"\n",
    "assert os.path.exists(df_path_train)\n",
    "tile_path =\"/nodes/bevog/work4/seibel/data/TCGA-BRCA-TILES/\"\n",
    "ext = \"jpg\"\n",
    "batch_size = 32\n",
    "transform_train=transforms.PILToTensor()\n",
    "train_set = TileDataset(df_path=df_path_train,tile_path=tile_path,ext=ext,trainmode = \"train\",transform=transform_train)"
   ]
  },
  {
   "cell_type": "markdown",
   "metadata": {},
   "source": [
    "# Loss \n",
    "The loss can be used from the previous colab notebook but has to be adapted to fully run on gpu \n"
   ]
  },
  {
   "cell_type": "code",
   "execution_count": null,
   "metadata": {},
   "outputs": [],
   "source": [
    "from utils.Aggregation_Utils import Survival_Loss\n",
    "import torch\n",
    "B = 10\n",
    "nbins  = 4 \n",
    "device = 'cuda' if torch.cuda.is_available() else 'cpu'\n",
    "print(device)\n",
    "\n",
    "#hist_tile,gen, censorship, label,label_cont = DS.__getitem__(8)\n",
    "\n",
    "criterion = Survival_Loss(0.2)\n",
    "prediction_logits = torch.rand(B,nbins,device=device)\n",
    "c  = torch.randint(0,2,size=(B,1),device=device)\n",
    "l = torch.randint(0,nbins,size=(B,),device=device)\n",
    "\n",
    "\n",
    "\n",
    "\n",
    "criterion(prediction_logits,c,l)"
   ]
  },
  {
   "cell_type": "markdown",
   "metadata": {},
   "source": [
    "# Survival \n"
   ]
  },
  {
   "cell_type": "code",
   "execution_count": null,
   "metadata": {},
   "outputs": [],
   "source": [
    "import torch\n",
    "from torch import nn\n",
    "channels = 12\n",
    "model = nn.Sequential(nn.Conv2d(3, channels, kernel_size=(3, 3), padding='same', bias=True),\n",
    "                          nn.AdaptiveAvgPool2d(1),\n",
    "                          nn.Flatten(1),\n",
    "                          nn.Linear(channels,1),\n",
    "                          nn.Flatten(0))\n",
    "\n",
    "\n",
    "\n",
    "x = torch.rand((5,3,16,16))\n",
    "model(x).size()"
   ]
  },
  {
   "cell_type": "code",
   "execution_count": null,
   "metadata": {},
   "outputs": [],
   "source": [
    "import argparse\n",
    "import yaml\n",
    "import os\n",
    "f = \"./encoder_configs/base.yaml\"\n",
    "os.path.exists(f)\n",
    "with open(f, 'r') as file:\n",
    "        config = yaml.safe_load(file)\n",
    "        \n",
    "print(config[\"train_settings\"][\"checkpoint_path\"])\n"
   ]
  },
  {
   "cell_type": "code",
   "execution_count": null,
   "metadata": {},
   "outputs": [],
   "source": [
    "DF1 = ['case_id', 'slide_id', 'site', 'traintest', 'metas','gendata']\n",
    "DF2 = ['TILEPATH','SLIDE_ID']\n",
    "#get one tensor for gendata, one df with tilepath, metadata, tensoridx"
   ]
  },
  {
   "cell_type": "code",
   "execution_count": null,
   "metadata": {},
   "outputs": [],
   "source": [
    "mode = \"vali\"\n",
    "assert mode in [\"train\",\"test\",\"val\"], \"Dataset mode not known\"\n",
    "df_train.survival_months_discretized[df_train.survival_months_discretized==( 0 if mode==\"train\" else 1 if mode==\"test\" else 2)]"
   ]
  },
  {
   "cell_type": "code",
   "execution_count": null,
   "metadata": {},
   "outputs": [],
   "source": [
    "test_len = 2\n",
    "train_len = 3\n",
    "diction = dict([(name,0) if idx<train_len else (name,1) if idx<train_len+test_len  else (name,2) for idx,name in enumerate([\"a\",\"b\",\"c\",\"d\",\"e\",\"f\"])])\n",
    "diction"
   ]
  },
  {
   "cell_type": "code",
   "execution_count": null,
   "metadata": {},
   "outputs": [],
   "source": [
    "import torch \n",
    "from torch import nn\n",
    "bins = 4\n",
    "B=12\n",
    "out_all =[]\n",
    "c_all =  []\n",
    "l_all = []\n",
    "\n",
    "for i in range(9):\n",
    "    out = torch.rand((B,bins))\n",
    "    l = torch.randint(0,bins,size=(B,))\n",
    "    c = torch.randint(0,2,size=(B,))\n",
    "    \n",
    "    out_all.append(out)\n",
    "    l_all.append(l)\n",
    "    c_all.append(c)\n"
   ]
  },
  {
   "cell_type": "code",
   "execution_count": null,
   "metadata": {},
   "outputs": [],
   "source": [
    "torch.cat(out_all,dim=0).size()"
   ]
  },
  {
   "cell_type": "code",
   "execution_count": null,
   "metadata": {},
   "outputs": [],
   "source": [
    "from sksurv.metrics import concordance_index_censored\n",
    "h = nn.Sigmoid()(torch.cat(out_all,dim=0))\n",
    "S = torch.cumprod(1-h,dim = -1)\n",
    "risk = -S.sum(dim=1) \n",
    "notc = (1-torch.cat(c_all,dim=0)).numpy().astype(bool)\n",
    "c_index = concordance_index_censored(notc, torch.cat(l_all,dim=0),risk)"
   ]
  },
  {
   "cell_type": "code",
   "execution_count": null,
   "metadata": {},
   "outputs": [],
   "source": []
  },
  {
   "cell_type": "markdown",
   "metadata": {},
   "source": [
    "# Models\n",
    "\n",
    "\n"
   ]
  },
  {
   "cell_type": "code",
   "execution_count": null,
   "metadata": {},
   "outputs": [],
   "source": [
    "import torch \n",
    "from torch import nn \n",
    "\n",
    "class MAE(nn.Module):\n",
    "    def __init__(self,multimodal,supervised_surv):\n",
    "        super(MAE,self).__init__()\n",
    "        self.encoder = nn.Identity()\n",
    "        self.decoder = nn.Identity()\n",
    "        self.enc_emb = ...\n",
    "        self.dec_emb = ...\n",
    "        self.enc_pos_emb = ...\n",
    "        self.dec_pos_emb = ...\n",
    "        self.y_encoder = ...    \n",
    "        self.masktoken = ...\n",
    "    def forward(self,x,y):\n",
    "        x_seq =  img2seq(x)\n",
    "        unmasked,masked,unmasked_idx,masked_idx = self.masking(x)\n",
    "        encoded = self.encoder(torch.concat([self.enc_emb(unmasked)+self.enc_pos_emb(unmasked_idx),self.y_encoder(y)],dim=1))\n",
    "        unmasked_enc,y_enc = torch.split(encoded)# find correct way of splitting\n",
    "        decoded = torch.cat([self.dec_emb(unmasked_enc)+self.dec_pos_emb(unmasked_idx),self.dec_pos_emb(masked_idx)+ maskedtoken[None:,:]],dim=1)\n",
    "        _,decoded_masked = torch.split(decoded)#split based on length of mask\n",
    "        \n",
    "        if self.supervised_surv:\n",
    "            surv_in = torch.stack([y_enc,torch.mean(unmasked_enc)])\n",
    "            \n",
    "            \n",
    "        \n",
    "        return masked, decoded_masked\n",
    "\n",
    "        \n",
    "        \n",
    "        \n",
    "    def img2seq():\n",
    "        ...\n",
    "    def seq2img():\n",
    "        ...\n",
    "    def masking():\n",
    "        ...\n",
    "        "
   ]
  },
  {
   "cell_type": "code",
   "execution_count": null,
   "metadata": {},
   "outputs": [],
   "source": [
    "#!pip install timm\n",
    "from models.mae_models.models_mae_modified import mae_vit_tiny_patch16\n",
    "model = mae_vit_tiny_patch16()"
   ]
  },
  {
   "cell_type": "code",
   "execution_count": null,
   "metadata": {},
   "outputs": [],
   "source": [
    "import torch\n",
    "B,C,H,W = 20,3,224,224\n",
    "imgs =  torch.rand((B,C,H,W))\n",
    "mask_ratio = 0.75\n",
    "y = torch.rand((B,1,192))\n",
    "ids_shuffle=None\n",
    "surv = True\n",
    "\n",
    "latent, mask, ids_restore, ids_shuffle = model.forward_encoder(imgs, mask_ratio,y, ids_shuffle)\n",
    "latent_hist,latent_gen = torch.split(latent,split_size_or_sections=[latent.size(1)-1,1],dim=1)\n",
    "pred = model.forward_decoder(latent_hist, ids_restore)  # [N, L, p*p*3]\n",
    "lossMAE = model.forward_loss(imgs, pred, mask)\n",
    "\n",
    "if surv:\n",
    "    surv_in = torch.cat((torch.mean(latent_hist,dim=1),latent_gen.squeeze(1)),dim=1)\n",
    "    survivalhead\n",
    " "
   ]
  },
  {
   "cell_type": "code",
   "execution_count": null,
   "metadata": {},
   "outputs": [],
   "source": [
    "ckpt_path = \"/work4/seibel/data/mae_tiny_400e.pth.tar\"\n",
    "ckpt = torch.load(ckpt_path, map_location=\"cpu\")\n",
    "state_dict = {k.replace(\"module.model.\", \"\"): v for k, v in ckpt[\"model\"].items()}\n",
    "model.load_state_dict(state_dict, strict=False)\n"
   ]
  },
  {
   "cell_type": "code",
   "execution_count": null,
   "metadata": {},
   "outputs": [],
   "source": [
    "from PIL import Image\n",
    "from torchvision import transforms\n",
    "f = \"/globalwork/seibel/TCGA-BRCA-TILES-NORM/TCGA-AN-A0XW-01Z-00-DX1.811E11E7-FA67-46BB-9BC6-1FD0106B789D/TCGA-AN-A0XW-01Z-00-DX1_(9124,21291).jpg\"\n",
    "\n",
    "img = Image.open(f)\n",
    "img = transforms.ToTensor()(img)\n",
    "\n",
    "img.size()\n"
   ]
  },
  {
   "cell_type": "code",
   "execution_count": 1,
   "metadata": {},
   "outputs": [
    {
     "name": "stderr",
     "output_type": "stream",
     "text": [
      "/home/seibel/.pyenv/versions/3.10.12/envs/env/lib/python3.10/site-packages/scipy/__init__.py:132: UserWarning: A NumPy version >=1.21.6 and <1.28.0 is required for this version of SciPy (detected version 1.21.0)\n",
      "  warnings.warn(f\"A NumPy version >={np_minversion} and <{np_maxversion}\"\n"
     ]
    }
   ],
   "source": [
    "from datasets.Tile_Dataset import TileDataset\n",
    "from torchvision import transforms\n",
    "transform_train =  transforms.Compose([transforms.ToTensor(),\n",
    "                                                    transforms.Normalize(mean=(0.5,0.5,0.5),std=(0.5,0.5,0.5)),\n",
    "                                                    transforms.RandomHorizontalFlip(p=0.5),\n",
    "                                                    transforms.RandomVerticalFlip(p=0.5)\n",
    "                                                    ]\n",
    "                                                   )\n",
    "\n",
    "df_path_train = \"/nodes/bevog/work4/seibel/PORPOISE/datasets_csv/tcga_brca__4bins_trainsplit.csv\"\n",
    "tile_df_path = \"/nodes/bevog/work4/seibel/multimodal_survival_prediction/datasets/DF_TCGA-BRCA-TIILES-NORM.csv\"\n",
    "trainmode=\"train\"\n",
    "image_label_dataset = TileDataset(df_path_train,tile_df_path,trainmode,transform=transform_train)"
   ]
  },
  {
   "cell_type": "markdown",
   "metadata": {},
   "source": [
    "# Benchmark 1 "
   ]
  },
  {
   "cell_type": "code",
   "execution_count": 30,
   "metadata": {},
   "outputs": [
    {
     "name": "stdout",
     "output_type": "stream",
     "text": [
      "time1 : 0.0358287615776062 \n",
      "time2 : 0.030070690870285036 \n",
      "time3 0.03837635350227356\n",
      "time1 : 0.0015201253797703148 \n",
      "time2 : 0.032195926425147695 \n",
      "time3 0.001911048843620417\n"
     ]
    }
   ],
   "source": [
    "from time import time \n",
    "import numpy as np \n",
    "time1,time2,time3 = [],[],[]\n",
    "for i in range(1000):\n",
    "    start1=time()\n",
    "    for i in range(512):\n",
    "        _,a,b,c = image_label_dataset.df_meta.iloc[i]\n",
    "    time1.append(time()-start1)\n",
    "\n",
    "    start2=time()\n",
    "    for i in range(512):\n",
    "        a = image_label_dataset.df_meta.iat[i,1]\n",
    "        b = image_label_dataset.df_meta.iat[i,2]\n",
    "        c = image_label_dataset.df_meta.iat[i,3]\n",
    "    time2.append(time()-start2)\n",
    "\n",
    "    start3=time()\n",
    "    for i in range(512):\n",
    "        a = image_label_dataset.df_meta.iloc[i,1]\n",
    "        b = image_label_dataset.df_meta.iloc[i,2]\n",
    "        c = image_label_dataset.df_meta.iloc[i,3]\n",
    "    time3.append(time()-start3)\n",
    "    \n",
    "    \n",
    "print(\"time1 :\",np.mean(time1),\"\\ntime2 :\",np.mean(time2),\"\\ntime3\",np.mean(time3))\n",
    "print(\"time1 :\",np.std(time1),\"\\ntime2 :\",np.std(time2),\"\\ntime3\",np.std(time3))"
   ]
  },
  {
   "cell_type": "code",
   "execution_count": 32,
   "metadata": {},
   "outputs": [
    {
     "name": "stdout",
     "output_type": "stream",
     "text": [
      "time1 : 0.03394564652442932 \n",
      "time2 : 0.01898357915878296\n",
      "time1 : 0.0007317682367493909 \n",
      "time2 : 0.00040410836117222426\n"
     ]
    }
   ],
   "source": [
    "time1,time2,time3 = [],[],[]\n",
    "for i in range(1000):\n",
    "    start1=time()\n",
    "    for i in range(512):\n",
    "        a,_,c = image_label_dataset.df_tiles.iloc[i]\n",
    "    time1.append(time()-start1)\n",
    "\n",
    "    start2=time()\n",
    "    for i in range(512):\n",
    "        a = image_label_dataset.df_tiles.iat[i,0]\n",
    "        \n",
    "        c = image_label_dataset.df_tiles.iat[i,2]\n",
    "    time2.append(time()-start2)\n",
    "\n",
    "    \n",
    "    \n",
    "    \n",
    "print(\"time1 :\",np.mean(time1),\"\\ntime2 :\",np.mean(time2))\n",
    "print(\"time1 :\",np.std(time1),\"\\ntime2 :\",np.std(time2))"
   ]
  },
  {
   "cell_type": "markdown",
   "metadata": {},
   "source": [
    "# Benchmark2"
   ]
  },
  {
   "cell_type": "code",
   "execution_count": 2,
   "metadata": {},
   "outputs": [
    {
     "name": "stdout",
     "output_type": "stream",
     "text": [
      "avg difference : tensor(0.0001)\n",
      "size : torch.Size([14889410])\n"
     ]
    },
    {
     "data": {
      "text/plain": [
       "<function matplotlib.pyplot.show(close=None, block=None)>"
      ]
     },
     "execution_count": 2,
     "metadata": {},
     "output_type": "execute_result"
    },
    {
     "data": {
      "image/png": "[encoded data removed]",
      "text/plain": [
       "<Figure size 640x480 with 1 Axes>"
      ]
     },
     "metadata": {},
     "output_type": "display_data"
    }
   ],
   "source": [
    "import torch \n",
    "initial_tensor = image_label_dataset.genomics_tensor\n",
    "f16tensor = initial_tensor.to(torch.float16)\n",
    "print(\"avg difference :\",torch.mean(torch.abs(initial_tensor-f16tensor)))\n",
    "\n",
    "print(\"size :\",initial_tensor.flatten().size())\n",
    "import matplotlib.pyplot as plt \n",
    "plt.hist(initial_tensor.flatten().numpy(),bins=1000)\n",
    "plt.show"
   ]
  },
  {
   "cell_type": "code",
   "execution_count": 5,
   "metadata": {},
   "outputs": [
    {
     "data": {
      "text/plain": [
       "<function matplotlib.pyplot.show(close=None, block=None)>"
      ]
     },
     "execution_count": 5,
     "metadata": {},
     "output_type": "execute_result"
    },
    {
     "data": {
      "image/png": "[encoded data removed]",
      "text/plain": [
       "<Figure size 640x480 with 1 Axes>"
      ]
     },
     "metadata": {},
     "output_type": "display_data"
    }
   ],
   "source": [
    "plt.clf()\n",
    "plt.hist(torch.mean(initial_tensor,dim=1).numpy(),bins=100)\n",
    "plt.show"
   ]
  },
  {
   "cell_type": "code",
   "execution_count": 74,
   "metadata": {},
   "outputs": [],
   "source": [
    "import pandas as pd\n",
    "import numpy as np\n",
    "import random\n",
    "from sklearn.preprocessing import StandardScaler\n",
    "df_path = \"/work4/seibel/PORPOISE/datasets_csv/tcga_brca_all_clean.csv.zip\"\n",
    "df = pd.read_csv(df_path,compression='zip').sample(frac=1,random_state=777)\n",
    "n_bins = 4\n",
    "# get time bins \n",
    "df_uncensored = (df[df[\"censorship\"]==0]).drop_duplicates([\"case_id\"])\n",
    "_,bins = pd.qcut(df_uncensored['survival_months'],q = n_bins,retbins=True)  # distribute censored survival months into quartiles\n",
    "\n",
    "# adapt time bins \n",
    "bins[0] = 0 \n",
    "bins[-1] = np.inf\n",
    "\n",
    "# bin name = index \n",
    "labels = [i for i in range(n_bins)]\n",
    "df.insert(6,\"survival_months_discretized\",  pd.cut(df[\"survival_months\"],\n",
    "                                                        bins=bins, \n",
    "                                                        labels=labels)) # insert binned survival month\n"
   ]
  },
  {
   "cell_type": "code",
   "execution_count": 75,
   "metadata": {},
   "outputs": [],
   "source": [
    "frac_train = 0.7\n",
    "frac_val = 0.1\n",
    "cases = list(df[\"case_id\"].unique())\n",
    "random.shuffle(cases)\n",
    "cases_len = len(cases)\n",
    "train_len = int(cases_len*frac_train)\n",
    "val_len = int(cases_len*frac_val)\n",
    "test_len = cases_len-train_len-val_len\n",
    "\n",
    "diction = dict([(name,0) if idx<train_len else (name,1) if idx<train_len+test_len  else (name,2) for idx,name in enumerate(cases)])\n",
    "df.insert(3,\"traintest\",df[\"case_id\"].map(diction)) # insert traintestlabel \n",
    "\n",
    "genomics = df[df.keys()[11:]]\n",
    "scaler = StandardScaler()\n",
    "scaled_genomics = scaler.fit_transform(genomics)\n",
    "df[df.keys()[11:]] = scaled_genomics"
   ]
  },
  {
   "cell_type": "code",
   "execution_count": 76,
   "metadata": {},
   "outputs": [
    {
     "data": {
      "text/plain": [
       "<function matplotlib.pyplot.plot(*args, scalex=True, scaley=True, data=None, **kwargs)>"
      ]
     },
     "execution_count": 76,
     "metadata": {},
     "output_type": "execute_result"
    },
    {
     "data": {
      "image/png": "[encoded data removed]",
      "text/plain": [
       "<Figure size 640x480 with 1 Axes>"
      ]
     },
     "metadata": {},
     "output_type": "display_data"
    }
   ],
   "source": [
    "#print(\"mean all: \",np.mean(df[df.keys()[11:]].to_numpy(),axis=0))\n",
    "#np.mean(df[df[\"traintest\"]==2][df.keys()[11:]].to_numpy(),axis=0)\n",
    "\n",
    "plt.clf()\n",
    "kwargs = dict(histtype='stepfilled', alpha=0.3, density=False, bins=20)\n",
    "\n",
    "plt.hist(np.mean(df[df[\"traintest\"]==0][df.keys()[11:]].to_numpy(),axis=0),label=\"train\", **kwargs)\n",
    "plt.hist(np.mean(df[df[\"traintest\"]==1][df.keys()[11:]].to_numpy(),axis=0),label=\"test\", **kwargs)\n",
    "plt.hist(np.mean(df[df[\"traintest\"]==2][df.keys()[11:]].to_numpy(),axis=0),label=\"val\", **kwargs)\n",
    "plt.hist(np.mean(df[df[\"traintest\"]!=2][df.keys()[11:]].to_numpy(),axis=0),label=\"train+test\", **kwargs)\n",
    "#plt.hist(np.mean(df[df.keys()[11:]].to_numpy(),axis=0),label=\"full\", **kwargs)\n",
    "plt.legend()\n",
    "\n",
    "plt.plot\n"
   ]
  },
  {
   "cell_type": "code",
   "execution_count": 85,
   "metadata": {},
   "outputs": [],
   "source": [
    "import torch \n",
    "from  torchvision import transforms\n",
    "from torch.utils.data import DataLoader\n",
    "transform = transforms.ToTensor()\n",
    "\n",
    "                \n",
    "\n",
    "df_path = \"/nodes/bevog/work4/seibel/PORPOISE/datasets_csv/tcga_brca__4bins_trainsplit.csv\"\n",
    "tile_df_path = \"/nodes/bevog/work4/seibel/multimodal_survival_prediction/datasets/DF_TCGA-BRCA-TIILES-NORM.csv\"\n",
    "trainmode=\"train\"\n",
    "ds = TileDataset(df_path,tile_df_path,trainmode,transform)\n",
    "dataloader = DataLoader(ds, batch_size=512)"
   ]
  },
  {
   "cell_type": "code",
   "execution_count": 89,
   "metadata": {},
   "outputs": [
    {
     "ename": "TypeError",
     "evalue": "int() argument must be a string, a bytes-like object or a real number, not 'JpegImageFile'",
     "output_type": "error",
     "traceback": [
      "\u001b[0;31m---------------------------------------------------------------------------\u001b[0m",
      "\u001b[0;31mTypeError\u001b[0m                                 Traceback (most recent call last)",
      "Cell \u001b[0;32mIn[89], line 2\u001b[0m\n\u001b[1;32m      1\u001b[0m mean \u001b[39m=\u001b[39m \u001b[39m0.0\u001b[39m\n\u001b[0;32m----> 2\u001b[0m \u001b[39mfor\u001b[39;00m (images,b,c,d,e) \u001b[39min\u001b[39;00m dataloader:\n\u001b[1;32m      3\u001b[0m     batch_samples \u001b[39m=\u001b[39m images\u001b[39m.\u001b[39msize(\u001b[39m0\u001b[39m) \n\u001b[1;32m      4\u001b[0m     images \u001b[39m=\u001b[39m images\u001b[39m.\u001b[39mview(batch_samples, images\u001b[39m.\u001b[39msize(\u001b[39m1\u001b[39m), \u001b[39m-\u001b[39m\u001b[39m1\u001b[39m)\n",
      "File \u001b[0;32m~/.pyenv/versions/3.10.12/envs/env/lib/python3.10/site-packages/torch/utils/data/dataloader.py:633\u001b[0m, in \u001b[0;36m_BaseDataLoaderIter.__next__\u001b[0;34m(self)\u001b[0m\n\u001b[1;32m    630\u001b[0m \u001b[39mif\u001b[39;00m \u001b[39mself\u001b[39m\u001b[39m.\u001b[39m_sampler_iter \u001b[39mis\u001b[39;00m \u001b[39mNone\u001b[39;00m:\n\u001b[1;32m    631\u001b[0m     \u001b[39m# TODO(https://github.com/pytorch/pytorch/issues/76750)\u001b[39;00m\n\u001b[1;32m    632\u001b[0m     \u001b[39mself\u001b[39m\u001b[39m.\u001b[39m_reset()  \u001b[39m# type: ignore[call-arg]\u001b[39;00m\n\u001b[0;32m--> 633\u001b[0m data \u001b[39m=\u001b[39m \u001b[39mself\u001b[39;49m\u001b[39m.\u001b[39;49m_next_data()\n\u001b[1;32m    634\u001b[0m \u001b[39mself\u001b[39m\u001b[39m.\u001b[39m_num_yielded \u001b[39m+\u001b[39m\u001b[39m=\u001b[39m \u001b[39m1\u001b[39m\n\u001b[1;32m    635\u001b[0m \u001b[39mif\u001b[39;00m \u001b[39mself\u001b[39m\u001b[39m.\u001b[39m_dataset_kind \u001b[39m==\u001b[39m _DatasetKind\u001b[39m.\u001b[39mIterable \u001b[39mand\u001b[39;00m \\\n\u001b[1;32m    636\u001b[0m         \u001b[39mself\u001b[39m\u001b[39m.\u001b[39m_IterableDataset_len_called \u001b[39mis\u001b[39;00m \u001b[39mnot\u001b[39;00m \u001b[39mNone\u001b[39;00m \u001b[39mand\u001b[39;00m \\\n\u001b[1;32m    637\u001b[0m         \u001b[39mself\u001b[39m\u001b[39m.\u001b[39m_num_yielded \u001b[39m>\u001b[39m \u001b[39mself\u001b[39m\u001b[39m.\u001b[39m_IterableDataset_len_called:\n",
      "File \u001b[0;32m~/.pyenv/versions/3.10.12/envs/env/lib/python3.10/site-packages/torch/utils/data/dataloader.py:677\u001b[0m, in \u001b[0;36m_SingleProcessDataLoaderIter._next_data\u001b[0;34m(self)\u001b[0m\n\u001b[1;32m    675\u001b[0m \u001b[39mdef\u001b[39;00m \u001b[39m_next_data\u001b[39m(\u001b[39mself\u001b[39m):\n\u001b[1;32m    676\u001b[0m     index \u001b[39m=\u001b[39m \u001b[39mself\u001b[39m\u001b[39m.\u001b[39m_next_index()  \u001b[39m# may raise StopIteration\u001b[39;00m\n\u001b[0;32m--> 677\u001b[0m     data \u001b[39m=\u001b[39m \u001b[39mself\u001b[39;49m\u001b[39m.\u001b[39;49m_dataset_fetcher\u001b[39m.\u001b[39;49mfetch(index)  \u001b[39m# may raise StopIteration\u001b[39;00m\n\u001b[1;32m    678\u001b[0m     \u001b[39mif\u001b[39;00m \u001b[39mself\u001b[39m\u001b[39m.\u001b[39m_pin_memory:\n\u001b[1;32m    679\u001b[0m         data \u001b[39m=\u001b[39m _utils\u001b[39m.\u001b[39mpin_memory\u001b[39m.\u001b[39mpin_memory(data, \u001b[39mself\u001b[39m\u001b[39m.\u001b[39m_pin_memory_device)\n",
      "File \u001b[0;32m~/.pyenv/versions/3.10.12/envs/env/lib/python3.10/site-packages/torch/utils/data/_utils/fetch.py:51\u001b[0m, in \u001b[0;36m_MapDatasetFetcher.fetch\u001b[0;34m(self, possibly_batched_index)\u001b[0m\n\u001b[1;32m     49\u001b[0m         data \u001b[39m=\u001b[39m \u001b[39mself\u001b[39m\u001b[39m.\u001b[39mdataset\u001b[39m.\u001b[39m__getitems__(possibly_batched_index)\n\u001b[1;32m     50\u001b[0m     \u001b[39melse\u001b[39;00m:\n\u001b[0;32m---> 51\u001b[0m         data \u001b[39m=\u001b[39m [\u001b[39mself\u001b[39m\u001b[39m.\u001b[39mdataset[idx] \u001b[39mfor\u001b[39;00m idx \u001b[39min\u001b[39;00m possibly_batched_index]\n\u001b[1;32m     52\u001b[0m \u001b[39melse\u001b[39;00m:\n\u001b[1;32m     53\u001b[0m     data \u001b[39m=\u001b[39m \u001b[39mself\u001b[39m\u001b[39m.\u001b[39mdataset[possibly_batched_index]\n",
      "File \u001b[0;32m~/.pyenv/versions/3.10.12/envs/env/lib/python3.10/site-packages/torch/utils/data/_utils/fetch.py:51\u001b[0m, in \u001b[0;36m<listcomp>\u001b[0;34m(.0)\u001b[0m\n\u001b[1;32m     49\u001b[0m         data \u001b[39m=\u001b[39m \u001b[39mself\u001b[39m\u001b[39m.\u001b[39mdataset\u001b[39m.\u001b[39m__getitems__(possibly_batched_index)\n\u001b[1;32m     50\u001b[0m     \u001b[39melse\u001b[39;00m:\n\u001b[0;32m---> 51\u001b[0m         data \u001b[39m=\u001b[39m [\u001b[39mself\u001b[39;49m\u001b[39m.\u001b[39;49mdataset[idx] \u001b[39mfor\u001b[39;00m idx \u001b[39min\u001b[39;00m possibly_batched_index]\n\u001b[1;32m     52\u001b[0m \u001b[39melse\u001b[39;00m:\n\u001b[1;32m     53\u001b[0m     data \u001b[39m=\u001b[39m \u001b[39mself\u001b[39m\u001b[39m.\u001b[39mdataset[possibly_batched_index]\n",
      "File \u001b[0;32m/work4/seibel/multimodal_survival_prediction/datasets/Tile_Dataset.py:89\u001b[0m, in \u001b[0;36mTileDataset.__getitem__\u001b[0;34m(self, idx)\u001b[0m\n\u001b[1;32m     87\u001b[0m tile_path,slide_idx \u001b[39m=\u001b[39m \u001b[39mself\u001b[39m\u001b[39m.\u001b[39mdf_tiles\u001b[39m.\u001b[39miat[idx,\u001b[39m0\u001b[39m],\u001b[39mself\u001b[39m\u001b[39m.\u001b[39mdf_tiles\u001b[39m.\u001b[39miat[idx,\u001b[39m2\u001b[39m]\n\u001b[1;32m     88\u001b[0m tile \u001b[39m=\u001b[39m Image\u001b[39m.\u001b[39mopen(tile_path)\n\u001b[0;32m---> 89\u001b[0m tile \u001b[39m=\u001b[39m \u001b[39mself\u001b[39;49m\u001b[39m.\u001b[39;49mtransforms(tile)\n\u001b[1;32m     91\u001b[0m label \u001b[39m=\u001b[39m torch\u001b[39m.\u001b[39mtensor(\u001b[39mself\u001b[39m\u001b[39m.\u001b[39mdf_meta\u001b[39m.\u001b[39miat[slide_idx, \u001b[39m1\u001b[39m])\u001b[39m.\u001b[39mtype(torch\u001b[39m.\u001b[39mint64)\n\u001b[1;32m     92\u001b[0m censorship \u001b[39m=\u001b[39m torch\u001b[39m.\u001b[39mtensor(\u001b[39mself\u001b[39m\u001b[39m.\u001b[39mdf_meta\u001b[39m.\u001b[39miat[slide_idx, \u001b[39m2\u001b[39m])\u001b[39m.\u001b[39mtype(torch\u001b[39m.\u001b[39mint64)\n",
      "File \u001b[0;32m~/.pyenv/versions/3.10.12/envs/env/lib/python3.10/site-packages/torchvision/transforms/transforms.py:137\u001b[0m, in \u001b[0;36mToTensor.__call__\u001b[0;34m(self, pic)\u001b[0m\n\u001b[1;32m    129\u001b[0m \u001b[39mdef\u001b[39;00m \u001b[39m__call__\u001b[39m(\u001b[39mself\u001b[39m, pic):\n\u001b[1;32m    130\u001b[0m \u001b[39m    \u001b[39m\u001b[39m\"\"\"\u001b[39;00m\n\u001b[1;32m    131\u001b[0m \u001b[39m    Args:\u001b[39;00m\n\u001b[1;32m    132\u001b[0m \u001b[39m        pic (PIL Image or numpy.ndarray): Image to be converted to tensor.\u001b[39;00m\n\u001b[0;32m   (...)\u001b[0m\n\u001b[1;32m    135\u001b[0m \u001b[39m        Tensor: Converted image.\u001b[39;00m\n\u001b[1;32m    136\u001b[0m \u001b[39m    \"\"\"\u001b[39;00m\n\u001b[0;32m--> 137\u001b[0m     \u001b[39mreturn\u001b[39;00m F\u001b[39m.\u001b[39;49mto_tensor(pic)\n",
      "File \u001b[0;32m~/.pyenv/versions/3.10.12/envs/env/lib/python3.10/site-packages/torchvision/transforms/functional.py:166\u001b[0m, in \u001b[0;36mto_tensor\u001b[0;34m(pic)\u001b[0m\n\u001b[1;32m    164\u001b[0m \u001b[39m# handle PIL Image\u001b[39;00m\n\u001b[1;32m    165\u001b[0m mode_to_nptype \u001b[39m=\u001b[39m {\u001b[39m\"\u001b[39m\u001b[39mI\u001b[39m\u001b[39m\"\u001b[39m: np\u001b[39m.\u001b[39mint32, \u001b[39m\"\u001b[39m\u001b[39mI;16\u001b[39m\u001b[39m\"\u001b[39m: np\u001b[39m.\u001b[39mint16, \u001b[39m\"\u001b[39m\u001b[39mF\u001b[39m\u001b[39m\"\u001b[39m: np\u001b[39m.\u001b[39mfloat32}\n\u001b[0;32m--> 166\u001b[0m img \u001b[39m=\u001b[39m torch\u001b[39m.\u001b[39mfrom_numpy(np\u001b[39m.\u001b[39;49marray(pic, mode_to_nptype\u001b[39m.\u001b[39;49mget(pic\u001b[39m.\u001b[39;49mmode, np\u001b[39m.\u001b[39;49muint8), copy\u001b[39m=\u001b[39;49m\u001b[39mTrue\u001b[39;49;00m))\n\u001b[1;32m    168\u001b[0m \u001b[39mif\u001b[39;00m pic\u001b[39m.\u001b[39mmode \u001b[39m==\u001b[39m \u001b[39m\"\u001b[39m\u001b[39m1\u001b[39m\u001b[39m\"\u001b[39m:\n\u001b[1;32m    169\u001b[0m     img \u001b[39m=\u001b[39m \u001b[39m255\u001b[39m \u001b[39m*\u001b[39m img\n",
      "\u001b[0;31mTypeError\u001b[0m: int() argument must be a string, a bytes-like object or a real number, not 'JpegImageFile'"
     ]
    }
   ],
   "source": [
    "\n",
    "mean = 0.0\n",
    "for (images,b,c,d,e) in dataloader:\n",
    "    batch_samples = images.size(0) \n",
    "    images = images.view(batch_samples, images.size(1), -1)\n",
    "    mean += images.mean(2).sum(0)\n",
    "mean = mean / len(dataloader.dataset)\n",
    "\n",
    "var = 0.0\n",
    "for (images,b,c,d,e) in loader:\n",
    "    batch_samples = images.size(0)\n",
    "    images = images.view(batch_samples, images.size(1), -1)\n",
    "    var += ((images - mean.unsqueeze(1))**2).sum([0,2])\n",
    "std = torch.sqrt(var / (len(dataloader.dataset)*224*224))"
   ]
  }
 ],
 "metadata": {
  "kernelspec": {
   "display_name": "Python 3",
   "language": "python",
   "name": "python3"
  },
  "language_info": {
   "codemirror_mode": {
    "name": "ipython",
    "version": 3
   },
   "file_extension": ".py",
   "mimetype": "text/x-python",
   "name": "python",
   "nbconvert_exporter": "python",
   "pygments_lexer": "ipython3",
   "version": "3.10.12"
  },
  "orig_nbformat": 4
 },
 "nbformat": 4,
 "nbformat_minor": 2
}
