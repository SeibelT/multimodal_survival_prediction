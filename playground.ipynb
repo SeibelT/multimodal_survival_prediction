{
 "cells": [
  {
   "cell_type": "code",
   "execution_count": 34,
   "metadata": {},
   "outputs": [],
   "source": [
    "#!pip install -r requirements.txt\n",
    "import numpy as np \n",
    "import pandas as pd\n",
    "from sklearn.preprocessing import StandardScaler"
   ]
  },
  {
   "cell_type": "code",
   "execution_count": 35,
   "metadata": {},
   "outputs": [],
   "source": [
    "f = \"data/tcga_brca_all_clean.csv.zip\"\n",
    "\n",
    "#TODO slide_id -> file path "
   ]
  },
  {
   "attachments": {},
   "cell_type": "markdown",
   "metadata": {},
   "source": [
    "## Preprocessing genomic data "
   ]
  },
  {
   "cell_type": "code",
   "execution_count": 36,
   "metadata": {},
   "outputs": [
    {
     "ename": "FileNotFoundError",
     "evalue": "[Errno 2] No such file or directory: 'data/tcga_brca_all_clean.csv.zip'",
     "output_type": "error",
     "traceback": [
      "\u001b[0;31m---------------------------------------------------------------------------\u001b[0m",
      "\u001b[0;31mFileNotFoundError\u001b[0m                         Traceback (most recent call last)",
      "\u001b[0;32m<ipython-input-36-01f9ea6870b1>\u001b[0m in \u001b[0;36m<module>\u001b[0;34m()\u001b[0m\n\u001b[1;32m      1\u001b[0m \u001b[0mn_bins\u001b[0m \u001b[0;34m=\u001b[0m \u001b[0;36m4\u001b[0m\u001b[0;34m\u001b[0m\u001b[0;34m\u001b[0m\u001b[0m\n\u001b[0;32m----> 2\u001b[0;31m \u001b[0mdf\u001b[0m \u001b[0;34m=\u001b[0m \u001b[0mpd\u001b[0m\u001b[0;34m.\u001b[0m\u001b[0mread_csv\u001b[0m\u001b[0;34m(\u001b[0m\u001b[0mf\u001b[0m\u001b[0;34m,\u001b[0m\u001b[0mcompression\u001b[0m\u001b[0;34m=\u001b[0m\u001b[0;34m'zip'\u001b[0m\u001b[0;34m)\u001b[0m\u001b[0;34m\u001b[0m\u001b[0;34m\u001b[0m\u001b[0m\n\u001b[0m\u001b[1;32m      3\u001b[0m \u001b[0;34m\u001b[0m\u001b[0m\n\u001b[1;32m      4\u001b[0m \u001b[0mdf_uncensored\u001b[0m \u001b[0;34m=\u001b[0m \u001b[0;34m(\u001b[0m\u001b[0mdf\u001b[0m\u001b[0;34m[\u001b[0m\u001b[0mdf\u001b[0m\u001b[0;34m[\u001b[0m\u001b[0;34m\"censorship\"\u001b[0m\u001b[0;34m]\u001b[0m\u001b[0;34m==\u001b[0m\u001b[0;36m0\u001b[0m\u001b[0;34m]\u001b[0m\u001b[0;34m)\u001b[0m\u001b[0;34m.\u001b[0m\u001b[0mdrop_duplicates\u001b[0m\u001b[0;34m(\u001b[0m\u001b[0;34m[\u001b[0m\u001b[0;34m\"case_id\"\u001b[0m\u001b[0;34m]\u001b[0m\u001b[0;34m)\u001b[0m\u001b[0;34m\u001b[0m\u001b[0;34m\u001b[0m\u001b[0m\n\u001b[1;32m      5\u001b[0m \u001b[0m_\u001b[0m\u001b[0;34m,\u001b[0m\u001b[0mbins\u001b[0m \u001b[0;34m=\u001b[0m \u001b[0mpd\u001b[0m\u001b[0;34m.\u001b[0m\u001b[0mqcut\u001b[0m\u001b[0;34m(\u001b[0m\u001b[0mdf_uncensored\u001b[0m\u001b[0;34m[\u001b[0m\u001b[0;34m'survival_months'\u001b[0m\u001b[0;34m]\u001b[0m\u001b[0;34m,\u001b[0m\u001b[0mq\u001b[0m \u001b[0;34m=\u001b[0m \u001b[0mn_bins\u001b[0m\u001b[0;34m,\u001b[0m\u001b[0mretbins\u001b[0m\u001b[0;34m=\u001b[0m\u001b[0;32mTrue\u001b[0m\u001b[0;34m)\u001b[0m  \u001b[0;31m# distribute censored survival months into quartiles\u001b[0m\u001b[0;34m\u001b[0m\u001b[0;34m\u001b[0m\u001b[0m\n",
      "\u001b[0;32m/home/seibel/.local/lib/python3.6/site-packages/pandas/io/parsers.py\u001b[0m in \u001b[0;36mread_csv\u001b[0;34m(filepath_or_buffer, sep, delimiter, header, names, index_col, usecols, squeeze, prefix, mangle_dupe_cols, dtype, engine, converters, true_values, false_values, skipinitialspace, skiprows, skipfooter, nrows, na_values, keep_default_na, na_filter, verbose, skip_blank_lines, parse_dates, infer_datetime_format, keep_date_col, date_parser, dayfirst, cache_dates, iterator, chunksize, compression, thousands, decimal, lineterminator, quotechar, quoting, doublequote, escapechar, comment, encoding, dialect, error_bad_lines, warn_bad_lines, delim_whitespace, low_memory, memory_map, float_precision)\u001b[0m\n\u001b[1;32m    686\u001b[0m     )\n\u001b[1;32m    687\u001b[0m \u001b[0;34m\u001b[0m\u001b[0m\n\u001b[0;32m--> 688\u001b[0;31m     \u001b[0;32mreturn\u001b[0m \u001b[0m_read\u001b[0m\u001b[0;34m(\u001b[0m\u001b[0mfilepath_or_buffer\u001b[0m\u001b[0;34m,\u001b[0m \u001b[0mkwds\u001b[0m\u001b[0;34m)\u001b[0m\u001b[0;34m\u001b[0m\u001b[0;34m\u001b[0m\u001b[0m\n\u001b[0m\u001b[1;32m    689\u001b[0m \u001b[0;34m\u001b[0m\u001b[0m\n\u001b[1;32m    690\u001b[0m \u001b[0;34m\u001b[0m\u001b[0m\n",
      "\u001b[0;32m/home/seibel/.local/lib/python3.6/site-packages/pandas/io/parsers.py\u001b[0m in \u001b[0;36m_read\u001b[0;34m(filepath_or_buffer, kwds)\u001b[0m\n\u001b[1;32m    452\u001b[0m \u001b[0;34m\u001b[0m\u001b[0m\n\u001b[1;32m    453\u001b[0m     \u001b[0;31m# Create the parser.\u001b[0m\u001b[0;34m\u001b[0m\u001b[0;34m\u001b[0m\u001b[0;34m\u001b[0m\u001b[0m\n\u001b[0;32m--> 454\u001b[0;31m     \u001b[0mparser\u001b[0m \u001b[0;34m=\u001b[0m \u001b[0mTextFileReader\u001b[0m\u001b[0;34m(\u001b[0m\u001b[0mfp_or_buf\u001b[0m\u001b[0;34m,\u001b[0m \u001b[0;34m**\u001b[0m\u001b[0mkwds\u001b[0m\u001b[0;34m)\u001b[0m\u001b[0;34m\u001b[0m\u001b[0;34m\u001b[0m\u001b[0m\n\u001b[0m\u001b[1;32m    455\u001b[0m \u001b[0;34m\u001b[0m\u001b[0m\n\u001b[1;32m    456\u001b[0m     \u001b[0;32mif\u001b[0m \u001b[0mchunksize\u001b[0m \u001b[0;32mor\u001b[0m \u001b[0miterator\u001b[0m\u001b[0;34m:\u001b[0m\u001b[0;34m\u001b[0m\u001b[0;34m\u001b[0m\u001b[0m\n",
      "\u001b[0;32m/home/seibel/.local/lib/python3.6/site-packages/pandas/io/parsers.py\u001b[0m in \u001b[0;36m__init__\u001b[0;34m(self, f, engine, **kwds)\u001b[0m\n\u001b[1;32m    946\u001b[0m             \u001b[0mself\u001b[0m\u001b[0;34m.\u001b[0m\u001b[0moptions\u001b[0m\u001b[0;34m[\u001b[0m\u001b[0;34m\"has_index_names\"\u001b[0m\u001b[0;34m]\u001b[0m \u001b[0;34m=\u001b[0m \u001b[0mkwds\u001b[0m\u001b[0;34m[\u001b[0m\u001b[0;34m\"has_index_names\"\u001b[0m\u001b[0;34m]\u001b[0m\u001b[0;34m\u001b[0m\u001b[0;34m\u001b[0m\u001b[0m\n\u001b[1;32m    947\u001b[0m \u001b[0;34m\u001b[0m\u001b[0m\n\u001b[0;32m--> 948\u001b[0;31m         \u001b[0mself\u001b[0m\u001b[0;34m.\u001b[0m\u001b[0m_make_engine\u001b[0m\u001b[0;34m(\u001b[0m\u001b[0mself\u001b[0m\u001b[0;34m.\u001b[0m\u001b[0mengine\u001b[0m\u001b[0;34m)\u001b[0m\u001b[0;34m\u001b[0m\u001b[0;34m\u001b[0m\u001b[0m\n\u001b[0m\u001b[1;32m    949\u001b[0m \u001b[0;34m\u001b[0m\u001b[0m\n\u001b[1;32m    950\u001b[0m     \u001b[0;32mdef\u001b[0m \u001b[0mclose\u001b[0m\u001b[0;34m(\u001b[0m\u001b[0mself\u001b[0m\u001b[0;34m)\u001b[0m\u001b[0;34m:\u001b[0m\u001b[0;34m\u001b[0m\u001b[0;34m\u001b[0m\u001b[0m\n",
      "\u001b[0;32m/home/seibel/.local/lib/python3.6/site-packages/pandas/io/parsers.py\u001b[0m in \u001b[0;36m_make_engine\u001b[0;34m(self, engine)\u001b[0m\n\u001b[1;32m   1178\u001b[0m     \u001b[0;32mdef\u001b[0m \u001b[0m_make_engine\u001b[0m\u001b[0;34m(\u001b[0m\u001b[0mself\u001b[0m\u001b[0;34m,\u001b[0m \u001b[0mengine\u001b[0m\u001b[0;34m=\u001b[0m\u001b[0;34m\"c\"\u001b[0m\u001b[0;34m)\u001b[0m\u001b[0;34m:\u001b[0m\u001b[0;34m\u001b[0m\u001b[0;34m\u001b[0m\u001b[0m\n\u001b[1;32m   1179\u001b[0m         \u001b[0;32mif\u001b[0m \u001b[0mengine\u001b[0m \u001b[0;34m==\u001b[0m \u001b[0;34m\"c\"\u001b[0m\u001b[0;34m:\u001b[0m\u001b[0;34m\u001b[0m\u001b[0;34m\u001b[0m\u001b[0m\n\u001b[0;32m-> 1180\u001b[0;31m             \u001b[0mself\u001b[0m\u001b[0;34m.\u001b[0m\u001b[0m_engine\u001b[0m \u001b[0;34m=\u001b[0m \u001b[0mCParserWrapper\u001b[0m\u001b[0;34m(\u001b[0m\u001b[0mself\u001b[0m\u001b[0;34m.\u001b[0m\u001b[0mf\u001b[0m\u001b[0;34m,\u001b[0m \u001b[0;34m**\u001b[0m\u001b[0mself\u001b[0m\u001b[0;34m.\u001b[0m\u001b[0moptions\u001b[0m\u001b[0;34m)\u001b[0m\u001b[0;34m\u001b[0m\u001b[0;34m\u001b[0m\u001b[0m\n\u001b[0m\u001b[1;32m   1181\u001b[0m         \u001b[0;32melse\u001b[0m\u001b[0;34m:\u001b[0m\u001b[0;34m\u001b[0m\u001b[0;34m\u001b[0m\u001b[0m\n\u001b[1;32m   1182\u001b[0m             \u001b[0;32mif\u001b[0m \u001b[0mengine\u001b[0m \u001b[0;34m==\u001b[0m \u001b[0;34m\"python\"\u001b[0m\u001b[0;34m:\u001b[0m\u001b[0;34m\u001b[0m\u001b[0;34m\u001b[0m\u001b[0m\n",
      "\u001b[0;32m/home/seibel/.local/lib/python3.6/site-packages/pandas/io/parsers.py\u001b[0m in \u001b[0;36m__init__\u001b[0;34m(self, src, **kwds)\u001b[0m\n\u001b[1;32m   2008\u001b[0m         \u001b[0mkwds\u001b[0m\u001b[0;34m[\u001b[0m\u001b[0;34m\"usecols\"\u001b[0m\u001b[0;34m]\u001b[0m \u001b[0;34m=\u001b[0m \u001b[0mself\u001b[0m\u001b[0;34m.\u001b[0m\u001b[0musecols\u001b[0m\u001b[0;34m\u001b[0m\u001b[0;34m\u001b[0m\u001b[0m\n\u001b[1;32m   2009\u001b[0m \u001b[0;34m\u001b[0m\u001b[0m\n\u001b[0;32m-> 2010\u001b[0;31m         \u001b[0mself\u001b[0m\u001b[0;34m.\u001b[0m\u001b[0m_reader\u001b[0m \u001b[0;34m=\u001b[0m \u001b[0mparsers\u001b[0m\u001b[0;34m.\u001b[0m\u001b[0mTextReader\u001b[0m\u001b[0;34m(\u001b[0m\u001b[0msrc\u001b[0m\u001b[0;34m,\u001b[0m \u001b[0;34m**\u001b[0m\u001b[0mkwds\u001b[0m\u001b[0;34m)\u001b[0m\u001b[0;34m\u001b[0m\u001b[0;34m\u001b[0m\u001b[0m\n\u001b[0m\u001b[1;32m   2011\u001b[0m         \u001b[0mself\u001b[0m\u001b[0;34m.\u001b[0m\u001b[0munnamed_cols\u001b[0m \u001b[0;34m=\u001b[0m \u001b[0mself\u001b[0m\u001b[0;34m.\u001b[0m\u001b[0m_reader\u001b[0m\u001b[0;34m.\u001b[0m\u001b[0munnamed_cols\u001b[0m\u001b[0;34m\u001b[0m\u001b[0;34m\u001b[0m\u001b[0m\n\u001b[1;32m   2012\u001b[0m \u001b[0;34m\u001b[0m\u001b[0m\n",
      "\u001b[0;32mpandas/_libs/parsers.pyx\u001b[0m in \u001b[0;36mpandas._libs.parsers.TextReader.__cinit__\u001b[0;34m()\u001b[0m\n",
      "\u001b[0;32mpandas/_libs/parsers.pyx\u001b[0m in \u001b[0;36mpandas._libs.parsers.TextReader._setup_parser_source\u001b[0;34m()\u001b[0m\n",
      "\u001b[0;32m/usr/lib/python3.6/zipfile.py\u001b[0m in \u001b[0;36m__init__\u001b[0;34m(self, file, mode, compression, allowZip64)\u001b[0m\n\u001b[1;32m   1111\u001b[0m             \u001b[0;32mwhile\u001b[0m \u001b[0;32mTrue\u001b[0m\u001b[0;34m:\u001b[0m\u001b[0;34m\u001b[0m\u001b[0;34m\u001b[0m\u001b[0m\n\u001b[1;32m   1112\u001b[0m                 \u001b[0;32mtry\u001b[0m\u001b[0;34m:\u001b[0m\u001b[0;34m\u001b[0m\u001b[0;34m\u001b[0m\u001b[0m\n\u001b[0;32m-> 1113\u001b[0;31m                     \u001b[0mself\u001b[0m\u001b[0;34m.\u001b[0m\u001b[0mfp\u001b[0m \u001b[0;34m=\u001b[0m \u001b[0mio\u001b[0m\u001b[0;34m.\u001b[0m\u001b[0mopen\u001b[0m\u001b[0;34m(\u001b[0m\u001b[0mfile\u001b[0m\u001b[0;34m,\u001b[0m \u001b[0mfilemode\u001b[0m\u001b[0;34m)\u001b[0m\u001b[0;34m\u001b[0m\u001b[0;34m\u001b[0m\u001b[0m\n\u001b[0m\u001b[1;32m   1114\u001b[0m                 \u001b[0;32mexcept\u001b[0m \u001b[0mOSError\u001b[0m\u001b[0;34m:\u001b[0m\u001b[0;34m\u001b[0m\u001b[0;34m\u001b[0m\u001b[0m\n\u001b[1;32m   1115\u001b[0m                     \u001b[0;32mif\u001b[0m \u001b[0mfilemode\u001b[0m \u001b[0;32min\u001b[0m \u001b[0mmodeDict\u001b[0m\u001b[0;34m:\u001b[0m\u001b[0;34m\u001b[0m\u001b[0;34m\u001b[0m\u001b[0m\n",
      "\u001b[0;31mFileNotFoundError\u001b[0m: [Errno 2] No such file or directory: 'data/tcga_brca_all_clean.csv.zip'"
     ]
    }
   ],
   "source": [
    "n_bins = 4\n",
    "df = pd.read_csv(f,compression='zip')\n",
    "\n",
    "df_uncensored = (df[df[\"censorship\"]==0]).drop_duplicates([\"case_id\"])\n",
    "_,bins = pd.qcut(df_uncensored['survival_months'],q = n_bins,retbins=True)  # distribute censored survival months into quartiles\n",
    "\n",
    "# adapt bins \n",
    "bins[0] = 0 \n",
    "bins[-1] = np.inf\n",
    "#\n",
    "labels=[i for i in range(n_bins)]\n",
    "labels\n",
    "\n",
    "df.insert(6,\"survival_months_discretized\",  pd.cut(df[\"survival_months\"],\n",
    "                                                               bins=bins, \n",
    "                                                               labels=labels)) # insert binned survival momnth \n",
    "k = 7\n",
    "df.insert(3,\"kfold\",df.index%k) # insert kfold \n",
    "df.head(5)"
   ]
  },
  {
   "attachments": {},
   "cell_type": "markdown",
   "metadata": {},
   "source": [
    "scale genomic data first and store in DF again\n",
    "then add labels to stratify "
   ]
  },
  {
   "cell_type": "code",
   "execution_count": null,
   "metadata": {},
   "outputs": [
    {
     "data": {
      "text/html": [
       "<div>\n",
       "<style scoped>\n",
       "    .dataframe tbody tr th:only-of-type {\n",
       "        vertical-align: middle;\n",
       "    }\n",
       "\n",
       "    .dataframe tbody tr th {\n",
       "        vertical-align: top;\n",
       "    }\n",
       "\n",
       "    .dataframe thead th {\n",
       "        text-align: right;\n",
       "    }\n",
       "</style>\n",
       "<table border=\"1\" class=\"dataframe\">\n",
       "  <thead>\n",
       "    <tr style=\"text-align: right;\">\n",
       "      <th></th>\n",
       "      <th>NOTCH2_cnv</th>\n",
       "      <th>ACP6_cnv</th>\n",
       "      <th>ANKRD20A12P_cnv</th>\n",
       "      <th>ANKRD34A_cnv</th>\n",
       "      <th>ANKRD35_cnv</th>\n",
       "      <th>BCL9_cnv</th>\n",
       "      <th>BOLA1_cnv</th>\n",
       "      <th>CD160_cnv</th>\n",
       "      <th>CHD1L_cnv</th>\n",
       "      <th>FAM72B_cnv</th>\n",
       "      <th>...</th>\n",
       "      <th>ZWINT_rnaseq</th>\n",
       "      <th>ZXDA_rnaseq</th>\n",
       "      <th>ZXDB_rnaseq</th>\n",
       "      <th>ZXDC_rnaseq</th>\n",
       "      <th>ZYG11A_rnaseq</th>\n",
       "      <th>ZYG11B_rnaseq</th>\n",
       "      <th>ZYX_rnaseq</th>\n",
       "      <th>ZZEF1_rnaseq</th>\n",
       "      <th>ZZZ3_rnaseq</th>\n",
       "      <th>TPTEP1_rnaseq</th>\n",
       "    </tr>\n",
       "  </thead>\n",
       "  <tbody>\n",
       "    <tr>\n",
       "      <th>403</th>\n",
       "      <td>1</td>\n",
       "      <td>1</td>\n",
       "      <td>1</td>\n",
       "      <td>1</td>\n",
       "      <td>1</td>\n",
       "      <td>1</td>\n",
       "      <td>1</td>\n",
       "      <td>1</td>\n",
       "      <td>1</td>\n",
       "      <td>1</td>\n",
       "      <td>...</td>\n",
       "      <td>-0.6752</td>\n",
       "      <td>-0.6708</td>\n",
       "      <td>-0.6352</td>\n",
       "      <td>0.3693</td>\n",
       "      <td>0.1446</td>\n",
       "      <td>3.2597</td>\n",
       "      <td>-0.1603</td>\n",
       "      <td>-0.8919</td>\n",
       "      <td>0.5903</td>\n",
       "      <td>-0.0801</td>\n",
       "    </tr>\n",
       "    <tr>\n",
       "      <th>598</th>\n",
       "      <td>0</td>\n",
       "      <td>0</td>\n",
       "      <td>0</td>\n",
       "      <td>0</td>\n",
       "      <td>0</td>\n",
       "      <td>0</td>\n",
       "      <td>0</td>\n",
       "      <td>0</td>\n",
       "      <td>0</td>\n",
       "      <td>0</td>\n",
       "      <td>...</td>\n",
       "      <td>-0.0525</td>\n",
       "      <td>-0.2132</td>\n",
       "      <td>-0.2256</td>\n",
       "      <td>0.1374</td>\n",
       "      <td>0.5972</td>\n",
       "      <td>-0.7959</td>\n",
       "      <td>-1.1744</td>\n",
       "      <td>-0.3666</td>\n",
       "      <td>-1.3888</td>\n",
       "      <td>-0.7535</td>\n",
       "    </tr>\n",
       "    <tr>\n",
       "      <th>817</th>\n",
       "      <td>0</td>\n",
       "      <td>0</td>\n",
       "      <td>0</td>\n",
       "      <td>0</td>\n",
       "      <td>0</td>\n",
       "      <td>0</td>\n",
       "      <td>0</td>\n",
       "      <td>0</td>\n",
       "      <td>0</td>\n",
       "      <td>0</td>\n",
       "      <td>...</td>\n",
       "      <td>0.3245</td>\n",
       "      <td>-0.3567</td>\n",
       "      <td>1.7451</td>\n",
       "      <td>-0.5448</td>\n",
       "      <td>1.7019</td>\n",
       "      <td>-0.6458</td>\n",
       "      <td>2.4399</td>\n",
       "      <td>0.7366</td>\n",
       "      <td>-0.3115</td>\n",
       "      <td>0.9021</td>\n",
       "    </tr>\n",
       "    <tr>\n",
       "      <th>244</th>\n",
       "      <td>0</td>\n",
       "      <td>0</td>\n",
       "      <td>0</td>\n",
       "      <td>0</td>\n",
       "      <td>0</td>\n",
       "      <td>0</td>\n",
       "      <td>0</td>\n",
       "      <td>0</td>\n",
       "      <td>0</td>\n",
       "      <td>0</td>\n",
       "      <td>...</td>\n",
       "      <td>-0.9956</td>\n",
       "      <td>-0.5694</td>\n",
       "      <td>-0.7817</td>\n",
       "      <td>0.0144</td>\n",
       "      <td>-0.9142</td>\n",
       "      <td>-1.2975</td>\n",
       "      <td>3.6863</td>\n",
       "      <td>0.0938</td>\n",
       "      <td>-0.0315</td>\n",
       "      <td>0.0677</td>\n",
       "    </tr>\n",
       "    <tr>\n",
       "      <th>320</th>\n",
       "      <td>1</td>\n",
       "      <td>1</td>\n",
       "      <td>1</td>\n",
       "      <td>1</td>\n",
       "      <td>1</td>\n",
       "      <td>1</td>\n",
       "      <td>1</td>\n",
       "      <td>1</td>\n",
       "      <td>1</td>\n",
       "      <td>1</td>\n",
       "      <td>...</td>\n",
       "      <td>1.2331</td>\n",
       "      <td>0.9744</td>\n",
       "      <td>-0.6189</td>\n",
       "      <td>-2.1771</td>\n",
       "      <td>1.8906</td>\n",
       "      <td>-0.3966</td>\n",
       "      <td>-0.0656</td>\n",
       "      <td>-1.6399</td>\n",
       "      <td>-0.5391</td>\n",
       "      <td>-0.6042</td>\n",
       "    </tr>\n",
       "    <tr>\n",
       "      <th>...</th>\n",
       "      <td>...</td>\n",
       "      <td>...</td>\n",
       "      <td>...</td>\n",
       "      <td>...</td>\n",
       "      <td>...</td>\n",
       "      <td>...</td>\n",
       "      <td>...</td>\n",
       "      <td>...</td>\n",
       "      <td>...</td>\n",
       "      <td>...</td>\n",
       "      <td>...</td>\n",
       "      <td>...</td>\n",
       "      <td>...</td>\n",
       "      <td>...</td>\n",
       "      <td>...</td>\n",
       "      <td>...</td>\n",
       "      <td>...</td>\n",
       "      <td>...</td>\n",
       "      <td>...</td>\n",
       "      <td>...</td>\n",
       "      <td>...</td>\n",
       "    </tr>\n",
       "    <tr>\n",
       "      <th>767</th>\n",
       "      <td>1</td>\n",
       "      <td>1</td>\n",
       "      <td>1</td>\n",
       "      <td>1</td>\n",
       "      <td>1</td>\n",
       "      <td>1</td>\n",
       "      <td>1</td>\n",
       "      <td>1</td>\n",
       "      <td>1</td>\n",
       "      <td>1</td>\n",
       "      <td>...</td>\n",
       "      <td>-0.2865</td>\n",
       "      <td>-0.7057</td>\n",
       "      <td>-0.8934</td>\n",
       "      <td>0.2821</td>\n",
       "      <td>-0.1644</td>\n",
       "      <td>-1.1582</td>\n",
       "      <td>0.1480</td>\n",
       "      <td>0.0373</td>\n",
       "      <td>-0.6824</td>\n",
       "      <td>-0.5994</td>\n",
       "    </tr>\n",
       "    <tr>\n",
       "      <th>72</th>\n",
       "      <td>1</td>\n",
       "      <td>1</td>\n",
       "      <td>1</td>\n",
       "      <td>1</td>\n",
       "      <td>1</td>\n",
       "      <td>1</td>\n",
       "      <td>1</td>\n",
       "      <td>1</td>\n",
       "      <td>1</td>\n",
       "      <td>1</td>\n",
       "      <td>...</td>\n",
       "      <td>-0.2171</td>\n",
       "      <td>0.1621</td>\n",
       "      <td>-0.3724</td>\n",
       "      <td>1.5166</td>\n",
       "      <td>0.5926</td>\n",
       "      <td>1.0383</td>\n",
       "      <td>0.0326</td>\n",
       "      <td>-0.1507</td>\n",
       "      <td>0.2853</td>\n",
       "      <td>-0.3509</td>\n",
       "    </tr>\n",
       "    <tr>\n",
       "      <th>908</th>\n",
       "      <td>0</td>\n",
       "      <td>0</td>\n",
       "      <td>0</td>\n",
       "      <td>0</td>\n",
       "      <td>0</td>\n",
       "      <td>0</td>\n",
       "      <td>0</td>\n",
       "      <td>0</td>\n",
       "      <td>0</td>\n",
       "      <td>0</td>\n",
       "      <td>...</td>\n",
       "      <td>-0.5362</td>\n",
       "      <td>0.3350</td>\n",
       "      <td>0.2731</td>\n",
       "      <td>1.8174</td>\n",
       "      <td>0.8894</td>\n",
       "      <td>0.7809</td>\n",
       "      <td>-0.6663</td>\n",
       "      <td>-0.3758</td>\n",
       "      <td>0.2849</td>\n",
       "      <td>-0.6437</td>\n",
       "    </tr>\n",
       "    <tr>\n",
       "      <th>235</th>\n",
       "      <td>1</td>\n",
       "      <td>1</td>\n",
       "      <td>1</td>\n",
       "      <td>1</td>\n",
       "      <td>1</td>\n",
       "      <td>1</td>\n",
       "      <td>1</td>\n",
       "      <td>1</td>\n",
       "      <td>1</td>\n",
       "      <td>1</td>\n",
       "      <td>...</td>\n",
       "      <td>-0.9187</td>\n",
       "      <td>0.9464</td>\n",
       "      <td>0.0057</td>\n",
       "      <td>0.2020</td>\n",
       "      <td>0.0415</td>\n",
       "      <td>-0.1023</td>\n",
       "      <td>0.4811</td>\n",
       "      <td>0.3689</td>\n",
       "      <td>0.0824</td>\n",
       "      <td>-0.4666</td>\n",
       "    </tr>\n",
       "    <tr>\n",
       "      <th>37</th>\n",
       "      <td>-1</td>\n",
       "      <td>1</td>\n",
       "      <td>1</td>\n",
       "      <td>1</td>\n",
       "      <td>1</td>\n",
       "      <td>1</td>\n",
       "      <td>1</td>\n",
       "      <td>1</td>\n",
       "      <td>1</td>\n",
       "      <td>1</td>\n",
       "      <td>...</td>\n",
       "      <td>-1.0144</td>\n",
       "      <td>-1.0623</td>\n",
       "      <td>-0.2870</td>\n",
       "      <td>-1.3374</td>\n",
       "      <td>-0.1074</td>\n",
       "      <td>-1.3805</td>\n",
       "      <td>0.3683</td>\n",
       "      <td>-0.8526</td>\n",
       "      <td>-1.0761</td>\n",
       "      <td>0.8115</td>\n",
       "    </tr>\n",
       "  </tbody>\n",
       "</table>\n",
       "<p>1023 rows × 20971 columns</p>\n",
       "</div>"
      ],
      "text/plain": [
       "     NOTCH2_cnv  ACP6_cnv  ANKRD20A12P_cnv  ANKRD34A_cnv  ANKRD35_cnv  \\\n",
       "403           1         1                1             1            1   \n",
       "598           0         0                0             0            0   \n",
       "817           0         0                0             0            0   \n",
       "244           0         0                0             0            0   \n",
       "320           1         1                1             1            1   \n",
       "..          ...       ...              ...           ...          ...   \n",
       "767           1         1                1             1            1   \n",
       "72            1         1                1             1            1   \n",
       "908           0         0                0             0            0   \n",
       "235           1         1                1             1            1   \n",
       "37           -1         1                1             1            1   \n",
       "\n",
       "     BCL9_cnv  BOLA1_cnv  CD160_cnv  CHD1L_cnv  FAM72B_cnv  ...  ZWINT_rnaseq  \\\n",
       "403         1          1          1          1           1  ...       -0.6752   \n",
       "598         0          0          0          0           0  ...       -0.0525   \n",
       "817         0          0          0          0           0  ...        0.3245   \n",
       "244         0          0          0          0           0  ...       -0.9956   \n",
       "320         1          1          1          1           1  ...        1.2331   \n",
       "..        ...        ...        ...        ...         ...  ...           ...   \n",
       "767         1          1          1          1           1  ...       -0.2865   \n",
       "72          1          1          1          1           1  ...       -0.2171   \n",
       "908         0          0          0          0           0  ...       -0.5362   \n",
       "235         1          1          1          1           1  ...       -0.9187   \n",
       "37          1          1          1          1           1  ...       -1.0144   \n",
       "\n",
       "     ZXDA_rnaseq  ZXDB_rnaseq  ZXDC_rnaseq  ZYG11A_rnaseq  ZYG11B_rnaseq  \\\n",
       "403      -0.6708      -0.6352       0.3693         0.1446         3.2597   \n",
       "598      -0.2132      -0.2256       0.1374         0.5972        -0.7959   \n",
       "817      -0.3567       1.7451      -0.5448         1.7019        -0.6458   \n",
       "244      -0.5694      -0.7817       0.0144        -0.9142        -1.2975   \n",
       "320       0.9744      -0.6189      -2.1771         1.8906        -0.3966   \n",
       "..           ...          ...          ...            ...            ...   \n",
       "767      -0.7057      -0.8934       0.2821        -0.1644        -1.1582   \n",
       "72        0.1621      -0.3724       1.5166         0.5926         1.0383   \n",
       "908       0.3350       0.2731       1.8174         0.8894         0.7809   \n",
       "235       0.9464       0.0057       0.2020         0.0415        -0.1023   \n",
       "37       -1.0623      -0.2870      -1.3374        -0.1074        -1.3805   \n",
       "\n",
       "     ZYX_rnaseq  ZZEF1_rnaseq  ZZZ3_rnaseq  TPTEP1_rnaseq  \n",
       "403     -0.1603       -0.8919       0.5903        -0.0801  \n",
       "598     -1.1744       -0.3666      -1.3888        -0.7535  \n",
       "817      2.4399        0.7366      -0.3115         0.9021  \n",
       "244      3.6863        0.0938      -0.0315         0.0677  \n",
       "320     -0.0656       -1.6399      -0.5391        -0.6042  \n",
       "..          ...           ...          ...            ...  \n",
       "767      0.1480        0.0373      -0.6824        -0.5994  \n",
       "72       0.0326       -0.1507       0.2853        -0.3509  \n",
       "908     -0.6663       -0.3758       0.2849        -0.6437  \n",
       "235      0.4811        0.3689       0.0824        -0.4666  \n",
       "37       0.3683       -0.8526      -1.0761         0.8115  \n",
       "\n",
       "[1023 rows x 20971 columns]"
      ]
     },
     "execution_count": 165,
     "metadata": {},
     "output_type": "execute_result"
    }
   ],
   "source": [
    "# todo add new column k-th-fold that contains an int in arange(k) where k is a cluster \n",
    "groundtruth = df[\"survival_months_discretized\"]\n",
    "censorship = df[\"censorship\"]\n",
    "genomics = df[df.keys()[11:]]\n",
    "genomics\n"
   ]
  },
  {
   "cell_type": "code",
   "execution_count": null,
   "metadata": {},
   "outputs": [],
   "source": [
    "\n",
    "\n",
    "scaler = StandardScaler()\n",
    "scaled_genomics = scaler.fit_transform(genomics)\n",
    "#scaler.inverse_transform(scaled_genomics)\n",
    "df_scaled = df.copy()\n",
    "df_scaled[df.keys()[11:]] = scaled_genomics\n",
    "\n"
   ]
  },
  {
   "attachments": {},
   "cell_type": "markdown",
   "metadata": {},
   "source": [
    "###  This leads to the full function:"
   ]
  },
  {
   "cell_type": "code",
   "execution_count": null,
   "metadata": {},
   "outputs": [],
   "source": [
    "def clean2trainable(df_path,k,n_bins=4,savename = None):\n",
    "    df = pd.read_csv(df_path,compression='zip')\n",
    "\n",
    "    # get time bins \n",
    "    df_uncensored = (df[df[\"censorship\"]==0]).drop_duplicates([\"case_id\"])\n",
    "    _,bins = pd.qcut(df_uncensored['survival_months'],q = n_bins,retbins=True)  # distribute censored survival months into quartiles\n",
    "\n",
    "    # adapt time bins \n",
    "    bins[0] = 0 \n",
    "    bins[-1] = np.inf\n",
    "    # bin name = index \n",
    "    labels = [i for i in range(n_bins)]\n",
    "    df.insert(6,\"survival_months_discretized\",  pd.cut(df[\"survival_months\"],\n",
    "                                                               bins=bins, \n",
    "                                                               labels=labels)) # insert binned survival month \n",
    "    df.insert(3,\"kfold\",df.index%k) # insert kfold \n",
    "\n",
    "    genomics = df[df.keys()[11:]]\n",
    "\n",
    "    scaler = StandardScaler()\n",
    "    scaled_genomics = scaler.fit_transform(genomics)\n",
    "    df[df.keys()[11:]] = scaled_genomics\n",
    "\n",
    "    if savename is not None:\n",
    "        df.to_csv(savename,index=False)\n",
    "    return df "
   ]
  },
  {
   "cell_type": "code",
   "execution_count": null,
   "metadata": {},
   "outputs": [],
   "source": [
    "f = \"data/tcga_brca_all_clean.csv.zip\"\n",
    "new_df = clean2trainable(f,5,4,savename = \"./data/tcga_brca_trainable.csv\")\n",
    "#new_df = clean2trainable(f,7,4)"
   ]
  },
  {
   "cell_type": "code",
   "execution_count": null,
   "metadata": {},
   "outputs": [
    {
     "data": {
      "text/html": [
       "<div>\n",
       "<style scoped>\n",
       "    .dataframe tbody tr th:only-of-type {\n",
       "        vertical-align: middle;\n",
       "    }\n",
       "\n",
       "    .dataframe tbody tr th {\n",
       "        vertical-align: top;\n",
       "    }\n",
       "\n",
       "    .dataframe thead th {\n",
       "        text-align: right;\n",
       "    }\n",
       "</style>\n",
       "<table border=\"1\" class=\"dataframe\">\n",
       "  <thead>\n",
       "    <tr style=\"text-align: right;\">\n",
       "      <th></th>\n",
       "      <th>case_id</th>\n",
       "      <th>slide_id</th>\n",
       "      <th>site</th>\n",
       "      <th>kfold</th>\n",
       "      <th>is_female</th>\n",
       "      <th>oncotree_code</th>\n",
       "      <th>age</th>\n",
       "      <th>survival_months_discretized</th>\n",
       "      <th>survival_months</th>\n",
       "      <th>censorship</th>\n",
       "      <th>...</th>\n",
       "      <th>ZWINT_rnaseq</th>\n",
       "      <th>ZXDA_rnaseq</th>\n",
       "      <th>ZXDB_rnaseq</th>\n",
       "      <th>ZXDC_rnaseq</th>\n",
       "      <th>ZYG11A_rnaseq</th>\n",
       "      <th>ZYG11B_rnaseq</th>\n",
       "      <th>ZYX_rnaseq</th>\n",
       "      <th>ZZEF1_rnaseq</th>\n",
       "      <th>ZZZ3_rnaseq</th>\n",
       "      <th>TPTEP1_rnaseq</th>\n",
       "    </tr>\n",
       "  </thead>\n",
       "  <tbody>\n",
       "    <tr>\n",
       "      <th>0</th>\n",
       "      <td>TCGA-3C-AALI</td>\n",
       "      <td>TCGA-3C-AALI-01Z-00-DX1.F6E9A5DF-D8FB-45CF-B4B...</td>\n",
       "      <td>3C</td>\n",
       "      <td>0</td>\n",
       "      <td>1.0</td>\n",
       "      <td>IDC</td>\n",
       "      <td>50.0</td>\n",
       "      <td>3</td>\n",
       "      <td>131.57</td>\n",
       "      <td>1.0</td>\n",
       "      <td>...</td>\n",
       "      <td>0.153655</td>\n",
       "      <td>-0.207313</td>\n",
       "      <td>-0.427975</td>\n",
       "      <td>0.825128</td>\n",
       "      <td>0.825317</td>\n",
       "      <td>-0.963470</td>\n",
       "      <td>0.880672</td>\n",
       "      <td>0.164444</td>\n",
       "      <td>-1.064402</td>\n",
       "      <td>2.395788</td>\n",
       "    </tr>\n",
       "    <tr>\n",
       "      <th>1</th>\n",
       "      <td>TCGA-3C-AALI</td>\n",
       "      <td>TCGA-3C-AALI-01Z-00-DX2.CF4496E0-AB52-4F3E-BDF...</td>\n",
       "      <td>3C</td>\n",
       "      <td>1</td>\n",
       "      <td>1.0</td>\n",
       "      <td>IDC</td>\n",
       "      <td>50.0</td>\n",
       "      <td>3</td>\n",
       "      <td>131.57</td>\n",
       "      <td>1.0</td>\n",
       "      <td>...</td>\n",
       "      <td>0.153655</td>\n",
       "      <td>-0.207313</td>\n",
       "      <td>-0.427975</td>\n",
       "      <td>0.825128</td>\n",
       "      <td>0.825317</td>\n",
       "      <td>-0.963470</td>\n",
       "      <td>0.880672</td>\n",
       "      <td>0.164444</td>\n",
       "      <td>-1.064402</td>\n",
       "      <td>2.395788</td>\n",
       "    </tr>\n",
       "    <tr>\n",
       "      <th>2</th>\n",
       "      <td>TCGA-3C-AALJ</td>\n",
       "      <td>TCGA-3C-AALJ-01Z-00-DX1.777C0957-255A-42F0-9EE...</td>\n",
       "      <td>3C</td>\n",
       "      <td>2</td>\n",
       "      <td>1.0</td>\n",
       "      <td>IDC</td>\n",
       "      <td>62.0</td>\n",
       "      <td>2</td>\n",
       "      <td>48.42</td>\n",
       "      <td>1.0</td>\n",
       "      <td>...</td>\n",
       "      <td>2.665836</td>\n",
       "      <td>-1.099110</td>\n",
       "      <td>-0.184212</td>\n",
       "      <td>-1.279398</td>\n",
       "      <td>2.112450</td>\n",
       "      <td>-1.190473</td>\n",
       "      <td>0.856429</td>\n",
       "      <td>-0.579342</td>\n",
       "      <td>-0.874345</td>\n",
       "      <td>-0.485389</td>\n",
       "    </tr>\n",
       "    <tr>\n",
       "      <th>3</th>\n",
       "      <td>TCGA-3C-AALJ</td>\n",
       "      <td>TCGA-3C-AALJ-01Z-00-DX2.62DFE56B-B84C-40F9-962...</td>\n",
       "      <td>3C</td>\n",
       "      <td>3</td>\n",
       "      <td>1.0</td>\n",
       "      <td>IDC</td>\n",
       "      <td>62.0</td>\n",
       "      <td>2</td>\n",
       "      <td>48.42</td>\n",
       "      <td>1.0</td>\n",
       "      <td>...</td>\n",
       "      <td>2.665836</td>\n",
       "      <td>-1.099110</td>\n",
       "      <td>-0.184212</td>\n",
       "      <td>-1.279398</td>\n",
       "      <td>2.112450</td>\n",
       "      <td>-1.190473</td>\n",
       "      <td>0.856429</td>\n",
       "      <td>-0.579342</td>\n",
       "      <td>-0.874345</td>\n",
       "      <td>-0.485389</td>\n",
       "    </tr>\n",
       "    <tr>\n",
       "      <th>4</th>\n",
       "      <td>TCGA-3C-AALK</td>\n",
       "      <td>TCGA-3C-AALK-01Z-00-DX1.4E6EB156-BB19-410F-878...</td>\n",
       "      <td>3C</td>\n",
       "      <td>4</td>\n",
       "      <td>1.0</td>\n",
       "      <td>IDC</td>\n",
       "      <td>52.0</td>\n",
       "      <td>2</td>\n",
       "      <td>47.57</td>\n",
       "      <td>1.0</td>\n",
       "      <td>...</td>\n",
       "      <td>-0.322065</td>\n",
       "      <td>-0.381861</td>\n",
       "      <td>-0.459009</td>\n",
       "      <td>-0.931029</td>\n",
       "      <td>0.602789</td>\n",
       "      <td>-0.951448</td>\n",
       "      <td>0.979160</td>\n",
       "      <td>-0.899523</td>\n",
       "      <td>-0.520568</td>\n",
       "      <td>-0.384345</td>\n",
       "    </tr>\n",
       "  </tbody>\n",
       "</table>\n",
       "<p>5 rows × 20982 columns</p>\n",
       "</div>"
      ],
      "text/plain": [
       "        case_id                                           slide_id site  \\\n",
       "0  TCGA-3C-AALI  TCGA-3C-AALI-01Z-00-DX1.F6E9A5DF-D8FB-45CF-B4B...   3C   \n",
       "1  TCGA-3C-AALI  TCGA-3C-AALI-01Z-00-DX2.CF4496E0-AB52-4F3E-BDF...   3C   \n",
       "2  TCGA-3C-AALJ  TCGA-3C-AALJ-01Z-00-DX1.777C0957-255A-42F0-9EE...   3C   \n",
       "3  TCGA-3C-AALJ  TCGA-3C-AALJ-01Z-00-DX2.62DFE56B-B84C-40F9-962...   3C   \n",
       "4  TCGA-3C-AALK  TCGA-3C-AALK-01Z-00-DX1.4E6EB156-BB19-410F-878...   3C   \n",
       "\n",
       "   kfold  is_female oncotree_code   age  survival_months_discretized  \\\n",
       "0      0        1.0           IDC  50.0                            3   \n",
       "1      1        1.0           IDC  50.0                            3   \n",
       "2      2        1.0           IDC  62.0                            2   \n",
       "3      3        1.0           IDC  62.0                            2   \n",
       "4      4        1.0           IDC  52.0                            2   \n",
       "\n",
       "   survival_months  censorship  ...  ZWINT_rnaseq  ZXDA_rnaseq  ZXDB_rnaseq  \\\n",
       "0           131.57         1.0  ...      0.153655    -0.207313    -0.427975   \n",
       "1           131.57         1.0  ...      0.153655    -0.207313    -0.427975   \n",
       "2            48.42         1.0  ...      2.665836    -1.099110    -0.184212   \n",
       "3            48.42         1.0  ...      2.665836    -1.099110    -0.184212   \n",
       "4            47.57         1.0  ...     -0.322065    -0.381861    -0.459009   \n",
       "\n",
       "   ZXDC_rnaseq  ZYG11A_rnaseq  ZYG11B_rnaseq  ZYX_rnaseq  ZZEF1_rnaseq  \\\n",
       "0     0.825128       0.825317      -0.963470    0.880672      0.164444   \n",
       "1     0.825128       0.825317      -0.963470    0.880672      0.164444   \n",
       "2    -1.279398       2.112450      -1.190473    0.856429     -0.579342   \n",
       "3    -1.279398       2.112450      -1.190473    0.856429     -0.579342   \n",
       "4    -0.931029       0.602789      -0.951448    0.979160     -0.899523   \n",
       "\n",
       "   ZZZ3_rnaseq  TPTEP1_rnaseq  \n",
       "0    -1.064402       2.395788  \n",
       "1    -1.064402       2.395788  \n",
       "2    -0.874345      -0.485389  \n",
       "3    -0.874345      -0.485389  \n",
       "4    -0.520568      -0.384345  \n",
       "\n",
       "[5 rows x 20982 columns]"
      ]
     },
     "execution_count": 125,
     "metadata": {},
     "output_type": "execute_result"
    }
   ],
   "source": [
    "f_new = \"data/tcga_brca_trainable.csv\"\n",
    "df = pd.read_csv(f_new)\n",
    "df.head()"
   ]
  },
  {
   "cell_type": "code",
   "execution_count": null,
   "metadata": {},
   "outputs": [
    {
     "data": {
      "text/html": [
       "<div>\n",
       "<style scoped>\n",
       "    .dataframe tbody tr th:only-of-type {\n",
       "        vertical-align: middle;\n",
       "    }\n",
       "\n",
       "    .dataframe tbody tr th {\n",
       "        vertical-align: top;\n",
       "    }\n",
       "\n",
       "    .dataframe thead th {\n",
       "        text-align: right;\n",
       "    }\n",
       "</style>\n",
       "<table border=\"1\" class=\"dataframe\">\n",
       "  <thead>\n",
       "    <tr style=\"text-align: right;\">\n",
       "      <th></th>\n",
       "      <th>NOTCH2_cnv</th>\n",
       "      <th>ACP6_cnv</th>\n",
       "      <th>ANKRD20A12P_cnv</th>\n",
       "      <th>ANKRD34A_cnv</th>\n",
       "      <th>ANKRD35_cnv</th>\n",
       "      <th>BCL9_cnv</th>\n",
       "      <th>BOLA1_cnv</th>\n",
       "      <th>CD160_cnv</th>\n",
       "      <th>CHD1L_cnv</th>\n",
       "      <th>FAM72B_cnv</th>\n",
       "      <th>...</th>\n",
       "      <th>ZWINT_rnaseq</th>\n",
       "      <th>ZXDA_rnaseq</th>\n",
       "      <th>ZXDB_rnaseq</th>\n",
       "      <th>ZXDC_rnaseq</th>\n",
       "      <th>ZYG11A_rnaseq</th>\n",
       "      <th>ZYG11B_rnaseq</th>\n",
       "      <th>ZYX_rnaseq</th>\n",
       "      <th>ZZEF1_rnaseq</th>\n",
       "      <th>ZZZ3_rnaseq</th>\n",
       "      <th>TPTEP1_rnaseq</th>\n",
       "    </tr>\n",
       "  </thead>\n",
       "  <tbody>\n",
       "    <tr>\n",
       "      <th>0</th>\n",
       "      <td>-2.117218</td>\n",
       "      <td>-2.241841</td>\n",
       "      <td>-2.241841</td>\n",
       "      <td>-2.241841</td>\n",
       "      <td>-2.241841</td>\n",
       "      <td>-2.241841</td>\n",
       "      <td>-2.241841</td>\n",
       "      <td>-2.241841</td>\n",
       "      <td>-2.241841</td>\n",
       "      <td>-2.241841</td>\n",
       "      <td>...</td>\n",
       "      <td>0.153655</td>\n",
       "      <td>-0.207313</td>\n",
       "      <td>-0.427975</td>\n",
       "      <td>0.825128</td>\n",
       "      <td>0.825317</td>\n",
       "      <td>-0.963470</td>\n",
       "      <td>0.880672</td>\n",
       "      <td>0.164444</td>\n",
       "      <td>-1.064402</td>\n",
       "      <td>2.395788</td>\n",
       "    </tr>\n",
       "    <tr>\n",
       "      <th>1</th>\n",
       "      <td>-2.117218</td>\n",
       "      <td>-2.241841</td>\n",
       "      <td>-2.241841</td>\n",
       "      <td>-2.241841</td>\n",
       "      <td>-2.241841</td>\n",
       "      <td>-2.241841</td>\n",
       "      <td>-2.241841</td>\n",
       "      <td>-2.241841</td>\n",
       "      <td>-2.241841</td>\n",
       "      <td>-2.241841</td>\n",
       "      <td>...</td>\n",
       "      <td>0.153655</td>\n",
       "      <td>-0.207313</td>\n",
       "      <td>-0.427975</td>\n",
       "      <td>0.825128</td>\n",
       "      <td>0.825317</td>\n",
       "      <td>-0.963470</td>\n",
       "      <td>0.880672</td>\n",
       "      <td>0.164444</td>\n",
       "      <td>-1.064402</td>\n",
       "      <td>2.395788</td>\n",
       "    </tr>\n",
       "    <tr>\n",
       "      <th>2</th>\n",
       "      <td>-0.863795</td>\n",
       "      <td>-0.929074</td>\n",
       "      <td>-0.929074</td>\n",
       "      <td>-0.929074</td>\n",
       "      <td>-0.929074</td>\n",
       "      <td>-0.929074</td>\n",
       "      <td>-0.929074</td>\n",
       "      <td>-0.929074</td>\n",
       "      <td>-0.929074</td>\n",
       "      <td>-0.929074</td>\n",
       "      <td>...</td>\n",
       "      <td>2.665836</td>\n",
       "      <td>-1.099110</td>\n",
       "      <td>-0.184212</td>\n",
       "      <td>-1.279398</td>\n",
       "      <td>2.112450</td>\n",
       "      <td>-1.190473</td>\n",
       "      <td>0.856429</td>\n",
       "      <td>-0.579342</td>\n",
       "      <td>-0.874345</td>\n",
       "      <td>-0.485389</td>\n",
       "    </tr>\n",
       "    <tr>\n",
       "      <th>3</th>\n",
       "      <td>-0.863795</td>\n",
       "      <td>-0.929074</td>\n",
       "      <td>-0.929074</td>\n",
       "      <td>-0.929074</td>\n",
       "      <td>-0.929074</td>\n",
       "      <td>-0.929074</td>\n",
       "      <td>-0.929074</td>\n",
       "      <td>-0.929074</td>\n",
       "      <td>-0.929074</td>\n",
       "      <td>-0.929074</td>\n",
       "      <td>...</td>\n",
       "      <td>2.665836</td>\n",
       "      <td>-1.099110</td>\n",
       "      <td>-0.184212</td>\n",
       "      <td>-1.279398</td>\n",
       "      <td>2.112450</td>\n",
       "      <td>-1.190473</td>\n",
       "      <td>0.856429</td>\n",
       "      <td>-0.579342</td>\n",
       "      <td>-0.874345</td>\n",
       "      <td>-0.485389</td>\n",
       "    </tr>\n",
       "    <tr>\n",
       "      <th>4</th>\n",
       "      <td>-0.863795</td>\n",
       "      <td>-0.929074</td>\n",
       "      <td>-0.929074</td>\n",
       "      <td>-0.929074</td>\n",
       "      <td>-0.929074</td>\n",
       "      <td>-0.929074</td>\n",
       "      <td>-0.929074</td>\n",
       "      <td>-0.929074</td>\n",
       "      <td>-0.929074</td>\n",
       "      <td>-0.929074</td>\n",
       "      <td>...</td>\n",
       "      <td>-0.322065</td>\n",
       "      <td>-0.381861</td>\n",
       "      <td>-0.459009</td>\n",
       "      <td>-0.931029</td>\n",
       "      <td>0.602789</td>\n",
       "      <td>-0.951448</td>\n",
       "      <td>0.979160</td>\n",
       "      <td>-0.899523</td>\n",
       "      <td>-0.520568</td>\n",
       "      <td>-0.384345</td>\n",
       "    </tr>\n",
       "  </tbody>\n",
       "</table>\n",
       "<p>5 rows × 20971 columns</p>\n",
       "</div>"
      ],
      "text/plain": [
       "   NOTCH2_cnv  ACP6_cnv  ANKRD20A12P_cnv  ANKRD34A_cnv  ANKRD35_cnv  BCL9_cnv  \\\n",
       "0   -2.117218 -2.241841        -2.241841     -2.241841    -2.241841 -2.241841   \n",
       "1   -2.117218 -2.241841        -2.241841     -2.241841    -2.241841 -2.241841   \n",
       "2   -0.863795 -0.929074        -0.929074     -0.929074    -0.929074 -0.929074   \n",
       "3   -0.863795 -0.929074        -0.929074     -0.929074    -0.929074 -0.929074   \n",
       "4   -0.863795 -0.929074        -0.929074     -0.929074    -0.929074 -0.929074   \n",
       "\n",
       "   BOLA1_cnv  CD160_cnv  CHD1L_cnv  FAM72B_cnv  ...  ZWINT_rnaseq  \\\n",
       "0  -2.241841  -2.241841  -2.241841   -2.241841  ...      0.153655   \n",
       "1  -2.241841  -2.241841  -2.241841   -2.241841  ...      0.153655   \n",
       "2  -0.929074  -0.929074  -0.929074   -0.929074  ...      2.665836   \n",
       "3  -0.929074  -0.929074  -0.929074   -0.929074  ...      2.665836   \n",
       "4  -0.929074  -0.929074  -0.929074   -0.929074  ...     -0.322065   \n",
       "\n",
       "   ZXDA_rnaseq  ZXDB_rnaseq  ZXDC_rnaseq  ZYG11A_rnaseq  ZYG11B_rnaseq  \\\n",
       "0    -0.207313    -0.427975     0.825128       0.825317      -0.963470   \n",
       "1    -0.207313    -0.427975     0.825128       0.825317      -0.963470   \n",
       "2    -1.099110    -0.184212    -1.279398       2.112450      -1.190473   \n",
       "3    -1.099110    -0.184212    -1.279398       2.112450      -1.190473   \n",
       "4    -0.381861    -0.459009    -0.931029       0.602789      -0.951448   \n",
       "\n",
       "   ZYX_rnaseq  ZZEF1_rnaseq  ZZZ3_rnaseq  TPTEP1_rnaseq  \n",
       "0    0.880672      0.164444    -1.064402       2.395788  \n",
       "1    0.880672      0.164444    -1.064402       2.395788  \n",
       "2    0.856429     -0.579342    -0.874345      -0.485389  \n",
       "3    0.856429     -0.579342    -0.874345      -0.485389  \n",
       "4    0.979160     -0.899523    -0.520568      -0.384345  \n",
       "\n",
       "[5 rows x 20971 columns]"
      ]
     },
     "execution_count": 127,
     "metadata": {},
     "output_type": "execute_result"
    }
   ],
   "source": [
    "df[df.keys()[11:]].head()"
   ]
  },
  {
   "attachments": {},
   "cell_type": "markdown",
   "metadata": {},
   "source": [
    "## k-Fold crossvalidation\n",
    "1. Cluster dataset into k groups (shuffle first(seeded) then stratify by patient,split into equal chunks)\n",
    "2. use one group for testing and the others for training\n",
    "3. rotate such that each group is once used for testing\n",
    "4. use distribution of testing results to estimate real value \n",
    "\n"
   ]
  },
  {
   "cell_type": "code",
   "execution_count": null,
   "metadata": {},
   "outputs": [
    {
     "name": "stdout",
     "output_type": "stream",
     "text": [
      "train on [1 2 3 4 5 6] test on 0, store results in foldername: experiment1_fold0\n",
      "train on [2 3 4 5 6 0] test on 1, store results in foldername: experiment1_fold1\n",
      "train on [3 4 5 6 0 1] test on 2, store results in foldername: experiment1_fold2\n",
      "train on [4 5 6 0 1 2] test on 3, store results in foldername: experiment1_fold3\n",
      "train on [5 6 0 1 2 3] test on 4, store results in foldername: experiment1_fold4\n",
      "train on [6 0 1 2 3 4] test on 5, store results in foldername: experiment1_fold5\n",
      "train on [0 1 2 3 4 5] test on 6, store results in foldername: experiment1_fold6\n"
     ]
    }
   ],
   "source": [
    "k = 7 \n",
    "a = np.arange(k) # df k-th fold \n",
    "for i in range(k):  \n",
    "    a = (a+1)%k\n",
    "    print(f\"train on {a[:-1]} test on {a[-1]}, store results in foldername: experiment1_fold{a[-1]}\")\n",
    "\n"
   ]
  },
  {
   "cell_type": "code",
   "execution_count": null,
   "metadata": {},
   "outputs": [
    {
     "data": {
      "text/html": [
       "<div>\n",
       "<style scoped>\n",
       "    .dataframe tbody tr th:only-of-type {\n",
       "        vertical-align: middle;\n",
       "    }\n",
       "\n",
       "    .dataframe tbody tr th {\n",
       "        vertical-align: top;\n",
       "    }\n",
       "\n",
       "    .dataframe thead th {\n",
       "        text-align: right;\n",
       "    }\n",
       "</style>\n",
       "<table border=\"1\" class=\"dataframe\">\n",
       "  <thead>\n",
       "    <tr style=\"text-align: right;\">\n",
       "      <th></th>\n",
       "      <th>col1</th>\n",
       "      <th>col2</th>\n",
       "    </tr>\n",
       "  </thead>\n",
       "  <tbody>\n",
       "    <tr>\n",
       "      <th>0</th>\n",
       "      <td>thisis0</td>\n",
       "      <td>0.771627</td>\n",
       "    </tr>\n",
       "    <tr>\n",
       "      <th>1</th>\n",
       "      <td>thisis1</td>\n",
       "      <td>0.445847</td>\n",
       "    </tr>\n",
       "    <tr>\n",
       "      <th>2</th>\n",
       "      <td>thisis2</td>\n",
       "      <td>0.593957</td>\n",
       "    </tr>\n",
       "    <tr>\n",
       "      <th>3</th>\n",
       "      <td>thisis3</td>\n",
       "      <td>0.457410</td>\n",
       "    </tr>\n",
       "    <tr>\n",
       "      <th>4</th>\n",
       "      <td>thisis4</td>\n",
       "      <td>0.182458</td>\n",
       "    </tr>\n",
       "    <tr>\n",
       "      <th>...</th>\n",
       "      <td>...</td>\n",
       "      <td>...</td>\n",
       "    </tr>\n",
       "    <tr>\n",
       "      <th>95</th>\n",
       "      <td>thisis95</td>\n",
       "      <td>0.087985</td>\n",
       "    </tr>\n",
       "    <tr>\n",
       "      <th>96</th>\n",
       "      <td>thisis96</td>\n",
       "      <td>0.931732</td>\n",
       "    </tr>\n",
       "    <tr>\n",
       "      <th>97</th>\n",
       "      <td>thisis97</td>\n",
       "      <td>0.929314</td>\n",
       "    </tr>\n",
       "    <tr>\n",
       "      <th>98</th>\n",
       "      <td>thisis98</td>\n",
       "      <td>0.755483</td>\n",
       "    </tr>\n",
       "    <tr>\n",
       "      <th>99</th>\n",
       "      <td>thisis99</td>\n",
       "      <td>0.349347</td>\n",
       "    </tr>\n",
       "  </tbody>\n",
       "</table>\n",
       "<p>100 rows × 2 columns</p>\n",
       "</div>"
      ],
      "text/plain": [
       "        col1      col2\n",
       "0    thisis0  0.771627\n",
       "1    thisis1  0.445847\n",
       "2    thisis2  0.593957\n",
       "3    thisis3  0.457410\n",
       "4    thisis4  0.182458\n",
       "..       ...       ...\n",
       "95  thisis95  0.087985\n",
       "96  thisis96  0.931732\n",
       "97  thisis97  0.929314\n",
       "98  thisis98  0.755483\n",
       "99  thisis99  0.349347\n",
       "\n",
       "[100 rows x 2 columns]"
      ]
     },
     "execution_count": 24,
     "metadata": {},
     "output_type": "execute_result"
    }
   ],
   "source": [
    "df = pd.DataFrame({\"col1\": np.arange(100),\"col2\":np.random.rand(100)})\n",
    "df\n",
    "df[\"col1\"] = df[\"col1\"].apply(lambda x: f\"thisis{x}\")\n",
    "df"
   ]
  },
  {
   "cell_type": "code",
   "execution_count": null,
   "metadata": {},
   "outputs": [
    {
     "data": {
      "text/plain": [
       "'data/tcga_brca_trainable.csv'"
      ]
     },
     "execution_count": 28,
     "metadata": {},
     "output_type": "execute_result"
    }
   ],
   "source": [
    "f = \"data/tcga_brca_all_clean.csv.zip\"\n",
    "f = f.replace(\"all_clean.csv.zip\",\"trainable.csv\")\n",
    "f"
   ]
  },
  {
   "cell_type": "code",
   "execution_count": null,
   "metadata": {},
   "outputs": [
    {
     "name": "stdout",
     "output_type": "stream",
     "text": [
      "Collecting torchmetrics\n",
      "  Using cached torchmetrics-0.11.4-py3-none-any.whl (519 kB)\n",
      "Requirement already satisfied: packaging in ./env/lib/python3.10/site-packages (from torchmetrics) (23.1)\n",
      "Requirement already satisfied: numpy>=1.17.2 in ./env/lib/python3.10/site-packages (from torchmetrics) (1.24.3)\n",
      "Requirement already satisfied: torch>=1.8.1 in ./env/lib/python3.10/site-packages (from torchmetrics) (2.0.1)\n",
      "Requirement already satisfied: sympy in ./env/lib/python3.10/site-packages (from torch>=1.8.1->torchmetrics) (1.12)\n",
      "Requirement already satisfied: networkx in ./env/lib/python3.10/site-packages (from torch>=1.8.1->torchmetrics) (3.1)\n",
      "Requirement already satisfied: typing-extensions in ./env/lib/python3.10/site-packages (from torch>=1.8.1->torchmetrics) (4.6.3)\n",
      "Requirement already satisfied: filelock in ./env/lib/python3.10/site-packages (from torch>=1.8.1->torchmetrics) (3.12.0)\n",
      "Requirement already satisfied: jinja2 in ./env/lib/python3.10/site-packages (from torch>=1.8.1->torchmetrics) (3.1.2)\n",
      "Requirement already satisfied: MarkupSafe>=2.0 in ./env/lib/python3.10/site-packages (from jinja2->torch>=1.8.1->torchmetrics) (2.1.2)\n",
      "Requirement already satisfied: mpmath>=0.19 in ./env/lib/python3.10/site-packages (from sympy->torch>=1.8.1->torchmetrics) (1.3.0)\n",
      "Installing collected packages: torchmetrics\n",
      "Successfully installed torchmetrics-0.11.4\n",
      "\n",
      "\u001b[1m[\u001b[0m\u001b[34;49mnotice\u001b[0m\u001b[1;39;49m]\u001b[0m\u001b[39;49m A new release of pip available: \u001b[0m\u001b[31;49m22.2.2\u001b[0m\u001b[39;49m -> \u001b[0m\u001b[32;49m23.1.2\u001b[0m\n",
      "\u001b[1m[\u001b[0m\u001b[34;49mnotice\u001b[0m\u001b[1;39;49m]\u001b[0m\u001b[39;49m To update, run: \u001b[0m\u001b[32;49mpip install --upgrade pip\u001b[0m\n"
     ]
    }
   ],
   "source": [
    "!pip install torchmetrics\n"
   ]
  },
  {
   "cell_type": "code",
   "execution_count": null,
   "metadata": {},
   "outputs": [],
   "source": [
    "import torch \n",
    "idx = torch.randint(low=0,high=4,size=(100,))\n",
    "values = torch.zeros(size=(100,4))\n",
    "source = torch.ones(size=(100,))"
   ]
  },
  {
   "cell_type": "code",
   "execution_count": null,
   "metadata": {},
   "outputs": [
    {
     "ename": "RuntimeError",
     "evalue": "Index tensor must have the same number of dimensions as self tensor",
     "output_type": "error",
     "traceback": [
      "\u001b[0;31m---------------------------------------------------------------------------\u001b[0m",
      "\u001b[0;31mRuntimeError\u001b[0m                              Traceback (most recent call last)",
      "Cell \u001b[0;32mIn[59], line 1\u001b[0m\n\u001b[0;32m----> 1\u001b[0m values\u001b[39m.\u001b[39;49mscatter_(dim\u001b[39m=\u001b[39;49m\u001b[39m1\u001b[39;49m,index\u001b[39m=\u001b[39;49midx,src\u001b[39m=\u001b[39;49msource)\n",
      "\u001b[0;31mRuntimeError\u001b[0m: Index tensor must have the same number of dimensions as self tensor"
     ]
    }
   ],
   "source": [
    "values.scatter_(dim=1,index=idx,src=source)"
   ]
  },
  {
   "cell_type": "code",
   "execution_count": null,
   "metadata": {},
   "outputs": [
    {
     "data": {
      "text/plain": [
       "tensor([[0., 1., 0., 0.],\n",
       "        [0., 1., 0., 0.],\n",
       "        [0., 1., 0., 0.],\n",
       "        [1., 0., 0., 0.],\n",
       "        [1., 0., 0., 0.],\n",
       "        [0., 1., 0., 0.],\n",
       "        [0., 0., 1., 0.],\n",
       "        [0., 0., 1., 0.],\n",
       "        [0., 0., 0., 1.],\n",
       "        [0., 0., 0., 1.]])"
      ]
     },
     "execution_count": 104,
     "metadata": {},
     "output_type": "execute_result"
    }
   ],
   "source": [
    "groundtruth = torch.zeros(size=(10,4))\n",
    "a,b = groundtruth.size()\n",
    "labels = torch.randint(low=0,high=b,size=(1,a))\n",
    "groundtruth[torch.arange(a),labels]=1\n",
    "groundtruth"
   ]
  },
  {
   "cell_type": "code",
   "execution_count": null,
   "metadata": {},
   "outputs": [
    {
     "data": {
      "text/plain": [
       "tensor([[1, 1, 1, 0, 0, 1, 2, 2, 3, 3]])"
      ]
     },
     "execution_count": 105,
     "metadata": {},
     "output_type": "execute_result"
    }
   ],
   "source": [
    "from torchmetrics import Accuracy\n",
    "acc = Accuracy(\"multiclass\")"
   ]
  },
  {
   "cell_type": "code",
   "execution_count": null,
   "metadata": {},
   "outputs": [
    {
     "data": {
      "text/plain": [
       "tensor([1, 1, 1, 1, 0, 0, 0, 0, 1, 0, 0, 1, 1, 0, 0, 1, 1, 0, 0, 1, 0, 1, 0, 0,\n",
       "        0, 1, 1, 0, 1, 1, 1, 1, 1, 0, 1, 0, 1, 1, 1, 1, 0, 1, 0, 0, 1, 0, 1, 0,\n",
       "        0, 0, 0, 1, 1, 0, 0, 0, 0, 1, 0, 1, 1, 0, 1, 1, 1, 1, 1, 1, 0, 0, 0, 1,\n",
       "        0, 1, 1, 0, 0, 1, 1, 0, 1, 0, 0, 1, 1, 0, 1, 1, 1, 0, 0, 0, 0, 1, 1, 0,\n",
       "        0, 0, 0, 1])"
      ]
     },
     "execution_count": 112,
     "metadata": {},
     "output_type": "execute_result"
    }
   ],
   "source": [
    "a = torch.randint(low=0,high=2,size=(100,))\n",
    "a\n",
    "\n"
   ]
  },
  {
   "cell_type": "code",
   "execution_count": null,
   "metadata": {},
   "outputs": [
    {
     "ename": "ValueError",
     "evalue": "Expected 1D array, got 2D array instead:\narray=[[0.7033437  0.5068377  0.654999   0.5990905 ]\n [0.7150219  0.599375   0.7102213  0.669106  ]\n [0.64452285 0.5671275  0.71529394 0.6757698 ]\n [0.6388677  0.62970865 0.64201355 0.5307401 ]\n [0.60350907 0.72728115 0.53220797 0.518223  ]\n [0.68350834 0.6934904  0.5089255  0.61560374]\n [0.67109674 0.6994699  0.6647645  0.52406156]\n [0.55831575 0.64931524 0.5347419  0.65587   ]\n [0.52917504 0.6606084  0.55667764 0.65744233]\n [0.7292093  0.56855935 0.7007709  0.66647863]\n [0.6349134  0.6343174  0.57802343 0.67564833]\n [0.6474086  0.58789873 0.6473337  0.5406985 ]\n [0.6528097  0.55204225 0.5219494  0.588915  ]\n [0.5066584  0.575144   0.62465805 0.5473152 ]\n [0.6980143  0.5550397  0.69929653 0.67663085]\n [0.66518444 0.5020233  0.54762226 0.68529356]\n [0.61191684 0.57054913 0.51956755 0.5036999 ]\n [0.5990251  0.6647159  0.5022067  0.6415785 ]\n [0.5096261  0.5296232  0.64971465 0.5950778 ]\n [0.7218662  0.65232795 0.5983458  0.6257463 ]\n [0.65301895 0.6039311  0.57282114 0.64343935]\n [0.70950943 0.5643408  0.71161604 0.5036222 ]\n [0.56625646 0.509335   0.5792254  0.61572915]\n [0.62246877 0.59285855 0.5865239  0.6409882 ]\n [0.5512244  0.5397312  0.58580446 0.594414  ]\n [0.6483152  0.6868134  0.65667236 0.5230461 ]\n [0.5616211  0.698877   0.63359326 0.728736  ]\n [0.6529768  0.6710834  0.666662   0.52926576]\n [0.5455406  0.5901774  0.5039173  0.50229514]\n [0.6278486  0.72436374 0.6860912  0.6959076 ]\n [0.50597304 0.713814   0.6326286  0.6273644 ]\n [0.65662265 0.5647073  0.58616865 0.646891  ]\n [0.6678679  0.55246246 0.5616041  0.71274585]\n [0.5203591  0.5386698  0.64613324 0.61203194]\n [0.68008655 0.6873198  0.71844333 0.6257025 ]\n [0.7298277  0.67418826 0.5938301  0.66317636]\n [0.67543834 0.5023487  0.6053202  0.6490979 ]\n [0.67269105 0.6210878  0.71898174 0.66912603]\n [0.70456284 0.71981895 0.66602397 0.64326096]\n [0.60190856 0.51107204 0.5898658  0.61134875]\n [0.59263074 0.5784401  0.54741335 0.5614796 ]\n [0.5989356  0.55273384 0.5732944  0.71651936]\n [0.5913896  0.54938984 0.60361534 0.53534436]\n [0.5141062  0.6119989  0.54016924 0.6341148 ]\n [0.71425146 0.6726476  0.58939916 0.7245826 ]\n [0.5873254  0.59445065 0.58369744 0.5891026 ]\n [0.5968411  0.64003295 0.6959099  0.6444287 ]\n [0.5450495  0.53397685 0.62487507 0.5077089 ]\n [0.5835435  0.6215533  0.57735515 0.642489  ]\n [0.557307   0.56761986 0.70220196 0.51394594]\n [0.5159483  0.7038531  0.6261901  0.63434386]\n [0.72761047 0.6025582  0.70891714 0.61075985]\n [0.5199391  0.50275004 0.59646523 0.66402894]\n [0.6963825  0.5442542  0.567837   0.70562667]\n [0.6432466  0.62537783 0.63242483 0.57596123]\n [0.5894853  0.66055566 0.65344256 0.5931886 ]\n [0.7301526  0.50607795 0.5494923  0.6291933 ]\n [0.7089705  0.6961766  0.5586037  0.5976287 ]\n [0.6130313  0.5604356  0.5972878  0.68639934]\n [0.51664704 0.68900746 0.68184733 0.53696966]\n [0.5886826  0.55988073 0.70646673 0.70089626]\n [0.54090255 0.7026498  0.55707085 0.54038   ]\n [0.5840731  0.67154956 0.5217902  0.5183401 ]\n [0.65526056 0.7000793  0.6698624  0.5305141 ]\n [0.63102967 0.60221153 0.55749315 0.59235895]\n [0.608334   0.707181   0.507087   0.6083674 ]\n [0.515192   0.5415555  0.5845034  0.582528  ]\n [0.62123877 0.5697925  0.5561974  0.5007077 ]\n [0.61007625 0.70058566 0.62560135 0.6279507 ]\n [0.7283216  0.56833994 0.72932595 0.59095794]\n [0.68331707 0.66165876 0.61356664 0.5835217 ]\n [0.5145504  0.5252778  0.6049514  0.53632414]\n [0.5843128  0.51487863 0.541528   0.6749439 ]\n [0.651314   0.525107   0.530047   0.57662064]\n [0.5899187  0.72903425 0.58088046 0.56718   ]\n [0.59032536 0.6409243  0.52353984 0.65532184]\n [0.6856491  0.5704291  0.6997388  0.5607072 ]\n [0.5616982  0.56394184 0.7009696  0.58921385]\n [0.6050089  0.65880936 0.7154291  0.72521573]\n [0.6253197  0.6155239  0.6816433  0.6848565 ]\n [0.5421478  0.5141121  0.6021258  0.58528125]\n [0.5093989  0.56185734 0.6934937  0.6141861 ]\n [0.626201   0.6440658  0.5739234  0.58163154]\n [0.516708   0.5852681  0.54061425 0.6389016 ]\n [0.60063165 0.71721005 0.6172488  0.5289654 ]\n [0.69206935 0.68975365 0.54912287 0.6318212 ]\n [0.5011444  0.61085147 0.69184405 0.5598021 ]\n [0.73076046 0.61929005 0.6955243  0.5656313 ]\n [0.69410634 0.72007406 0.5879938  0.6407076 ]\n [0.6469488  0.60425884 0.5105472  0.5041881 ]\n [0.69766206 0.6466432  0.6021804  0.5660987 ]\n [0.69878095 0.59292924 0.67088234 0.52607673]\n [0.6836516  0.6855315  0.54005367 0.52829343]\n [0.7178681  0.6848087  0.65245676 0.609253  ]\n [0.5492158  0.55435956 0.56264997 0.5188395 ]\n [0.63143706 0.6213038  0.5782583  0.69672054]\n [0.5931135  0.51481485 0.5317573  0.6294442 ]\n [0.6040276  0.5475191  0.65634286 0.6323826 ]\n [0.6253122  0.66581166 0.5658497  0.60413456]\n [0.5506321  0.5837093  0.7030357  0.5361747 ]].\n",
     "output_type": "error",
     "traceback": [
      "\u001b[0;31m---------------------------------------------------------------------------\u001b[0m",
      "\u001b[0;31mValueError\u001b[0m                                Traceback (most recent call last)",
      "Cell \u001b[0;32mIn[120], line 5\u001b[0m\n\u001b[1;32m      3\u001b[0m l \u001b[39m=\u001b[39m torch\u001b[39m.\u001b[39mrandint(\u001b[39m0\u001b[39m,\u001b[39m4\u001b[39m,size\u001b[39m=\u001b[39m(\u001b[39m100\u001b[39m,))\n\u001b[1;32m      4\u001b[0m out \u001b[39m=\u001b[39m nn\u001b[39m.\u001b[39mSigmoid()(torch\u001b[39m.\u001b[39mrand(size\u001b[39m=\u001b[39m(\u001b[39m100\u001b[39m,\u001b[39m4\u001b[39m)))\n\u001b[0;32m----> 5\u001b[0m c_index \u001b[39m=\u001b[39m concordance_index_censored(c,l,out)\n",
      "File \u001b[0;32m~/Desktop/Thesis/multimodal_survival_prediction/env/lib/python3.10/site-packages/sksurv/metrics.py:222\u001b[0m, in \u001b[0;36mconcordance_index_censored\u001b[0;34m(event_indicator, event_time, estimate, tied_tol)\u001b[0m\n\u001b[1;32m    157\u001b[0m \u001b[39mdef\u001b[39;00m \u001b[39mconcordance_index_censored\u001b[39m(event_indicator, event_time, estimate, tied_tol\u001b[39m=\u001b[39m\u001b[39m1e-8\u001b[39m):\n\u001b[1;32m    158\u001b[0m \u001b[39m    \u001b[39m\u001b[39m\"\"\"Concordance index for right-censored data\u001b[39;00m\n\u001b[1;32m    159\u001b[0m \n\u001b[1;32m    160\u001b[0m \u001b[39m    The concordance index is defined as the proportion of all comparable pairs\u001b[39;00m\n\u001b[0;32m   (...)\u001b[0m\n\u001b[1;32m    220\u001b[0m \u001b[39m           Statistics in Medicine, 15(4), 361-87, 1996.\u001b[39;00m\n\u001b[1;32m    221\u001b[0m \u001b[39m    \"\"\"\u001b[39;00m\n\u001b[0;32m--> 222\u001b[0m     event_indicator, event_time, estimate \u001b[39m=\u001b[39m _check_inputs(\n\u001b[1;32m    223\u001b[0m         event_indicator, event_time, estimate)\n\u001b[1;32m    225\u001b[0m     w \u001b[39m=\u001b[39m np\u001b[39m.\u001b[39mones_like(estimate)\n\u001b[1;32m    227\u001b[0m     \u001b[39mreturn\u001b[39;00m _estimate_concordance_index(event_indicator, event_time, estimate, w, tied_tol)\n",
      "File \u001b[0;32m~/Desktop/Thesis/multimodal_survival_prediction/env/lib/python3.10/site-packages/sksurv/metrics.py:49\u001b[0m, in \u001b[0;36m_check_inputs\u001b[0;34m(event_indicator, event_time, estimate)\u001b[0m\n\u001b[1;32m     47\u001b[0m event_indicator \u001b[39m=\u001b[39m check_array(event_indicator, ensure_2d\u001b[39m=\u001b[39m\u001b[39mFalse\u001b[39;00m, input_name\u001b[39m=\u001b[39m\u001b[39m\"\u001b[39m\u001b[39mevent_indicator\u001b[39m\u001b[39m\"\u001b[39m)\n\u001b[1;32m     48\u001b[0m event_time \u001b[39m=\u001b[39m check_array(event_time, ensure_2d\u001b[39m=\u001b[39m\u001b[39mFalse\u001b[39;00m, input_name\u001b[39m=\u001b[39m\u001b[39m\"\u001b[39m\u001b[39mevent_time\u001b[39m\u001b[39m\"\u001b[39m)\n\u001b[0;32m---> 49\u001b[0m estimate \u001b[39m=\u001b[39m _check_estimate_1d(estimate, event_time)\n\u001b[1;32m     51\u001b[0m \u001b[39mif\u001b[39;00m \u001b[39mnot\u001b[39;00m np\u001b[39m.\u001b[39missubdtype(event_indicator\u001b[39m.\u001b[39mdtype, np\u001b[39m.\u001b[39mbool_):\n\u001b[1;32m     52\u001b[0m     \u001b[39mraise\u001b[39;00m \u001b[39mValueError\u001b[39;00m(\n\u001b[1;32m     53\u001b[0m         \u001b[39m'\u001b[39m\u001b[39monly boolean arrays are supported as class labels for survival analysis, got \u001b[39m\u001b[39m{0}\u001b[39;00m\u001b[39m'\u001b[39m\u001b[39m.\u001b[39mformat(\n\u001b[1;32m     54\u001b[0m             event_indicator\u001b[39m.\u001b[39mdtype))\n",
      "File \u001b[0;32m~/Desktop/Thesis/multimodal_survival_prediction/env/lib/python3.10/site-packages/sksurv/metrics.py:38\u001b[0m, in \u001b[0;36m_check_estimate_1d\u001b[0;34m(estimate, test_time)\u001b[0m\n\u001b[1;32m     36\u001b[0m estimate \u001b[39m=\u001b[39m check_array(estimate, ensure_2d\u001b[39m=\u001b[39m\u001b[39mFalse\u001b[39;00m, input_name\u001b[39m=\u001b[39m\u001b[39m\"\u001b[39m\u001b[39mestimate\u001b[39m\u001b[39m\"\u001b[39m)\n\u001b[1;32m     37\u001b[0m \u001b[39mif\u001b[39;00m estimate\u001b[39m.\u001b[39mndim \u001b[39m!=\u001b[39m \u001b[39m1\u001b[39m:\n\u001b[0;32m---> 38\u001b[0m     \u001b[39mraise\u001b[39;00m \u001b[39mValueError\u001b[39;00m(\n\u001b[1;32m     39\u001b[0m         \u001b[39m'\u001b[39m\u001b[39mExpected 1D array, got \u001b[39m\u001b[39m{:d}\u001b[39;00m\u001b[39mD array instead:\u001b[39m\u001b[39m\\n\u001b[39;00m\u001b[39marray=\u001b[39m\u001b[39m{}\u001b[39;00m\u001b[39m.\u001b[39m\u001b[39m\\n\u001b[39;00m\u001b[39m'\u001b[39m\u001b[39m.\u001b[39mformat(\n\u001b[1;32m     40\u001b[0m             estimate\u001b[39m.\u001b[39mndim, estimate))\n\u001b[1;32m     41\u001b[0m check_consistent_length(test_time, estimate)\n\u001b[1;32m     42\u001b[0m \u001b[39mreturn\u001b[39;00m estimate\n",
      "\u001b[0;31mValueError\u001b[0m: Expected 1D array, got 2D array instead:\narray=[[0.7033437  0.5068377  0.654999   0.5990905 ]\n [0.7150219  0.599375   0.7102213  0.669106  ]\n [0.64452285 0.5671275  0.71529394 0.6757698 ]\n [0.6388677  0.62970865 0.64201355 0.5307401 ]\n [0.60350907 0.72728115 0.53220797 0.518223  ]\n [0.68350834 0.6934904  0.5089255  0.61560374]\n [0.67109674 0.6994699  0.6647645  0.52406156]\n [0.55831575 0.64931524 0.5347419  0.65587   ]\n [0.52917504 0.6606084  0.55667764 0.65744233]\n [0.7292093  0.56855935 0.7007709  0.66647863]\n [0.6349134  0.6343174  0.57802343 0.67564833]\n [0.6474086  0.58789873 0.6473337  0.5406985 ]\n [0.6528097  0.55204225 0.5219494  0.588915  ]\n [0.5066584  0.575144   0.62465805 0.5473152 ]\n [0.6980143  0.5550397  0.69929653 0.67663085]\n [0.66518444 0.5020233  0.54762226 0.68529356]\n [0.61191684 0.57054913 0.51956755 0.5036999 ]\n [0.5990251  0.6647159  0.5022067  0.6415785 ]\n [0.5096261  0.5296232  0.64971465 0.5950778 ]\n [0.7218662  0.65232795 0.5983458  0.6257463 ]\n [0.65301895 0.6039311  0.57282114 0.64343935]\n [0.70950943 0.5643408  0.71161604 0.5036222 ]\n [0.56625646 0.509335   0.5792254  0.61572915]\n [0.62246877 0.59285855 0.5865239  0.6409882 ]\n [0.5512244  0.5397312  0.58580446 0.594414  ]\n [0.6483152  0.6868134  0.65667236 0.5230461 ]\n [0.5616211  0.698877   0.63359326 0.728736  ]\n [0.6529768  0.6710834  0.666662   0.52926576]\n [0.5455406  0.5901774  0.5039173  0.50229514]\n [0.6278486  0.72436374 0.6860912  0.6959076 ]\n [0.50597304 0.713814   0.6326286  0.6273644 ]\n [0.65662265 0.5647073  0.58616865 0.646891  ]\n [0.6678679  0.55246246 0.5616041  0.71274585]\n [0.5203591  0.5386698  0.64613324 0.61203194]\n [0.68008655 0.6873198  0.71844333 0.6257025 ]\n [0.7298277  0.67418826 0.5938301  0.66317636]\n [0.67543834 0.5023487  0.6053202  0.6490979 ]\n [0.67269105 0.6210878  0.71898174 0.66912603]\n [0.70456284 0.71981895 0.66602397 0.64326096]\n [0.60190856 0.51107204 0.5898658  0.61134875]\n [0.59263074 0.5784401  0.54741335 0.5614796 ]\n [0.5989356  0.55273384 0.5732944  0.71651936]\n [0.5913896  0.54938984 0.60361534 0.53534436]\n [0.5141062  0.6119989  0.54016924 0.6341148 ]\n [0.71425146 0.6726476  0.58939916 0.7245826 ]\n [0.5873254  0.59445065 0.58369744 0.5891026 ]\n [0.5968411  0.64003295 0.6959099  0.6444287 ]\n [0.5450495  0.53397685 0.62487507 0.5077089 ]\n [0.5835435  0.6215533  0.57735515 0.642489  ]\n [0.557307   0.56761986 0.70220196 0.51394594]\n [0.5159483  0.7038531  0.6261901  0.63434386]\n [0.72761047 0.6025582  0.70891714 0.61075985]\n [0.5199391  0.50275004 0.59646523 0.66402894]\n [0.6963825  0.5442542  0.567837   0.70562667]\n [0.6432466  0.62537783 0.63242483 0.57596123]\n [0.5894853  0.66055566 0.65344256 0.5931886 ]\n [0.7301526  0.50607795 0.5494923  0.6291933 ]\n [0.7089705  0.6961766  0.5586037  0.5976287 ]\n [0.6130313  0.5604356  0.5972878  0.68639934]\n [0.51664704 0.68900746 0.68184733 0.53696966]\n [0.5886826  0.55988073 0.70646673 0.70089626]\n [0.54090255 0.7026498  0.55707085 0.54038   ]\n [0.5840731  0.67154956 0.5217902  0.5183401 ]\n [0.65526056 0.7000793  0.6698624  0.5305141 ]\n [0.63102967 0.60221153 0.55749315 0.59235895]\n [0.608334   0.707181   0.507087   0.6083674 ]\n [0.515192   0.5415555  0.5845034  0.582528  ]\n [0.62123877 0.5697925  0.5561974  0.5007077 ]\n [0.61007625 0.70058566 0.62560135 0.6279507 ]\n [0.7283216  0.56833994 0.72932595 0.59095794]\n [0.68331707 0.66165876 0.61356664 0.5835217 ]\n [0.5145504  0.5252778  0.6049514  0.53632414]\n [0.5843128  0.51487863 0.541528   0.6749439 ]\n [0.651314   0.525107   0.530047   0.57662064]\n [0.5899187  0.72903425 0.58088046 0.56718   ]\n [0.59032536 0.6409243  0.52353984 0.65532184]\n [0.6856491  0.5704291  0.6997388  0.5607072 ]\n [0.5616982  0.56394184 0.7009696  0.58921385]\n [0.6050089  0.65880936 0.7154291  0.72521573]\n [0.6253197  0.6155239  0.6816433  0.6848565 ]\n [0.5421478  0.5141121  0.6021258  0.58528125]\n [0.5093989  0.56185734 0.6934937  0.6141861 ]\n [0.626201   0.6440658  0.5739234  0.58163154]\n [0.516708   0.5852681  0.54061425 0.6389016 ]\n [0.60063165 0.71721005 0.6172488  0.5289654 ]\n [0.69206935 0.68975365 0.54912287 0.6318212 ]\n [0.5011444  0.61085147 0.69184405 0.5598021 ]\n [0.73076046 0.61929005 0.6955243  0.5656313 ]\n [0.69410634 0.72007406 0.5879938  0.6407076 ]\n [0.6469488  0.60425884 0.5105472  0.5041881 ]\n [0.69766206 0.6466432  0.6021804  0.5660987 ]\n [0.69878095 0.59292924 0.67088234 0.52607673]\n [0.6836516  0.6855315  0.54005367 0.52829343]\n [0.7178681  0.6848087  0.65245676 0.609253  ]\n [0.5492158  0.55435956 0.56264997 0.5188395 ]\n [0.63143706 0.6213038  0.5782583  0.69672054]\n [0.5931135  0.51481485 0.5317573  0.6294442 ]\n [0.6040276  0.5475191  0.65634286 0.6323826 ]\n [0.6253122  0.66581166 0.5658497  0.60413456]\n [0.5506321  0.5837093  0.7030357  0.5361747 ]].\n"
     ]
    }
   ],
   "source": [
    "\n",
    "from sksurv.metrics import concordance_index_censored\n",
    "c = torch.randint(0,2,size=(100,))\n",
    "l = torch.randint(0,4,size=(100,))\n",
    "out = nn.Sigmoid()(torch.rand(size=(100,4)))\n",
    "c_index = concordance_index_censored(c,l,out)\n"
   ]
  },
  {
   "attachments": {},
   "cell_type": "markdown",
   "metadata": {},
   "source": [
    "## Transformer \n"
   ]
  },
  {
   "cell_type": "code",
   "execution_count": null,
   "metadata": {},
   "outputs": [],
   "source": [
    "import torch \n",
    "from torch import nn \n",
    "\n",
    "class Classifier_Head(nn.Module):\n",
    "    def __init__(self,outsize,d_hidden=256,t_bins=4):\n",
    "        super(Classifier_Head,self).__init__()\n",
    "\n",
    "        self.linear1 = nn.Linear(outsize,d_hidden)\n",
    "        torch.nn.init.kaiming_normal_(self.linear1.weight)\n",
    "        self.activ1 = nn.ReLU()\n",
    "        self.linear2  = nn.Linear(d_hidden,d_hidden)\n",
    "        torch.nn.init.kaiming_normal_(self.linear2.weight)\n",
    "        self.activ2 = nn.ReLU()\n",
    "        self.fc = nn.Linear(d_hidden,t_bins) # TODO test add layer\n",
    "    def forward(self,x):\n",
    "        x = torch.flatten(x,start_dim=1)\n",
    "        x = self.activ1(self.linear1(x))\n",
    "        x = self.activ2(self.linear2(x))\n",
    "        return self.fc(x)\n",
    "\n",
    "class Attention_surv(nn.Module):\n",
    "    def __init__(self,hist_dim,bins):\n",
    "        super(Attention_surv,self).__init__()\n",
    "        self.mhsa = nn.MultiheadAttention(hist_dim,num_heads=4,dropout=0.3,batch_first=True)\n",
    "        self.head = Classifier_Head(hist_dim,t_bins = bins)\n",
    "    def forward(self,hist):\n",
    "        attn_output, attn_output_weights = self.mhsa(hist,hist,hist)\n",
    "        attn_output = attn_output.mean(dim=1)\n",
    "        return self.head(attn_output)\n",
    "\n"
   ]
  },
  {
   "cell_type": "code",
   "execution_count": null,
   "metadata": {},
   "outputs": [],
   "source": [
    "from multi_modal_ds import HistGen_Dataset\n",
    "import pandas as pd\n",
    "from utils import Survival_Loss\n",
    "alpha = 0.25\n",
    "bins = 4\n",
    "lr = 2e-4\n",
    "l1_lambda = 1e-5\n",
    "\n",
    "f = f\"/nodes/bevog/work4/seibel/data/tcga_brca_trainable{bins}.csv\"\n",
    "device = 'cuda' if torch.cuda.is_available() else 'cpu'\n",
    "data_path = \"/nodes/bevog/work4/seibel/data/TCGA-BRCA-DX-features/tcga_brca_20x_features/pt_files\" # folderpath for h5y fiels which contain the WSI feat vecs \n",
    "batchsize = 1  # due to different size of bags \n",
    "\n",
    "df = pd.read_csv(f)\n",
    "train_ds = HistGen_Dataset(df,data_path = data_path,train=True)\n",
    "test_ds = HistGen_Dataset(df,data_path = data_path,train=False)\n",
    "training_dataloader = torch.utils.data.DataLoader( train_ds,batch_size=batchsize)\n",
    "test_dataloader = torch.utils.data.DataLoader(test_ds,batch_size=batchsize)\n",
    "\n",
    "\n",
    "model = Attention_surv(hist_dim=2048,bins=bins).to(device)\n",
    "optimizer = torch.optim.Adam(model.parameters(),lr=lr,betas=[0.9,0.999],weight_decay=1e-5,)\n",
    "criterion = Survival_Loss(alpha)\n"
   ]
  },
  {
   "cell_type": "code",
   "execution_count": null,
   "metadata": {},
   "outputs": [],
   "source": [
    "for idx,(histo,gen,c,l,_) in enumerate(training_dataloader):\n",
    "    histo = histo.to(device)\n",
    "    out = model(histo)\n",
    "    out = out.cpu()\n",
    "    #weights = model.mhsa.parameters()\n",
    "    loss = criterion(out,c,l) #+ l1_lambda * torch.norm(weights.cpu(),1)\n",
    "    loss.backward()\n",
    "    break"
   ]
  },
  {
   "cell_type": "code",
   "execution_count": null,
   "metadata": {},
   "outputs": [],
   "source": []
  },
  {
   "attachments": {},
   "cell_type": "markdown",
   "metadata": {},
   "source": [
    "# KaplanMeier\n"
   ]
  },
  {
   "cell_type": "code",
   "execution_count": 1,
   "metadata": {},
   "outputs": [],
   "source": [
    "from sksurv.nonparametric import kaplan_meier_estimator\n",
    "import pandas as pd \n",
    "import numpy as np \n",
    "import matplotlib.pyplot as plt \n",
    "bins = 4\n",
    "f = f\"/nodes/bevog/work4/seibel/data/tcga_brca_trainable{bins}.csv\"\n",
    "df = pd.read_csv(f)\n",
    "df = df[[\"slide_id\",\"survival_months_discretized\",\"censorship\",\"survival_months\"]]"
   ]
  },
  {
   "cell_type": "code",
   "execution_count": 2,
   "metadata": {},
   "outputs": [
    {
     "data": {
      "text/plain": [
       "<function matplotlib.pyplot.show>"
      ]
     },
     "execution_count": 2,
     "metadata": {},
     "output_type": "execute_result"
    },
    {
     "data": {
      "image/png": "[encoded data removed]",
      "text/plain": [
       "<Figure size 432x288 with 1 Axes>"
      ]
     },
     "metadata": {
      "needs_background": "light"
     },
     "output_type": "display_data"
    }
   ],
   "source": [
    "#help(kaplan_meier_estimator)\n",
    "event = np.asarray(1-df[\"censorship\"]).astype(bool)\n",
    "time_exit = np.asarray(df[\"survival_months\"])\n",
    "\n",
    "\n",
    "x_full, y_full = kaplan_meier_estimator(event, time_exit)\n",
    "plt.step(x_full, y_full, where=\"post\")\n",
    "plt.ylim(0, 1.1)\n",
    "plt.grid()\n",
    "plt.show\n"
   ]
  },
  {
   "cell_type": "code",
   "execution_count": 3,
   "metadata": {},
   "outputs": [
    {
     "name": "stderr",
     "output_type": "stream",
     "text": [
      "/home/seibel/.local/lib/python3.6/site-packages/tqdm/auto.py:22: TqdmWarning: IProgress not found. Please update jupyter and ipywidgets. See https://ipywidgets.readthedocs.io/en/stable/user_install.html\n",
      "  from .autonotebook import tqdm as notebook_tqdm\n"
     ]
    },
    {
     "data": {
      "text/plain": [
       "<All keys matched successfully>"
      ]
     },
     "execution_count": 3,
     "metadata": {},
     "output_type": "execute_result"
    }
   ],
   "source": [
    "from models import AttMil_Survival\n",
    "from multi_modal_ds import HistGen_Dataset\n",
    "import torch \n",
    "from torch import nn \n",
    "from utils import c_index\n",
    "import numpy as np\n",
    "import pandas as pd\n",
    "#load model \n",
    "d_hist = 2048\n",
    "device = 'cuda' if torch.cuda.is_available() else 'cpu'\n",
    "bins = 4\n",
    "model = AttMil_Survival(d_hist,bins,device ).to(device)\n",
    "#load weights \n",
    "f_weights = \"/work4/seibel/results/alpha0.5hist/AttMil_Survival_nll-alpha0.5-fold5-l1_lambda1e-07.pth\"\n",
    "weights = torch.load(f_weights)['model']\n",
    "model.load_state_dict(weights)\n",
    "\n"
   ]
  },
  {
   "cell_type": "code",
   "execution_count": 4,
   "metadata": {},
   "outputs": [],
   "source": [
    "\n",
    "f =  f\"/nodes/bevog/work4/seibel/data/tcga_brca_trainable{bins}.csv\"\n",
    "df = pd.read_csv(f)\n",
    "data_path = \"/nodes/bevog/work4/seibel/data/TCGA-BRCA-DX-features/tcga_brca_20x_features/pt_files\" \n",
    "test_ds = HistGen_Dataset(df,data_path,train=False)\n",
    "test_dataloader = torch.utils.data.DataLoader(test_ds,batch_size=1)\n",
    "\n",
    "out_all_val =torch.empty(size=(len(test_dataloader),bins),device='cpu')        \n",
    "l_all_val = torch.empty(size=(len(test_dataloader),),device='cpu').to(torch.int16)\n",
    "l_cont_all_val = torch.empty(size=(len(test_dataloader),),device='cpu').to(torch.int16)\n",
    "c_all_val = torch.empty(size=(len(test_dataloader),),device='cpu').to(torch.int16)\n",
    "\n",
    "model.eval()\n",
    "with torch.no_grad():\n",
    "    for  idx,(histo,gen,c,l,l_cont) in enumerate(test_dataloader):\n",
    "        x = histo.to(device)\n",
    "        out = model(x)\n",
    "        out = out.cpu()\n",
    "        \n",
    "        out_all_val[idx,:] = out\n",
    "        l_all_val[idx] = l\n",
    "        c_all_val[idx] = c\n",
    "        l_cont_all_val[idx] = l_cont\n",
    "\n",
    "h = nn.Sigmoid()(out_all_val)\n",
    "S = torch.cumprod(1-h,dim = -1)\n",
    "risk = -S.sum(dim=1) ## TODO why is it not 1-S ???\n",
    "\n",
    "\n"
   ]
  },
  {
   "cell_type": "code",
   "execution_count": 5,
   "metadata": {},
   "outputs": [
    {
     "data": {
      "image/png": "[encoded data removed]",
      "text/plain": [
       "<Figure size 432x288 with 1 Axes>"
      ]
     },
     "metadata": {
      "needs_background": "light"
     },
     "output_type": "display_data"
    },
    {
     "data": {
      "text/plain": [
       "20971"
      ]
     },
     "execution_count": 5,
     "metadata": {},
     "output_type": "execute_result"
    }
   ],
   "source": [
    "from utils import c_index\n",
    "import matplotlib.pyplot as plt\n",
    "\n",
    "c_ind = c_index(out_all_val,c_all_val,l_all_val)\n",
    "plt.title(f\"risk distribution with c_index= {round(c_ind,3)}\")\n",
    "plt.hist(risk.numpy(),bins = 100)\n",
    "plt.show()\n",
    "test_ds.gen_depth()"
   ]
  },
  {
   "cell_type": "code",
   "execution_count": 6,
   "metadata": {},
   "outputs": [
    {
     "data": {
      "image/png": "[encoded data removed]",
      "text/plain": [
       "<Figure size 1728x576 with 12 Axes>"
      ]
     },
     "metadata": {
      "needs_background": "light"
     },
     "output_type": "display_data"
    }
   ],
   "source": [
    "rows = 4 \n",
    "eps=0.1\n",
    "threshold = np.linspace(risk.min()+eps,risk.max()-eps,num=12)\n",
    "fig,ax1 = plt.subplots(rows,len(threshold)//rows,figsize=(24,8))\n",
    "fig.tight_layout()\n",
    "for i in range(len(threshold)):\n",
    "    risk_bool = risk>threshold[i]\n",
    "    event1 = np.asarray(1-c_all_val[risk_bool]).astype(bool)\n",
    "    time_exit1 = np.asarray(l_cont_all_val[risk_bool])\n",
    "    x1, y1 = kaplan_meier_estimator(event1, time_exit1)\n",
    "\n",
    "    event2 = np.asarray(1-c_all_val[~risk_bool]).astype(bool)\n",
    "    time_exit2 = np.asarray(l_cont_all_val[~risk_bool])\n",
    "    x2, y2 = kaplan_meier_estimator(event2, time_exit2)\n",
    "    \n",
    "    x_full, y_full = kaplan_meier_estimator(event, time_exit)\n",
    "\n",
    "    ax1.flatten()[i].set_title(f\"KM for threshold {round(threshold[i],3)}\")\n",
    "    ax1.flatten()[i].step(x1, y1, where=\"post\",label=\"high risk\")\n",
    "    ax1.flatten()[i].step(x2, y2, where=\"post\",label=\"low risk\")\n",
    "    ax1.flatten()[i].step(x_full, y_full, where=\"post\",label=\"full KM\")\n",
    "    \n",
    "    ax1.flatten()[i].set_ylim(0, 1.1)\n",
    "    ax1.flatten()[i].grid()\n",
    "    ax1.flatten()[i].legend()\n",
    "\n",
    "\n",
    "#plt.clf\n",
    "#plt.title(f\"KM for threshold {round(threshold[i])}\")\n",
    "#plt.step(x1, y1, where=\"post\",label=\"high risk\")\n",
    "#plt.step(x2, y2, where=\"post\",label=\"low risk\")\n",
    "#plt.ylim(0, 1.1)\n",
    "#plt.grid()\n",
    "#plt.legend()\n",
    "#plt.show"
   ]
  },
  {
   "cell_type": "code",
   "execution_count": 7,
   "metadata": {},
   "outputs": [
    {
     "data": {
      "image/png": "[encoded data removed]",
      "text/plain": [
       "<Figure size 432x288 with 1 Axes>"
      ]
     },
     "metadata": {
      "needs_background": "light"
     },
     "output_type": "display_data"
    }
   ],
   "source": [
    "plt.title(\"Scatter risk vs survival month\")\n",
    "plt.scatter(risk[c_all_val.type(torch.bool)],l_cont_all_val[c_all_val.type(torch.bool)],s = 4,label=\"censored\")\n",
    "plt.scatter(risk[~(c_all_val.type(torch.bool))],l_cont_all_val[~(c_all_val.type(torch.bool))],s = 4,label=\"uncensored\")\n",
    "plt.xlabel(\"Risk score\")\n",
    "plt.ylabel(\"Survival month\")\n",
    "plt.legend()\n",
    "plt.grid()"
   ]
  },
  {
   "cell_type": "code",
   "execution_count": 8,
   "metadata": {},
   "outputs": [
    {
     "data": {
      "image/png": "[encoded data removed]",
      "text/plain": [
       "<Figure size 432x288 with 1 Axes>"
      ]
     },
     "metadata": {
      "needs_background": "light"
     },
     "output_type": "display_data"
    }
   ],
   "source": [
    "plt.clf()\n",
    "plt.title(f\"risk distribution\")\n",
    "plt.hist(risk[c_all_val.type(torch.bool)].numpy(),bins = 30,alpha=0.5,label=\"a\")\n",
    "plt.hist(risk[~(c_all_val.type(torch.bool))].numpy(),bins = 30,alpha=0.5,label=\"b\")\n",
    "plt.legend()\n",
    "plt.show()"
   ]
  },
  {
   "cell_type": "code",
   "execution_count": 30,
   "metadata": {},
   "outputs": [
    {
     "data": {
      "text/html": [
       "Finishing last run (ID:9a56rgh5) before initializing another..."
      ],
      "text/plain": [
       "<IPython.core.display.HTML object>"
      ]
     },
     "metadata": {},
     "output_type": "display_data"
    },
    {
     "data": {
      "text/html": [
       "Waiting for W&B process to finish... <strong style=\"color:green\">(success).</strong>"
      ],
      "text/plain": [
       "<IPython.core.display.HTML object>"
      ]
     },
     "metadata": {},
     "output_type": "display_data"
    },
    {
     "data": {
      "text/html": [
       " View run <strong style=\"color:#cdcd00\">tests</strong> at: <a href='https://wandb.ai/tobias-seibel/MultiModal/runs/9a56rgh5' target=\"_blank\">https://wandb.ai/tobias-seibel/MultiModal/runs/9a56rgh5</a><br/>Synced 4 W&B file(s), 5 media file(s), 5 artifact file(s) and 0 other file(s)"
      ],
      "text/plain": [
       "<IPython.core.display.HTML object>"
      ]
     },
     "metadata": {},
     "output_type": "display_data"
    },
    {
     "data": {
      "text/html": [
       "Find logs at: <code>./wandb/run-20230704_180432-9a56rgh5/logs</code>"
      ],
      "text/plain": [
       "<IPython.core.display.HTML object>"
      ]
     },
     "metadata": {},
     "output_type": "display_data"
    },
    {
     "data": {
      "text/html": [
       "Successfully finished last run (ID:9a56rgh5). Initializing new run:<br/>"
      ],
      "text/plain": [
       "<IPython.core.display.HTML object>"
      ]
     },
     "metadata": {},
     "output_type": "display_data"
    },
    {
     "data": {
      "text/html": [
       "wandb version 0.15.4 is available!  To upgrade, please run:\n",
       " $ pip install wandb --upgrade"
      ],
      "text/plain": [
       "<IPython.core.display.HTML object>"
      ]
     },
     "metadata": {},
     "output_type": "display_data"
    },
    {
     "data": {
      "text/html": [
       "Tracking run with wandb version 0.15.3"
      ],
      "text/plain": [
       "<IPython.core.display.HTML object>"
      ]
     },
     "metadata": {},
     "output_type": "display_data"
    },
    {
     "data": {
      "text/html": [
       "Run data is saved locally in <code>/work4/seibel/multimodal_survival_prediction/wandb/run-20230704_180528-61f6mvx7</code>"
      ],
      "text/plain": [
       "<IPython.core.display.HTML object>"
      ]
     },
     "metadata": {},
     "output_type": "display_data"
    },
    {
     "data": {
      "text/html": [
       "Syncing run <strong><a href='https://wandb.ai/tobias-seibel/MultiModal/runs/61f6mvx7' target=\"_blank\">tests</a></strong> to <a href='https://wandb.ai/tobias-seibel/MultiModal' target=\"_blank\">Weights & Biases</a> (<a href='https://wandb.me/run' target=\"_blank\">docs</a>)<br/>"
      ],
      "text/plain": [
       "<IPython.core.display.HTML object>"
      ]
     },
     "metadata": {},
     "output_type": "display_data"
    },
    {
     "data": {
      "text/html": [
       " View project at <a href='https://wandb.ai/tobias-seibel/MultiModal' target=\"_blank\">https://wandb.ai/tobias-seibel/MultiModal</a>"
      ],
      "text/plain": [
       "<IPython.core.display.HTML object>"
      ]
     },
     "metadata": {},
     "output_type": "display_data"
    },
    {
     "data": {
      "text/html": [
       " View run at <a href='https://wandb.ai/tobias-seibel/MultiModal/runs/61f6mvx7' target=\"_blank\">https://wandb.ai/tobias-seibel/MultiModal/runs/61f6mvx7</a>"
      ],
      "text/plain": [
       "<IPython.core.display.HTML object>"
      ]
     },
     "metadata": {},
     "output_type": "display_data"
    },
    {
     "data": {
      "text/html": [
       "Waiting for W&B process to finish... <strong style=\"color:green\">(success).</strong>"
      ],
      "text/plain": [
       "<IPython.core.display.HTML object>"
      ]
     },
     "metadata": {},
     "output_type": "display_data"
    },
    {
     "data": {
      "text/html": [
       " View run <strong style=\"color:#cdcd00\">tests</strong> at: <a href='https://wandb.ai/tobias-seibel/MultiModal/runs/61f6mvx7' target=\"_blank\">https://wandb.ai/tobias-seibel/MultiModal/runs/61f6mvx7</a><br/>Synced 4 W&B file(s), 6 media file(s), 6 artifact file(s) and 0 other file(s)"
      ],
      "text/plain": [
       "<IPython.core.display.HTML object>"
      ]
     },
     "metadata": {},
     "output_type": "display_data"
    },
    {
     "data": {
      "text/html": [
       "Find logs at: <code>./wandb/run-20230704_180528-61f6mvx7/logs</code>"
      ],
      "text/plain": [
       "<IPython.core.display.HTML object>"
      ]
     },
     "metadata": {},
     "output_type": "display_data"
    }
   ],
   "source": [
    "import wandb\n",
    "import matplotlib.pyplot as plt \n",
    "wandb.init(project=\"MultiModal\",entity=\"tobias-seibel\",name=\"tests\")\n",
    "out_all_val = out_all_val\n",
    "n_thresholds = 4\n",
    "nbins = 30\n",
    "c_all_val = c_all_val\n",
    "l_cont_all_val = l_cont_all_val \n",
    "\n",
    "#risk\n",
    "def get_risk(out):\n",
    "    h = nn.Sigmoid()(out)\n",
    "    S = torch.cumprod(1-h,dim = -1)\n",
    "    risk = -S.sum(dim=1)\n",
    "    return risk\n",
    "risk_all = get_risk(out_all_val)\n",
    "\n",
    "#thresholds\n",
    "min,max = risk_all.min(),risk_all.max()\n",
    "thresholds = torch.linspace(min,max,n_thresholds+2)[1:-1]\n",
    "\n",
    "#hist \n",
    "censored = c_all_val.type(torch.bool)\n",
    "uncensored = ~c_all_val.type(torch.bool)\n",
    "\n",
    "x_c1 = torch.histc(risk_all[censored],bins=nbins,min = min , max =max ) \n",
    "x1_label = torch.ones_like(x_c1)\n",
    "x_c2 = torch.histc(risk_all[uncensored],bins=nbins,min = min , max =max ) \n",
    "x2_label = torch.zeros_like(x_c2)\n",
    "x_all = torch.stack((x_c1,x_c2)).T\n",
    "\n",
    "\n",
    "#table = wandb.Table(data = x_all.tolist(),columns=[\"censored\",\"uncensored\"])\n",
    "table = wandb.plot.line_series(\n",
    "          xs =np.linspace(min,max,nbins),\n",
    "          ys=[x_c1,x_c2],\n",
    "          keys=[\"censored\", \"uncensored\"],\n",
    "          title=f\"Histogramm\",\n",
    "          xname=\"risk\")\n",
    "wandb.log({\"custom\":table})\n",
    "#KM\n",
    "\n",
    "#stepfunction\n",
    "def stepfunc(x,y,eps=1e-4):\n",
    "    x = np.stack((x-eps,x),axis=1).flatten()\n",
    "    y = np.stack((y,y),axis=1).flatten()\n",
    "    return x[1:].copy(),y[:-1].copy()\n",
    "\n",
    "\n",
    "\n",
    "\n",
    "\n",
    "\n",
    "\n",
    "\n",
    "for idx,threshold in enumerate(thresholds.tolist()): #thresholds\n",
    "    x_full, y_full = kaplan_meier_estimator(uncensored.numpy(), l_cont_all_val)\n",
    "\n",
    "    xlow, ylow = kaplan_meier_estimator(uncensored[risk>threshold].numpy(),\n",
    "                                l_cont_all_val[risk>threshold].numpy())\n",
    "\n",
    "    xhigh, yhigh = kaplan_meier_estimator(uncensored[risk<=threshold].numpy(),\n",
    "                                l_cont_all_val[risk<=threshold].numpy())\n",
    "    \n",
    "    xfull, yfull = stepfunc(x_full, y_full)\n",
    "    xlow, ylow =stepfunc(xlow, ylow)\n",
    "    xhigh, yhigh =stepfunc(xhigh, yhigh)\n",
    "\n",
    "    #x,y1,y2,y3 = KM_table(xlow,ylow,xhigh,yhigh,xfull,yfull,)\n",
    "    lineseries = wandb.plot.line_series(\n",
    "          xs=[xlow,xhigh,xfull],\n",
    "          ys=[ylow,yhigh,yfull],\n",
    "          keys=[\"lowrisk\", \"highrisk\",\"fullrisk\"],\n",
    "          title=f\"KM Stratification at risk={str(round(threshold,2)).replace('.',',')}\",\n",
    "          xname=\"time\")\n",
    "    \n",
    "    wandb.log({f\"KM_{idx}\" :lineseries})\n",
    "    \n",
    "\n",
    "# Log the table to wandb\n",
    "wandb.log({\"line_series\": table})\n",
    "\n",
    "\n",
    "wandb.finish()"
   ]
  },
  {
   "cell_type": "code",
   "execution_count": 31,
   "metadata": {},
   "outputs": [],
   "source": [
    "\n",
    "def KM_table(xlow,ylow,xhigh,yhigh,xfull,yfull,):\n",
    "    ### get KM curve on same x values... not needed anymore FML\n",
    "    low_all = np.stack((xlow,ylow,np.empty_like(ylow)*np.nan,np.empty_like(ylow)*np.nan),1)\n",
    "    high_all = np.stack((xhigh,np.empty_like(yhigh)*np.nan,yhigh,np.empty_like(yhigh)*np.nan),1)\n",
    "    full_all = np.stack((xfull,np.empty_like(yfull)*np.nan,np.empty_like(yfull)*np.nan, yfull),1)\n",
    "    all = np.concatenate((low_all,high_all,full_all),axis=0)\n",
    "\n",
    "    all = all[all[:, 0].argsort()] # sort by first element \n",
    "\n",
    "    for i in range(1,len(all)):\n",
    "        a = all[i-1,1:] # =:prev-line\n",
    "        b = all[i,1:]  # =:line\n",
    "        all[i,1:] = np.where(np.isnan(b),a,b)\n",
    "        if all[i,0]==all[i-1,0]: #if on same x give info to line, set x of prev-line to nan\n",
    "            all[i-1,0] = np.nan\n",
    "            \n",
    "    all = all[all[:, 0].argsort()]\n",
    "    all = all[~np.isnan(all[:,0])]\n",
    "    return all[:,0],all[:,1],all[:,2],all[:,3]  # x, y_low,y_high,y_full\n",
    "\n"
   ]
  },
  {
   "attachments": {},
   "cell_type": "markdown",
   "metadata": {},
   "source": [
    "## Final FUnctions for Utils "
   ]
  },
  {
   "cell_type": "code",
   "execution_count": 52,
   "metadata": {},
   "outputs": [],
   "source": [
    "\n",
    "\n",
    "def KM_wandb(run,out,c,event_cond,n_thresholds = 4,nbins = 30):\n",
    "    print(\"Start Logging KM-Estimators\")\n",
    "    risk = get_risk(out)\n",
    "    \n",
    "    #thresholds\n",
    "    min,max = risk.min(),risk.max()\n",
    "    thresholds = np.linspace(min,max,n_thresholds+2)[1:-1]\n",
    "    \n",
    "    #hist\n",
    "    censored = c.type(torch.bool)\n",
    "    uncensored = ~c.type(torch.bool)\n",
    "    \n",
    "    hist_censored = torch.histc(risk[censored],bins=nbins,min = min , max =max ) \n",
    "    hist_uncensored = torch.histc(risk[uncensored],bins=nbins,min = min , max =max ) \n",
    "    \n",
    "    table = run.plot.line_series(\n",
    "          xs =np.linspace(min,max,nbins),\n",
    "          ys=[hist_censored,hist_uncensored],\n",
    "          keys=[\"censored\", \"uncensored\"],\n",
    "          title=f\"Histogramm\",\n",
    "          xname=\"risk\")\n",
    "    run.log({\"risk_histogramm\":table})\n",
    "    \n",
    "    #KaplanMeier Plots\n",
    "    x_full, y_full = kaplan_meier_estimator(uncensored.numpy(), event_cond)\n",
    "    xfull, yfull = stepfunc(x_full, y_full)\n",
    "    for idx,threshold in enumerate(thresholds): \n",
    "        xlow, ylow = kaplan_meier_estimator(uncensored[risk>threshold].numpy(),\n",
    "                                    event_cond[risk>threshold])\n",
    "\n",
    "        xhigh, yhigh = kaplan_meier_estimator(uncensored[risk<=threshold].numpy(),\n",
    "                                    event_cond[risk<=threshold])\n",
    "        \n",
    "        xlow, ylow =stepfunc(xlow, ylow)\n",
    "        xhigh, yhigh =stepfunc(xhigh, yhigh)\n",
    "\n",
    "        \n",
    "        lineseries = run.plot.line_series(\n",
    "            xs=[xlow,xhigh,xfull],\n",
    "            ys=[ylow,yhigh,yfull],\n",
    "            keys=[\"lowrisk\", \"highrisk\",\"fullrisk\"],\n",
    "            title=f\"KM Stratification at risk={str(round(threshold,2)).replace('.',',')}\",\n",
    "            xname=\"time\")\n",
    "        \n",
    "        run.log({f\"KM_{idx}\" :lineseries})\n",
    "    print(\"Finished logging KM-Estimators\")\n",
    "    \n",
    "def get_risk(out):\n",
    "    h = nn.Sigmoid()(out)\n",
    "    S = torch.cumprod(1-h,dim = -1)\n",
    "    risk = -S.sum(dim=1)\n",
    "    return risk\n",
    "\n",
    "def stepfunc(x,y,eps=1e-4):\n",
    "    x = np.stack((x-eps,x),axis=1).flatten()\n",
    "    y = np.stack((y,y),axis=1).flatten()\n",
    "    return x[1:],y[:-1]\n",
    "\n",
    "def do_table(x,y,label):\n",
    "    return [[x[i],y[i],label] for i in range(len(x))]"
   ]
  },
  {
   "cell_type": "code",
   "execution_count": 19,
   "metadata": {},
   "outputs": [
    {
     "data": {
      "text/html": [
       "Finishing last run (ID:4a4shm5q) before initializing another..."
      ],
      "text/plain": [
       "<IPython.core.display.HTML object>"
      ]
     },
     "metadata": {},
     "output_type": "display_data"
    },
    {
     "data": {
      "text/html": [
       "Waiting for W&B process to finish... <strong style=\"color:green\">(success).</strong>"
      ],
      "text/plain": [
       "<IPython.core.display.HTML object>"
      ]
     },
     "metadata": {},
     "output_type": "display_data"
    },
    {
     "data": {
      "text/html": [
       " View run <strong style=\"color:#cdcd00\">tests</strong> at: <a href='https://wandb.ai/tobias-seibel/MultiModal/runs/4a4shm5q' target=\"_blank\">https://wandb.ai/tobias-seibel/MultiModal/runs/4a4shm5q</a><br/>Synced 4 W&B file(s), 0 media file(s), 0 artifact file(s) and 0 other file(s)"
      ],
      "text/plain": [
       "<IPython.core.display.HTML object>"
      ]
     },
     "metadata": {},
     "output_type": "display_data"
    },
    {
     "data": {
      "text/html": [
       "Find logs at: <code>./wandb/run-20230705_095628-4a4shm5q/logs</code>"
      ],
      "text/plain": [
       "<IPython.core.display.HTML object>"
      ]
     },
     "metadata": {},
     "output_type": "display_data"
    },
    {
     "data": {
      "text/html": [
       "Successfully finished last run (ID:4a4shm5q). Initializing new run:<br/>"
      ],
      "text/plain": [
       "<IPython.core.display.HTML object>"
      ]
     },
     "metadata": {},
     "output_type": "display_data"
    },
    {
     "data": {
      "text/html": [
       "wandb version 0.15.4 is available!  To upgrade, please run:\n",
       " $ pip install wandb --upgrade"
      ],
      "text/plain": [
       "<IPython.core.display.HTML object>"
      ]
     },
     "metadata": {},
     "output_type": "display_data"
    },
    {
     "data": {
      "text/html": [
       "Tracking run with wandb version 0.15.3"
      ],
      "text/plain": [
       "<IPython.core.display.HTML object>"
      ]
     },
     "metadata": {},
     "output_type": "display_data"
    },
    {
     "data": {
      "text/html": [
       "Run data is saved locally in <code>/work4/seibel/multimodal_survival_prediction/wandb/run-20230705_095713-k2hrg2iy</code>"
      ],
      "text/plain": [
       "<IPython.core.display.HTML object>"
      ]
     },
     "metadata": {},
     "output_type": "display_data"
    },
    {
     "data": {
      "text/html": [
       "Syncing run <strong><a href='https://wandb.ai/tobias-seibel/MultiModal/runs/k2hrg2iy' target=\"_blank\">tests</a></strong> to <a href='https://wandb.ai/tobias-seibel/MultiModal' target=\"_blank\">Weights & Biases</a> (<a href='https://wandb.me/run' target=\"_blank\">docs</a>)<br/>"
      ],
      "text/plain": [
       "<IPython.core.display.HTML object>"
      ]
     },
     "metadata": {},
     "output_type": "display_data"
    },
    {
     "data": {
      "text/html": [
       " View project at <a href='https://wandb.ai/tobias-seibel/MultiModal' target=\"_blank\">https://wandb.ai/tobias-seibel/MultiModal</a>"
      ],
      "text/plain": [
       "<IPython.core.display.HTML object>"
      ]
     },
     "metadata": {},
     "output_type": "display_data"
    },
    {
     "data": {
      "text/html": [
       " View run at <a href='https://wandb.ai/tobias-seibel/MultiModal/runs/k2hrg2iy' target=\"_blank\">https://wandb.ai/tobias-seibel/MultiModal/runs/k2hrg2iy</a>"
      ],
      "text/plain": [
       "<IPython.core.display.HTML object>"
      ]
     },
     "metadata": {},
     "output_type": "display_data"
    },
    {
     "data": {
      "text/html": [
       "Waiting for W&B process to finish... <strong style=\"color:green\">(success).</strong>"
      ],
      "text/plain": [
       "<IPython.core.display.HTML object>"
      ]
     },
     "metadata": {},
     "output_type": "display_data"
    },
    {
     "data": {
      "text/html": [
       " View run <strong style=\"color:#cdcd00\">tests</strong> at: <a href='https://wandb.ai/tobias-seibel/MultiModal/runs/k2hrg2iy' target=\"_blank\">https://wandb.ai/tobias-seibel/MultiModal/runs/k2hrg2iy</a><br/>Synced 4 W&B file(s), 1 media file(s), 1 artifact file(s) and 0 other file(s)"
      ],
      "text/plain": [
       "<IPython.core.display.HTML object>"
      ]
     },
     "metadata": {},
     "output_type": "display_data"
    },
    {
     "data": {
      "text/html": [
       "Find logs at: <code>./wandb/run-20230705_095713-k2hrg2iy/logs</code>"
      ],
      "text/plain": [
       "<IPython.core.display.HTML object>"
      ]
     },
     "metadata": {},
     "output_type": "display_data"
    }
   ],
   "source": [
    "import wandb\n",
    "import matplotlib.pyplot as plt \n",
    "wandb.init(project=\"MultiModal\",entity=\"tobias-seibel\",name=\"tests\")\n",
    "out_all_val = out_all_val\n",
    "n_thresholds = 4\n",
    "nbins = 30\n",
    "c_all_val = c_all_val\n",
    "l_cont_all_val = l_cont_all_val \n",
    "\n",
    "#risk\n",
    "def get_risk(out):\n",
    "    h = nn.Sigmoid()(out)\n",
    "    S = torch.cumprod(1-h,dim = -1)\n",
    "    risk = -S.sum(dim=1)\n",
    "    return risk\n",
    "risk_all = get_risk(out_all_val)\n",
    "\n",
    "#thresholds\n",
    "min,max = risk_all.min(),risk_all.max()\n",
    "thresholds = torch.linspace(min,max,n_thresholds+2)[1:-1]\n",
    "\n",
    "#hist \n",
    "censored = c_all_val.type(torch.bool)\n",
    "uncensored = ~c_all_val.type(torch.bool)\n",
    "\n",
    "x_c1 = torch.histc(risk_all[censored],bins=nbins,min = min , max =max ).numpy()\n",
    "x1_label = np.chararray(np.shape(x_c1))\n",
    "x1_label[:]=\"censored\"\n",
    "x_c2 = torch.histc(risk_all[uncensored],bins=nbins,min = min , max =max ).numpy() \n",
    "x2_label = np.chararray(np.shape(x_c2))\n",
    "x2_label[:]=\"uncensored\"\n",
    "\n",
    "x1 = np.stack((np.linspace(min,max,nbins),x_c1,x1_label))\n",
    "x2 = np.stack((np.linspace(min,max,nbins),x_c2,x2_label))\n",
    "np.concatenate((x1,x2),dim=1).T\n",
    "\n",
    "table = wandb.Table(\n",
    "          data = np.concatenate((x1,x2),dim=1).T,\n",
    "          columns=[\"bins\", \"risk\",\"category\"],\n",
    "          \n",
    "          \n",
    "\n",
    "          )\n",
    "wandb.log({\"custom\":table})\n",
    "#KM\n",
    "\n",
    "wandb.finish()\n"
   ]
  },
  {
   "attachments": {},
   "cell_type": "markdown",
   "metadata": {},
   "source": [
    "## Better version for custom plots! "
   ]
  },
  {
   "cell_type": "code",
   "execution_count": 60,
   "metadata": {},
   "outputs": [
    {
     "data": {
      "text/html": [
       "wandb version 0.15.4 is available!  To upgrade, please run:\n",
       " $ pip install wandb --upgrade"
      ],
      "text/plain": [
       "<IPython.core.display.HTML object>"
      ]
     },
     "metadata": {},
     "output_type": "display_data"
    },
    {
     "data": {
      "text/html": [
       "Tracking run with wandb version 0.15.3"
      ],
      "text/plain": [
       "<IPython.core.display.HTML object>"
      ]
     },
     "metadata": {},
     "output_type": "display_data"
    },
    {
     "data": {
      "text/html": [
       "Run data is saved locally in <code>/work4/seibel/multimodal_survival_prediction/wandb/run-20230705_110242-53yq7m5z</code>"
      ],
      "text/plain": [
       "<IPython.core.display.HTML object>"
      ]
     },
     "metadata": {},
     "output_type": "display_data"
    },
    {
     "data": {
      "text/html": [
       "Syncing run <strong><a href='https://wandb.ai/tobias-seibel/multimodal_survival_prediction/runs/53yq7m5z' target=\"_blank\">olive-sun-10</a></strong> to <a href='https://wandb.ai/tobias-seibel/multimodal_survival_prediction' target=\"_blank\">Weights & Biases</a> (<a href='https://wandb.me/run' target=\"_blank\">docs</a>)<br/>"
      ],
      "text/plain": [
       "<IPython.core.display.HTML object>"
      ]
     },
     "metadata": {},
     "output_type": "display_data"
    },
    {
     "data": {
      "text/html": [
       " View project at <a href='https://wandb.ai/tobias-seibel/multimodal_survival_prediction' target=\"_blank\">https://wandb.ai/tobias-seibel/multimodal_survival_prediction</a>"
      ],
      "text/plain": [
       "<IPython.core.display.HTML object>"
      ]
     },
     "metadata": {},
     "output_type": "display_data"
    },
    {
     "data": {
      "text/html": [
       " View run at <a href='https://wandb.ai/tobias-seibel/multimodal_survival_prediction/runs/53yq7m5z' target=\"_blank\">https://wandb.ai/tobias-seibel/multimodal_survival_prediction/runs/53yq7m5z</a>"
      ],
      "text/plain": [
       "<IPython.core.display.HTML object>"
      ]
     },
     "metadata": {},
     "output_type": "display_data"
    },
    {
     "data": {
      "text/html": [
       "Waiting for W&B process to finish... <strong style=\"color:green\">(success).</strong>"
      ],
      "text/plain": [
       "<IPython.core.display.HTML object>"
      ]
     },
     "metadata": {},
     "output_type": "display_data"
    },
    {
     "data": {
      "text/html": [
       " View run <strong style=\"color:#cdcd00\">olive-sun-10</strong> at: <a href='https://wandb.ai/tobias-seibel/multimodal_survival_prediction/runs/53yq7m5z' target=\"_blank\">https://wandb.ai/tobias-seibel/multimodal_survival_prediction/runs/53yq7m5z</a><br/>Synced 4 W&B file(s), 2 media file(s), 2 artifact file(s) and 0 other file(s)"
      ],
      "text/plain": [
       "<IPython.core.display.HTML object>"
      ]
     },
     "metadata": {},
     "output_type": "display_data"
    },
    {
     "data": {
      "text/html": [
       "Find logs at: <code>./wandb/run-20230705_110242-53yq7m5z/logs</code>"
      ],
      "text/plain": [
       "<IPython.core.display.HTML object>"
      ]
     },
     "metadata": {},
     "output_type": "display_data"
    }
   ],
   "source": [
    "\n",
    "x = np.linspace(min,max,nbins)\n",
    "x_c1 = torch.histc(risk_all[censored],bins=nbins,min = min , max =max ).numpy()\n",
    "x_c2 = torch.histc(risk_all[uncensored],bins=nbins,min = min , max =max ).numpy() \n",
    "\n",
    "table_hist = wandb.Table(\n",
    "          data = do_table(x,x_c1,\"censored\")+do_table(x,x_c2,\"uncensored\"),\n",
    "          columns=[\"risk\", \"count\",\"category\"],\n",
    "          )\n",
    "\n",
    "fields_hist = {\"x\":\"risk\",\"y\":\"count\",\"groupKeys\":\"category\",\"title\":\"Risk Distribution\"}\n",
    "custom_histogram = wandb.plot_table(vega_spec_name=\"tobias-seibel/risk_distribution\",\n",
    "              data_table=table_hist,\n",
    "              fields = fields_hist )\n",
    "              \n",
    "              \n",
    "event_cond = l_cont_all_val\n",
    "threshold = -2\n",
    "xfull, yfull = kaplan_meier_estimator(uncensored.numpy(), event_cond)\n",
    "\n",
    "xlow, ylow = kaplan_meier_estimator(uncensored[risk>threshold].numpy(),\n",
    "                                    event_cond[risk>threshold])\n",
    "\n",
    "xhigh, yhigh = kaplan_meier_estimator(uncensored[risk<=threshold].numpy(),\n",
    "                                    event_cond[risk<=threshold])\n",
    "        \n",
    "\n",
    "\n",
    "table_KM = wandb.Table(\n",
    "          data = do_table(xlow,ylow,\"low risk group\")+do_table(xhigh,yhigh,\"risk high group\")+do_table(xfull,yfull,\"total group\"),\n",
    "          columns=[\"time\",\"Survival Probability\",\"Group\"],)\n",
    "\n",
    "field_KM = {\"x\":\"time\",\"y\":\"Survival Probability\",\"groupKeys\":\"Group\"}\n",
    "custom_KM = wandb.plot_table(vega_spec_name=\"tobias-seibel/kaplanmeier\",\n",
    "              data_table=table_KM,\n",
    "              fields = field_KM, \n",
    "              string_fields={\"title\":f\"KM Risk Stratification at {round(threshold,2)}\"},\n",
    "              )\n",
    "\n",
    "wandb.init()\n",
    "\n",
    "idx = 1 \n",
    "wandb.log({\"Risk Distribution\":custom_histogram,\"KM{idx}\":custom_KM}) #tobias-seibel/risk_distribution # tobias-seibel/kaplanmeier\n",
    "wandb.finish()\n"
   ]
  },
  {
   "cell_type": "code",
   "execution_count": 62,
   "metadata": {},
   "outputs": [],
   "source": [
    "def KM_wandb(run,out,c,event_cond,n_thresholds = 4,nbins = 30):\n",
    "    print(\"Start Logging KM-Estimators\")\n",
    "    risk = get_risk(out)\n",
    "    \n",
    "    #thresholds\n",
    "    min,max = risk.min(),risk.max()\n",
    "    thresholds = np.linspace(min,max,n_thresholds+2)[1:-1]\n",
    "    \n",
    "    #hist\n",
    "    censored = c.type(torch.bool)\n",
    "    uncensored = ~c.type(torch.bool)\n",
    "    \n",
    "    ###wandb histogram\n",
    "    x = np.linspace(min,max,nbins)\n",
    "    x_c1 = torch.histc(risk_all[censored],bins=nbins,min = min , max =max ).numpy()\n",
    "    x_c2 = torch.histc(risk_all[uncensored],bins=nbins,min = min , max =max ).numpy() \n",
    "\n",
    "    table_hist = wandb.Table(\n",
    "            data = do_table(x,x_c1,\"censored\")+do_table(x,x_c2,\"uncensored\"),\n",
    "            columns=[\"risk\", \"count\",\"category\"],\n",
    "            )\n",
    "\n",
    "    fields_hist = {\"x\":\"risk\",\"y\":\"count\",\"groupKeys\":\"category\",\"title\":\"Risk Distribution\"}\n",
    "    custom_histogram = wandb.plot_table(vega_spec_name=\"tobias-seibel/risk_distribution\",\n",
    "                data_table=table_hist,\n",
    "                fields = fields_hist )\n",
    "    \n",
    "    wandb.log({\"Risk Distribution\":custom_histogram})\n",
    "    ###\n",
    "    \n",
    "    \n",
    "    \n",
    "    \n",
    "    #KaplanMeier Plots\n",
    "    xfull, yfull = kaplan_meier_estimator(uncensored.numpy(), event_cond)\n",
    "    \n",
    "    for idx,threshold in enumerate(thresholds): \n",
    "        xlow, ylow = kaplan_meier_estimator(uncensored[risk>threshold].numpy(),\n",
    "                                    event_cond[risk>threshold])\n",
    "\n",
    "        xhigh, yhigh = kaplan_meier_estimator(uncensored[risk<=threshold].numpy(),\n",
    "                                    event_cond[risk<=threshold])\n",
    "        \n",
    "        \n",
    "        table_KM = wandb.Table(data = do_table(xlow,ylow,\"low risk group\")+do_table(xhigh,yhigh,\"risk high group\")+do_table(xfull,yfull,\"total group\"),\n",
    "                        columns=[\"time\",\"Survival Probability\",\"Group\"],)\n",
    "\n",
    "        field_KM = {\"x\":\"time\",\"y\":\"Survival Probability\",\"groupKeys\":\"Group\"}\n",
    "        custom_KM = wandb.plot_table(vega_spec_name=\"tobias-seibel/kaplanmeier\",\n",
    "                    data_table=table_KM,\n",
    "                    fields = field_KM, \n",
    "                    string_fields={\"title\":f\"KM Risk Stratification at {round(threshold,2)}\"},\n",
    "                    )\n",
    "        run.log({f\"KM_{idx}\" :custom_KM})\n",
    "    print(\"Finished logging KM-Estimators\")\n",
    "    "
   ]
  },
  {
   "cell_type": "code",
   "execution_count": 64,
   "metadata": {},
   "outputs": [
    {
     "data": {
      "text/html": [
       "Finishing last run (ID:vu3q9pfu) before initializing another..."
      ],
      "text/plain": [
       "<IPython.core.display.HTML object>"
      ]
     },
     "metadata": {},
     "output_type": "display_data"
    },
    {
     "data": {
      "text/html": [
       "Waiting for W&B process to finish... <strong style=\"color:green\">(success).</strong>"
      ],
      "text/plain": [
       "<IPython.core.display.HTML object>"
      ]
     },
     "metadata": {},
     "output_type": "display_data"
    },
    {
     "data": {
      "text/html": [
       " View run <strong style=\"color:#cdcd00\">comfy-forest-12</strong> at: <a href='https://wandb.ai/tobias-seibel/multimodal_survival_prediction/runs/vu3q9pfu' target=\"_blank\">https://wandb.ai/tobias-seibel/multimodal_survival_prediction/runs/vu3q9pfu</a><br/>Synced 5 W&B file(s), 0 media file(s), 0 artifact file(s) and 0 other file(s)"
      ],
      "text/plain": [
       "<IPython.core.display.HTML object>"
      ]
     },
     "metadata": {},
     "output_type": "display_data"
    },
    {
     "data": {
      "text/html": [
       "Find logs at: <code>./wandb/run-20230705_111608-vu3q9pfu/logs</code>"
      ],
      "text/plain": [
       "<IPython.core.display.HTML object>"
      ]
     },
     "metadata": {},
     "output_type": "display_data"
    },
    {
     "data": {
      "text/html": [
       "Successfully finished last run (ID:vu3q9pfu). Initializing new run:<br/>"
      ],
      "text/plain": [
       "<IPython.core.display.HTML object>"
      ]
     },
     "metadata": {},
     "output_type": "display_data"
    },
    {
     "data": {
      "text/html": [
       "wandb version 0.15.4 is available!  To upgrade, please run:\n",
       " $ pip install wandb --upgrade"
      ],
      "text/plain": [
       "<IPython.core.display.HTML object>"
      ]
     },
     "metadata": {},
     "output_type": "display_data"
    },
    {
     "data": {
      "text/html": [
       "Tracking run with wandb version 0.15.3"
      ],
      "text/plain": [
       "<IPython.core.display.HTML object>"
      ]
     },
     "metadata": {},
     "output_type": "display_data"
    },
    {
     "data": {
      "text/html": [
       "Run data is saved locally in <code>/work4/seibel/multimodal_survival_prediction/wandb/run-20230705_111800-vc2r8xnl</code>"
      ],
      "text/plain": [
       "<IPython.core.display.HTML object>"
      ]
     },
     "metadata": {},
     "output_type": "display_data"
    },
    {
     "data": {
      "text/html": [
       "Syncing run <strong><a href='https://wandb.ai/tobias-seibel/multimodal_survival_prediction/runs/vc2r8xnl' target=\"_blank\">leafy-energy-13</a></strong> to <a href='https://wandb.ai/tobias-seibel/multimodal_survival_prediction' target=\"_blank\">Weights & Biases</a> (<a href='https://wandb.me/run' target=\"_blank\">docs</a>)<br/>"
      ],
      "text/plain": [
       "<IPython.core.display.HTML object>"
      ]
     },
     "metadata": {},
     "output_type": "display_data"
    },
    {
     "data": {
      "text/html": [
       " View project at <a href='https://wandb.ai/tobias-seibel/multimodal_survival_prediction' target=\"_blank\">https://wandb.ai/tobias-seibel/multimodal_survival_prediction</a>"
      ],
      "text/plain": [
       "<IPython.core.display.HTML object>"
      ]
     },
     "metadata": {},
     "output_type": "display_data"
    },
    {
     "data": {
      "text/html": [
       " View run at <a href='https://wandb.ai/tobias-seibel/multimodal_survival_prediction/runs/vc2r8xnl' target=\"_blank\">https://wandb.ai/tobias-seibel/multimodal_survival_prediction/runs/vc2r8xnl</a>"
      ],
      "text/plain": [
       "<IPython.core.display.HTML object>"
      ]
     },
     "metadata": {},
     "output_type": "display_data"
    },
    {
     "name": "stdout",
     "output_type": "stream",
     "text": [
      "Start Logging KM-Estimators\n",
      "Finished logging KM-Estimators\n"
     ]
    },
    {
     "data": {
      "text/html": [
       "Waiting for W&B process to finish... <strong style=\"color:green\">(success).</strong>"
      ],
      "text/plain": [
       "<IPython.core.display.HTML object>"
      ]
     },
     "metadata": {},
     "output_type": "display_data"
    },
    {
     "data": {
      "text/html": [
       " View run <strong style=\"color:#cdcd00\">leafy-energy-13</strong> at: <a href='https://wandb.ai/tobias-seibel/multimodal_survival_prediction/runs/vc2r8xnl' target=\"_blank\">https://wandb.ai/tobias-seibel/multimodal_survival_prediction/runs/vc2r8xnl</a><br/>Synced 5 W&B file(s), 5 media file(s), 5 artifact file(s) and 0 other file(s)"
      ],
      "text/plain": [
       "<IPython.core.display.HTML object>"
      ]
     },
     "metadata": {},
     "output_type": "display_data"
    },
    {
     "data": {
      "text/html": [
       "Find logs at: <code>./wandb/run-20230705_111800-vc2r8xnl/logs</code>"
      ],
      "text/plain": [
       "<IPython.core.display.HTML object>"
      ]
     },
     "metadata": {},
     "output_type": "display_data"
    }
   ],
   "source": [
    "run = wandb.init()\n",
    "KM_wandb(run,out_all_val,c_all_val,l_cont_all_val,n_thresholds = 4,nbins = 30)\n",
    "run.finish()"
   ]
  },
  {
   "cell_type": "code",
   "execution_count": null,
   "metadata": {},
   "outputs": [],
   "source": []
  },
  {
   "attachments": {},
   "cell_type": "markdown",
   "metadata": {},
   "source": [
    "# Transformer \n"
   ]
  },
  {
   "cell_type": "code",
   "execution_count": 13,
   "metadata": {},
   "outputs": [],
   "source": [
    "import torch\n",
    "from torch import nn\n",
    "from utils import *\n",
    "class Classifier_Head(nn.Module):\n",
    "    def __init__(self,outsize,d_hidden=256,t_bins=4):\n",
    "        super(Classifier_Head,self).__init__()\n",
    "\n",
    "        self.linear1 = nn.Linear(outsize,d_hidden)\n",
    "        torch.nn.init.kaiming_normal_(self.linear1.weight)\n",
    "        self.activ1 = nn.ReLU()\n",
    "        self.linear2  = nn.Linear(d_hidden,d_hidden)\n",
    "        torch.nn.init.kaiming_normal_(self.linear2.weight)\n",
    "        self.activ2 = nn.ReLU()\n",
    "        self.fc = nn.Linear(d_hidden,t_bins) # TODO test add layer\n",
    "    def forward(self,x):\n",
    "        x = torch.flatten(x,start_dim=1)\n",
    "        x = self.activ1(self.linear1(x))\n",
    "        x = self.activ2(self.linear2(x))\n",
    "        return self.fc(x)\n",
    "    \n",
    "    \n",
    "class TransformerMil_Survival(nn.Module):\n",
    "  def __init__(self,d_transformer,d_seq,bins):\n",
    "    super(TransformerMil_Survival,self).__init__()\n",
    "    \n",
    "    self.lin_embedder1 = nn.Linear(d_seq,d_transformer)\n",
    "    self.Encoder = torch.nn.TransformerEncoder(nn.TransformerEncoderLayer(d_transformer,\n",
    "                                                                     nhead=8,dropout=0.1,activation=nn.GELU(),batch_first=True)\n",
    "                                          ,num_layers=2)\n",
    "    self.lin_embedder2 = nn.Linear(d_transformer,d_seq//2)\n",
    "    self.Classifier_Head = Classifier_Head(outsize = d_seq//2,d_hidden=256,t_bins=bins)\n",
    "  def forward(self,x):\n",
    "    \n",
    "    x = self.lin_embedder1(x)\n",
    "    x = self.Encoder(x)\n",
    "    out = x.mean(dim=-2)\n",
    "    out = self.lin_embedder2(out)\n",
    "    return self.Classifier_Head(out)\n"
   ]
  },
  {
   "cell_type": "code",
   "execution_count": 14,
   "metadata": {},
   "outputs": [],
   "source": [
    "device = \"cuda\"\n",
    "bins = 4\n",
    "model = TransformerNet(d_transformer=1024,d_seq=2048,bins=bins)\n",
    "model.to(device)\n",
    "\n",
    "\n",
    "criterion = Survival_Loss(0.25) \n",
    "optimizer = torch.optim.Adam(model.parameters(),lr=0.00003,betas=[0.9,0.999],weight_decay=1e-5,)"
   ]
  },
  {
   "cell_type": "code",
   "execution_count": 41,
   "metadata": {},
   "outputs": [],
   "source": [
    "nseq = 500\n",
    "B=10\n",
    "dims = 2048\n",
    "\n",
    "x = torch.rand(size=(B,nseq,dims)).to(device)\n",
    "l = torch.randint(low=0, high=bins, size=(B,)).to(device)\n",
    "c = torch.randint(low=0, high=2, size=(B,)).to(device)  ## Groundtruth boolean information wether the the patient is censored  c = 1 or uncensored  \n",
    "\n",
    "out = model(x)\n",
    "loss = criterion(out,c,l)\n",
    "loss.backward()"
   ]
  },
  {
   "cell_type": "code",
   "execution_count": null,
   "metadata": {},
   "outputs": [],
   "source": []
  }
 ],
 "metadata": {
  "kernelspec": {
   "display_name": "env",
   "language": "python",
   "name": "python3"
  },
  "language_info": {
   "codemirror_mode": {
    "name": "ipython",
    "version": 3
   },
   "file_extension": ".py",
   "mimetype": "text/x-python",
   "name": "python",
   "nbconvert_exporter": "python",
   "pygments_lexer": "ipython3",
   "version": "3.6.9"
  },
  "orig_nbformat": 4
 },
 "nbformat": 4,
 "nbformat_minor": 2
}
