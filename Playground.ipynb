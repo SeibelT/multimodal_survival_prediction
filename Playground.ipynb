{
 "cells": [
  {
   "cell_type": "code",
   "execution_count": null,
   "metadata": {},
   "outputs": [],
   "source": [
    "#!pip install -r requirements.txt\n",
    "import numpy as np \n",
    "import pandas as pd\n",
    "from sklearn.preprocessing import StandardScaler"
   ]
  },
  {
   "cell_type": "code",
   "execution_count": null,
   "metadata": {},
   "outputs": [],
   "source": [
    "f = \"data/tcga_brca_all_clean.csv.zip\"\n",
    "\n",
    "#TODO slide_id -> file path "
   ]
  },
  {
   "attachments": {},
   "cell_type": "markdown",
   "metadata": {},
   "source": [
    "## Preprocessing genomic data "
   ]
  },
  {
   "cell_type": "code",
   "execution_count": null,
   "metadata": {},
   "outputs": [],
   "source": [
    "n_bins = 4\n",
    "df = pd.read_csv(f,compression='zip')\n",
    "\n",
    "df_uncensored = (df[df[\"censorship\"]==0]).drop_duplicates([\"case_id\"])\n",
    "_,bins = pd.qcut(df_uncensored['survival_months'],q = n_bins,retbins=True)  # distribute censored survival months into quartiles\n",
    "\n",
    "# adapt bins \n",
    "bins[0] = 0 \n",
    "bins[-1] = np.inf\n",
    "#\n",
    "labels=[i for i in range(n_bins)]\n",
    "labels\n",
    "\n",
    "df.insert(6,\"survival_months_discretized\",  pd.cut(df[\"survival_months\"],\n",
    "                                                               bins=bins, \n",
    "                                                               labels=labels)) # insert binned survival momnth \n",
    "k = 7\n",
    "df.insert(3,\"kfold\",df.index%k) # insert kfold \n",
    "df.head(5)"
   ]
  },
  {
   "attachments": {},
   "cell_type": "markdown",
   "metadata": {},
   "source": [
    "scale genomic data first and store in DF again\n",
    "then add labels to stratify "
   ]
  },
  {
   "cell_type": "code",
   "execution_count": null,
   "metadata": {},
   "outputs": [],
   "source": [
    "# todo add new column k-th-fold that contains an int in arange(k) where k is a cluster \n",
    "groundtruth = df[\"survival_months_discretized\"]\n",
    "censorship = df[\"censorship\"]\n",
    "genomics = df[df.keys()[11:]]\n",
    "genomics\n"
   ]
  },
  {
   "cell_type": "code",
   "execution_count": null,
   "metadata": {},
   "outputs": [],
   "source": [
    "\n",
    "\n",
    "scaler = StandardScaler()\n",
    "scaled_genomics = scaler.fit_transform(genomics)\n",
    "#scaler.inverse_transform(scaled_genomics)\n",
    "df_scaled = df.copy()\n",
    "df_scaled[df.keys()[11:]] = scaled_genomics\n",
    "\n"
   ]
  },
  {
   "attachments": {},
   "cell_type": "markdown",
   "metadata": {},
   "source": [
    "###  This leads to the full function:"
   ]
  },
  {
   "cell_type": "code",
   "execution_count": null,
   "metadata": {},
   "outputs": [],
   "source": [
    "def clean2trainable(df_path,k,n_bins=4,savename = None):\n",
    "    df = pd.read_csv(df_path,compression='zip')\n",
    "\n",
    "    # get time bins \n",
    "    df_uncensored = (df[df[\"censorship\"]==0]).drop_duplicates([\"case_id\"])\n",
    "    _,bins = pd.qcut(df_uncensored['survival_months'],q = n_bins,retbins=True)  # distribute censored survival months into quartiles\n",
    "\n",
    "    # adapt time bins \n",
    "    bins[0] = 0 \n",
    "    bins[-1] = np.inf\n",
    "    # bin name = index \n",
    "    labels = [i for i in range(n_bins)]\n",
    "    df.insert(6,\"survival_months_discretized\",  pd.cut(df[\"survival_months\"],\n",
    "                                                               bins=bins, \n",
    "                                                               labels=labels)) # insert binned survival month \n",
    "    diction = dict([(name,idx) for idx,name in enumerate(df[\"case_id\"].unique()) ])\n",
    "    df.insert(3,\"kfold\",df[\"case_id\"].map(diction)%kfolds) # insert kfold \n",
    "\n",
    "    genomics = df[df.keys()[11:]]\n",
    "\n",
    "    scaler = StandardScaler()\n",
    "    scaled_genomics = scaler.fit_transform(genomics)\n",
    "    df[df.keys()[11:]] = scaled_genomics\n",
    "\n",
    "    if savename is not None:\n",
    "        df.to_csv(savename,index=False)\n",
    "    return df "
   ]
  },
  {
   "cell_type": "code",
   "execution_count": null,
   "metadata": {},
   "outputs": [],
   "source": [
    "f = \"data/tcga_brca_all_clean.csv.zip\"\n",
    "new_df = clean2trainable(f,5,4,savename = \"./data/tcga_brca_trainable.csv\")\n",
    "#new_df = clean2trainable(f,7,4)"
   ]
  },
  {
   "cell_type": "code",
   "execution_count": null,
   "metadata": {},
   "outputs": [],
   "source": [
    "f_new = \"data/tcga_brca_trainable.csv\"\n",
    "df = pd.read_csv(f_new)\n",
    "df.head()"
   ]
  },
  {
   "cell_type": "code",
   "execution_count": null,
   "metadata": {},
   "outputs": [],
   "source": [
    "df[df.keys()[11:]].head()"
   ]
  },
  {
   "attachments": {},
   "cell_type": "markdown",
   "metadata": {},
   "source": [
    "## k-Fold crossvalidation\n",
    "1. Cluster dataset into k groups (shuffle first(seeded) then stratify by patient,split into equal chunks)\n",
    "2. use one group for testing and the others for training\n",
    "3. rotate such that each group is once used for testing\n",
    "4. use distribution of testing results to estimate real value \n",
    "\n"
   ]
  },
  {
   "cell_type": "code",
   "execution_count": null,
   "metadata": {},
   "outputs": [],
   "source": [
    "k = 7 \n",
    "a = np.arange(k) # df k-th fold \n",
    "for i in range(k):  \n",
    "    a = (a+1)%k\n",
    "    print(f\"train on {a[:-1]} test on {a[-1]}, store results in foldername: experiment1_fold{a[-1]}\")\n",
    "\n"
   ]
  },
  {
   "cell_type": "code",
   "execution_count": null,
   "metadata": {},
   "outputs": [],
   "source": [
    "df = pd.DataFrame({\"col1\": np.arange(100),\"col2\":np.random.rand(100)})\n",
    "df\n",
    "df[\"col1\"] = df[\"col1\"].apply(lambda x: f\"thisis{x}\")\n",
    "df"
   ]
  },
  {
   "cell_type": "code",
   "execution_count": null,
   "metadata": {},
   "outputs": [],
   "source": [
    "f = \"data/tcga_brca_all_clean.csv.zip\"\n",
    "f = f.replace(\"all_clean.csv.zip\",\"trainable.csv\")\n",
    "f"
   ]
  },
  {
   "cell_type": "code",
   "execution_count": null,
   "metadata": {},
   "outputs": [],
   "source": [
    "!pip install torchmetrics\n"
   ]
  },
  {
   "cell_type": "code",
   "execution_count": null,
   "metadata": {},
   "outputs": [],
   "source": [
    "import torch \n",
    "idx = torch.randint(low=0,high=4,size=(100,))\n",
    "values = torch.zeros(size=(100,4))\n",
    "source = torch.ones(size=(100,))"
   ]
  },
  {
   "cell_type": "code",
   "execution_count": null,
   "metadata": {},
   "outputs": [],
   "source": [
    "values.scatter_(dim=1,index=idx,src=source)"
   ]
  },
  {
   "cell_type": "code",
   "execution_count": null,
   "metadata": {},
   "outputs": [],
   "source": [
    "groundtruth = torch.zeros(size=(10,4))\n",
    "a,b = groundtruth.size()\n",
    "labels = torch.randint(low=0,high=b,size=(1,a))\n",
    "groundtruth[torch.arange(a),labels]=1\n",
    "groundtruth"
   ]
  },
  {
   "cell_type": "code",
   "execution_count": null,
   "metadata": {},
   "outputs": [],
   "source": [
    "from torchmetrics import Accuracy\n",
    "acc = Accuracy(\"multiclass\")"
   ]
  },
  {
   "cell_type": "code",
   "execution_count": null,
   "metadata": {},
   "outputs": [],
   "source": [
    "a = torch.randint(low=0,high=2,size=(100,))\n",
    "a\n",
    "\n"
   ]
  },
  {
   "cell_type": "code",
   "execution_count": null,
   "metadata": {},
   "outputs": [],
   "source": [
    "\n",
    "from sksurv.metrics import concordance_index_censored\n",
    "c = torch.randint(0,2,size=(100,))\n",
    "l = torch.randint(0,4,size=(100,))\n",
    "out = nn.Sigmoid()(torch.rand(size=(100,4)))\n",
    "c_index = concordance_index_censored(c,l,out)\n"
   ]
  },
  {
   "attachments": {},
   "cell_type": "markdown",
   "metadata": {},
   "source": [
    "## Transformer \n"
   ]
  },
  {
   "cell_type": "code",
   "execution_count": null,
   "metadata": {},
   "outputs": [],
   "source": [
    "import torch \n",
    "from torch import nn \n",
    "\n",
    "class Classifier_Head(nn.Module):\n",
    "    def __init__(self,outsize,d_hidden=256,t_bins=4):\n",
    "        super(Classifier_Head,self).__init__()\n",
    "\n",
    "        self.linear1 = nn.Linear(outsize,d_hidden)\n",
    "        torch.nn.init.kaiming_normal_(self.linear1.weight)\n",
    "        self.activ1 = nn.ReLU()\n",
    "        self.linear2  = nn.Linear(d_hidden,d_hidden)\n",
    "        torch.nn.init.kaiming_normal_(self.linear2.weight)\n",
    "        self.activ2 = nn.ReLU()\n",
    "        self.fc = nn.Linear(d_hidden,t_bins) # TODO test add layer\n",
    "    def forward(self,x):\n",
    "        x = torch.flatten(x,start_dim=1)\n",
    "        x = self.activ1(self.linear1(x))\n",
    "        x = self.activ2(self.linear2(x))\n",
    "        return self.fc(x)\n",
    "\n",
    "class Attention_surv(nn.Module):\n",
    "    def __init__(self,hist_dim,bins):\n",
    "        super(Attention_surv,self).__init__()\n",
    "        self.mhsa = nn.MultiheadAttention(hist_dim,num_heads=4,dropout=0.3,batch_first=True)\n",
    "        self.head = Classifier_Head(hist_dim,t_bins = bins)\n",
    "    def forward(self,hist):\n",
    "        attn_output, attn_output_weights = self.mhsa(hist,hist,hist)\n",
    "        attn_output = attn_output.mean(dim=1)\n",
    "        return self.head(attn_output)\n",
    "\n"
   ]
  },
  {
   "cell_type": "code",
   "execution_count": null,
   "metadata": {},
   "outputs": [],
   "source": [
    "from multi_modal_ds import HistGen_Dataset\n",
    "import pandas as pd\n",
    "from utils import Survival_Loss\n",
    "alpha = 0.25\n",
    "bins = 4\n",
    "lr = 2e-4\n",
    "l1_lambda = 1e-5\n",
    "\n",
    "f = f\"/nodes/bevog/work4/seibel/data/tcga_brca_trainable{bins}.csv\"\n",
    "device = 'cuda' if torch.cuda.is_available() else 'cpu'\n",
    "data_path = \"/nodes/bevog/work4/seibel/data/TCGA-BRCA-DX-features/tcga_brca_20x_features/pt_files\" # folderpath for h5y fiels which contain the WSI feat vecs \n",
    "batchsize = 1  # due to different size of bags \n",
    "\n",
    "df = pd.read_csv(f)\n",
    "train_ds = HistGen_Dataset(df,data_path = data_path,train=True)\n",
    "test_ds = HistGen_Dataset(df,data_path = data_path,train=False)\n",
    "training_dataloader = torch.utils.data.DataLoader( train_ds,batch_size=batchsize)\n",
    "test_dataloader = torch.utils.data.DataLoader(test_ds,batch_size=batchsize)\n",
    "\n",
    "\n",
    "model = Attention_surv(hist_dim=2048,bins=bins).to(device)\n",
    "optimizer = torch.optim.Adam(model.parameters(),lr=lr,betas=[0.9,0.999],weight_decay=1e-5,)\n",
    "criterion = Survival_Loss(alpha)\n"
   ]
  },
  {
   "cell_type": "code",
   "execution_count": null,
   "metadata": {},
   "outputs": [],
   "source": [
    "for idx,(histo,gen,c,l,_) in enumerate(training_dataloader):\n",
    "    histo = histo.to(device)\n",
    "    out = model(histo)\n",
    "    out = out.cpu()\n",
    "    #weights = model.mhsa.parameters()\n",
    "    loss = criterion(out,c,l) #+ l1_lambda * torch.norm(weights.cpu(),1)\n",
    "    loss.backward()\n",
    "    break"
   ]
  },
  {
   "cell_type": "code",
   "execution_count": null,
   "metadata": {},
   "outputs": [],
   "source": []
  },
  {
   "attachments": {},
   "cell_type": "markdown",
   "metadata": {},
   "source": [
    "# KaplanMeier\n"
   ]
  },
  {
   "cell_type": "code",
   "execution_count": null,
   "metadata": {},
   "outputs": [],
   "source": [
    "from sksurv.nonparametric import kaplan_meier_estimator\n",
    "import pandas as pd \n",
    "import numpy as np \n",
    "import matplotlib.pyplot as plt \n",
    "bins = 4\n",
    "f = f\"/nodes/bevog/work4/seibel/data/tcga_brca_trainable{bins}.csv\"\n",
    "df = pd.read_csv(f)\n",
    "df = df[[\"slide_id\",\"survival_months_discretized\",\"censorship\",\"survival_months\"]]"
   ]
  },
  {
   "cell_type": "code",
   "execution_count": null,
   "metadata": {},
   "outputs": [],
   "source": [
    "#help(kaplan_meier_estimator)\n",
    "event = np.asarray(1-df[\"censorship\"]).astype(bool)\n",
    "time_exit = np.asarray(df[\"survival_months\"])\n",
    "\n",
    "\n",
    "x_full, y_full = kaplan_meier_estimator(event, time_exit)\n",
    "plt.step(x_full, y_full, where=\"post\")\n",
    "plt.ylim(0, 1.1)\n",
    "plt.grid()\n",
    "plt.show\n"
   ]
  },
  {
   "cell_type": "code",
   "execution_count": null,
   "metadata": {},
   "outputs": [],
   "source": [
    "from models import AttMil_Survival\n",
    "from multi_modal_ds import HistGen_Dataset\n",
    "import torch \n",
    "from torch import nn \n",
    "from utils import c_index\n",
    "import numpy as np\n",
    "import pandas as pd\n",
    "#load model \n",
    "d_hist = 2048\n",
    "device = 'cuda' if torch.cuda.is_available() else 'cpu'\n",
    "bins = 4\n",
    "model = AttMil_Survival(d_hist,bins,device ).to(device)\n",
    "#load weights \n",
    "f_weights = \"/work4/seibel/results/alpha0.5hist/AttMil_Survival_nll-alpha0.5-fold5-l1_lambda1e-07.pth\"\n",
    "weights = torch.load(f_weights)['model']\n",
    "model.load_state_dict(weights)\n",
    "\n"
   ]
  },
  {
   "cell_type": "code",
   "execution_count": null,
   "metadata": {},
   "outputs": [],
   "source": [
    "\n",
    "f =  f\"/nodes/bevog/work4/seibel/data/tcga_brca_trainable{bins}.csv\"\n",
    "df = pd.read_csv(f)\n",
    "data_path = \"/nodes/bevog/work4/seibel/data/TCGA-BRCA-DX-features/tcga_brca_20x_features/pt_files\" \n",
    "test_ds = HistGen_Dataset(df,data_path,train=False)\n",
    "test_dataloader = torch.utils.data.DataLoader(test_ds,batch_size=1)\n",
    "\n",
    "out_all_val =torch.empty(size=(len(test_dataloader),bins),device='cpu')        \n",
    "l_all_val = torch.empty(size=(len(test_dataloader),),device='cpu').to(torch.int16)\n",
    "l_cont_all_val = torch.empty(size=(len(test_dataloader),),device='cpu').to(torch.int16)\n",
    "c_all_val = torch.empty(size=(len(test_dataloader),),device='cpu').to(torch.int16)\n",
    "\n",
    "model.eval()\n",
    "with torch.no_grad():\n",
    "    for  idx,(histo,gen,c,l,l_cont) in enumerate(test_dataloader):\n",
    "        x = histo.to(device)\n",
    "        out = model(x)\n",
    "        out = out.cpu()\n",
    "        \n",
    "        out_all_val[idx,:] = out\n",
    "        l_all_val[idx] = l\n",
    "        c_all_val[idx] = c\n",
    "        l_cont_all_val[idx] = l_cont\n",
    "\n",
    "h = nn.Sigmoid()(out_all_val)\n",
    "S = torch.cumprod(1-h,dim = -1)\n",
    "risk = -S.sum(dim=1) ## TODO why is it not 1-S ???\n",
    "\n",
    "\n"
   ]
  },
  {
   "cell_type": "code",
   "execution_count": null,
   "metadata": {},
   "outputs": [],
   "source": [
    "from utils import c_index\n",
    "import matplotlib.pyplot as plt\n",
    "\n",
    "c_ind = c_index(out_all_val,c_all_val,l_all_val)\n",
    "plt.title(f\"risk distribution with c_index= {round(c_ind,3)}\")\n",
    "plt.hist(risk.numpy(),bins = 100)\n",
    "plt.show()\n",
    "test_ds.gen_depth()"
   ]
  },
  {
   "cell_type": "code",
   "execution_count": null,
   "metadata": {},
   "outputs": [],
   "source": [
    "rows = 4 \n",
    "eps=0.1\n",
    "threshold = np.linspace(risk.min()+eps,risk.max()-eps,num=12)\n",
    "fig,ax1 = plt.subplots(rows,len(threshold)//rows,figsize=(24,8))\n",
    "fig.tight_layout()\n",
    "for i in range(len(threshold)):\n",
    "    risk_bool = risk>threshold[i]\n",
    "    event1 = np.asarray(1-c_all_val[risk_bool]).astype(bool)\n",
    "    time_exit1 = np.asarray(l_cont_all_val[risk_bool])\n",
    "    x1, y1 = kaplan_meier_estimator(event1, time_exit1)\n",
    "\n",
    "    event2 = np.asarray(1-c_all_val[~risk_bool]).astype(bool)\n",
    "    time_exit2 = np.asarray(l_cont_all_val[~risk_bool])\n",
    "    x2, y2 = kaplan_meier_estimator(event2, time_exit2)\n",
    "    \n",
    "    x_full, y_full = kaplan_meier_estimator(event, time_exit)\n",
    "\n",
    "    ax1.flatten()[i].set_title(f\"KM for threshold {round(threshold[i],3)}\")\n",
    "    ax1.flatten()[i].step(x1, y1, where=\"post\",label=\"high risk\")\n",
    "    ax1.flatten()[i].step(x2, y2, where=\"post\",label=\"low risk\")\n",
    "    ax1.flatten()[i].step(x_full, y_full, where=\"post\",label=\"full KM\")\n",
    "    \n",
    "    ax1.flatten()[i].set_ylim(0, 1.1)\n",
    "    ax1.flatten()[i].grid()\n",
    "    ax1.flatten()[i].legend()\n",
    "\n",
    "\n",
    "#plt.clf\n",
    "#plt.title(f\"KM for threshold {round(threshold[i])}\")\n",
    "#plt.step(x1, y1, where=\"post\",label=\"high risk\")\n",
    "#plt.step(x2, y2, where=\"post\",label=\"low risk\")\n",
    "#plt.ylim(0, 1.1)\n",
    "#plt.grid()\n",
    "#plt.legend()\n",
    "#plt.show"
   ]
  },
  {
   "cell_type": "code",
   "execution_count": null,
   "metadata": {},
   "outputs": [],
   "source": [
    "plt.title(\"Scatter risk vs survival month\")\n",
    "plt.scatter(risk[c_all_val.type(torch.bool)],l_cont_all_val[c_all_val.type(torch.bool)],s = 4,label=\"censored\")\n",
    "plt.scatter(risk[~(c_all_val.type(torch.bool))],l_cont_all_val[~(c_all_val.type(torch.bool))],s = 4,label=\"uncensored\")\n",
    "plt.xlabel(\"Risk score\")\n",
    "plt.ylabel(\"Survival month\")\n",
    "plt.legend()\n",
    "plt.grid()"
   ]
  },
  {
   "cell_type": "code",
   "execution_count": null,
   "metadata": {},
   "outputs": [],
   "source": [
    "plt.clf()\n",
    "plt.title(f\"risk distribution\")\n",
    "plt.hist(risk[c_all_val.type(torch.bool)].numpy(),bins = 30,alpha=0.5,label=\"a\")\n",
    "plt.hist(risk[~(c_all_val.type(torch.bool))].numpy(),bins = 30,alpha=0.5,label=\"b\")\n",
    "plt.legend()\n",
    "plt.show()"
   ]
  },
  {
   "cell_type": "code",
   "execution_count": null,
   "metadata": {},
   "outputs": [],
   "source": [
    "import wandb\n",
    "import matplotlib.pyplot as plt \n",
    "wandb.init(project=\"MultiModal\",entity=\"tobias-seibel\",name=\"tests\")\n",
    "out_all_val = out_all_val\n",
    "n_thresholds = 4\n",
    "nbins = 30\n",
    "c_all_val = c_all_val\n",
    "l_cont_all_val = l_cont_all_val \n",
    "\n",
    "#risk\n",
    "def get_risk(out):\n",
    "    h = nn.Sigmoid()(out)\n",
    "    S = torch.cumprod(1-h,dim = -1)\n",
    "    risk = -S.sum(dim=1)\n",
    "    return risk\n",
    "risk_all = get_risk(out_all_val)\n",
    "\n",
    "#thresholds\n",
    "min,max = risk_all.min(),risk_all.max()\n",
    "thresholds = torch.linspace(min,max,n_thresholds+2)[1:-1]\n",
    "\n",
    "#hist \n",
    "censored = c_all_val.type(torch.bool)\n",
    "uncensored = ~c_all_val.type(torch.bool)\n",
    "\n",
    "x_c1 = torch.histc(risk_all[censored],bins=nbins,min = min , max =max ) \n",
    "x1_label = torch.ones_like(x_c1)\n",
    "x_c2 = torch.histc(risk_all[uncensored],bins=nbins,min = min , max =max ) \n",
    "x2_label = torch.zeros_like(x_c2)\n",
    "x_all = torch.stack((x_c1,x_c2)).T\n",
    "\n",
    "\n",
    "#table = wandb.Table(data = x_all.tolist(),columns=[\"censored\",\"uncensored\"])\n",
    "table = wandb.plot.line_series(\n",
    "          xs =np.linspace(min,max,nbins),\n",
    "          ys=[x_c1,x_c2],\n",
    "          keys=[\"censored\", \"uncensored\"],\n",
    "          title=f\"Histogramm\",\n",
    "          xname=\"risk\")\n",
    "wandb.log({\"custom\":table})\n",
    "#KM\n",
    "\n",
    "#stepfunction\n",
    "def stepfunc(x,y,eps=1e-4):\n",
    "    x = np.stack((x-eps,x),axis=1).flatten()\n",
    "    y = np.stack((y,y),axis=1).flatten()\n",
    "    return x[1:].copy(),y[:-1].copy()\n",
    "\n",
    "\n",
    "\n",
    "\n",
    "\n",
    "\n",
    "\n",
    "\n",
    "for idx,threshold in enumerate(thresholds.tolist()): #thresholds\n",
    "    x_full, y_full = kaplan_meier_estimator(uncensored.numpy(), l_cont_all_val)\n",
    "\n",
    "    xlow, ylow = kaplan_meier_estimator(uncensored[risk>threshold].numpy(),\n",
    "                                l_cont_all_val[risk>threshold].numpy())\n",
    "\n",
    "    xhigh, yhigh = kaplan_meier_estimator(uncensored[risk<=threshold].numpy(),\n",
    "                                l_cont_all_val[risk<=threshold].numpy())\n",
    "    \n",
    "    xfull, yfull = stepfunc(x_full, y_full)\n",
    "    xlow, ylow =stepfunc(xlow, ylow)\n",
    "    xhigh, yhigh =stepfunc(xhigh, yhigh)\n",
    "\n",
    "    #x,y1,y2,y3 = KM_table(xlow,ylow,xhigh,yhigh,xfull,yfull,)\n",
    "    lineseries = wandb.plot.line_series(\n",
    "          xs=[xlow,xhigh,xfull],\n",
    "          ys=[ylow,yhigh,yfull],\n",
    "          keys=[\"lowrisk\", \"highrisk\",\"fullrisk\"],\n",
    "          title=f\"KM Stratification at risk={str(round(threshold,2)).replace('.',',')}\",\n",
    "          xname=\"time\")\n",
    "    \n",
    "    wandb.log({f\"KM_{idx}\" :lineseries})\n",
    "    \n",
    "\n",
    "# Log the table to wandb\n",
    "wandb.log({\"line_series\": table})\n",
    "\n",
    "\n",
    "wandb.finish()"
   ]
  },
  {
   "cell_type": "code",
   "execution_count": null,
   "metadata": {},
   "outputs": [],
   "source": [
    "\n",
    "def KM_table(xlow,ylow,xhigh,yhigh,xfull,yfull,):\n",
    "    ### get KM curve on same x values... not needed anymore FML\n",
    "    low_all = np.stack((xlow,ylow,np.empty_like(ylow)*np.nan,np.empty_like(ylow)*np.nan),1)\n",
    "    high_all = np.stack((xhigh,np.empty_like(yhigh)*np.nan,yhigh,np.empty_like(yhigh)*np.nan),1)\n",
    "    full_all = np.stack((xfull,np.empty_like(yfull)*np.nan,np.empty_like(yfull)*np.nan, yfull),1)\n",
    "    all = np.concatenate((low_all,high_all,full_all),axis=0)\n",
    "\n",
    "    all = all[all[:, 0].argsort()] # sort by first element \n",
    "\n",
    "    for i in range(1,len(all)):\n",
    "        a = all[i-1,1:] # =:prev-line\n",
    "        b = all[i,1:]  # =:line\n",
    "        all[i,1:] = np.where(np.isnan(b),a,b)\n",
    "        if all[i,0]==all[i-1,0]: #if on same x give info to line, set x of prev-line to nan\n",
    "            all[i-1,0] = np.nan\n",
    "            \n",
    "    all = all[all[:, 0].argsort()]\n",
    "    all = all[~np.isnan(all[:,0])]\n",
    "    return all[:,0],all[:,1],all[:,2],all[:,3]  # x, y_low,y_high,y_full\n",
    "\n"
   ]
  },
  {
   "attachments": {},
   "cell_type": "markdown",
   "metadata": {},
   "source": [
    "## Final FUnctions for Utils "
   ]
  },
  {
   "cell_type": "code",
   "execution_count": null,
   "metadata": {},
   "outputs": [],
   "source": [
    "\n",
    "\n",
    "def KM_wandb(run,out,c,event_cond,n_thresholds = 4,nbins = 30):\n",
    "    print(\"Start Logging KM-Estimators\")\n",
    "    risk = get_risk(out)\n",
    "    \n",
    "    #thresholds\n",
    "    min,max = risk.min(),risk.max()\n",
    "    thresholds = np.linspace(min,max,n_thresholds+2)[1:-1]\n",
    "    \n",
    "    #hist\n",
    "    censored = c.type(torch.bool)\n",
    "    uncensored = ~c.type(torch.bool)\n",
    "    \n",
    "    hist_censored = torch.histc(risk[censored],bins=nbins,min = min , max =max ) \n",
    "    hist_uncensored = torch.histc(risk[uncensored],bins=nbins,min = min , max =max ) \n",
    "    \n",
    "    table = run.plot.line_series(\n",
    "          xs =np.linspace(min,max,nbins),\n",
    "          ys=[hist_censored,hist_uncensored],\n",
    "          keys=[\"censored\", \"uncensored\"],\n",
    "          title=f\"Histogramm\",\n",
    "          xname=\"risk\")\n",
    "    run.log({\"risk_histogramm\":table})\n",
    "    \n",
    "    #KaplanMeier Plots\n",
    "    x_full, y_full = kaplan_meier_estimator(uncensored.numpy(), event_cond)\n",
    "    xfull, yfull = stepfunc(x_full, y_full)\n",
    "    for idx,threshold in enumerate(thresholds): \n",
    "        xlow, ylow = kaplan_meier_estimator(uncensored[risk>threshold].numpy(),\n",
    "                                    event_cond[risk>threshold])\n",
    "\n",
    "        xhigh, yhigh = kaplan_meier_estimator(uncensored[risk<=threshold].numpy(),\n",
    "                                    event_cond[risk<=threshold])\n",
    "        \n",
    "        xlow, ylow =stepfunc(xlow, ylow)\n",
    "        xhigh, yhigh =stepfunc(xhigh, yhigh)\n",
    "\n",
    "        \n",
    "        lineseries = run.plot.line_series(\n",
    "            xs=[xlow,xhigh,xfull],\n",
    "            ys=[ylow,yhigh,yfull],\n",
    "            keys=[\"lowrisk\", \"highrisk\",\"fullrisk\"],\n",
    "            title=f\"KM Stratification at risk={str(round(threshold,2)).replace('.',',')}\",\n",
    "            xname=\"time\")\n",
    "        \n",
    "        run.log({f\"KM_{idx}\" :lineseries})\n",
    "    print(\"Finished logging KM-Estimators\")\n",
    "    \n",
    "def get_risk(out):\n",
    "    h = nn.Sigmoid()(out)\n",
    "    S = torch.cumprod(1-h,dim = -1)\n",
    "    risk = -S.sum(dim=1)\n",
    "    return risk\n",
    "\n",
    "def stepfunc(x,y,eps=1e-4):\n",
    "    x = np.stack((x-eps,x),axis=1).flatten()\n",
    "    y = np.stack((y,y),axis=1).flatten()\n",
    "    return x[1:],y[:-1]\n",
    "\n",
    "def do_table(x,y,label):\n",
    "    return [[x[i],y[i],label] for i in range(len(x))]"
   ]
  },
  {
   "cell_type": "code",
   "execution_count": null,
   "metadata": {},
   "outputs": [],
   "source": [
    "import wandb\n",
    "import matplotlib.pyplot as plt \n",
    "wandb.init(project=\"MultiModal\",entity=\"tobias-seibel\",name=\"tests\")\n",
    "out_all_val = out_all_val\n",
    "n_thresholds = 4\n",
    "nbins = 30\n",
    "c_all_val = c_all_val\n",
    "l_cont_all_val = l_cont_all_val \n",
    "\n",
    "#risk\n",
    "def get_risk(out):\n",
    "    h = nn.Sigmoid()(out)\n",
    "    S = torch.cumprod(1-h,dim = -1)\n",
    "    risk = -S.sum(dim=1)\n",
    "    return risk\n",
    "risk_all = get_risk(out_all_val)\n",
    "\n",
    "#thresholds\n",
    "min,max = risk_all.min(),risk_all.max()\n",
    "thresholds = torch.linspace(min,max,n_thresholds+2)[1:-1]\n",
    "\n",
    "#hist \n",
    "censored = c_all_val.type(torch.bool)\n",
    "uncensored = ~c_all_val.type(torch.bool)\n",
    "\n",
    "x_c1 = torch.histc(risk_all[censored],bins=nbins,min = min , max =max ).numpy()\n",
    "x1_label = np.chararray(np.shape(x_c1))\n",
    "x1_label[:]=\"censored\"\n",
    "x_c2 = torch.histc(risk_all[uncensored],bins=nbins,min = min , max =max ).numpy() \n",
    "x2_label = np.chararray(np.shape(x_c2))\n",
    "x2_label[:]=\"uncensored\"\n",
    "\n",
    "x1 = np.stack((np.linspace(min,max,nbins),x_c1,x1_label))\n",
    "x2 = np.stack((np.linspace(min,max,nbins),x_c2,x2_label))\n",
    "np.concatenate((x1,x2),dim=1).T\n",
    "\n",
    "table = wandb.Table(\n",
    "          data = np.concatenate((x1,x2),dim=1).T,\n",
    "          columns=[\"bins\", \"risk\",\"category\"],\n",
    "          \n",
    "          \n",
    "\n",
    "          )\n",
    "wandb.log({\"custom\":table})\n",
    "#KM\n",
    "\n",
    "wandb.finish()\n"
   ]
  },
  {
   "attachments": {},
   "cell_type": "markdown",
   "metadata": {},
   "source": [
    "## Better version for custom plots! "
   ]
  },
  {
   "cell_type": "code",
   "execution_count": null,
   "metadata": {},
   "outputs": [],
   "source": [
    "\n",
    "x = np.linspace(min,max,nbins)\n",
    "x_c1 = torch.histc(risk_all[censored],bins=nbins,min = min , max =max ).numpy()\n",
    "x_c2 = torch.histc(risk_all[uncensored],bins=nbins,min = min , max =max ).numpy() \n",
    "\n",
    "table_hist = wandb.Table(\n",
    "          data = do_table(x,x_c1,\"censored\")+do_table(x,x_c2,\"uncensored\"),\n",
    "          columns=[\"risk\", \"count\",\"category\"],\n",
    "          )\n",
    "\n",
    "fields_hist = {\"x\":\"risk\",\"y\":\"count\",\"groupKeys\":\"category\",\"title\":\"Risk Distribution\"}\n",
    "custom_histogram = wandb.plot_table(vega_spec_name=\"tobias-seibel/risk_distribution\",\n",
    "              data_table=table_hist,\n",
    "              fields = fields_hist )\n",
    "              \n",
    "              \n",
    "event_cond = l_cont_all_val\n",
    "threshold = -2\n",
    "xfull, yfull = kaplan_meier_estimator(uncensored.numpy(), event_cond)\n",
    "\n",
    "xlow, ylow = kaplan_meier_estimator(uncensored[risk>threshold].numpy(),\n",
    "                                    event_cond[risk>threshold])\n",
    "\n",
    "xhigh, yhigh = kaplan_meier_estimator(uncensored[risk<=threshold].numpy(),\n",
    "                                    event_cond[risk<=threshold])\n",
    "        \n",
    "\n",
    "\n",
    "table_KM = wandb.Table(\n",
    "          data = do_table(xlow,ylow,\"low risk group\")+do_table(xhigh,yhigh,\"risk high group\")+do_table(xfull,yfull,\"total group\"),\n",
    "          columns=[\"time\",\"Survival Probability\",\"Group\"],)\n",
    "\n",
    "field_KM = {\"x\":\"time\",\"y\":\"Survival Probability\",\"groupKeys\":\"Group\"}\n",
    "custom_KM = wandb.plot_table(vega_spec_name=\"tobias-seibel/kaplanmeier\",\n",
    "              data_table=table_KM,\n",
    "              fields = field_KM, \n",
    "              string_fields={\"title\":f\"KM Risk Stratification at {round(threshold,2)}\"},\n",
    "              )\n",
    "\n",
    "wandb.init()\n",
    "\n",
    "idx = 1 \n",
    "wandb.log({\"Risk Distribution\":custom_histogram,\"KM{idx}\":custom_KM}) #tobias-seibel/risk_distribution # tobias-seibel/kaplanmeier\n",
    "wandb.finish()\n"
   ]
  },
  {
   "cell_type": "code",
   "execution_count": null,
   "metadata": {},
   "outputs": [],
   "source": [
    "def KM_wandb(run,out,c,event_cond,n_thresholds = 4,nbins = 30):\n",
    "    print(\"Start Logging KM-Estimators\")\n",
    "    risk = get_risk(out)\n",
    "    \n",
    "    #thresholds\n",
    "    min,max = risk.min(),risk.max()\n",
    "    thresholds = np.linspace(min,max,n_thresholds+2)[1:-1]\n",
    "    \n",
    "    #hist\n",
    "    censored = c.type(torch.bool)\n",
    "    uncensored = ~c.type(torch.bool)\n",
    "    \n",
    "    ###wandb histogram\n",
    "    x = np.linspace(min,max,nbins)\n",
    "    x_c1 = torch.histc(risk_all[censored],bins=nbins,min = min , max =max ).numpy()\n",
    "    x_c2 = torch.histc(risk_all[uncensored],bins=nbins,min = min , max =max ).numpy() \n",
    "\n",
    "    table_hist = wandb.Table(\n",
    "            data = do_table(x,x_c1,\"censored\")+do_table(x,x_c2,\"uncensored\"),\n",
    "            columns=[\"risk\", \"count\",\"category\"],\n",
    "            )\n",
    "\n",
    "    fields_hist = {\"x\":\"risk\",\"y\":\"count\",\"groupKeys\":\"category\",\"title\":\"Risk Distribution\"}\n",
    "    custom_histogram = wandb.plot_table(vega_spec_name=\"tobias-seibel/risk_distribution\",\n",
    "                data_table=table_hist,\n",
    "                fields = fields_hist )\n",
    "    \n",
    "    wandb.log({\"Risk Distribution\":custom_histogram})\n",
    "    ###\n",
    "    \n",
    "    \n",
    "    \n",
    "    \n",
    "    #KaplanMeier Plots\n",
    "    xfull, yfull = kaplan_meier_estimator(uncensored.numpy(), event_cond)\n",
    "    \n",
    "    for idx,threshold in enumerate(thresholds): \n",
    "        xlow, ylow = kaplan_meier_estimator(uncensored[risk>threshold].numpy(),\n",
    "                                    event_cond[risk>threshold])\n",
    "\n",
    "        xhigh, yhigh = kaplan_meier_estimator(uncensored[risk<=threshold].numpy(),\n",
    "                                    event_cond[risk<=threshold])\n",
    "        \n",
    "        \n",
    "        table_KM = wandb.Table(data = do_table(xlow,ylow,\"low risk group\")+do_table(xhigh,yhigh,\"risk high group\")+do_table(xfull,yfull,\"total group\"),\n",
    "                        columns=[\"time\",\"Survival Probability\",\"Group\"],)\n",
    "\n",
    "        field_KM = {\"x\":\"time\",\"y\":\"Survival Probability\",\"groupKeys\":\"Group\"}\n",
    "        custom_KM = wandb.plot_table(vega_spec_name=\"tobias-seibel/kaplanmeier\",\n",
    "                    data_table=table_KM,\n",
    "                    fields = field_KM, \n",
    "                    string_fields={\"title\":f\"KM Risk Stratification at {round(threshold,2)}\"},\n",
    "                    )\n",
    "        run.log({f\"KM_{idx}\" :custom_KM})\n",
    "    print(\"Finished logging KM-Estimators\")\n",
    "    "
   ]
  },
  {
   "cell_type": "code",
   "execution_count": null,
   "metadata": {},
   "outputs": [],
   "source": [
    "run = wandb.init()\n",
    "KM_wandb(run,out_all_val,c_all_val,l_cont_all_val,n_thresholds = 4,nbins = 30)\n",
    "run.finish()"
   ]
  },
  {
   "cell_type": "code",
   "execution_count": null,
   "metadata": {},
   "outputs": [],
   "source": []
  },
  {
   "attachments": {},
   "cell_type": "markdown",
   "metadata": {},
   "source": [
    "# Transformer \n"
   ]
  },
  {
   "cell_type": "code",
   "execution_count": 1,
   "metadata": {},
   "outputs": [
    {
     "name": "stderr",
     "output_type": "stream",
     "text": [
      "/home/seibel/.local/lib/python3.6/site-packages/tqdm/auto.py:22: TqdmWarning: IProgress not found. Please update jupyter and ipywidgets. See https://ipywidgets.readthedocs.io/en/stable/user_install.html\n",
      "  from .autonotebook import tqdm as notebook_tqdm\n"
     ]
    }
   ],
   "source": [
    "import torch\n",
    "from torch import nn\n",
    "from utils import *\n",
    "class Classifier_Head(nn.Module):\n",
    "    def __init__(self,outsize,d_hidden=256,t_bins=4):\n",
    "        super(Classifier_Head,self).__init__()\n",
    "\n",
    "        self.linear1 = nn.Linear(outsize,d_hidden)\n",
    "        torch.nn.init.kaiming_normal_(self.linear1.weight)\n",
    "        self.activ1 = nn.ReLU()\n",
    "        self.linear2  = nn.Linear(d_hidden,d_hidden)\n",
    "        torch.nn.init.kaiming_normal_(self.linear2.weight)\n",
    "        self.activ2 = nn.ReLU()\n",
    "        self.fc = nn.Linear(d_hidden,t_bins) # TODO test add layer\n",
    "    def forward(self,x):\n",
    "        x = torch.flatten(x,start_dim=1)\n",
    "        x = self.activ1(self.linear1(x))\n",
    "        x = self.activ2(self.linear2(x))\n",
    "        return self.fc(x)\n",
    "    \n",
    "    \n",
    "class TransformerMil_Survival(nn.Module):\n",
    "  def __init__(self,d_seq,d_transformer,bins):\n",
    "    super(TransformerMil_Survival,self).__init__()\n",
    "    d_out = d_hidden = 256\n",
    "    self.lin_embedder1 = nn.Linear(d_seq,d_transformer,dropout)\n",
    "    #self.Encoder = torch.nn.TransformerEncoder(nn.TransformerEncoderLayer(d_transformer,\n",
    "    #                                                                 nhead=2,dropout=0.1,activation=nn.GELU(),batch_first=True)\n",
    "    #                                      ,num_layers=2)\n",
    "    self.Encoder=nn.TransformerEncoderLayer(d_transformer,nhead=2,dropout=dropout,activation=nn.GELU(),batch_first=True)\n",
    "    self.lin_embedder2 = nn.Linear(d_transformer,d_out)\n",
    "    self.Classifier_Head = Classifier_Head(outsize = d_out,d_hidden=d_hidden,t_bins=bins)\n",
    "  def forward(self,x):\n",
    "    \n",
    "    x = self.lin_embedder1(x)\n",
    "    x = self.Encoder(x)\n",
    "    out = x.mean(dim=-2)\n",
    "    out = self.lin_embedder2(out)\n",
    "    return self.Classifier_Head(out)\n"
   ]
  },
  {
   "cell_type": "code",
   "execution_count": 2,
   "metadata": {},
   "outputs": [],
   "source": [
    "device = \"cuda\"\n",
    "bins = 4\n",
    "model = TransformerMil_Survival(d_seq=2048,d_transformer=1024,bins=bins)\n",
    "model.to(device)\n",
    "\n",
    "\n",
    "criterion = Survival_Loss(0.25) \n",
    "optimizer = torch.optim.Adam(model.parameters(),lr=0.00003,betas=[0.9,0.999],weight_decay=1e-5,)"
   ]
  },
  {
   "cell_type": "code",
   "execution_count": 3,
   "metadata": {},
   "outputs": [
    {
     "ename": "RuntimeError",
     "evalue": "CUDA out of memory. Tried to allocate 1.68 GiB (GPU 0; 10.92 GiB total capacity; 10.02 GiB already allocated; 60.69 MiB free; 10.06 GiB reserved in total by PyTorch) If reserved memory is >> allocated memory try setting max_split_size_mb to avoid fragmentation.  See documentation for Memory Management and PYTORCH_CUDA_ALLOC_CONF",
     "output_type": "error",
     "traceback": [
      "\u001b[0;31m---------------------------------------------------------------------------\u001b[0m",
      "\u001b[0;31mRuntimeError\u001b[0m                              Traceback (most recent call last)",
      "\u001b[0;32m<ipython-input-3-d651238b0ff2>\u001b[0m in \u001b[0;36m<module>\u001b[0;34m()\u001b[0m\n\u001b[1;32m      7\u001b[0m \u001b[0mc\u001b[0m \u001b[0;34m=\u001b[0m \u001b[0mtorch\u001b[0m\u001b[0;34m.\u001b[0m\u001b[0mrandint\u001b[0m\u001b[0;34m(\u001b[0m\u001b[0mlow\u001b[0m\u001b[0;34m=\u001b[0m\u001b[0;36m0\u001b[0m\u001b[0;34m,\u001b[0m \u001b[0mhigh\u001b[0m\u001b[0;34m=\u001b[0m\u001b[0;36m2\u001b[0m\u001b[0;34m,\u001b[0m \u001b[0msize\u001b[0m\u001b[0;34m=\u001b[0m\u001b[0;34m(\u001b[0m\u001b[0mB\u001b[0m\u001b[0;34m,\u001b[0m\u001b[0;34m)\u001b[0m\u001b[0;34m)\u001b[0m\u001b[0;34m.\u001b[0m\u001b[0mto\u001b[0m\u001b[0;34m(\u001b[0m\u001b[0mdevice\u001b[0m\u001b[0;34m)\u001b[0m  \u001b[0;31m## Groundtruth boolean information wether the the patient is censored  c = 1 or uncensored\u001b[0m\u001b[0;34m\u001b[0m\u001b[0;34m\u001b[0m\u001b[0m\n\u001b[1;32m      8\u001b[0m \u001b[0;34m\u001b[0m\u001b[0m\n\u001b[0;32m----> 9\u001b[0;31m \u001b[0mout\u001b[0m \u001b[0;34m=\u001b[0m \u001b[0mmodel\u001b[0m\u001b[0;34m(\u001b[0m\u001b[0mx\u001b[0m\u001b[0;34m)\u001b[0m\u001b[0;34m\u001b[0m\u001b[0;34m\u001b[0m\u001b[0m\n\u001b[0m\u001b[1;32m     10\u001b[0m \u001b[0mloss\u001b[0m \u001b[0;34m=\u001b[0m \u001b[0mcriterion\u001b[0m\u001b[0;34m(\u001b[0m\u001b[0mout\u001b[0m\u001b[0;34m,\u001b[0m\u001b[0mc\u001b[0m\u001b[0;34m,\u001b[0m\u001b[0ml\u001b[0m\u001b[0;34m)\u001b[0m\u001b[0;34m\u001b[0m\u001b[0;34m\u001b[0m\u001b[0m\n\u001b[1;32m     11\u001b[0m \u001b[0mloss\u001b[0m\u001b[0;34m.\u001b[0m\u001b[0mbackward\u001b[0m\u001b[0;34m(\u001b[0m\u001b[0;34m)\u001b[0m\u001b[0;34m\u001b[0m\u001b[0;34m\u001b[0m\u001b[0m\n",
      "\u001b[0;32m/home/seibel/.local/lib/python3.6/site-packages/torch/nn/modules/module.py\u001b[0m in \u001b[0;36m_call_impl\u001b[0;34m(self, *input, **kwargs)\u001b[0m\n\u001b[1;32m   1100\u001b[0m         if not (self._backward_hooks or self._forward_hooks or self._forward_pre_hooks or _global_backward_hooks\n\u001b[1;32m   1101\u001b[0m                 or _global_forward_hooks or _global_forward_pre_hooks):\n\u001b[0;32m-> 1102\u001b[0;31m             \u001b[0;32mreturn\u001b[0m \u001b[0mforward_call\u001b[0m\u001b[0;34m(\u001b[0m\u001b[0;34m*\u001b[0m\u001b[0minput\u001b[0m\u001b[0;34m,\u001b[0m \u001b[0;34m**\u001b[0m\u001b[0mkwargs\u001b[0m\u001b[0;34m)\u001b[0m\u001b[0;34m\u001b[0m\u001b[0;34m\u001b[0m\u001b[0m\n\u001b[0m\u001b[1;32m   1103\u001b[0m         \u001b[0;31m# Do not call functions when jit is used\u001b[0m\u001b[0;34m\u001b[0m\u001b[0;34m\u001b[0m\u001b[0;34m\u001b[0m\u001b[0m\n\u001b[1;32m   1104\u001b[0m         \u001b[0mfull_backward_hooks\u001b[0m\u001b[0;34m,\u001b[0m \u001b[0mnon_full_backward_hooks\u001b[0m \u001b[0;34m=\u001b[0m \u001b[0;34m[\u001b[0m\u001b[0;34m]\u001b[0m\u001b[0;34m,\u001b[0m \u001b[0;34m[\u001b[0m\u001b[0;34m]\u001b[0m\u001b[0;34m\u001b[0m\u001b[0;34m\u001b[0m\u001b[0m\n",
      "\u001b[0;32m<ipython-input-1-84a16b60053f>\u001b[0m in \u001b[0;36mforward\u001b[0;34m(self, x)\u001b[0m\n\u001b[1;32m     34\u001b[0m \u001b[0;34m\u001b[0m\u001b[0m\n\u001b[1;32m     35\u001b[0m     \u001b[0mx\u001b[0m \u001b[0;34m=\u001b[0m \u001b[0mself\u001b[0m\u001b[0;34m.\u001b[0m\u001b[0mlin_embedder1\u001b[0m\u001b[0;34m(\u001b[0m\u001b[0mx\u001b[0m\u001b[0;34m)\u001b[0m\u001b[0;34m\u001b[0m\u001b[0;34m\u001b[0m\u001b[0m\n\u001b[0;32m---> 36\u001b[0;31m     \u001b[0mx\u001b[0m \u001b[0;34m=\u001b[0m \u001b[0mself\u001b[0m\u001b[0;34m.\u001b[0m\u001b[0mEncoder\u001b[0m\u001b[0;34m(\u001b[0m\u001b[0mx\u001b[0m\u001b[0;34m)\u001b[0m\u001b[0;34m\u001b[0m\u001b[0;34m\u001b[0m\u001b[0m\n\u001b[0m\u001b[1;32m     37\u001b[0m     \u001b[0mout\u001b[0m \u001b[0;34m=\u001b[0m \u001b[0mx\u001b[0m\u001b[0;34m.\u001b[0m\u001b[0mmean\u001b[0m\u001b[0;34m(\u001b[0m\u001b[0mdim\u001b[0m\u001b[0;34m=\u001b[0m\u001b[0;34m-\u001b[0m\u001b[0;36m2\u001b[0m\u001b[0;34m)\u001b[0m\u001b[0;34m\u001b[0m\u001b[0;34m\u001b[0m\u001b[0m\n\u001b[1;32m     38\u001b[0m     \u001b[0mout\u001b[0m \u001b[0;34m=\u001b[0m \u001b[0mself\u001b[0m\u001b[0;34m.\u001b[0m\u001b[0mlin_embedder2\u001b[0m\u001b[0;34m(\u001b[0m\u001b[0mout\u001b[0m\u001b[0;34m)\u001b[0m\u001b[0;34m\u001b[0m\u001b[0;34m\u001b[0m\u001b[0m\n",
      "\u001b[0;32m/home/seibel/.local/lib/python3.6/site-packages/torch/nn/modules/module.py\u001b[0m in \u001b[0;36m_call_impl\u001b[0;34m(self, *input, **kwargs)\u001b[0m\n\u001b[1;32m   1100\u001b[0m         if not (self._backward_hooks or self._forward_hooks or self._forward_pre_hooks or _global_backward_hooks\n\u001b[1;32m   1101\u001b[0m                 or _global_forward_hooks or _global_forward_pre_hooks):\n\u001b[0;32m-> 1102\u001b[0;31m             \u001b[0;32mreturn\u001b[0m \u001b[0mforward_call\u001b[0m\u001b[0;34m(\u001b[0m\u001b[0;34m*\u001b[0m\u001b[0minput\u001b[0m\u001b[0;34m,\u001b[0m \u001b[0;34m**\u001b[0m\u001b[0mkwargs\u001b[0m\u001b[0;34m)\u001b[0m\u001b[0;34m\u001b[0m\u001b[0;34m\u001b[0m\u001b[0m\n\u001b[0m\u001b[1;32m   1103\u001b[0m         \u001b[0;31m# Do not call functions when jit is used\u001b[0m\u001b[0;34m\u001b[0m\u001b[0;34m\u001b[0m\u001b[0;34m\u001b[0m\u001b[0m\n\u001b[1;32m   1104\u001b[0m         \u001b[0mfull_backward_hooks\u001b[0m\u001b[0;34m,\u001b[0m \u001b[0mnon_full_backward_hooks\u001b[0m \u001b[0;34m=\u001b[0m \u001b[0;34m[\u001b[0m\u001b[0;34m]\u001b[0m\u001b[0;34m,\u001b[0m \u001b[0;34m[\u001b[0m\u001b[0;34m]\u001b[0m\u001b[0;34m\u001b[0m\u001b[0;34m\u001b[0m\u001b[0m\n",
      "\u001b[0;32m/home/seibel/.local/lib/python3.6/site-packages/torch/nn/modules/transformer.py\u001b[0m in \u001b[0;36mforward\u001b[0;34m(self, src, mask, src_key_padding_mask)\u001b[0m\n\u001b[1;32m    196\u001b[0m \u001b[0;34m\u001b[0m\u001b[0m\n\u001b[1;32m    197\u001b[0m         \u001b[0;32mfor\u001b[0m \u001b[0mmod\u001b[0m \u001b[0;32min\u001b[0m \u001b[0mself\u001b[0m\u001b[0;34m.\u001b[0m\u001b[0mlayers\u001b[0m\u001b[0;34m:\u001b[0m\u001b[0;34m\u001b[0m\u001b[0;34m\u001b[0m\u001b[0m\n\u001b[0;32m--> 198\u001b[0;31m             \u001b[0moutput\u001b[0m \u001b[0;34m=\u001b[0m \u001b[0mmod\u001b[0m\u001b[0;34m(\u001b[0m\u001b[0moutput\u001b[0m\u001b[0;34m,\u001b[0m \u001b[0msrc_mask\u001b[0m\u001b[0;34m=\u001b[0m\u001b[0mmask\u001b[0m\u001b[0;34m,\u001b[0m \u001b[0msrc_key_padding_mask\u001b[0m\u001b[0;34m=\u001b[0m\u001b[0msrc_key_padding_mask\u001b[0m\u001b[0;34m)\u001b[0m\u001b[0;34m\u001b[0m\u001b[0;34m\u001b[0m\u001b[0m\n\u001b[0m\u001b[1;32m    199\u001b[0m \u001b[0;34m\u001b[0m\u001b[0m\n\u001b[1;32m    200\u001b[0m         \u001b[0;32mif\u001b[0m \u001b[0mself\u001b[0m\u001b[0;34m.\u001b[0m\u001b[0mnorm\u001b[0m \u001b[0;32mis\u001b[0m \u001b[0;32mnot\u001b[0m \u001b[0;32mNone\u001b[0m\u001b[0;34m:\u001b[0m\u001b[0;34m\u001b[0m\u001b[0;34m\u001b[0m\u001b[0m\n",
      "\u001b[0;32m/home/seibel/.local/lib/python3.6/site-packages/torch/nn/modules/module.py\u001b[0m in \u001b[0;36m_call_impl\u001b[0;34m(self, *input, **kwargs)\u001b[0m\n\u001b[1;32m   1100\u001b[0m         if not (self._backward_hooks or self._forward_hooks or self._forward_pre_hooks or _global_backward_hooks\n\u001b[1;32m   1101\u001b[0m                 or _global_forward_hooks or _global_forward_pre_hooks):\n\u001b[0;32m-> 1102\u001b[0;31m             \u001b[0;32mreturn\u001b[0m \u001b[0mforward_call\u001b[0m\u001b[0;34m(\u001b[0m\u001b[0;34m*\u001b[0m\u001b[0minput\u001b[0m\u001b[0;34m,\u001b[0m \u001b[0;34m**\u001b[0m\u001b[0mkwargs\u001b[0m\u001b[0;34m)\u001b[0m\u001b[0;34m\u001b[0m\u001b[0;34m\u001b[0m\u001b[0m\n\u001b[0m\u001b[1;32m   1103\u001b[0m         \u001b[0;31m# Do not call functions when jit is used\u001b[0m\u001b[0;34m\u001b[0m\u001b[0;34m\u001b[0m\u001b[0;34m\u001b[0m\u001b[0m\n\u001b[1;32m   1104\u001b[0m         \u001b[0mfull_backward_hooks\u001b[0m\u001b[0;34m,\u001b[0m \u001b[0mnon_full_backward_hooks\u001b[0m \u001b[0;34m=\u001b[0m \u001b[0;34m[\u001b[0m\u001b[0;34m]\u001b[0m\u001b[0;34m,\u001b[0m \u001b[0;34m[\u001b[0m\u001b[0;34m]\u001b[0m\u001b[0;34m\u001b[0m\u001b[0;34m\u001b[0m\u001b[0m\n",
      "\u001b[0;32m/home/seibel/.local/lib/python3.6/site-packages/torch/nn/modules/transformer.py\u001b[0m in \u001b[0;36mforward\u001b[0;34m(self, src, src_mask, src_key_padding_mask)\u001b[0m\n\u001b[1;32m    337\u001b[0m             \u001b[0mx\u001b[0m \u001b[0;34m=\u001b[0m \u001b[0mx\u001b[0m \u001b[0;34m+\u001b[0m \u001b[0mself\u001b[0m\u001b[0;34m.\u001b[0m\u001b[0m_ff_block\u001b[0m\u001b[0;34m(\u001b[0m\u001b[0mself\u001b[0m\u001b[0;34m.\u001b[0m\u001b[0mnorm2\u001b[0m\u001b[0;34m(\u001b[0m\u001b[0mx\u001b[0m\u001b[0;34m)\u001b[0m\u001b[0;34m)\u001b[0m\u001b[0;34m\u001b[0m\u001b[0;34m\u001b[0m\u001b[0m\n\u001b[1;32m    338\u001b[0m         \u001b[0;32melse\u001b[0m\u001b[0;34m:\u001b[0m\u001b[0;34m\u001b[0m\u001b[0;34m\u001b[0m\u001b[0m\n\u001b[0;32m--> 339\u001b[0;31m             \u001b[0mx\u001b[0m \u001b[0;34m=\u001b[0m \u001b[0mself\u001b[0m\u001b[0;34m.\u001b[0m\u001b[0mnorm1\u001b[0m\u001b[0;34m(\u001b[0m\u001b[0mx\u001b[0m \u001b[0;34m+\u001b[0m \u001b[0mself\u001b[0m\u001b[0;34m.\u001b[0m\u001b[0m_sa_block\u001b[0m\u001b[0;34m(\u001b[0m\u001b[0mx\u001b[0m\u001b[0;34m,\u001b[0m \u001b[0msrc_mask\u001b[0m\u001b[0;34m,\u001b[0m \u001b[0msrc_key_padding_mask\u001b[0m\u001b[0;34m)\u001b[0m\u001b[0;34m)\u001b[0m\u001b[0;34m\u001b[0m\u001b[0;34m\u001b[0m\u001b[0m\n\u001b[0m\u001b[1;32m    340\u001b[0m             \u001b[0mx\u001b[0m \u001b[0;34m=\u001b[0m \u001b[0mself\u001b[0m\u001b[0;34m.\u001b[0m\u001b[0mnorm2\u001b[0m\u001b[0;34m(\u001b[0m\u001b[0mx\u001b[0m \u001b[0;34m+\u001b[0m \u001b[0mself\u001b[0m\u001b[0;34m.\u001b[0m\u001b[0m_ff_block\u001b[0m\u001b[0;34m(\u001b[0m\u001b[0mx\u001b[0m\u001b[0;34m)\u001b[0m\u001b[0;34m)\u001b[0m\u001b[0;34m\u001b[0m\u001b[0;34m\u001b[0m\u001b[0m\n\u001b[1;32m    341\u001b[0m \u001b[0;34m\u001b[0m\u001b[0m\n",
      "\u001b[0;32m/home/seibel/.local/lib/python3.6/site-packages/torch/nn/modules/transformer.py\u001b[0m in \u001b[0;36m_sa_block\u001b[0;34m(self, x, attn_mask, key_padding_mask)\u001b[0m\n\u001b[1;32m    348\u001b[0m                            \u001b[0mattn_mask\u001b[0m\u001b[0;34m=\u001b[0m\u001b[0mattn_mask\u001b[0m\u001b[0;34m,\u001b[0m\u001b[0;34m\u001b[0m\u001b[0;34m\u001b[0m\u001b[0m\n\u001b[1;32m    349\u001b[0m                            \u001b[0mkey_padding_mask\u001b[0m\u001b[0;34m=\u001b[0m\u001b[0mkey_padding_mask\u001b[0m\u001b[0;34m,\u001b[0m\u001b[0;34m\u001b[0m\u001b[0;34m\u001b[0m\u001b[0m\n\u001b[0;32m--> 350\u001b[0;31m                            need_weights=False)[0]\n\u001b[0m\u001b[1;32m    351\u001b[0m         \u001b[0;32mreturn\u001b[0m \u001b[0mself\u001b[0m\u001b[0;34m.\u001b[0m\u001b[0mdropout1\u001b[0m\u001b[0;34m(\u001b[0m\u001b[0mx\u001b[0m\u001b[0;34m)\u001b[0m\u001b[0;34m\u001b[0m\u001b[0;34m\u001b[0m\u001b[0m\n\u001b[1;32m    352\u001b[0m \u001b[0;34m\u001b[0m\u001b[0m\n",
      "\u001b[0;32m/home/seibel/.local/lib/python3.6/site-packages/torch/nn/modules/module.py\u001b[0m in \u001b[0;36m_call_impl\u001b[0;34m(self, *input, **kwargs)\u001b[0m\n\u001b[1;32m   1100\u001b[0m         if not (self._backward_hooks or self._forward_hooks or self._forward_pre_hooks or _global_backward_hooks\n\u001b[1;32m   1101\u001b[0m                 or _global_forward_hooks or _global_forward_pre_hooks):\n\u001b[0;32m-> 1102\u001b[0;31m             \u001b[0;32mreturn\u001b[0m \u001b[0mforward_call\u001b[0m\u001b[0;34m(\u001b[0m\u001b[0;34m*\u001b[0m\u001b[0minput\u001b[0m\u001b[0;34m,\u001b[0m \u001b[0;34m**\u001b[0m\u001b[0mkwargs\u001b[0m\u001b[0;34m)\u001b[0m\u001b[0;34m\u001b[0m\u001b[0;34m\u001b[0m\u001b[0m\n\u001b[0m\u001b[1;32m   1103\u001b[0m         \u001b[0;31m# Do not call functions when jit is used\u001b[0m\u001b[0;34m\u001b[0m\u001b[0;34m\u001b[0m\u001b[0;34m\u001b[0m\u001b[0m\n\u001b[1;32m   1104\u001b[0m         \u001b[0mfull_backward_hooks\u001b[0m\u001b[0;34m,\u001b[0m \u001b[0mnon_full_backward_hooks\u001b[0m \u001b[0;34m=\u001b[0m \u001b[0;34m[\u001b[0m\u001b[0;34m]\u001b[0m\u001b[0;34m,\u001b[0m \u001b[0;34m[\u001b[0m\u001b[0;34m]\u001b[0m\u001b[0;34m\u001b[0m\u001b[0;34m\u001b[0m\u001b[0m\n",
      "\u001b[0;32m/home/seibel/.local/lib/python3.6/site-packages/torch/nn/modules/activation.py\u001b[0m in \u001b[0;36mforward\u001b[0;34m(self, query, key, value, key_padding_mask, need_weights, attn_mask)\u001b[0m\n\u001b[1;32m   1008\u001b[0m                 \u001b[0mtraining\u001b[0m\u001b[0;34m=\u001b[0m\u001b[0mself\u001b[0m\u001b[0;34m.\u001b[0m\u001b[0mtraining\u001b[0m\u001b[0;34m,\u001b[0m\u001b[0;34m\u001b[0m\u001b[0;34m\u001b[0m\u001b[0m\n\u001b[1;32m   1009\u001b[0m                 \u001b[0mkey_padding_mask\u001b[0m\u001b[0;34m=\u001b[0m\u001b[0mkey_padding_mask\u001b[0m\u001b[0;34m,\u001b[0m \u001b[0mneed_weights\u001b[0m\u001b[0;34m=\u001b[0m\u001b[0mneed_weights\u001b[0m\u001b[0;34m,\u001b[0m\u001b[0;34m\u001b[0m\u001b[0;34m\u001b[0m\u001b[0m\n\u001b[0;32m-> 1010\u001b[0;31m                 attn_mask=attn_mask)\n\u001b[0m\u001b[1;32m   1011\u001b[0m         \u001b[0;32mif\u001b[0m \u001b[0mself\u001b[0m\u001b[0;34m.\u001b[0m\u001b[0mbatch_first\u001b[0m\u001b[0;34m:\u001b[0m\u001b[0;34m\u001b[0m\u001b[0;34m\u001b[0m\u001b[0m\n\u001b[1;32m   1012\u001b[0m             \u001b[0;32mreturn\u001b[0m \u001b[0mattn_output\u001b[0m\u001b[0;34m.\u001b[0m\u001b[0mtranspose\u001b[0m\u001b[0;34m(\u001b[0m\u001b[0;36m1\u001b[0m\u001b[0;34m,\u001b[0m \u001b[0;36m0\u001b[0m\u001b[0;34m)\u001b[0m\u001b[0;34m,\u001b[0m \u001b[0mattn_output_weights\u001b[0m\u001b[0;34m\u001b[0m\u001b[0;34m\u001b[0m\u001b[0m\n",
      "\u001b[0;32m/home/seibel/.local/lib/python3.6/site-packages/torch/nn/functional.py\u001b[0m in \u001b[0;36mmulti_head_attention_forward\u001b[0;34m(query, key, value, embed_dim_to_check, num_heads, in_proj_weight, in_proj_bias, bias_k, bias_v, add_zero_attn, dropout_p, out_proj_weight, out_proj_bias, training, key_padding_mask, need_weights, attn_mask, use_separate_proj_weight, q_proj_weight, k_proj_weight, v_proj_weight, static_k, static_v)\u001b[0m\n\u001b[1;32m   5099\u001b[0m     \u001b[0;31m# (deep breath) calculate attention and out projection\u001b[0m\u001b[0;34m\u001b[0m\u001b[0;34m\u001b[0m\u001b[0;34m\u001b[0m\u001b[0m\n\u001b[1;32m   5100\u001b[0m     \u001b[0;31m#\u001b[0m\u001b[0;34m\u001b[0m\u001b[0;34m\u001b[0m\u001b[0;34m\u001b[0m\u001b[0m\n\u001b[0;32m-> 5101\u001b[0;31m     \u001b[0mattn_output\u001b[0m\u001b[0;34m,\u001b[0m \u001b[0mattn_output_weights\u001b[0m \u001b[0;34m=\u001b[0m \u001b[0m_scaled_dot_product_attention\u001b[0m\u001b[0;34m(\u001b[0m\u001b[0mq\u001b[0m\u001b[0;34m,\u001b[0m \u001b[0mk\u001b[0m\u001b[0;34m,\u001b[0m \u001b[0mv\u001b[0m\u001b[0;34m,\u001b[0m \u001b[0mattn_mask\u001b[0m\u001b[0;34m,\u001b[0m \u001b[0mdropout_p\u001b[0m\u001b[0;34m)\u001b[0m\u001b[0;34m\u001b[0m\u001b[0;34m\u001b[0m\u001b[0m\n\u001b[0m\u001b[1;32m   5102\u001b[0m     \u001b[0mattn_output\u001b[0m \u001b[0;34m=\u001b[0m \u001b[0mattn_output\u001b[0m\u001b[0;34m.\u001b[0m\u001b[0mtranspose\u001b[0m\u001b[0;34m(\u001b[0m\u001b[0;36m0\u001b[0m\u001b[0;34m,\u001b[0m \u001b[0;36m1\u001b[0m\u001b[0;34m)\u001b[0m\u001b[0;34m.\u001b[0m\u001b[0mcontiguous\u001b[0m\u001b[0;34m(\u001b[0m\u001b[0;34m)\u001b[0m\u001b[0;34m.\u001b[0m\u001b[0mview\u001b[0m\u001b[0;34m(\u001b[0m\u001b[0mtgt_len\u001b[0m\u001b[0;34m,\u001b[0m \u001b[0mbsz\u001b[0m\u001b[0;34m,\u001b[0m \u001b[0membed_dim\u001b[0m\u001b[0;34m)\u001b[0m\u001b[0;34m\u001b[0m\u001b[0;34m\u001b[0m\u001b[0m\n\u001b[1;32m   5103\u001b[0m     \u001b[0mattn_output\u001b[0m \u001b[0;34m=\u001b[0m \u001b[0mlinear\u001b[0m\u001b[0;34m(\u001b[0m\u001b[0mattn_output\u001b[0m\u001b[0;34m,\u001b[0m \u001b[0mout_proj_weight\u001b[0m\u001b[0;34m,\u001b[0m \u001b[0mout_proj_bias\u001b[0m\u001b[0;34m)\u001b[0m\u001b[0;34m\u001b[0m\u001b[0;34m\u001b[0m\u001b[0m\n",
      "\u001b[0;32m/home/seibel/.local/lib/python3.6/site-packages/torch/nn/functional.py\u001b[0m in \u001b[0;36m_scaled_dot_product_attention\u001b[0;34m(q, k, v, attn_mask, dropout_p)\u001b[0m\n\u001b[1;32m   4847\u001b[0m     \u001b[0mattn\u001b[0m \u001b[0;34m=\u001b[0m \u001b[0msoftmax\u001b[0m\u001b[0;34m(\u001b[0m\u001b[0mattn\u001b[0m\u001b[0;34m,\u001b[0m \u001b[0mdim\u001b[0m\u001b[0;34m=\u001b[0m\u001b[0;34m-\u001b[0m\u001b[0;36m1\u001b[0m\u001b[0;34m)\u001b[0m\u001b[0;34m\u001b[0m\u001b[0;34m\u001b[0m\u001b[0m\n\u001b[1;32m   4848\u001b[0m     \u001b[0;32mif\u001b[0m \u001b[0mdropout_p\u001b[0m \u001b[0;34m>\u001b[0m \u001b[0;36m0.0\u001b[0m\u001b[0;34m:\u001b[0m\u001b[0;34m\u001b[0m\u001b[0;34m\u001b[0m\u001b[0m\n\u001b[0;32m-> 4849\u001b[0;31m         \u001b[0mattn\u001b[0m \u001b[0;34m=\u001b[0m \u001b[0mdropout\u001b[0m\u001b[0;34m(\u001b[0m\u001b[0mattn\u001b[0m\u001b[0;34m,\u001b[0m \u001b[0mp\u001b[0m\u001b[0;34m=\u001b[0m\u001b[0mdropout_p\u001b[0m\u001b[0;34m)\u001b[0m\u001b[0;34m\u001b[0m\u001b[0;34m\u001b[0m\u001b[0m\n\u001b[0m\u001b[1;32m   4850\u001b[0m     \u001b[0;31m# (B, Nt, Ns) x (B, Ns, E) -> (B, Nt, E)\u001b[0m\u001b[0;34m\u001b[0m\u001b[0;34m\u001b[0m\u001b[0;34m\u001b[0m\u001b[0m\n\u001b[1;32m   4851\u001b[0m     \u001b[0moutput\u001b[0m \u001b[0;34m=\u001b[0m \u001b[0mtorch\u001b[0m\u001b[0;34m.\u001b[0m\u001b[0mbmm\u001b[0m\u001b[0;34m(\u001b[0m\u001b[0mattn\u001b[0m\u001b[0;34m,\u001b[0m \u001b[0mv\u001b[0m\u001b[0;34m)\u001b[0m\u001b[0;34m\u001b[0m\u001b[0;34m\u001b[0m\u001b[0m\n",
      "\u001b[0;32m/home/seibel/.local/lib/python3.6/site-packages/torch/nn/functional.py\u001b[0m in \u001b[0;36mdropout\u001b[0;34m(input, p, training, inplace)\u001b[0m\n\u001b[1;32m   1167\u001b[0m     \u001b[0;32mif\u001b[0m \u001b[0mp\u001b[0m \u001b[0;34m<\u001b[0m \u001b[0;36m0.0\u001b[0m \u001b[0;32mor\u001b[0m \u001b[0mp\u001b[0m \u001b[0;34m>\u001b[0m \u001b[0;36m1.0\u001b[0m\u001b[0;34m:\u001b[0m\u001b[0;34m\u001b[0m\u001b[0;34m\u001b[0m\u001b[0m\n\u001b[1;32m   1168\u001b[0m         \u001b[0;32mraise\u001b[0m \u001b[0mValueError\u001b[0m\u001b[0;34m(\u001b[0m\u001b[0;34m\"dropout probability has to be between 0 and 1, \"\u001b[0m \u001b[0;34m\"but got {}\"\u001b[0m\u001b[0;34m.\u001b[0m\u001b[0mformat\u001b[0m\u001b[0;34m(\u001b[0m\u001b[0mp\u001b[0m\u001b[0;34m)\u001b[0m\u001b[0;34m)\u001b[0m\u001b[0;34m\u001b[0m\u001b[0;34m\u001b[0m\u001b[0m\n\u001b[0;32m-> 1169\u001b[0;31m     \u001b[0;32mreturn\u001b[0m \u001b[0m_VF\u001b[0m\u001b[0;34m.\u001b[0m\u001b[0mdropout_\u001b[0m\u001b[0;34m(\u001b[0m\u001b[0minput\u001b[0m\u001b[0;34m,\u001b[0m \u001b[0mp\u001b[0m\u001b[0;34m,\u001b[0m \u001b[0mtraining\u001b[0m\u001b[0;34m)\u001b[0m \u001b[0;32mif\u001b[0m \u001b[0minplace\u001b[0m \u001b[0;32melse\u001b[0m \u001b[0m_VF\u001b[0m\u001b[0;34m.\u001b[0m\u001b[0mdropout\u001b[0m\u001b[0;34m(\u001b[0m\u001b[0minput\u001b[0m\u001b[0;34m,\u001b[0m \u001b[0mp\u001b[0m\u001b[0;34m,\u001b[0m \u001b[0mtraining\u001b[0m\u001b[0;34m)\u001b[0m\u001b[0;34m\u001b[0m\u001b[0;34m\u001b[0m\u001b[0m\n\u001b[0m\u001b[1;32m   1170\u001b[0m \u001b[0;34m\u001b[0m\u001b[0m\n\u001b[1;32m   1171\u001b[0m \u001b[0;34m\u001b[0m\u001b[0m\n",
      "\u001b[0;31mRuntimeError\u001b[0m: CUDA out of memory. Tried to allocate 1.68 GiB (GPU 0; 10.92 GiB total capacity; 10.02 GiB already allocated; 60.69 MiB free; 10.06 GiB reserved in total by PyTorch) If reserved memory is >> allocated memory try setting max_split_size_mb to avoid fragmentation.  See documentation for Memory Management and PYTORCH_CUDA_ALLOC_CONF"
     ]
    }
   ],
   "source": [
    "nseq = 15000\n",
    "B=1\n",
    "dims = 2048\n",
    "\n",
    "x = torch.rand(size=(B,nseq,dims)).to(device)\n",
    "l = torch.randint(low=0, high=bins, size=(B,)).to(device)\n",
    "c = torch.randint(low=0, high=2, size=(B,)).to(device)  ## Groundtruth boolean information wether the the patient is censored  c = 1 or uncensored  \n",
    "\n",
    "out = model(x)\n",
    "loss = criterion(out,c,l)\n",
    "loss.backward()"
   ]
  },
  {
   "cell_type": "code",
   "execution_count": 36,
   "metadata": {},
   "outputs": [
    {
     "data": {
      "text/html": [
       "<div>\n",
       "<style scoped>\n",
       "    .dataframe tbody tr th:only-of-type {\n",
       "        vertical-align: middle;\n",
       "    }\n",
       "\n",
       "    .dataframe tbody tr th {\n",
       "        vertical-align: top;\n",
       "    }\n",
       "\n",
       "    .dataframe thead th {\n",
       "        text-align: right;\n",
       "    }\n",
       "</style>\n",
       "<table border=\"1\" class=\"dataframe\">\n",
       "  <thead>\n",
       "    <tr style=\"text-align: right;\">\n",
       "      <th></th>\n",
       "      <th>case_id</th>\n",
       "      <th>slide_id</th>\n",
       "      <th>site</th>\n",
       "      <th>kfold</th>\n",
       "      <th>is_female</th>\n",
       "      <th>oncotree_code</th>\n",
       "      <th>age</th>\n",
       "      <th>survival_months_discretized</th>\n",
       "      <th>survival_months</th>\n",
       "      <th>censorship</th>\n",
       "      <th>train</th>\n",
       "    </tr>\n",
       "  </thead>\n",
       "  <tbody>\n",
       "    <tr>\n",
       "      <th>0</th>\n",
       "      <td>TCGA-3C-AALI</td>\n",
       "      <td>TCGA-3C-AALI-01Z-00-DX1.F6E9A5DF-D8FB-45CF-B4B...</td>\n",
       "      <td>3C</td>\n",
       "      <td>0</td>\n",
       "      <td>1.0</td>\n",
       "      <td>IDC</td>\n",
       "      <td>50.0</td>\n",
       "      <td>3</td>\n",
       "      <td>131.57</td>\n",
       "      <td>1.0</td>\n",
       "      <td>1.0</td>\n",
       "    </tr>\n",
       "    <tr>\n",
       "      <th>1</th>\n",
       "      <td>TCGA-3C-AALI</td>\n",
       "      <td>TCGA-3C-AALI-01Z-00-DX2.CF4496E0-AB52-4F3E-BDF...</td>\n",
       "      <td>3C</td>\n",
       "      <td>0</td>\n",
       "      <td>1.0</td>\n",
       "      <td>IDC</td>\n",
       "      <td>50.0</td>\n",
       "      <td>3</td>\n",
       "      <td>131.57</td>\n",
       "      <td>1.0</td>\n",
       "      <td>1.0</td>\n",
       "    </tr>\n",
       "    <tr>\n",
       "      <th>2</th>\n",
       "      <td>TCGA-3C-AALJ</td>\n",
       "      <td>TCGA-3C-AALJ-01Z-00-DX1.777C0957-255A-42F0-9EE...</td>\n",
       "      <td>3C</td>\n",
       "      <td>1</td>\n",
       "      <td>1.0</td>\n",
       "      <td>IDC</td>\n",
       "      <td>62.0</td>\n",
       "      <td>2</td>\n",
       "      <td>48.42</td>\n",
       "      <td>1.0</td>\n",
       "      <td>1.0</td>\n",
       "    </tr>\n",
       "    <tr>\n",
       "      <th>3</th>\n",
       "      <td>TCGA-3C-AALJ</td>\n",
       "      <td>TCGA-3C-AALJ-01Z-00-DX2.62DFE56B-B84C-40F9-962...</td>\n",
       "      <td>3C</td>\n",
       "      <td>1</td>\n",
       "      <td>1.0</td>\n",
       "      <td>IDC</td>\n",
       "      <td>62.0</td>\n",
       "      <td>2</td>\n",
       "      <td>48.42</td>\n",
       "      <td>1.0</td>\n",
       "      <td>1.0</td>\n",
       "    </tr>\n",
       "    <tr>\n",
       "      <th>4</th>\n",
       "      <td>TCGA-3C-AALK</td>\n",
       "      <td>TCGA-3C-AALK-01Z-00-DX1.4E6EB156-BB19-410F-878...</td>\n",
       "      <td>3C</td>\n",
       "      <td>2</td>\n",
       "      <td>1.0</td>\n",
       "      <td>IDC</td>\n",
       "      <td>52.0</td>\n",
       "      <td>2</td>\n",
       "      <td>47.57</td>\n",
       "      <td>1.0</td>\n",
       "      <td>1.0</td>\n",
       "    </tr>\n",
       "    <tr>\n",
       "      <th>...</th>\n",
       "      <td>...</td>\n",
       "      <td>...</td>\n",
       "      <td>...</td>\n",
       "      <td>...</td>\n",
       "      <td>...</td>\n",
       "      <td>...</td>\n",
       "      <td>...</td>\n",
       "      <td>...</td>\n",
       "      <td>...</td>\n",
       "      <td>...</td>\n",
       "      <td>...</td>\n",
       "    </tr>\n",
       "    <tr>\n",
       "      <th>1018</th>\n",
       "      <td>TCGA-WT-AB44</td>\n",
       "      <td>TCGA-WT-AB44-01Z-00-DX1.B6ECEA7C-DA26-4B34-88C...</td>\n",
       "      <td>WT</td>\n",
       "      <td>2</td>\n",
       "      <td>1.0</td>\n",
       "      <td>ILC</td>\n",
       "      <td>77.0</td>\n",
       "      <td>1</td>\n",
       "      <td>29.01</td>\n",
       "      <td>1.0</td>\n",
       "      <td>1.0</td>\n",
       "    </tr>\n",
       "    <tr>\n",
       "      <th>1019</th>\n",
       "      <td>TCGA-XX-A899</td>\n",
       "      <td>TCGA-XX-A899-01Z-00-DX1.08FE27B7-73B8-4CE3-ACF...</td>\n",
       "      <td>XX</td>\n",
       "      <td>3</td>\n",
       "      <td>1.0</td>\n",
       "      <td>ILC</td>\n",
       "      <td>46.0</td>\n",
       "      <td>0</td>\n",
       "      <td>15.34</td>\n",
       "      <td>1.0</td>\n",
       "      <td>1.0</td>\n",
       "    </tr>\n",
       "    <tr>\n",
       "      <th>1020</th>\n",
       "      <td>TCGA-XX-A89A</td>\n",
       "      <td>TCGA-XX-A89A-01Z-00-DX1.671E2AD6-4D1A-4579-88C...</td>\n",
       "      <td>XX</td>\n",
       "      <td>4</td>\n",
       "      <td>1.0</td>\n",
       "      <td>ILC</td>\n",
       "      <td>68.0</td>\n",
       "      <td>0</td>\n",
       "      <td>16.03</td>\n",
       "      <td>1.0</td>\n",
       "      <td>1.0</td>\n",
       "    </tr>\n",
       "    <tr>\n",
       "      <th>1021</th>\n",
       "      <td>TCGA-Z7-A8R5</td>\n",
       "      <td>TCGA-Z7-A8R5-01Z-00-DX1.3BDB407F-514C-4131-B05...</td>\n",
       "      <td>Z7</td>\n",
       "      <td>0</td>\n",
       "      <td>1.0</td>\n",
       "      <td>ILC</td>\n",
       "      <td>61.0</td>\n",
       "      <td>3</td>\n",
       "      <td>107.98</td>\n",
       "      <td>1.0</td>\n",
       "      <td>1.0</td>\n",
       "    </tr>\n",
       "    <tr>\n",
       "      <th>1022</th>\n",
       "      <td>TCGA-Z7-A8R6</td>\n",
       "      <td>TCGA-Z7-A8R6-01Z-00-DX1.CE4ED818-D762-4324-9DE...</td>\n",
       "      <td>Z7</td>\n",
       "      <td>1</td>\n",
       "      <td>1.0</td>\n",
       "      <td>IDC</td>\n",
       "      <td>46.0</td>\n",
       "      <td>3</td>\n",
       "      <td>106.96</td>\n",
       "      <td>1.0</td>\n",
       "      <td>1.0</td>\n",
       "    </tr>\n",
       "  </tbody>\n",
       "</table>\n",
       "<p>1023 rows × 11 columns</p>\n",
       "</div>"
      ],
      "text/plain": [
       "           case_id                                           slide_id site  \\\n",
       "0     TCGA-3C-AALI  TCGA-3C-AALI-01Z-00-DX1.F6E9A5DF-D8FB-45CF-B4B...   3C   \n",
       "1     TCGA-3C-AALI  TCGA-3C-AALI-01Z-00-DX2.CF4496E0-AB52-4F3E-BDF...   3C   \n",
       "2     TCGA-3C-AALJ  TCGA-3C-AALJ-01Z-00-DX1.777C0957-255A-42F0-9EE...   3C   \n",
       "3     TCGA-3C-AALJ  TCGA-3C-AALJ-01Z-00-DX2.62DFE56B-B84C-40F9-962...   3C   \n",
       "4     TCGA-3C-AALK  TCGA-3C-AALK-01Z-00-DX1.4E6EB156-BB19-410F-878...   3C   \n",
       "...            ...                                                ...  ...   \n",
       "1018  TCGA-WT-AB44  TCGA-WT-AB44-01Z-00-DX1.B6ECEA7C-DA26-4B34-88C...   WT   \n",
       "1019  TCGA-XX-A899  TCGA-XX-A899-01Z-00-DX1.08FE27B7-73B8-4CE3-ACF...   XX   \n",
       "1020  TCGA-XX-A89A  TCGA-XX-A89A-01Z-00-DX1.671E2AD6-4D1A-4579-88C...   XX   \n",
       "1021  TCGA-Z7-A8R5  TCGA-Z7-A8R5-01Z-00-DX1.3BDB407F-514C-4131-B05...   Z7   \n",
       "1022  TCGA-Z7-A8R6  TCGA-Z7-A8R6-01Z-00-DX1.CE4ED818-D762-4324-9DE...   Z7   \n",
       "\n",
       "      kfold  is_female oncotree_code   age  survival_months_discretized  \\\n",
       "0         0        1.0           IDC  50.0                            3   \n",
       "1         0        1.0           IDC  50.0                            3   \n",
       "2         1        1.0           IDC  62.0                            2   \n",
       "3         1        1.0           IDC  62.0                            2   \n",
       "4         2        1.0           IDC  52.0                            2   \n",
       "...     ...        ...           ...   ...                          ...   \n",
       "1018      2        1.0           ILC  77.0                            1   \n",
       "1019      3        1.0           ILC  46.0                            0   \n",
       "1020      4        1.0           ILC  68.0                            0   \n",
       "1021      0        1.0           ILC  61.0                            3   \n",
       "1022      1        1.0           IDC  46.0                            3   \n",
       "\n",
       "      survival_months  censorship  train  \n",
       "0              131.57         1.0    1.0  \n",
       "1              131.57         1.0    1.0  \n",
       "2               48.42         1.0    1.0  \n",
       "3               48.42         1.0    1.0  \n",
       "4               47.57         1.0    1.0  \n",
       "...               ...         ...    ...  \n",
       "1018            29.01         1.0    1.0  \n",
       "1019            15.34         1.0    1.0  \n",
       "1020            16.03         1.0    1.0  \n",
       "1021           107.98         1.0    1.0  \n",
       "1022           106.96         1.0    1.0  \n",
       "\n",
       "[1023 rows x 11 columns]"
      ]
     },
     "execution_count": 36,
     "metadata": {},
     "output_type": "execute_result"
    }
   ],
   "source": [
    "df"
   ]
  },
  {
   "cell_type": "code",
   "execution_count": 34,
   "metadata": {},
   "outputs": [],
   "source": [
    "#import numpy as np \n",
    "kfold=5\n",
    "names = df[\"case_id\"].unique()\n",
    "\n",
    "diction = dict([(name,idx) for idx,name in enumerate(df[\"case_id\"].unique()) ])\n",
    "df[\"kfold\"] = df[\"case_id\"].map(diction)%kfold"
   ]
  },
  {
   "cell_type": "code",
   "execution_count": 35,
   "metadata": {},
   "outputs": [
    {
     "data": {
      "text/plain": [
       "0       0\n",
       "1       0\n",
       "2       1\n",
       "3       1\n",
       "4       2\n",
       "       ..\n",
       "1018    2\n",
       "1019    3\n",
       "1020    4\n",
       "1021    0\n",
       "1022    1\n",
       "Name: kfold, Length: 1023, dtype: int64"
      ]
     },
     "execution_count": 35,
     "metadata": {},
     "output_type": "execute_result"
    }
   ],
   "source": [
    "\n",
    "df[\"kfold\"]"
   ]
  },
  {
   "cell_type": "code",
   "execution_count": 3,
   "metadata": {},
   "outputs": [
    {
     "data": {
      "text/plain": [
       "tensor(6.2703e+22)"
      ]
     },
     "execution_count": 3,
     "metadata": {},
     "output_type": "execute_result"
    }
   ],
   "source": [
    "import torch\n",
    "torch.empty(())"
   ]
  },
  {
   "cell_type": "markdown",
   "metadata": {},
   "source": [
    "# Check lossfunction behaviour"
   ]
  },
  {
   "cell_type": "code",
   "execution_count": 3,
   "metadata": {},
   "outputs": [],
   "source": [
    "from utils.Aggregation_Utils import Survival_Loss\n",
    "import torch\n",
    "lossfunc = Survival_Loss(alpha=0.25)"
   ]
  },
  {
   "cell_type": "code",
   "execution_count": 24,
   "metadata": {},
   "outputs": [
    {
     "name": "stdout",
     "output_type": "stream",
     "text": [
      "Parameter: weight, Gradient: [0.08905183, 0.04643555, 0.08748735, 0.4163526, 2.1671782, 1.1300622, 2.1291046, 10.132417, 1.4594525, 0.76102287, 1.4338125, 6.823519, 0.0021104203, 0.0011004662, 0.002073344, 0.009867052]\n",
      "Parameter: bias, Gradient: [0.03080241, 0.7496119, 0.5048145, 0.0007299798]\n"
     ]
    }
   ],
   "source": [
    "out = 4*(torch.rand((1,4))+torch.tensor([0,0,0,3]))\n",
    "linlayer = torch.nn.Linear(4,4)\n",
    "c = torch.tensor([1])\n",
    "t = torch.tensor([3])\n",
    "linlayer.zero_grad()\n",
    "loss = lossfunc(linlayer(out),c,t)\n",
    "loss.backward()\n",
    "\n",
    "for name,param in linlayer.named_parameters():\n",
    "    if param.grad is not None:\n",
    "        print(f\"Parameter: {name}, Gradient: {list(param.grad.flatten().numpy())}\")"
   ]
  },
  {
   "cell_type": "code",
   "execution_count": 308,
   "metadata": {},
   "outputs": [],
   "source": [
    "import torch\n",
    "from utils.Aggregation_Utils import Survival_Loss\n",
    "def improvedout(out,c,t,alpha,fac,tanapproach=False):\n",
    "    lossfunc = Survival_Loss(alpha=alpha)\n",
    "    optimizer = torch.optim.AdamW([out],lr=0.01)\n",
    "    loss_vec = []\n",
    "    for i in range(1000):\n",
    "        optimizer.zero_grad()\n",
    "        if tanapproach:\n",
    "            x = torch.arange(out.size(-1)).unsqueeze(0).repeat(out.size(0),1)\n",
    "            target = torch.tanh(x-t.unsqueeze(1))-alpha*c.unsqueeze(-1).repeat(1,x.size(-1))\n",
    "            loss = torch.nn.MSELoss()(out,target)\n",
    "        else:\n",
    "            loss = lossfunc(out,c,t)\n",
    "        loss_vec.append(loss.detach().item())\n",
    "        \n",
    "        # Compute gradients\n",
    "        loss.backward()\n",
    "        optimizer.step()    \n",
    "    return out ,loss_vec\n",
    "    "
   ]
  },
  {
   "cell_type": "code",
   "execution_count": 309,
   "metadata": {},
   "outputs": [],
   "source": [
    "bins = 8\n",
    "alpha=0.5\n",
    "n_censored = 20\n",
    "n_uncensored = 2\n",
    "    \n",
    "loss_vec_all = []\n",
    "risks_list = []\n",
    "outvals = []\n",
    "for i in range(bins):\n",
    "    \n",
    "    randi= torch.cat((0.01+torch.rand((n_censored,bins)),torch.rand((n_uncensored,bins))),dim=0)\n",
    "    out = (randi.clone().detach()).requires_grad_(True)\n",
    "    #out = torch.cumsum(out,dim=1).requires_grad_(True)\n",
    "    c = torch.tensor([item for sublist in [[0]*n_uncensored,[1]*n_censored] for item in sublist])\n",
    "    t = torch.tensor([item for sublist in [[i]*n_uncensored,[i]*n_censored] for item in sublist])\n",
    "    outputval,loss_vec = improvedout(out,c,t,alpha,fac=i,tanapproach=True)\n",
    "    loss_vec_all.append(loss_vec)\n",
    "    h = torch.nn.Sigmoid()(outputval)\n",
    "    S = torch.cumprod(1-h,dim = -1)\n",
    "    #risk = torch.exp(-S.sum(dim=1))\n",
    "    risk = -S.sum(dim=1)\n",
    "    risks_list.append(risk.detach().numpy())\n",
    "    outvals.append(outputval.detach().numpy())\n",
    "    #print(\"i :\",i,\"risk :\",risk.detach().numpy())\n"
   ]
  },
  {
   "cell_type": "code",
   "execution_count": 310,
   "metadata": {},
   "outputs": [
    {
     "data": {
      "text/plain": [
       "<function matplotlib.pyplot.show(close=None, block=None)>"
      ]
     },
     "execution_count": 310,
     "metadata": {},
     "output_type": "execute_result"
    },
    {
     "data": {
      "image/png": "[encoded data removed]",
      "text/plain": [
       "<Figure size 640x480 with 1 Axes>"
      ]
     },
     "metadata": {},
     "output_type": "display_data"
    }
   ],
   "source": [
    "import matplotlib.pyplot as plt\n",
    "plt.clf()\n",
    "for j in range(len(loss_vec_all)):\n",
    "    plt.plot(loss_vec_all[j],label=str(j))\n",
    "plt.legend()\n",
    "plt.xlabel(\"step\")\n",
    "plt.ylabel(\"loss\")\n",
    "#plt.yscale(\"log\")\n",
    "plt.show"
   ]
  },
  {
   "cell_type": "code",
   "execution_count": 289,
   "metadata": {},
   "outputs": [
    {
     "data": {
      "text/plain": [
       "<function matplotlib.pyplot.show(close=None, block=None)>"
      ]
     },
     "execution_count": 289,
     "metadata": {},
     "output_type": "execute_result"
    },
    {
     "data": {
      "image/png": "[encoded data removed]",
      "text/plain": [
       "<Figure size 640x480 with 1 Axes>"
      ]
     },
     "metadata": {},
     "output_type": "display_data"
    }
   ],
   "source": [
    "import matplotlib.pyplot as plt\n",
    "plt.clf()\n",
    "for j in range(len(loss_vec_all)):\n",
    "    plt.plot(loss_vec_all[j],label=str(j))\n",
    "plt.legend()\n",
    "plt.xlabel(\"step\")\n",
    "plt.ylabel(\"loss\")\n",
    "#plt.yscale(\"log\")\n",
    "plt.show"
   ]
  },
  {
   "cell_type": "code",
   "execution_count": 311,
   "metadata": {},
   "outputs": [
    {
     "data": {
      "text/plain": [
       "<function matplotlib.pyplot.show(close=None, block=None)>"
      ]
     },
     "execution_count": 311,
     "metadata": {},
     "output_type": "execute_result"
    },
    {
     "data": {
      "image/png": "[encoded data removed]",
      "text/plain": [
       "<Figure size 640x480 with 1 Axes>"
      ]
     },
     "metadata": {},
     "output_type": "display_data"
    }
   ],
   "source": [
    "plt.clf()\n",
    "for j in range(n_censored+n_uncensored):\n",
    "    plt.plot([risks[j] for risks in risks_list],color=f\"green\" if j<n_censored else f\"red\",linewidth=0.1)\n",
    "plt.xlabel(\"targetbin\")\n",
    "plt.ylabel(\"riskvalue\")\n",
    "#plt.yscale(\"log\")\n",
    "plt.show"
   ]
  },
  {
   "cell_type": "code",
   "execution_count": 276,
   "metadata": {},
   "outputs": [
    {
     "data": {
      "text/plain": [
       "[0, 0, 0, 0, 0, 0]"
      ]
     },
     "execution_count": 276,
     "metadata": {},
     "output_type": "execute_result"
    }
   ],
   "source": [
    "[0]*6"
   ]
  },
  {
   "cell_type": "code",
   "execution_count": 312,
   "metadata": {},
   "outputs": [],
   "source": [
    "import numpy as np\n",
    "a = torch.tensor(np.array(outvals)) # target, n_censored+n_uncensored, bins\n"
   ]
  },
  {
   "cell_type": "code",
   "execution_count": 313,
   "metadata": {},
   "outputs": [
    {
     "name": "stderr",
     "output_type": "stream",
     "text": [
      "No artists with labels found to put in legend.  Note that artists whose label start with an underscore are ignored when legend() is called with no argument.\n"
     ]
    },
    {
     "data": {
      "image/png": "[encoded data removed]",
      "text/plain": [
       "<Figure size 640x480 with 1 Axes>"
      ]
     },
     "metadata": {},
     "output_type": "display_data"
    }
   ],
   "source": [
    "plt.clf()\n",
    "for i in range(bins):\n",
    "    for j in range(n_censored+n_uncensored):\n",
    "        label = \"uncensored\" if j<n_censored else \"censored\"\n",
    "        col = \"red\" if j<n_censored else \"blue\"\n",
    "        #col = \"red\" if i==0 else \"green\" if i==1 else \"yellow\" if i==2 else \"blue\"\n",
    "        plt.plot(a[i,j,:],linewidth=0.1,color=col)\n",
    "plt.legend()\n",
    "plt.show()"
   ]
  },
  {
   "cell_type": "code",
   "execution_count": 17,
   "metadata": {},
   "outputs": [
    {
     "data": {
      "text/plain": [
       "torch.Size([2701971, 384])"
      ]
     },
     "execution_count": 17,
     "metadata": {},
     "output_type": "execute_result"
    }
   ],
   "source": [
    "import os\n",
    "import h5py\n",
    "import torch\n",
    "path = \"/nodes/bevog/work4/seibel/data/TCGA-BRCA-DX-features/vit_mae_tiny_I1K_PT_TCGA_BRCA_FT_HIST_GEN_119eps_features/pt_files\"\n",
    "#path = \"/nodes/bevog/work4/seibel/data/TCGA-BRCA-DX-features/vit_mae_tiny_I1K_PT_FT_50eps_TCGA_BRCA_features/pt_files\"\n",
    "#path = \"/nodes/bevog/work4/seibel/data/TCGA-BRCA-DX-features/vit_mae_tiny_I1K_PT_FT_50eps_TCGA_BRCA_features/pt_files\"\n",
    "names = os.listdir(path)\n",
    "tensors= []\n",
    "for i in range(len(names)):\n",
    "    tensor_path =os.path.join(path, names[i]) \n",
    "    tensor_file =h5py.File(tensor_path, \"r\")\n",
    "    tensor_file = torch.tensor(tensor_file[\"feats\"][:]).to(torch.float32)\n",
    "    tensors.append(tensor_file)\n",
    "    \n",
    "tensors = torch.cat(tensors)\n",
    "tensors.size()"
   ]
  },
  {
   "cell_type": "code",
   "execution_count": 18,
   "metadata": {},
   "outputs": [
    {
     "data": {
      "text/plain": [
       "True"
      ]
     },
     "execution_count": 18,
     "metadata": {},
     "output_type": "execute_result"
    }
   ],
   "source": [
    "tensors.isnan().any().item()"
   ]
  },
  {
   "cell_type": "code",
   "execution_count": 28,
   "metadata": {},
   "outputs": [
    {
     "name": "stdout",
     "output_type": "stream",
     "text": [
      "max tensor(2.6230) tensor(nan)\n",
      "max tensor(-1.4775) tensor(nan)\n"
     ]
    }
   ],
   "source": [
    "row\n"
   ]
  },
  {
   "cell_type": "code",
   "execution_count": 27,
   "metadata": {},
   "outputs": [
    {
     "data": {
      "text/plain": [
       "torch.Size([2701779, 384])"
      ]
     },
     "execution_count": 27,
     "metadata": {},
     "output_type": "execute_result"
    }
   ],
   "source": [
    "tensors[:][192:].size()"
   ]
  },
  {
   "cell_type": "code",
   "execution_count": 9,
   "metadata": {},
   "outputs": [
    {
     "name": "stderr",
     "output_type": "stream",
     "text": [
      "/home/seibel/.pyenv/versions/3.10.12/envs/env2/lib/python3.10/site-packages/lightning_fabric/plugins/environments/slurm.py:168: PossibleUserWarning: The `srun` command is available on your system but is not used. HINT: If your intention is to run Lightning on SLURM, prepend your python command with `srun` like so: srun python /home/seibel/.pyenv/versions/3.10.12/envs/env2/lib/p ...\n",
      "  rank_zero_warn(\n",
      "Using 16bit Automatic Mixed Precision (AMP)\n",
      "GPU available: True (cuda), used: True\n",
      "TPU available: False, using: 0 TPU cores\n",
      "IPU available: False, using: 0 IPUs\n",
      "HPU available: False, using: 0 HPUs\n"
     ]
    }
   ],
   "source": [
    "import torch \n",
    "import pandas as pd\n",
    "from torch.utils.data import Dataset,DataLoader\n",
    "import  pytorch_lightning as pl\n",
    "from utils.Encoder_Utils import Patient_Tileset\n",
    "from torchvision import transforms\n",
    "from models.Encoder_Models import SupViTSurv\n",
    "mycheckpnt = \"/home/seibel/maetiny_ft200eps_brca_histo_gen_cont/epoch=119-step=217080_mycopy.ckpt\"\n",
    "model = SupViTSurv(lr=0.001,nbins=4,alpha=0.25)\n",
    "model.load_state_dict(torch.load(mycheckpnt)[\"state_dict\"])\n",
    "df_data_path = \"/nodes/bevog/work4/seibel/data/tile_encoder_dataframes/tcga_brca__4bins_trainsplit.csv\"\n",
    "df_tile_slide_path = \"/nodes/bevog/work4/seibel/data/tile_encoder_dataframes/DF_TCGA-BRCA-TIILES-NORM.csv\"\n",
    "df_tile_paths = pd.read_csv(df_tile_slide_path) \n",
    "\n",
    "transform = transform = transforms.Compose([transforms.ToTensor(),\n",
    "                                            transforms.Normalize(mean=(0.5,0.5,0.5),std=(0.5,0.5,0.5)),\n",
    "                                            ]\n",
    "                                        )\n",
    "slide_name = \"TCGA-A2-A3XW-01Z-00-DX1.45F5F36F-5503-4A38-AF37-E526915A8DBE.svs\"\n",
    "idx = 104\n",
    "df_trainset = pd.read_csv(df_data_path)\n",
    "\n",
    "genomics_tensor = torch.Tensor(df_trainset[df_trainset.keys()[11:]].to_numpy()).to(torch.float32)\n",
    "batch_size=128\n",
    "num_workers=1\n",
    "pin_memory=False\n",
    "trainer = pl.Trainer(\n",
    "        precision=\"16-mixed\",\n",
    "        accelerator=\"gpu\",\n",
    "        devices=1,\n",
    "        detect_anomaly=True\n",
    "           )\n",
    "df_tiles = df_tile_paths[df_tile_paths[\"slide_id\"]==slide_name]\n",
    "gen_vec = genomics_tensor[idx]\n",
    "dataload_i = DataLoader(Patient_Tileset(df_tiles[\"tilepath\"],gen_vec,transform), batch_size=batch_size,num_workers=num_workers,pin_memory=pin_memory)\n",
    "#predictions = trainer.predict(model,dataload_i)\n",
    "#feats = torch.cat(predictions,dim=0)\n",
    "\n"
   ]
  },
  {
   "cell_type": "code",
   "execution_count": 9,
   "metadata": {},
   "outputs": [
    {
     "name": "stderr",
     "output_type": "stream",
     "text": [
      "/home/seibel/.pyenv/versions/3.10.12/envs/env2/lib/python3.10/site-packages/lightning_fabric/plugins/environments/slurm.py:168: PossibleUserWarning: The `srun` command is available on your system but is not used. HINT: If your intention is to run Lightning on SLURM, prepend your python command with `srun` like so: srun python /home/seibel/.pyenv/versions/3.10.12/envs/env2/lib/p ...\n",
      "  rank_zero_warn(\n",
      "LOCAL_RANK: 0 - CUDA_VISIBLE_DEVICES: [0,1]\n",
      "/home/seibel/.pyenv/versions/3.10.12/envs/env2/lib/python3.10/site-packages/pytorch_lightning/trainer/connectors/data_connector.py:438: PossibleUserWarning: The dataloader, predict_dataloader, does not have many workers which may be a bottleneck. Consider increasing the value of the `num_workers` argument` (try 12 which is the number of cpus on this machine) in the `DataLoader` init to improve performance.\n",
      "  rank_zero_warn(\n"
     ]
    },
    {
     "name": "stdout",
     "output_type": "stream",
     "text": [
      "Predicting DataLoader 0: 100%|██████████| 21/21 [00:10<00:00,  2.06it/s]\n"
     ]
    },
    {
     "name": "stderr",
     "output_type": "stream",
     "text": [
      "LOCAL_RANK: 0 - CUDA_VISIBLE_DEVICES: [0,1]\n"
     ]
    },
    {
     "name": "stdout",
     "output_type": "stream",
     "text": [
      "Predicting DataLoader 0: 100%|██████████| 21/21 [00:04<00:00,  4.63it/s]\n"
     ]
    },
    {
     "name": "stderr",
     "output_type": "stream",
     "text": [
      "LOCAL_RANK: 0 - CUDA_VISIBLE_DEVICES: [0,1]\n"
     ]
    },
    {
     "name": "stdout",
     "output_type": "stream",
     "text": [
      "Predicting DataLoader 0: 100%|██████████| 21/21 [00:04<00:00,  4.44it/s]\n"
     ]
    },
    {
     "name": "stderr",
     "output_type": "stream",
     "text": [
      "LOCAL_RANK: 0 - CUDA_VISIBLE_DEVICES: [0,1]\n"
     ]
    },
    {
     "name": "stdout",
     "output_type": "stream",
     "text": [
      "Predicting DataLoader 0: 100%|██████████| 21/21 [00:04<00:00,  4.55it/s]\n"
     ]
    },
    {
     "name": "stderr",
     "output_type": "stream",
     "text": [
      "LOCAL_RANK: 0 - CUDA_VISIBLE_DEVICES: [0,1]\n"
     ]
    },
    {
     "name": "stdout",
     "output_type": "stream",
     "text": [
      "Predicting DataLoader 0: 100%|██████████| 21/21 [00:04<00:00,  4.34it/s]\n"
     ]
    },
    {
     "name": "stderr",
     "output_type": "stream",
     "text": [
      "LOCAL_RANK: 0 - CUDA_VISIBLE_DEVICES: [0,1]\n"
     ]
    },
    {
     "name": "stdout",
     "output_type": "stream",
     "text": [
      "Predicting DataLoader 0: 100%|██████████| 21/21 [00:04<00:00,  4.48it/s]\n"
     ]
    },
    {
     "name": "stderr",
     "output_type": "stream",
     "text": [
      "LOCAL_RANK: 0 - CUDA_VISIBLE_DEVICES: [0,1]\n"
     ]
    },
    {
     "name": "stdout",
     "output_type": "stream",
     "text": [
      "Predicting DataLoader 0: 100%|██████████| 21/21 [00:04<00:00,  4.53it/s]\n"
     ]
    },
    {
     "name": "stderr",
     "output_type": "stream",
     "text": [
      "LOCAL_RANK: 0 - CUDA_VISIBLE_DEVICES: [0,1]\n"
     ]
    },
    {
     "name": "stdout",
     "output_type": "stream",
     "text": [
      "Predicting DataLoader 0: 100%|██████████| 21/21 [00:04<00:00,  4.57it/s]\n"
     ]
    },
    {
     "name": "stderr",
     "output_type": "stream",
     "text": [
      "LOCAL_RANK: 0 - CUDA_VISIBLE_DEVICES: [0,1]\n"
     ]
    },
    {
     "name": "stdout",
     "output_type": "stream",
     "text": [
      "Predicting DataLoader 0: 100%|██████████| 21/21 [00:04<00:00,  4.35it/s]\n"
     ]
    },
    {
     "name": "stderr",
     "output_type": "stream",
     "text": [
      "LOCAL_RANK: 0 - CUDA_VISIBLE_DEVICES: [0,1]\n"
     ]
    },
    {
     "name": "stdout",
     "output_type": "stream",
     "text": [
      "Predicting DataLoader 0: 100%|██████████| 21/21 [00:04<00:00,  4.27it/s]\n"
     ]
    },
    {
     "name": "stderr",
     "output_type": "stream",
     "text": [
      "LOCAL_RANK: 0 - CUDA_VISIBLE_DEVICES: [0,1]\n"
     ]
    },
    {
     "name": "stdout",
     "output_type": "stream",
     "text": [
      "Predicting DataLoader 0: 100%|██████████| 21/21 [00:04<00:00,  4.27it/s]\n"
     ]
    },
    {
     "name": "stderr",
     "output_type": "stream",
     "text": [
      "LOCAL_RANK: 0 - CUDA_VISIBLE_DEVICES: [0,1]\n"
     ]
    },
    {
     "name": "stdout",
     "output_type": "stream",
     "text": [
      "Predicting DataLoader 0: 100%|██████████| 21/21 [00:04<00:00,  4.50it/s]\n"
     ]
    },
    {
     "name": "stderr",
     "output_type": "stream",
     "text": [
      "LOCAL_RANK: 0 - CUDA_VISIBLE_DEVICES: [0,1]\n"
     ]
    },
    {
     "name": "stdout",
     "output_type": "stream",
     "text": [
      "Predicting DataLoader 0: 100%|██████████| 21/21 [00:04<00:00,  4.48it/s]\n"
     ]
    },
    {
     "name": "stderr",
     "output_type": "stream",
     "text": [
      "LOCAL_RANK: 0 - CUDA_VISIBLE_DEVICES: [0,1]\n"
     ]
    },
    {
     "name": "stdout",
     "output_type": "stream",
     "text": [
      "Predicting DataLoader 0: 100%|██████████| 21/21 [00:04<00:00,  4.34it/s]\n"
     ]
    },
    {
     "name": "stderr",
     "output_type": "stream",
     "text": [
      "LOCAL_RANK: 0 - CUDA_VISIBLE_DEVICES: [0,1]\n"
     ]
    },
    {
     "name": "stdout",
     "output_type": "stream",
     "text": [
      "Predicting DataLoader 0: 100%|██████████| 21/21 [00:05<00:00,  4.16it/s]\n"
     ]
    },
    {
     "name": "stderr",
     "output_type": "stream",
     "text": [
      "LOCAL_RANK: 0 - CUDA_VISIBLE_DEVICES: [0,1]\n"
     ]
    },
    {
     "name": "stdout",
     "output_type": "stream",
     "text": [
      "Predicting DataLoader 0: 100%|██████████| 21/21 [00:05<00:00,  4.17it/s]\n"
     ]
    },
    {
     "name": "stderr",
     "output_type": "stream",
     "text": [
      "LOCAL_RANK: 0 - CUDA_VISIBLE_DEVICES: [0,1]\n"
     ]
    },
    {
     "name": "stdout",
     "output_type": "stream",
     "text": [
      "Predicting: 0it [00:00, ?it/s]"
     ]
    },
    {
     "name": "stderr",
     "output_type": "stream",
     "text": [
      "/home/seibel/.pyenv/versions/3.10.12/envs/env2/lib/python3.10/site-packages/pytorch_lightning/trainer/call.py:53: UserWarning: Detected KeyboardInterrupt, attempting graceful shutdown...\n",
      "  rank_zero_warn(\"Detected KeyboardInterrupt, attempting graceful shutdown...\")\n",
      "LOCAL_RANK: 0 - CUDA_VISIBLE_DEVICES: [0,1]\n"
     ]
    },
    {
     "name": "stdout",
     "output_type": "stream",
     "text": [
      "Predicting: 0it [00:00, ?it/s]\n",
      "Predicting DataLoader 0: 100%|██████████| 21/21 [00:05<00:00,  4.14it/s]\n"
     ]
    },
    {
     "name": "stderr",
     "output_type": "stream",
     "text": [
      "LOCAL_RANK: 0 - CUDA_VISIBLE_DEVICES: [0,1]\n"
     ]
    },
    {
     "name": "stdout",
     "output_type": "stream",
     "text": [
      "Predicting DataLoader 0: 100%|██████████| 21/21 [00:04<00:00,  4.45it/s]\n"
     ]
    },
    {
     "name": "stderr",
     "output_type": "stream",
     "text": [
      "LOCAL_RANK: 0 - CUDA_VISIBLE_DEVICES: [0,1]\n"
     ]
    },
    {
     "name": "stdout",
     "output_type": "stream",
     "text": [
      "Predicting DataLoader 0:  86%|████████▌ | 18/21 [00:04<00:00,  4.32it/s]"
     ]
    }
   ],
   "source": [
    "outputs = []\n",
    "model.eval()\n",
    "for idx,batch  in enumerate(dataload_i):\n",
    "    x,y = batch \n",
    "    with torch.no_grad():\n",
    "        output = model.predict_step(batch,idx)\n",
    "        outputs.append(output)\n",
    "outputs = torch.cat(outputs)"
   ]
  },
  {
   "cell_type": "code",
   "execution_count": 6,
   "metadata": {},
   "outputs": [
    {
     "name": "stderr",
     "output_type": "stream",
     "text": [
      "LOCAL_RANK: 0 - CUDA_VISIBLE_DEVICES: [0,1]\n"
     ]
    },
    {
     "name": "stderr",
     "output_type": "stream",
     "text": [
      "/home/seibel/.pyenv/versions/3.10.12/envs/env2/lib/python3.10/site-packages/pytorch_lightning/trainer/connectors/data_connector.py:438: PossibleUserWarning: The dataloader, predict_dataloader, does not have many workers which may be a bottleneck. Consider increasing the value of the `num_workers` argument` (try 12 which is the number of cpus on this machine) in the `DataLoader` init to improve performance.\n",
      "  rank_zero_warn(\n"
     ]
    },
    {
     "name": "stdout",
     "output_type": "stream",
     "text": [
      "Predicting DataLoader 0: 100%|██████████| 21/21 [00:27<00:00,  1.33s/it]\n"
     ]
    }
   ],
   "source": [
    "outputs = trainer.predict(model,dataload_i)\n",
    "outputs = torch.cat(outputs)"
   ]
  },
  {
   "cell_type": "code",
   "execution_count": 10,
   "metadata": {},
   "outputs": [
    {
     "data": {
      "text/plain": [
       "tensor([[nan, nan, nan,  ..., nan, nan, nan],\n",
       "        [nan, nan, nan,  ..., nan, nan, nan],\n",
       "        [nan, nan, nan,  ..., nan, nan, nan],\n",
       "        ...,\n",
       "        [nan, nan, nan,  ..., nan, nan, nan],\n",
       "        [nan, nan, nan,  ..., nan, nan, nan],\n",
       "        [nan, nan, nan,  ..., nan, nan, nan]])"
      ]
     },
     "execution_count": 10,
     "metadata": {},
     "output_type": "execute_result"
    }
   ],
   "source": [
    "outputs"
   ]
  },
  {
   "cell_type": "code",
   "execution_count": 10,
   "metadata": {},
   "outputs": [],
   "source": [
    "for name,params in model.named_parameters():\n",
    "    if params.isnan().any().item():\n",
    "        print(name)"
   ]
  },
  {
   "cell_type": "code",
   "execution_count": null,
   "metadata": {},
   "outputs": [
    {
     "data": {
      "text/plain": [
       "False"
      ]
     },
     "execution_count": 11,
     "metadata": {},
     "output_type": "execute_result"
    }
   ],
   "source": [
    "pred"
   ]
  },
  {
   "cell_type": "markdown",
   "metadata": {},
   "source": [
    "# Bootstrapping\n",
    "\n"
   ]
  },
  {
   "cell_type": "code",
   "execution_count": 1,
   "metadata": {},
   "outputs": [],
   "source": [
    "from models.Aggregation_Models import SNN_Survival\n",
    "from datasets.Aggregation_DS import Gen_Dataset\n",
    "import os \n",
    "import torch \n",
    "import pandas as pd \n",
    "import matplotlib.pyplot as plt\n",
    "import numpy as np\n",
    "bins = 4\n",
    "epochs = 40 \n",
    "device ='cuda' if  torch.cuda.is_available() else 'cpu'\n",
    "storepath = None\n",
    "run_name = \"name\"\n",
    "batchsize = 32\n",
    "d_gen_out = 32\n",
    "feature_path = \"/nodes/bevog/work4/seibel/data/TCGA-BRCA-DX-features/vit_mae_tiny_I1K_PT_FT_50eps_TCGA_BRCA_features/pt_files\"\n",
    "num_workers = 1\n",
    "csv_path_train = \"/nodes/bevog/work4/seibel/data/tile_encoder_dataframes/tcga_brca__4bins_trainsplit.csv\"\n",
    "csv_path_test = \"/nodes/bevog/work4/seibel/data/tile_encoder_dataframes/tcga_brca__4bins_testsplit.csv\"\n",
    "csv_path_val = \"/nodes/bevog/work4/seibel/data/tile_encoder_dataframes/tcga_brca__4bins_valsplit.csv\"\n",
    "\n",
    "df_train = pd.read_csv(csv_path_train)\n",
    "df_test = pd.read_csv(csv_path_test)\n",
    "df_val = pd.read_csv(csv_path_val)\n",
    "\n",
    "train_ds = Gen_Dataset(df_train,data_path = feature_path,mode=\"train\")\n",
    "val_ds = Gen_Dataset(df_val,data_path = feature_path,mode=\"val\")\n",
    "test_ds = Gen_Dataset(df_test,data_path = feature_path,mode=\"test\")\n",
    "\n",
    "d_gen = train_ds.gen_depth()\n",
    "\n",
    "model = SNN_Survival(d_gen,d_gen_out,bins,device,activation=\"SELU\").to(device)\n",
    "training_dataloader = torch.utils.data.DataLoader( train_ds,batch_size=batchsize,num_workers=num_workers,pin_memory=False)\n",
    "test_dataloader = torch.utils.data.DataLoader(test_ds,batch_size=batchsize,num_workers=num_workers,pin_memory=False)\n",
    "val_dataloader = torch.utils.data.DataLoader(val_ds,batch_size=batchsize,num_workers=num_workers,pin_memory=False)\n",
    "\n"
   ]
  },
  {
   "cell_type": "code",
   "execution_count": 2,
   "metadata": {},
   "outputs": [],
   "source": [
    "from trainer.Aggregation_Trainer import Uni_Trainer_sweep\n",
    "from utils.Aggregation_Utils import Survival_Loss,c_index\n",
    "run = None \n",
    "epochs = 40\n",
    "storepath = None \n",
    "run_name=\"none\"\n",
    "modality=\"gen\"\n",
    "learningrate=1e-5\n",
    "l1_lambda=1e-7\n",
    "alpha = 0.25\n",
    "\n",
    "\n",
    "run = None\n",
    "criterion = Survival_Loss(alpha) \n",
    "optimizer = torch.optim.Adam(model.parameters(),lr=learningrate,betas=[0.9,0.999],weight_decay=1e-5,)\n",
    "model_trained = Uni_Trainer_sweep(run,model,optimizer,criterion,training_dataloader,\n",
    "                    val_dataloader,bins,epochs,device,storepath,run_name,\n",
    "                    l1_lambda,modality=modality,batchsize=batchsize,testloader=None\n",
    "                    )\n"
   ]
  },
  {
   "cell_type": "code",
   "execution_count": 3,
   "metadata": {},
   "outputs": [],
   "source": [
    "def bootstrp(out_all,l_all,c_all,l_con_all):\n",
    "    n_bootstrap = 1000\n",
    "    c_idxs = []\n",
    "    for n in range(n_bootstrap):\n",
    "        idx = torch.randint(0,out_all.size(0),size=(out_all.size(0),))\n",
    "        c_idxs.append(c_index(out_all[idx],c_all[idx],l_all[idx]))\n",
    "    #print(c_idxs)\n",
    "    c_idxs = [idx for idx in c_idxs if idx==idx]\n",
    "    return c_idxs"
   ]
  },
  {
   "cell_type": "code",
   "execution_count": 4,
   "metadata": {},
   "outputs": [],
   "source": [
    "\n",
    "def eval(model,modelname,dataloader):\n",
    "    #init counter\n",
    "    out_all =torch.empty(size=(0,bins),device='cpu')        \n",
    "    l_all = torch.empty(size=(0,),device='cpu').to(torch.int16)\n",
    "    l_con_all = torch.empty(size=(0,),device='cpu').to(torch.int16)\n",
    "    c_all = torch.empty(size=(0,),device='cpu').to(torch.int16)\n",
    "    val_r = 0\n",
    "\n",
    "    model.eval()\n",
    "    with torch.no_grad():\n",
    "        for  idx,(x,c,l,l_con) in enumerate(dataloader):\n",
    "            x = x.to(device)\n",
    "            out = model(x)\n",
    "            out = out.cpu()\n",
    "            #loss = criterion(out,l)  #CE loss\n",
    "            loss = criterion(out,c,l)  # TODO add loss regularization \n",
    "            val_r += loss.item()\n",
    "            \n",
    "            out_all = torch.cat((out_all,out),dim=0)\n",
    "            l_all = torch.cat((l_all,l),dim=0)\n",
    "            c_all = torch.cat((c_all,c),dim=0)\n",
    "            l_con_all = torch.cat((l_con_all,l_con),dim=0)\n",
    "            \n",
    "\n",
    "    c_idx_full = c_index(out_all,c_all,l_all)\n",
    "    \n",
    "    c_idx_bootstrp = bootstrp(out_all,l_all,c_all,l_con_all)\n",
    "    return c_idx_bootstrp,c_idx_full,c_all"
   ]
  },
  {
   "cell_type": "code",
   "execution_count": 7,
   "metadata": {},
   "outputs": [
    {
     "data": {
      "image/png": "[encoded data removed]",
      "text/plain": [
       "<Figure size 1200x600 with 4 Axes>"
      ]
     },
     "metadata": {},
     "output_type": "display_data"
    }
   ],
   "source": [
    "import numpy as np\n",
    "fig,axis = plt.subplots(1,4,figsize=(12,6))\n",
    "model1 =  SNN_Survival(d_gen,d_gen_out,bins,device,activation=\"SELU\").to(device)\n",
    "model2 =  SNN_Survival(d_gen,d_gen_out,bins,device,activation=\"SELU\").to(device)\n",
    "model3 =  SNN_Survival(d_gen,d_gen_out,bins,device,activation=\"SELU\").to(device)\n",
    "plt.clf\n",
    "allmodels = [[model1,\"random weights\"],\n",
    "             [model2,\"random weights\"],\n",
    "             [model3,\"random weights\"],\n",
    "             [model_trained,\"trained\"],\n",
    "             ]\n",
    "for idx,mod in enumerate(allmodels):\n",
    "    c_idxs1,c_idx_full1,c_train = eval(mod[0],mod[1],training_dataloader)\n",
    "    c_idxs2,c_idx_full2,c_test = eval(mod[0],mod[1],test_dataloader)\n",
    "    c_idxs3,c_idx_full3,c_val = eval(mod[0],mod[1],val_dataloader)\n",
    "    axis[idx].set_title(mod[1])    \n",
    "    axis[idx].hist(c_idxs3,bins = 50,label = f\"val,mean:{round(np.mean(c_idxs3),3)}\", color=\"blue\")\n",
    "    axis[idx].hist(c_idxs2,bins = 50,label = f\"test,mean:{round(np.mean(c_idxs2),3)}\", color=\"green\")\n",
    "    axis[idx].hist(c_idxs1,bins = 50,label = f\"train,mean:{round(np.mean(c_idxs1),3)}\", color=\"red\")\n",
    "    axis[idx].legend()\n",
    "plt.show()\n",
    "#Bootstrap c-index distribution for 3 random and 1 trained model "
   ]
  },
  {
   "cell_type": "code",
   "execution_count": 8,
   "metadata": {},
   "outputs": [
    {
     "name": "stdout",
     "output_type": "stream",
     "text": [
      "C index problems\n",
      "C index problems\n",
      "C index problems\n",
      "C index problems\n",
      "C index problems\n",
      "C index problems\n",
      "C index problems\n",
      "C index problems\n",
      "C index problems\n",
      "C index problems\n",
      "C index problems\n",
      "C index problems\n",
      "C index problems\n",
      "C index problems\n",
      "C index problems\n",
      "C index problems\n",
      "C index problems\n",
      "C index problems\n",
      "C index problems\n",
      "C index problems\n",
      "C index problems\n",
      "C index problems\n",
      "C index problems\n",
      "C index problems\n",
      "C index problems\n",
      "C index problems\n"
     ]
    }
   ],
   "source": [
    "train_mean = []\n",
    "test_mean = []\n",
    "val_mean = []\n",
    "train_evaluated = []\n",
    "test_evaluated = []\n",
    "val_evaluated = []\n",
    "\n",
    "for idx in range(100):\n",
    "    random_model =  SNN_Survival(d_gen,d_gen_out,bins,device,activation=\"SELU\").to(device)\n",
    "    c_idxs1,c_idx_full1,c_train = eval(random_model,idx,training_dataloader)\n",
    "    c_idxs2,c_idx_full2,c_test = eval(random_model,idx,test_dataloader)\n",
    "    c_idxs3,c_idx_full3,c_val = eval(random_model,idx,val_dataloader)\n",
    "    train_mean.append(np.mean(c_idxs1))\n",
    "    test_mean.append(np.mean(c_idxs2))\n",
    "    val_mean.append(np.mean(c_idxs3))\n",
    "    train_evaluated.append(c_idx_full1)\n",
    "    test_evaluated.append(c_idx_full2)\n",
    "    val_evaluated.append(c_idx_full3)\n",
    "\n",
    "\n",
    "\n"
   ]
  },
  {
   "cell_type": "code",
   "execution_count": 97,
   "metadata": {},
   "outputs": [
    {
     "data": {
      "text/plain": [
       "(array([ 1.,  1.,  0.,  2.,  8.,  4.,  3., 10.,  6.,  8., 10., 14.,  8.,\n",
       "         7.,  6.,  4.,  4.,  0.,  3.,  1.]),\n",
       " array([0.4121761 , 0.42070527, 0.42923444, 0.43776361, 0.44629277,\n",
       "        0.45482194, 0.46335111, 0.47188028, 0.48040944, 0.48893861,\n",
       "        0.49746778, 0.50599695, 0.51452611, 0.52305528, 0.53158445,\n",
       "        0.54011362, 0.54864278, 0.55717195, 0.56570112, 0.57423028,\n",
       "        0.58275945]),\n",
       " <BarContainer object of 20 artists>)"
      ]
     },
     "execution_count": 97,
     "metadata": {},
     "output_type": "execute_result"
    },
    {
     "data": {
      "image/png": "[encoded data removed]",
      "text/plain": [
       "<Figure size 640x480 with 1 Axes>"
      ]
     },
     "metadata": {},
     "output_type": "display_data"
    }
   ],
   "source": [
    "plt.title(\"c-index distribution with random models\")\n",
    "\n",
    "plt.hist(val_evaluated,bins=20,color = \"blue\",label=\"val\")\n",
    "plt.hist(test_evaluated,bins=20,color = \"green\",label=\"test\")\n",
    "plt.hist(train_evaluated,bins=20,color = \"red\",label=\"train\")\n",
    "plt.show()"
   ]
  },
  {
   "cell_type": "code",
   "execution_count": 10,
   "metadata": {},
   "outputs": [
    {
     "name": "stdout",
     "output_type": "stream",
     "text": [
      "C index problems\n",
      "C index problems\n",
      "C index problems\n",
      "C index problems\n",
      "C index problems\n",
      "C index problems\n",
      "C index problems\n",
      "C index problems\n",
      "C index problems\n",
      "C index problems\n",
      "C index problems\n",
      "C index problems\n",
      "C index problems\n",
      "C index problems\n",
      "C index problems\n"
     ]
    }
   ],
   "source": [
    "import numpy as np \n",
    "train_mean = []\n",
    "test_mean = []\n",
    "val_mean = []\n",
    "train_evaluated = []\n",
    "test_evaluated = []\n",
    "val_evaluated = []\n",
    "\n",
    "for idx in range(100):\n",
    "    random_model =  SNN_Survival(d_gen,d_gen_out,bins,device,activation=\"SELU\").to(device)\n",
    "    optimizer = torch.optim.Adam(random_model.parameters(),lr=learningrate,betas=[0.9,0.999],weight_decay=1e-5,)\n",
    "    mod = Uni_Trainer_sweep(run,random_model,optimizer,criterion,training_dataloader,\n",
    "                    val_dataloader,bins,epochs,device,storepath,run_name,\n",
    "                    l1_lambda,modality=modality,batchsize=batchsize,testloader=None\n",
    "                    )\n",
    "    c_idxs1,c_idx_full1,c_train = eval(mod,idx,training_dataloader)\n",
    "    c_idxs2,c_idx_full2,c_test = eval(mod,idx,test_dataloader)\n",
    "    c_idxs3,c_idx_full3,c_val = eval(mod,idx,val_dataloader)\n",
    "    train_mean.append(np.mean(c_idxs1))\n",
    "    test_mean.append(np.mean(c_idxs2))\n",
    "    val_mean.append(np.mean(c_idxs3))\n",
    "    train_evaluated.append(c_idx_full1)\n",
    "    test_evaluated.append(c_idx_full2)\n",
    "    val_evaluated.append(c_idx_full3)"
   ]
  },
  {
   "cell_type": "code",
   "execution_count": null,
   "metadata": {},
   "outputs": [
    {
     "data": {
      "text/plain": [
       "(array([ 1.,  1.,  1.,  0.,  2.,  1.,  4.,  6.,  8.,  8., 14., 10.,  9.,\n",
       "         8.,  9.,  2.,  4.,  5.,  5.,  2.]),\n",
       " array([0.38315603, 0.39383558, 0.40451513, 0.41519467, 0.42587422,\n",
       "        0.43655377, 0.44723331, 0.45791286, 0.46859241, 0.47927195,\n",
       "        0.4899515 , 0.50063105, 0.51131059, 0.52199014, 0.53266969,\n",
       "        0.54334923, 0.55402878, 0.56470833, 0.57538787, 0.58606742,\n",
       "        0.59674697]),\n",
       " <BarContainer object of 20 artists>)"
      ]
     },
     "execution_count": 14,
     "metadata": {},
     "output_type": "execute_result"
    },
    {
     "data": {
      "image/png": "[encoded data removed]",
      "text/plain": [
       "<Figure size 640x480 with 1 Axes>"
      ]
     },
     "metadata": {},
     "output_type": "display_data"
    }
   ],
   "source": [
    "import matplotlib.pyplot as plt\n",
    "plt.title(\"c-index distribution with trained\")\n",
    "\n",
    "plt.hist(val_evaluated,bins=20,color = \"blue\",label=\"val\")\n",
    "plt.hist(test_evaluated,bins=20,color = \"green\",label=\"test\")\n",
    "plt.hist(train_evaluated,bins=20,color = \"red\",label=\"train\")"
   ]
  },
  {
   "cell_type": "code",
   "execution_count": null,
   "metadata": {},
   "outputs": [
    {
     "name": "stdout",
     "output_type": "stream",
     "text": [
      "C index problems\n",
      "C index problems\n",
      "C index problems\n",
      "C index problems\n",
      "C index problems\n",
      "C index problems\n",
      "C index problems\n",
      "C index problems\n",
      "C index problems\n",
      "C index problems\n",
      "C index problems\n",
      "C index problems\n",
      "C index problems\n",
      "C index problems\n",
      "C index problems\n",
      "C index problems\n",
      "C index problems\n",
      "C index problems\n",
      "C index problems\n",
      "C index problems\n",
      "C index problems\n",
      "C index problems\n"
     ]
    }
   ],
   "source": [
    "import numpy as np \n",
    "train_mean = []\n",
    "test_mean = []\n",
    "val_mean = []\n",
    "train_evaluated = []\n",
    "test_evaluated = []\n",
    "val_evaluated = []\n",
    "\n",
    "random_init =  SNN_Survival(d_gen,d_gen_out,bins,device,activation=\"SELU\").to(device)\n",
    "\n",
    "for idx in range(100):\n",
    "    random_model =  SNN_Survival(d_gen,d_gen_out,bins,device,activation=\"SELU\")\n",
    "    random_model.load_state_dict(random_init.state_dict())\n",
    "    random_model.to(device)\n",
    "    optimizer = torch.optim.Adam(random_model.parameters(),lr=learningrate,betas=[0.9,0.999],weight_decay=1e-5,)\n",
    "    mod = Uni_Trainer_sweep(run,random_model,optimizer,criterion,training_dataloader,\n",
    "                    val_dataloader,bins,epochs,device,storepath,run_name,\n",
    "                    l1_lambda,modality=modality,batchsize=batchsize,testloader=None\n",
    "                    )\n",
    "    c_idxs1,c_idx_full1,c_train = eval(mod,idx,training_dataloader)\n",
    "    c_idxs2,c_idx_full2,c_test = eval(mod,idx,test_dataloader)\n",
    "    c_idxs3,c_idx_full3,c_val = eval(mod,idx,val_dataloader)\n",
    "    train_mean.append(np.mean(c_idxs1))\n",
    "    test_mean.append(np.mean(c_idxs2))\n",
    "    val_mean.append(np.mean(c_idxs3))\n",
    "    train_evaluated.append(c_idx_full1)\n",
    "    test_evaluated.append(c_idx_full2)\n",
    "    val_evaluated.append(c_idx_full3)"
   ]
  },
  {
   "cell_type": "code",
   "execution_count": null,
   "metadata": {},
   "outputs": [
    {
     "data": {
      "text/plain": [
       "(array([ 3.,  2.,  8., 13., 11., 12.,  7.,  6.,  5.,  2.,  5.,  4.,  6.,\n",
       "         3.,  2.,  4.,  3.,  0.,  3.,  1.]),\n",
       " array([0.51453683, 0.52179185, 0.52904687, 0.53630188, 0.5435569 ,\n",
       "        0.55081192, 0.55806694, 0.56532195, 0.57257697, 0.57983199,\n",
       "        0.58708701, 0.59434202, 0.60159704, 0.60885206, 0.61610708,\n",
       "        0.62336209, 0.63061711, 0.63787213, 0.64512715, 0.65238216,\n",
       "        0.65963718]),\n",
       " <BarContainer object of 20 artists>)"
      ]
     },
     "execution_count": 9,
     "metadata": {},
     "output_type": "execute_result"
    },
    {
     "data": {
      "image/png": "[encoded data removed]",
      "text/plain": [
       "<Figure size 640x480 with 1 Axes>"
      ]
     },
     "metadata": {},
     "output_type": "display_data"
    }
   ],
   "source": [
    "import matplotlib.pyplot as plt\n",
    "plt.title(\"c-index distribution with trained\")\n",
    "\n",
    "plt.hist(val_evaluated,bins=20,color = \"blue\",label=\"val\")\n",
    "plt.hist(test_evaluated,bins=20,color = \"green\",label=\"test\")\n",
    "plt.hist(train_evaluated,bins=20,color = \"red\",label=\"train\")"
   ]
  },
  {
   "cell_type": "code",
   "execution_count": 10,
   "metadata": {},
   "outputs": [
    {
     "data": {
      "text/plain": [
       "(array([ 4.,  1.,  8., 13., 12., 10.,  9.,  5.,  5.,  2.,  5.,  5.,  6.,\n",
       "         2.,  5.,  3.,  1.,  2.,  1.,  1.]),\n",
       " array([0.51450037, 0.52181032, 0.52912028, 0.53643023, 0.54374019,\n",
       "        0.55105014, 0.5583601 , 0.56567005, 0.57298001, 0.58028996,\n",
       "        0.58759992, 0.59490987, 0.60221982, 0.60952978, 0.61683973,\n",
       "        0.62414969, 0.63145964, 0.6387696 , 0.64607955, 0.65338951,\n",
       "        0.66069946]),\n",
       " <BarContainer object of 20 artists>)"
      ]
     },
     "execution_count": 10,
     "metadata": {},
     "output_type": "execute_result"
    },
    {
     "data": {
      "image/png": "[encoded data removed]",
      "text/plain": [
       "<Figure size 640x480 with 1 Axes>"
      ]
     },
     "metadata": {},
     "output_type": "display_data"
    }
   ],
   "source": [
    "import matplotlib.pyplot as plt\n",
    "plt.title(\"c-index distribution with trained\")\n",
    "\n",
    "plt.hist(val_mean,bins=20,color = \"blue\",label=\"val\")\n",
    "plt.hist(test_mean,bins=20,color = \"green\",label=\"test\")\n",
    "plt.hist(train_mean,bins=20,color = \"red\",label=\"train\")"
   ]
  },
  {
   "cell_type": "code",
   "execution_count": null,
   "metadata": {},
   "outputs": [],
   "source": [
    "import matplotlib.pyplot as plt\n",
    "plt.title(\"c-index distribution with trained\")\n",
    "\n",
    "plt.hist(val_evaluated,bins=20,color = \"blue\",label=\"val\")\n",
    "plt.hist(test_evaluated,bins=20,color = \"green\",label=\"test\")\n",
    "plt.hist(train_evaluated,bins=20,color = \"red\",label=\"train\")"
   ]
  },
  {
   "cell_type": "code",
   "execution_count": null,
   "metadata": {},
   "outputs": [
    {
     "name": "stdout",
     "output_type": "stream",
     "text": [
      "train: from 710, 598 are censored\n",
      "test: from 208, 194 are censored\n",
      "val: from 105, 97 are censored\n"
     ]
    }
   ],
   "source": [
    "print(f\"train: from {len(c_train)}, {c_train.sum()} are censored\")\n",
    "print(f\"test: from {len(c_test)}, {c_test.sum()} are censored\")\n",
    "print(f\"val: from {len(c_val)}, {c_val.sum()} are censored\")"
   ]
  },
  {
   "cell_type": "code",
   "execution_count": 1,
   "metadata": {},
   "outputs": [
    {
     "data": {
      "text/plain": [
       "torch.Size([12, 512])"
      ]
     },
     "execution_count": 1,
     "metadata": {},
     "output_type": "execute_result"
    }
   ],
   "source": [
    "import torch \n",
    "\n",
    "a = torch.rand((5,512))\n",
    "b = torch.rand((4,512))\n",
    "c = torch.rand((3,512))\n",
    "\n",
    "d = [a,b,c]\n",
    "torch.cat(d,dim=0).size()\n",
    "\n"
   ]
  },
  {
   "cell_type": "markdown",
   "metadata": {},
   "source": [
    "# New Bootstrap"
   ]
  },
  {
   "cell_type": "code",
   "execution_count": 14,
   "metadata": {},
   "outputs": [],
   "source": [
    "from models.Aggregation_Models import SNN_Survival\n",
    "from datasets.Aggregation_DS import Gen_Dataset\n",
    "import os \n",
    "import torch \n",
    "import pandas as pd \n",
    "import matplotlib.pyplot as plt\n",
    "import numpy as np\n",
    "bins = 4\n",
    "\n",
    "device ='cuda' if  torch.cuda.is_available() else 'cpu'\n",
    "storepath = None\n",
    "run_name = None\n",
    "d_gen_out = 32\n",
    "feature_path = \"/nodes/bevog/work4/seibel/data/TCGA-BRCA-DX-features/vit_mae_tiny_I1K_PT_FT_50eps_TCGA_BRCA_features/pt_files\"\n",
    "num_workers = 1\n",
    "csv_path_train = \"/nodes/bevog/work4/seibel/data/tile_encoder_dataframes/tcga_brca__4bins_trainsplit.csv\"\n",
    "csv_path_test = \"/nodes/bevog/work4/seibel/data/tile_encoder_dataframes/tcga_brca__4bins_testsplit.csv\"\n",
    "csv_path_val = \"/nodes/bevog/work4/seibel/data/tile_encoder_dataframes/tcga_brca__4bins_valsplit.csv\"\n",
    "\n",
    "df_train = pd.read_csv(csv_path_train)\n",
    "df_test = pd.read_csv(csv_path_test)\n",
    "df_val = pd.read_csv(csv_path_val)\n",
    "\n",
    "train_ds = Gen_Dataset(df_train,data_path = feature_path,mode=\"train\")\n",
    "val_ds = Gen_Dataset(df_val,data_path = feature_path,mode=\"val\")\n",
    "test_ds = Gen_Dataset(df_test,data_path = feature_path,mode=\"test\")\n",
    "d_gen = train_ds.gen_depth()\n",
    "\n"
   ]
  },
  {
   "cell_type": "code",
   "execution_count": 2,
   "metadata": {},
   "outputs": [],
   "source": [
    "from trainer.Aggregation_Trainer import Uni_Trainer_sweep\n",
    "from utils.Aggregation_Utils import Survival_Loss\n",
    "batchsize = 32\n",
    "epochs = 40 \n",
    "l1_lambda = 1e-7\n",
    "modality=\"gen\"\n",
    "alpha = 0.25\n",
    "learningrate = 1e-3\n",
    "\n",
    "trainloader = torch.utils.data.DataLoader( train_ds,batch_size=batchsize,num_workers=num_workers,pin_memory=False)\n",
    "testloader = torch.utils.data.DataLoader(test_ds,batch_size=batchsize,num_workers=num_workers,pin_memory=False)\n",
    "valloader = torch.utils.data.DataLoader(val_ds,batch_size=batchsize,num_workers=num_workers,pin_memory=False)\n",
    "\n",
    "criterion = Survival_Loss(alpha) \n",
    "\n",
    "\n",
    "\n",
    "model = SNN_Survival(d_gen,d_gen_out,bins,device,activation=\"SELU\").to(device)\n",
    "optimizer = torch.optim.Adam(model.parameters(),lr=learningrate,betas=[0.9,0.999],weight_decay=1e-5,)\n",
    "\n",
    "#Uni_Trainer_sweep(run=None,model=model,optimizer=optimizer,criterion=criterion,trainloader=trainloader,\n",
    "#                      valloader=valloader,bins=bins,epochs=epochs,device=device,storepath=None,run_name=None,\n",
    "#                      l1_lambda=l1_lambda,modality=modality,testloader=testloader)"
   ]
  },
  {
   "cell_type": "code",
   "execution_count": 6,
   "metadata": {},
   "outputs": [],
   "source": [
    "outputvals = []\n",
    "modelweightslist = []\n",
    "for i in range(60):\n",
    "    model = SNN_Survival(d_gen,d_gen_out,bins,device,activation=\"SELU\").to(device)\n",
    "    optimizer = torch.optim.Adam(model.parameters(),lr=learningrate,betas=[0.9,0.999],weight_decay=1e-5,)\n",
    "    \n",
    "    c_train,c_test,c_val,modelweights = Uni_Trainer_sweep(run=None,model=model,optimizer=optimizer,criterion=criterion,trainloader=trainloader,\n",
    "                      valloader=valloader,bins=bins,epochs=epochs,device=device,storepath=None,run_name=None,\n",
    "                      l1_lambda=l1_lambda,modality=modality,testloader=testloader)\n",
    "\n",
    "    outputvals.append([c_train,c_test,c_val])\n",
    "    modelweightslist.append(modelweights)"
   ]
  },
  {
   "cell_type": "code",
   "execution_count": 12,
   "metadata": {},
   "outputs": [],
   "source": [
    "import numpy as np \n",
    "ctrain = np.array(outputvals).T\n",
    "\n"
   ]
  },
  {
   "cell_type": "code",
   "execution_count": 25,
   "metadata": {},
   "outputs": [
    {
     "data": {
      "text/plain": [
       "<function matplotlib.pyplot.show(close=None, block=None)>"
      ]
     },
     "execution_count": 25,
     "metadata": {},
     "output_type": "execute_result"
    },
    {
     "data": {
      "image/png": "[encoded data removed]",
      "text/plain": [
       "<Figure size 640x480 with 1 Axes>"
      ]
     },
     "metadata": {},
     "output_type": "display_data"
    }
   ],
   "source": [
    "import matplotlib.pyplot as plt \n",
    "nbins = 10\n",
    "\n",
    "plt.clf\n",
    "plt.title(\"c-index for 60 trainings,same hyperparams, random init weights \")\n",
    "plt.hist(ctrain[2],color = \"red\",label = f\"val, mu:{round(np.mean(ctrain[2]),2)}, std:{round(np.std(ctrain[2]),2)}\",bins = nbins,density=True)\n",
    "plt.hist(ctrain[1],color = \"green\",label = f\"test, mu:{round(np.mean(ctrain[1]),2)}, std:{round(np.std(ctrain[1]),2)}\",bins = nbins,density=True)\n",
    "plt.hist(ctrain[0],color = \"blue\",label = f\"train, mu:{round(np.mean(ctrain[0]),2)}, std:{round(np.std(ctrain[0]),2)}\",bins = nbins,density=True)\n",
    "plt.legend()\n",
    "plt.show"
   ]
  },
  {
   "cell_type": "code",
   "execution_count": 22,
   "metadata": {},
   "outputs": [
    {
     "name": "stdout",
     "output_type": "stream",
     "text": [
      "$$%beta$$\n"
     ]
    }
   ],
   "source": [
    "print(\"$$%beta$$\")\n"
   ]
  },
  {
   "cell_type": "markdown",
   "metadata": {},
   "source": [
    "# kfold"
   ]
  },
  {
   "cell_type": "code",
   "execution_count": 58,
   "metadata": {},
   "outputs": [],
   "source": [
    "import pandas as pd\n",
    "f = \"/nodes/bevog/work4/seibel/data/aggregation_kfold_dataframes/tcga_brca_trainable4.csv\"\n",
    "data_path = None\n",
    "df = pd.read_csv(f)\n",
    "\n",
    "criterion = Survival_Loss(alpha) \n",
    "\n",
    "\n",
    "outputvals = []\n",
    "modelweightslist = []\n",
    "for j in range(5):\n",
    "    outputvals_k = []\n",
    "    modelweightslist_k = []\n",
    "    \n",
    "    df.kfold = df.kfold.apply(lambda x: (x+1)%5)\n",
    "    dataset_train  = Gen_Dataset(df,data_path,train=\"train\",mode=\"kfold\")\n",
    "    dataset_val  = Gen_Dataset(df,data_path,train=\"test\",mode=\"kfold\")\n",
    "\n",
    "    trainloader = torch.utils.data.DataLoader(dataset_train,batch_size=batchsize,num_workers=num_workers,pin_memory=False)\n",
    "    valloader = torch.utils.data.DataLoader(dataset_val,batch_size=batchsize,num_workers=num_workers,pin_memory=False)\n",
    "\n",
    "    for i in range(1):\n",
    "        model = SNN_Survival(d_gen,d_gen_out,bins,device,activation=\"SELU\").to(device)\n",
    "        optimizer = torch.optim.Adam(model.parameters(),lr=learningrate,betas=[0.9,0.999],weight_decay=1e-5,)\n",
    "        \n",
    "        c_train,c_val,modelweights = Uni_Trainer_sweep(run=None,model=model,optimizer=optimizer,criterion=criterion,trainloader=trainloader,\n",
    "                        valloader=valloader,bins=bins,epochs=epochs,device=device,storepath=None,run_name=None,\n",
    "                        l1_lambda=l1_lambda,modality=modality,testloader=None)\n",
    "\n",
    "        outputvals_k.append([c_train,c_val])\n",
    "        modelweightslist_k.append(modelweights)\n",
    "    outputvals.append(outputvals_k)\n",
    "    modelweightslist.append(modelweightslist_k)\n"
   ]
  },
  {
   "cell_type": "code",
   "execution_count": 64,
   "metadata": {},
   "outputs": [
    {
     "name": "stdout",
     "output_type": "stream",
     "text": [
      "[[[0.75369115 0.58536585]]\n",
      "\n",
      " [[0.82601356 0.72899729]]\n",
      "\n",
      " [[0.8009057  0.39837398]]\n",
      "\n",
      " [[0.81111498 0.69647696]]\n",
      "\n",
      " [[0.77006351 0.72357724]]]\n"
     ]
    }
   ],
   "source": [
    "outputvals = np.array(outputvals) # dim : n_folds,n-repeats,(c_train,c_val)\n",
    "print(outputvals)"
   ]
  },
  {
   "cell_type": "code",
   "execution_count": 63,
   "metadata": {},
   "outputs": [
    {
     "data": {
      "text/plain": [
       "array([[0.79235778, 0.62655827]])"
      ]
     },
     "execution_count": 63,
     "metadata": {},
     "output_type": "execute_result"
    }
   ],
   "source": [
    "np.mean(outputvals,axis=0)"
   ]
  },
  {
   "cell_type": "code",
   "execution_count": 56,
   "metadata": {},
   "outputs": [
    {
     "name": "stdout",
     "output_type": "stream",
     "text": [
      "[0 1 2 3 4]\n"
     ]
    },
    {
     "data": {
      "text/html": [
       "<div>\n",
       "<style scoped>\n",
       "    .dataframe tbody tr th:only-of-type {\n",
       "        vertical-align: middle;\n",
       "    }\n",
       "\n",
       "    .dataframe tbody tr th {\n",
       "        vertical-align: top;\n",
       "    }\n",
       "\n",
       "    .dataframe thead th {\n",
       "        text-align: right;\n",
       "    }\n",
       "</style>\n",
       "<table border=\"1\" class=\"dataframe\">\n",
       "  <thead>\n",
       "    <tr style=\"text-align: right;\">\n",
       "      <th></th>\n",
       "      <th>case_id</th>\n",
       "      <th>slide_id</th>\n",
       "      <th>site</th>\n",
       "      <th>kfold</th>\n",
       "      <th>is_female</th>\n",
       "      <th>oncotree_code</th>\n",
       "      <th>age</th>\n",
       "      <th>survival_months_discretized</th>\n",
       "      <th>survival_months</th>\n",
       "      <th>censorship</th>\n",
       "      <th>...</th>\n",
       "      <th>ZWINT_rnaseq</th>\n",
       "      <th>ZXDA_rnaseq</th>\n",
       "      <th>ZXDB_rnaseq</th>\n",
       "      <th>ZXDC_rnaseq</th>\n",
       "      <th>ZYG11A_rnaseq</th>\n",
       "      <th>ZYG11B_rnaseq</th>\n",
       "      <th>ZYX_rnaseq</th>\n",
       "      <th>ZZEF1_rnaseq</th>\n",
       "      <th>ZZZ3_rnaseq</th>\n",
       "      <th>TPTEP1_rnaseq</th>\n",
       "    </tr>\n",
       "  </thead>\n",
       "  <tbody>\n",
       "    <tr>\n",
       "      <th>0</th>\n",
       "      <td>TCGA-3C-AALI</td>\n",
       "      <td>TCGA-3C-AALI-01Z-00-DX1.F6E9A5DF-D8FB-45CF-B4B...</td>\n",
       "      <td>3C</td>\n",
       "      <td>0</td>\n",
       "      <td>1.0</td>\n",
       "      <td>IDC</td>\n",
       "      <td>50.0</td>\n",
       "      <td>3</td>\n",
       "      <td>131.57</td>\n",
       "      <td>1.0</td>\n",
       "      <td>...</td>\n",
       "      <td>0.153655</td>\n",
       "      <td>-0.207313</td>\n",
       "      <td>-0.427975</td>\n",
       "      <td>0.825128</td>\n",
       "      <td>0.825317</td>\n",
       "      <td>-0.963470</td>\n",
       "      <td>0.880672</td>\n",
       "      <td>0.164444</td>\n",
       "      <td>-1.064402</td>\n",
       "      <td>2.395788</td>\n",
       "    </tr>\n",
       "    <tr>\n",
       "      <th>1</th>\n",
       "      <td>TCGA-3C-AALI</td>\n",
       "      <td>TCGA-3C-AALI-01Z-00-DX2.CF4496E0-AB52-4F3E-BDF...</td>\n",
       "      <td>3C</td>\n",
       "      <td>0</td>\n",
       "      <td>1.0</td>\n",
       "      <td>IDC</td>\n",
       "      <td>50.0</td>\n",
       "      <td>3</td>\n",
       "      <td>131.57</td>\n",
       "      <td>1.0</td>\n",
       "      <td>...</td>\n",
       "      <td>0.153655</td>\n",
       "      <td>-0.207313</td>\n",
       "      <td>-0.427975</td>\n",
       "      <td>0.825128</td>\n",
       "      <td>0.825317</td>\n",
       "      <td>-0.963470</td>\n",
       "      <td>0.880672</td>\n",
       "      <td>0.164444</td>\n",
       "      <td>-1.064402</td>\n",
       "      <td>2.395788</td>\n",
       "    </tr>\n",
       "    <tr>\n",
       "      <th>2</th>\n",
       "      <td>TCGA-3C-AALJ</td>\n",
       "      <td>TCGA-3C-AALJ-01Z-00-DX1.777C0957-255A-42F0-9EE...</td>\n",
       "      <td>3C</td>\n",
       "      <td>1</td>\n",
       "      <td>1.0</td>\n",
       "      <td>IDC</td>\n",
       "      <td>62.0</td>\n",
       "      <td>2</td>\n",
       "      <td>48.42</td>\n",
       "      <td>1.0</td>\n",
       "      <td>...</td>\n",
       "      <td>2.665836</td>\n",
       "      <td>-1.099110</td>\n",
       "      <td>-0.184212</td>\n",
       "      <td>-1.279398</td>\n",
       "      <td>2.112450</td>\n",
       "      <td>-1.190473</td>\n",
       "      <td>0.856429</td>\n",
       "      <td>-0.579342</td>\n",
       "      <td>-0.874345</td>\n",
       "      <td>-0.485389</td>\n",
       "    </tr>\n",
       "    <tr>\n",
       "      <th>3</th>\n",
       "      <td>TCGA-3C-AALJ</td>\n",
       "      <td>TCGA-3C-AALJ-01Z-00-DX2.62DFE56B-B84C-40F9-962...</td>\n",
       "      <td>3C</td>\n",
       "      <td>1</td>\n",
       "      <td>1.0</td>\n",
       "      <td>IDC</td>\n",
       "      <td>62.0</td>\n",
       "      <td>2</td>\n",
       "      <td>48.42</td>\n",
       "      <td>1.0</td>\n",
       "      <td>...</td>\n",
       "      <td>2.665836</td>\n",
       "      <td>-1.099110</td>\n",
       "      <td>-0.184212</td>\n",
       "      <td>-1.279398</td>\n",
       "      <td>2.112450</td>\n",
       "      <td>-1.190473</td>\n",
       "      <td>0.856429</td>\n",
       "      <td>-0.579342</td>\n",
       "      <td>-0.874345</td>\n",
       "      <td>-0.485389</td>\n",
       "    </tr>\n",
       "    <tr>\n",
       "      <th>4</th>\n",
       "      <td>TCGA-3C-AALK</td>\n",
       "      <td>TCGA-3C-AALK-01Z-00-DX1.4E6EB156-BB19-410F-878...</td>\n",
       "      <td>3C</td>\n",
       "      <td>2</td>\n",
       "      <td>1.0</td>\n",
       "      <td>IDC</td>\n",
       "      <td>52.0</td>\n",
       "      <td>2</td>\n",
       "      <td>47.57</td>\n",
       "      <td>1.0</td>\n",
       "      <td>...</td>\n",
       "      <td>-0.322065</td>\n",
       "      <td>-0.381861</td>\n",
       "      <td>-0.459009</td>\n",
       "      <td>-0.931029</td>\n",
       "      <td>0.602789</td>\n",
       "      <td>-0.951448</td>\n",
       "      <td>0.979160</td>\n",
       "      <td>-0.899523</td>\n",
       "      <td>-0.520568</td>\n",
       "      <td>-0.384345</td>\n",
       "    </tr>\n",
       "    <tr>\n",
       "      <th>5</th>\n",
       "      <td>TCGA-4H-AAAK</td>\n",
       "      <td>TCGA-4H-AAAK-01Z-00-DX1.ABF1B042-1970-4E28-867...</td>\n",
       "      <td>4H</td>\n",
       "      <td>3</td>\n",
       "      <td>1.0</td>\n",
       "      <td>ILC</td>\n",
       "      <td>50.0</td>\n",
       "      <td>0</td>\n",
       "      <td>11.43</td>\n",
       "      <td>1.0</td>\n",
       "      <td>...</td>\n",
       "      <td>-0.312681</td>\n",
       "      <td>-0.604004</td>\n",
       "      <td>-0.497498</td>\n",
       "      <td>-0.249751</td>\n",
       "      <td>-0.954992</td>\n",
       "      <td>-0.416046</td>\n",
       "      <td>0.108680</td>\n",
       "      <td>-0.798999</td>\n",
       "      <td>-0.186249</td>\n",
       "      <td>0.005573</td>\n",
       "    </tr>\n",
       "    <tr>\n",
       "      <th>6</th>\n",
       "      <td>TCGA-5L-AAT0</td>\n",
       "      <td>TCGA-5L-AAT0-01Z-00-DX1.5E171263-30BF-4C6B-88A...</td>\n",
       "      <td>5L</td>\n",
       "      <td>4</td>\n",
       "      <td>1.0</td>\n",
       "      <td>ILC</td>\n",
       "      <td>42.0</td>\n",
       "      <td>2</td>\n",
       "      <td>48.52</td>\n",
       "      <td>1.0</td>\n",
       "      <td>...</td>\n",
       "      <td>-0.686021</td>\n",
       "      <td>0.114193</td>\n",
       "      <td>0.128381</td>\n",
       "      <td>-0.008212</td>\n",
       "      <td>-0.937623</td>\n",
       "      <td>-0.890623</td>\n",
       "      <td>0.156314</td>\n",
       "      <td>-0.620393</td>\n",
       "      <td>0.146596</td>\n",
       "      <td>-0.324757</td>\n",
       "    </tr>\n",
       "    <tr>\n",
       "      <th>7</th>\n",
       "      <td>TCGA-5L-AAT1</td>\n",
       "      <td>TCGA-5L-AAT1-01Z-00-DX1.F3449A5B-2AC4-4ED7-BF4...</td>\n",
       "      <td>5L</td>\n",
       "      <td>0</td>\n",
       "      <td>1.0</td>\n",
       "      <td>ILC</td>\n",
       "      <td>63.0</td>\n",
       "      <td>2</td>\n",
       "      <td>48.32</td>\n",
       "      <td>1.0</td>\n",
       "      <td>...</td>\n",
       "      <td>-0.533083</td>\n",
       "      <td>-0.753901</td>\n",
       "      <td>-0.087036</td>\n",
       "      <td>-0.474020</td>\n",
       "      <td>-0.571352</td>\n",
       "      <td>-1.250051</td>\n",
       "      <td>0.307265</td>\n",
       "      <td>0.348286</td>\n",
       "      <td>-0.764674</td>\n",
       "      <td>-0.412675</td>\n",
       "    </tr>\n",
       "    <tr>\n",
       "      <th>8</th>\n",
       "      <td>TCGA-5T-A9QA</td>\n",
       "      <td>TCGA-5T-A9QA-01Z-00-DX1.B4212117-E0A7-4EF2-B32...</td>\n",
       "      <td>5T</td>\n",
       "      <td>1</td>\n",
       "      <td>1.0</td>\n",
       "      <td>IDC</td>\n",
       "      <td>52.0</td>\n",
       "      <td>0</td>\n",
       "      <td>9.95</td>\n",
       "      <td>1.0</td>\n",
       "      <td>...</td>\n",
       "      <td>1.313579</td>\n",
       "      <td>-1.339552</td>\n",
       "      <td>-0.891924</td>\n",
       "      <td>-1.129803</td>\n",
       "      <td>-1.070377</td>\n",
       "      <td>-1.859903</td>\n",
       "      <td>-0.324003</td>\n",
       "      <td>-0.238588</td>\n",
       "      <td>-1.001213</td>\n",
       "      <td>-0.587850</td>\n",
       "    </tr>\n",
       "    <tr>\n",
       "      <th>9</th>\n",
       "      <td>TCGA-A1-A0SB</td>\n",
       "      <td>TCGA-A1-A0SB-01Z-00-DX1.B34C267B-CAAA-4AB6-AD5...</td>\n",
       "      <td>A1</td>\n",
       "      <td>2</td>\n",
       "      <td>1.0</td>\n",
       "      <td>ACBC</td>\n",
       "      <td>70.0</td>\n",
       "      <td>0</td>\n",
       "      <td>8.51</td>\n",
       "      <td>1.0</td>\n",
       "      <td>...</td>\n",
       "      <td>-0.879285</td>\n",
       "      <td>1.110662</td>\n",
       "      <td>-0.225821</td>\n",
       "      <td>1.091915</td>\n",
       "      <td>-0.903592</td>\n",
       "      <td>1.456168</td>\n",
       "      <td>1.240531</td>\n",
       "      <td>1.377000</td>\n",
       "      <td>0.838819</td>\n",
       "      <td>1.185807</td>\n",
       "    </tr>\n",
       "  </tbody>\n",
       "</table>\n",
       "<p>10 rows × 20982 columns</p>\n",
       "</div>"
      ],
      "text/plain": [
       "        case_id                                           slide_id site  \\\n",
       "0  TCGA-3C-AALI  TCGA-3C-AALI-01Z-00-DX1.F6E9A5DF-D8FB-45CF-B4B...   3C   \n",
       "1  TCGA-3C-AALI  TCGA-3C-AALI-01Z-00-DX2.CF4496E0-AB52-4F3E-BDF...   3C   \n",
       "2  TCGA-3C-AALJ  TCGA-3C-AALJ-01Z-00-DX1.777C0957-255A-42F0-9EE...   3C   \n",
       "3  TCGA-3C-AALJ  TCGA-3C-AALJ-01Z-00-DX2.62DFE56B-B84C-40F9-962...   3C   \n",
       "4  TCGA-3C-AALK  TCGA-3C-AALK-01Z-00-DX1.4E6EB156-BB19-410F-878...   3C   \n",
       "5  TCGA-4H-AAAK  TCGA-4H-AAAK-01Z-00-DX1.ABF1B042-1970-4E28-867...   4H   \n",
       "6  TCGA-5L-AAT0  TCGA-5L-AAT0-01Z-00-DX1.5E171263-30BF-4C6B-88A...   5L   \n",
       "7  TCGA-5L-AAT1  TCGA-5L-AAT1-01Z-00-DX1.F3449A5B-2AC4-4ED7-BF4...   5L   \n",
       "8  TCGA-5T-A9QA  TCGA-5T-A9QA-01Z-00-DX1.B4212117-E0A7-4EF2-B32...   5T   \n",
       "9  TCGA-A1-A0SB  TCGA-A1-A0SB-01Z-00-DX1.B34C267B-CAAA-4AB6-AD5...   A1   \n",
       "\n",
       "   kfold  is_female oncotree_code   age  survival_months_discretized  \\\n",
       "0      0        1.0           IDC  50.0                            3   \n",
       "1      0        1.0           IDC  50.0                            3   \n",
       "2      1        1.0           IDC  62.0                            2   \n",
       "3      1        1.0           IDC  62.0                            2   \n",
       "4      2        1.0           IDC  52.0                            2   \n",
       "5      3        1.0           ILC  50.0                            0   \n",
       "6      4        1.0           ILC  42.0                            2   \n",
       "7      0        1.0           ILC  63.0                            2   \n",
       "8      1        1.0           IDC  52.0                            0   \n",
       "9      2        1.0          ACBC  70.0                            0   \n",
       "\n",
       "   survival_months  censorship  ...  ZWINT_rnaseq  ZXDA_rnaseq  ZXDB_rnaseq  \\\n",
       "0           131.57         1.0  ...      0.153655    -0.207313    -0.427975   \n",
       "1           131.57         1.0  ...      0.153655    -0.207313    -0.427975   \n",
       "2            48.42         1.0  ...      2.665836    -1.099110    -0.184212   \n",
       "3            48.42         1.0  ...      2.665836    -1.099110    -0.184212   \n",
       "4            47.57         1.0  ...     -0.322065    -0.381861    -0.459009   \n",
       "5            11.43         1.0  ...     -0.312681    -0.604004    -0.497498   \n",
       "6            48.52         1.0  ...     -0.686021     0.114193     0.128381   \n",
       "7            48.32         1.0  ...     -0.533083    -0.753901    -0.087036   \n",
       "8             9.95         1.0  ...      1.313579    -1.339552    -0.891924   \n",
       "9             8.51         1.0  ...     -0.879285     1.110662    -0.225821   \n",
       "\n",
       "   ZXDC_rnaseq  ZYG11A_rnaseq  ZYG11B_rnaseq  ZYX_rnaseq  ZZEF1_rnaseq  \\\n",
       "0     0.825128       0.825317      -0.963470    0.880672      0.164444   \n",
       "1     0.825128       0.825317      -0.963470    0.880672      0.164444   \n",
       "2    -1.279398       2.112450      -1.190473    0.856429     -0.579342   \n",
       "3    -1.279398       2.112450      -1.190473    0.856429     -0.579342   \n",
       "4    -0.931029       0.602789      -0.951448    0.979160     -0.899523   \n",
       "5    -0.249751      -0.954992      -0.416046    0.108680     -0.798999   \n",
       "6    -0.008212      -0.937623      -0.890623    0.156314     -0.620393   \n",
       "7    -0.474020      -0.571352      -1.250051    0.307265      0.348286   \n",
       "8    -1.129803      -1.070377      -1.859903   -0.324003     -0.238588   \n",
       "9     1.091915      -0.903592       1.456168    1.240531      1.377000   \n",
       "\n",
       "   ZZZ3_rnaseq  TPTEP1_rnaseq  \n",
       "0    -1.064402       2.395788  \n",
       "1    -1.064402       2.395788  \n",
       "2    -0.874345      -0.485389  \n",
       "3    -0.874345      -0.485389  \n",
       "4    -0.520568      -0.384345  \n",
       "5    -0.186249       0.005573  \n",
       "6     0.146596      -0.324757  \n",
       "7    -0.764674      -0.412675  \n",
       "8    -1.001213      -0.587850  \n",
       "9     0.838819       1.185807  \n",
       "\n",
       "[10 rows x 20982 columns]"
      ]
     },
     "execution_count": 56,
     "metadata": {},
     "output_type": "execute_result"
    }
   ],
   "source": [
    "f = \"/nodes/bevog/work4/seibel/data/aggregation_kfold_dataframes/tcga_brca_trainable4.csv\"\n",
    "data_path = None\n",
    "df = pd.read_csv(f)\n",
    "print(df.kfold.unique())\n",
    "df.head(10)\n"
   ]
  },
  {
   "cell_type": "code",
   "execution_count": 57,
   "metadata": {},
   "outputs": [
    {
     "name": "stdout",
     "output_type": "stream",
     "text": [
      "0 1 206\n",
      "0 2 206\n",
      "0 3 206\n",
      "0 4 206\n",
      "1 0 206\n",
      "1 2 206\n",
      "1 3 206\n",
      "1 4 206\n",
      "2 0 208\n",
      "2 1 208\n",
      "2 3 208\n",
      "2 4 208\n",
      "3 0 203\n",
      "3 1 203\n",
      "3 2 203\n",
      "3 4 203\n",
      "4 0 200\n",
      "4 1 200\n",
      "4 2 200\n",
      "4 3 200\n"
     ]
    }
   ],
   "source": [
    "for i in range(5):\n",
    "    for j in range(5):\n",
    "        if i!=j:\n",
    "            list_a = list(df[df.kfold==i].case_id)\n",
    "            list_b = list(df[df.kfold==j].case_id)\n",
    "            print(i,j,len(list_a))\n",
    "            for id in list_a:\n",
    "                if id in list_b:\n",
    "                    print(id)\n",
    "                \n"
   ]
  },
  {
   "cell_type": "code",
   "execution_count": 11,
   "metadata": {},
   "outputs": [],
   "source": [
    "import numpy as np\n",
    "import matplotlib.pyplot as plt \n",
    "cvals = [[[0.8239960459656493, 0.48894585068888174, 0.48001977017175335, 0.49791733418776035], [0.7955022859261089, 0.47196411406600447, 0.5248239219078216, 0.46395386094200575]], [[0.8311854785176368, 0.6738105443634805, 0.4659051891867146, 0.5910844406343764], [0.8149335042461144, 0.7389627089584226, 0.5306841852267264, 0.7021003000428633]], [[0.775030677634868, 0.5723384895359418, 0.514407126300959, 0.6151046405823476], [0.8049811389355996, 0.47179253867151955, 0.4764577557605781, 0.5555050045495905]], [[0.7871647652424627, 0.6055538024613443, 0.4177913652971441, 0.5932470810981382], [0.7740909203887356, 0.6102871568318081, 0.4722740039271245, 0.4234774376775008]], [[0.7780346820809249, 0.527189705271897, 0.48897109826589596, 0.34412619344126194], [0.7803005780346821, 0.5442092154420921, 0.5424739884393064, 0.40846824408468246]]]\n",
    "cvals = np.asarray(cvals) # 5folds, 2 repetitions, (c_train_c_val;c_train_rand,c_val_rand)"
   ]
  },
  {
   "cell_type": "code",
   "execution_count": 13,
   "metadata": {},
   "outputs": [
    {
     "data": {
      "text/plain": [
       "array([0.79652201, 0.57050541, 0.49138084, 0.51949845])"
      ]
     },
     "execution_count": 13,
     "metadata": {},
     "output_type": "execute_result"
    }
   ],
   "source": [
    "np.mean(cvals,axis=(0,1)) "
   ]
  },
  {
   "cell_type": "code",
   "execution_count": 15,
   "metadata": {},
   "outputs": [
    {
     "data": {
      "text/plain": [
       "20971"
      ]
     },
     "execution_count": 15,
     "metadata": {},
     "output_type": "execute_result"
    }
   ],
   "source": []
  },
  {
   "cell_type": "code",
   "execution_count": null,
   "metadata": {},
   "outputs": [],
   "source": []
  }
 ],
 "metadata": {
  "kernelspec": {
   "display_name": "env",
   "language": "python",
   "name": "python3"
  },
  "language_info": {
   "codemirror_mode": {
    "name": "ipython",
    "version": 3
   },
   "file_extension": ".py",
   "mimetype": "text/x-python",
   "name": "python",
   "nbconvert_exporter": "python",
   "pygments_lexer": "ipython3",
   "version": "3.10.12"
  },
  "orig_nbformat": 4
 },
 "nbformat": 4,
 "nbformat_minor": 2
}
