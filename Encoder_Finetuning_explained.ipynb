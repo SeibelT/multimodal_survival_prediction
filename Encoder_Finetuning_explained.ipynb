{
 "cells": [
  {
   "attachments": {},
   "cell_type": "markdown",
   "metadata": {},
   "source": [
    "# Fine Tuning of Feature encoder\n",
    "\n",
    "A very common way of applying deep learning techniques in digital pathology is Multiple Instance Learning (MIL) \n",
    "The giga pixel image is cropped into a set of equally sized non overlapping tiles. The tiles are encoded with a pretrained feature extractor and then aggregated within in a second step by a trainable model to solve a specific task. \n",
    "Tipically used feature encoders were pretrained either on Imagenet21k or even on larger histological datasets. The architectures of such models can reach from smaller ones like the Resnet18  up to Swim transformer based transformer architectures. \n",
    "Since pre training larger models from scratch requires huge amounts of ressources, the focus of this model is fine tuning a pretrained model. \n",
    "\n",
    "**The following experiments attempt to explore whether existing feature encoders can be fine-tuned for better survival analysis.**\n",
    "\n",
    "\n",
    "The aim is to carry out the following experiments:\n",
    "\n",
    "1. Resnet18: train from scratch/fine tune on Survival Analysis\n",
    "2. ViT Tiny: train from scratch/fine tune on Survival Analysis (+Multimodality)\n",
    "3. Vit Tiny MAE: fine tune on Survival Analysis \n",
    "4. Vit Tiny MAE: fine tune on Survival Analysis in a supMAE fashion\n",
    "\n",
    "To aquire those experiments, the following subtasks are needed: \n",
    "1. Create a custom dataset(from zip) that statifies on a patient level into a train/test split.\n",
    "2. Create models,find checkpoints,load parameters such that DDP is applicable\n",
    "3. Create a training function which allows partially freezing weights, finetune, train from checkpoint.\n",
    "4. Create an encoding pipeline. \n"
   ]
  },
  {
   "cell_type": "markdown",
   "metadata": {},
   "source": [
    "# DataLoader\n",
    "\n",
    "The Data consists of ~1000 patients. Each patient has exactly one genetic feature vector and can have multiple sets(can have multiple slides) of tile-sets.\n",
    "\n",
    "Idea: \n",
    "\n",
    "The dataloader receives a dataframe which contains meta data and genetic data (stratified by train/test split on a patient level)\n",
    "and further a path to the tiles. From this path, an os.walk is done to create a second dataframe which contains the file path and the slide_id.\n",
    "the dataframe will be adapted to contain the tile_path, meta data and the index of the respecitve row within the genomic tensor\n",
    "\n",
    "1. Import Dataframe, create Gen tensor, metadataframe\n",
    "2. os.walk on tilepath to create tile dataframe,\n",
    "3.  add mapping for slide_id idx\n"
   ]
  },
  {
   "cell_type": "code",
   "execution_count": 1,
   "metadata": {},
   "outputs": [
    {
     "name": "stderr",
     "output_type": "stream",
     "text": [
      "/home/seibel/.local/lib/python3.6/site-packages/tqdm/auto.py:22: TqdmWarning: IProgress not found. Please update jupyter and ipywidgets. See https://ipywidgets.readthedocs.io/en/stable/user_install.html\n",
      "  from .autonotebook import tqdm as notebook_tqdm\n"
     ]
    }
   ],
   "source": [
    "# 1.)\n",
    "from utils.Aggregation_Utils import *\n",
    "df_train,df_test = prepare_csv(df_path=\"/work4/seibel/PORPOISE/datasets_csv/tcga_brca_all_clean.csv.zip\",split=\"traintest\",n_bins=4,save = True,frac_train=0.7,frac_train=0.1)\n",
    "df_train = df_train[df_train[\"traintest\"]==1] # if train \n",
    "\n",
    "\n",
    "\n",
    "genomics_tensor = torch.Tensor(df_train[df_train.keys()[11:]].to_numpy()).to(torch.float32)\n",
    "df_meta = df_train[[\"slide_id\",\"survival_months_discretized\",\"censorship\",\"survival_months\"]]\n",
    "diction = dict([(name,idx) for idx,name in enumerate(df_meta[\"slide_id\"]) ])"
   ]
  },
  {
   "cell_type": "code",
   "execution_count": 16,
   "metadata": {},
   "outputs": [
    {
     "name": "stdout",
     "output_type": "stream",
     "text": [
      "/work4/seibel/data/TCGA-BRCA-TILES/TCGA-A7-A13E-01Z-00-DX2.1E1262AE-A32D-4814-94A5-D951CA8BA35D/TCGA-A7-A13E-01Z-00-DX2_(23973,31270).jpg\n",
      "TCGA-A7-A13E-01Z-00-DX2.1E1262AE-A32D-4814-94A5-D951CA8BA35D.svs\n"
     ]
    },
    {
     "data": {
      "text/html": [
       "<div>\n",
       "<style scoped>\n",
       "    .dataframe tbody tr th:only-of-type {\n",
       "        vertical-align: middle;\n",
       "    }\n",
       "\n",
       "    .dataframe tbody tr th {\n",
       "        vertical-align: top;\n",
       "    }\n",
       "\n",
       "    .dataframe thead th {\n",
       "        text-align: right;\n",
       "    }\n",
       "</style>\n",
       "<table border=\"1\" class=\"dataframe\">\n",
       "  <thead>\n",
       "    <tr style=\"text-align: right;\">\n",
       "      <th></th>\n",
       "      <th>tilepath</th>\n",
       "      <th>slide_id</th>\n",
       "    </tr>\n",
       "  </thead>\n",
       "  <tbody>\n",
       "    <tr>\n",
       "      <th>0</th>\n",
       "      <td>/work4/seibel/data/TCGA-BRCA-TILES/TCGA-A7-A13...</td>\n",
       "      <td>TCGA-A7-A13E-01Z-00-DX2.1E1262AE-A32D-4814-94A...</td>\n",
       "    </tr>\n",
       "    <tr>\n",
       "      <th>1</th>\n",
       "      <td>/work4/seibel/data/TCGA-BRCA-TILES/TCGA-A7-A13...</td>\n",
       "      <td>TCGA-A7-A13E-01Z-00-DX2.1E1262AE-A32D-4814-94A...</td>\n",
       "    </tr>\n",
       "    <tr>\n",
       "      <th>2</th>\n",
       "      <td>/work4/seibel/data/TCGA-BRCA-TILES/TCGA-A7-A13...</td>\n",
       "      <td>TCGA-A7-A13E-01Z-00-DX2.1E1262AE-A32D-4814-94A...</td>\n",
       "    </tr>\n",
       "    <tr>\n",
       "      <th>3</th>\n",
       "      <td>/work4/seibel/data/TCGA-BRCA-TILES/TCGA-A7-A13...</td>\n",
       "      <td>TCGA-A7-A13E-01Z-00-DX2.1E1262AE-A32D-4814-94A...</td>\n",
       "    </tr>\n",
       "    <tr>\n",
       "      <th>4</th>\n",
       "      <td>/work4/seibel/data/TCGA-BRCA-TILES/TCGA-A7-A13...</td>\n",
       "      <td>TCGA-A7-A13E-01Z-00-DX2.1E1262AE-A32D-4814-94A...</td>\n",
       "    </tr>\n",
       "  </tbody>\n",
       "</table>\n",
       "</div>"
      ],
      "text/plain": [
       "                                            tilepath  \\\n",
       "0  /work4/seibel/data/TCGA-BRCA-TILES/TCGA-A7-A13...   \n",
       "1  /work4/seibel/data/TCGA-BRCA-TILES/TCGA-A7-A13...   \n",
       "2  /work4/seibel/data/TCGA-BRCA-TILES/TCGA-A7-A13...   \n",
       "3  /work4/seibel/data/TCGA-BRCA-TILES/TCGA-A7-A13...   \n",
       "4  /work4/seibel/data/TCGA-BRCA-TILES/TCGA-A7-A13...   \n",
       "\n",
       "                                            slide_id  \n",
       "0  TCGA-A7-A13E-01Z-00-DX2.1E1262AE-A32D-4814-94A...  \n",
       "1  TCGA-A7-A13E-01Z-00-DX2.1E1262AE-A32D-4814-94A...  \n",
       "2  TCGA-A7-A13E-01Z-00-DX2.1E1262AE-A32D-4814-94A...  \n",
       "3  TCGA-A7-A13E-01Z-00-DX2.1E1262AE-A32D-4814-94A...  \n",
       "4  TCGA-A7-A13E-01Z-00-DX2.1E1262AE-A32D-4814-94A...  "
      ]
     },
     "execution_count": 16,
     "metadata": {},
     "output_type": "execute_result"
    }
   ],
   "source": [
    "#2.)\n",
    "import os\n",
    "import pandas as pd\n",
    "tile_path = \"/work4/seibel/data/TCGA-BRCA-TILES/\"\n",
    "ext = \"jpg\"\n",
    "file_list = []\n",
    "root_list = []\n",
    "for root, dirs, files in os.walk(tile_path, topdown=False):\n",
    "    for name in files:\n",
    "        file_list.append(os.path.join(root, name))\n",
    "        root_list.append(root.split(\"/\")[-1]+\".svs\")\n",
    "\n",
    "df_tiles = pd.DataFrame({\"tilepath\":file_list,\"slide_id\":root_list},)\n",
    "df_tiles = df_tiles[df_tiles[\"tilepath\"].str.endswith(ext)] # Avoid having other files than .<ext> files in Dataframe\n",
    "\n",
    "\n",
    "print(df_tiles.tilepath.iloc[0])\n",
    "print(df_tiles.slide_id.iloc[0])\n",
    "df_tiles.head()"
   ]
  },
  {
   "cell_type": "code",
   "execution_count": 17,
   "metadata": {},
   "outputs": [
    {
     "data": {
      "text/html": [
       "<div>\n",
       "<style scoped>\n",
       "    .dataframe tbody tr th:only-of-type {\n",
       "        vertical-align: middle;\n",
       "    }\n",
       "\n",
       "    .dataframe tbody tr th {\n",
       "        vertical-align: top;\n",
       "    }\n",
       "\n",
       "    .dataframe thead th {\n",
       "        text-align: right;\n",
       "    }\n",
       "</style>\n",
       "<table border=\"1\" class=\"dataframe\">\n",
       "  <thead>\n",
       "    <tr style=\"text-align: right;\">\n",
       "      <th></th>\n",
       "      <th>tilepath</th>\n",
       "      <th>slide_id</th>\n",
       "      <th>slideid_idx</th>\n",
       "    </tr>\n",
       "  </thead>\n",
       "  <tbody>\n",
       "    <tr>\n",
       "      <th>0</th>\n",
       "      <td>/work4/seibel/data/TCGA-BRCA-TILES/TCGA-A7-A13...</td>\n",
       "      <td>TCGA-A7-A13E-01Z-00-DX2.1E1262AE-A32D-4814-94A...</td>\n",
       "      <td>130</td>\n",
       "    </tr>\n",
       "    <tr>\n",
       "      <th>1</th>\n",
       "      <td>/work4/seibel/data/TCGA-BRCA-TILES/TCGA-A7-A13...</td>\n",
       "      <td>TCGA-A7-A13E-01Z-00-DX2.1E1262AE-A32D-4814-94A...</td>\n",
       "      <td>130</td>\n",
       "    </tr>\n",
       "    <tr>\n",
       "      <th>2</th>\n",
       "      <td>/work4/seibel/data/TCGA-BRCA-TILES/TCGA-A7-A13...</td>\n",
       "      <td>TCGA-A7-A13E-01Z-00-DX2.1E1262AE-A32D-4814-94A...</td>\n",
       "      <td>130</td>\n",
       "    </tr>\n",
       "    <tr>\n",
       "      <th>3</th>\n",
       "      <td>/work4/seibel/data/TCGA-BRCA-TILES/TCGA-A7-A13...</td>\n",
       "      <td>TCGA-A7-A13E-01Z-00-DX2.1E1262AE-A32D-4814-94A...</td>\n",
       "      <td>130</td>\n",
       "    </tr>\n",
       "    <tr>\n",
       "      <th>4</th>\n",
       "      <td>/work4/seibel/data/TCGA-BRCA-TILES/TCGA-A7-A13...</td>\n",
       "      <td>TCGA-A7-A13E-01Z-00-DX2.1E1262AE-A32D-4814-94A...</td>\n",
       "      <td>130</td>\n",
       "    </tr>\n",
       "    <tr>\n",
       "      <th>...</th>\n",
       "      <td>...</td>\n",
       "      <td>...</td>\n",
       "      <td>...</td>\n",
       "    </tr>\n",
       "    <tr>\n",
       "      <th>470043</th>\n",
       "      <td>/work4/seibel/data/TCGA-BRCA-TILES/TCGA-BH-A0E...</td>\n",
       "      <td>TCGA-BH-A0E7-01Z-00-DX1.7FEE54C4-3795-403C-85B...</td>\n",
       "      <td>508</td>\n",
       "    </tr>\n",
       "    <tr>\n",
       "      <th>470044</th>\n",
       "      <td>/work4/seibel/data/TCGA-BRCA-TILES/TCGA-BH-A0E...</td>\n",
       "      <td>TCGA-BH-A0E7-01Z-00-DX1.7FEE54C4-3795-403C-85B...</td>\n",
       "      <td>508</td>\n",
       "    </tr>\n",
       "    <tr>\n",
       "      <th>470045</th>\n",
       "      <td>/work4/seibel/data/TCGA-BRCA-TILES/TCGA-BH-A0E...</td>\n",
       "      <td>TCGA-BH-A0E7-01Z-00-DX1.7FEE54C4-3795-403C-85B...</td>\n",
       "      <td>508</td>\n",
       "    </tr>\n",
       "    <tr>\n",
       "      <th>470046</th>\n",
       "      <td>/work4/seibel/data/TCGA-BRCA-TILES/TCGA-BH-A0E...</td>\n",
       "      <td>TCGA-BH-A0E7-01Z-00-DX1.7FEE54C4-3795-403C-85B...</td>\n",
       "      <td>508</td>\n",
       "    </tr>\n",
       "    <tr>\n",
       "      <th>470047</th>\n",
       "      <td>/work4/seibel/data/TCGA-BRCA-TILES/TCGA-BH-A0E...</td>\n",
       "      <td>TCGA-BH-A0E7-01Z-00-DX1.7FEE54C4-3795-403C-85B...</td>\n",
       "      <td>508</td>\n",
       "    </tr>\n",
       "  </tbody>\n",
       "</table>\n",
       "<p>356141 rows × 3 columns</p>\n",
       "</div>"
      ],
      "text/plain": [
       "                                                 tilepath  \\\n",
       "0       /work4/seibel/data/TCGA-BRCA-TILES/TCGA-A7-A13...   \n",
       "1       /work4/seibel/data/TCGA-BRCA-TILES/TCGA-A7-A13...   \n",
       "2       /work4/seibel/data/TCGA-BRCA-TILES/TCGA-A7-A13...   \n",
       "3       /work4/seibel/data/TCGA-BRCA-TILES/TCGA-A7-A13...   \n",
       "4       /work4/seibel/data/TCGA-BRCA-TILES/TCGA-A7-A13...   \n",
       "...                                                   ...   \n",
       "470043  /work4/seibel/data/TCGA-BRCA-TILES/TCGA-BH-A0E...   \n",
       "470044  /work4/seibel/data/TCGA-BRCA-TILES/TCGA-BH-A0E...   \n",
       "470045  /work4/seibel/data/TCGA-BRCA-TILES/TCGA-BH-A0E...   \n",
       "470046  /work4/seibel/data/TCGA-BRCA-TILES/TCGA-BH-A0E...   \n",
       "470047  /work4/seibel/data/TCGA-BRCA-TILES/TCGA-BH-A0E...   \n",
       "\n",
       "                                                 slide_id  slideid_idx  \n",
       "0       TCGA-A7-A13E-01Z-00-DX2.1E1262AE-A32D-4814-94A...          130  \n",
       "1       TCGA-A7-A13E-01Z-00-DX2.1E1262AE-A32D-4814-94A...          130  \n",
       "2       TCGA-A7-A13E-01Z-00-DX2.1E1262AE-A32D-4814-94A...          130  \n",
       "3       TCGA-A7-A13E-01Z-00-DX2.1E1262AE-A32D-4814-94A...          130  \n",
       "4       TCGA-A7-A13E-01Z-00-DX2.1E1262AE-A32D-4814-94A...          130  \n",
       "...                                                   ...          ...  \n",
       "470043  TCGA-BH-A0E7-01Z-00-DX1.7FEE54C4-3795-403C-85B...          508  \n",
       "470044  TCGA-BH-A0E7-01Z-00-DX1.7FEE54C4-3795-403C-85B...          508  \n",
       "470045  TCGA-BH-A0E7-01Z-00-DX1.7FEE54C4-3795-403C-85B...          508  \n",
       "470046  TCGA-BH-A0E7-01Z-00-DX1.7FEE54C4-3795-403C-85B...          508  \n",
       "470047  TCGA-BH-A0E7-01Z-00-DX1.7FEE54C4-3795-403C-85B...          508  \n",
       "\n",
       "[356141 rows x 3 columns]"
      ]
     },
     "execution_count": 17,
     "metadata": {},
     "output_type": "execute_result"
    }
   ],
   "source": [
    "# 3.)\n",
    "df_tiles.insert(2,\"slideid_idx\",df_tiles[\"slide_id\"].map(diction))\n",
    "df_tiles = df_tiles.dropna()\n",
    "df_tiles.slideid_idx = df_tiles.slideid_idx.astype(int)\n",
    "df_tiles"
   ]
  },
  {
   "cell_type": "code",
   "execution_count": 42,
   "metadata": {},
   "outputs": [
    {
     "data": {
      "text/plain": [
       "(tensor([[[0.8667, 0.8745, 0.8667,  ..., 0.8745, 0.9137, 0.8824],\n",
       "          [0.8745, 0.8588, 0.8118,  ..., 0.8824, 0.9137, 0.8824],\n",
       "          [0.8510, 0.8588, 0.8353,  ..., 0.8902, 0.9059, 0.8824],\n",
       "          ...,\n",
       "          [0.4745, 0.4824, 0.5216,  ..., 0.8745, 0.8745, 0.8824],\n",
       "          [0.5686, 0.4824, 0.5529,  ..., 0.8745, 0.8745, 0.8824],\n",
       "          [0.6784, 0.5137, 0.6000,  ..., 0.8745, 0.8745, 0.8824]],\n",
       " \n",
       "         [[0.8980, 0.9059, 0.8980,  ..., 0.8588, 0.8980, 0.8667],\n",
       "          [0.9059, 0.8902, 0.8431,  ..., 0.8667, 0.8980, 0.8667],\n",
       "          [0.8588, 0.8667, 0.8431,  ..., 0.8745, 0.8902, 0.8667],\n",
       "          ...,\n",
       "          [0.2549, 0.2784, 0.3490,  ..., 0.8745, 0.8745, 0.8824],\n",
       "          [0.3412, 0.2784, 0.3804,  ..., 0.8745, 0.8745, 0.8824],\n",
       "          [0.4510, 0.3098, 0.4275,  ..., 0.8745, 0.8745, 0.8824]],\n",
       " \n",
       "         [[0.9059, 0.9137, 0.8902,  ..., 0.8824, 0.9059, 0.8745],\n",
       "          [0.9137, 0.8980, 0.8510,  ..., 0.8902, 0.9059, 0.8745],\n",
       "          [0.8902, 0.8980, 0.8745,  ..., 0.8980, 0.8980, 0.8745],\n",
       "          ...,\n",
       "          [0.4510, 0.4745, 0.5137,  ..., 0.8902, 0.8902, 0.8980],\n",
       "          [0.5608, 0.4745, 0.5451,  ..., 0.8902, 0.8902, 0.8980],\n",
       "          [0.6706, 0.5059, 0.5922,  ..., 0.8902, 0.8902, 0.8980]]]),\n",
       " tensor([ 0.3896,  0.3837,  0.3837,  ...,  0.8423, -0.6116, -0.5707]),\n",
       " tensor(0),\n",
       " tensor(0),\n",
       " tensor(20))"
      ]
     },
     "execution_count": 42,
     "metadata": {},
     "output_type": "execute_result"
    }
   ],
   "source": [
    "from torch.utils.data import DataLoader,Dataset\n",
    "from utils.Aggregation_Utils import *\n",
    "import pandas as pd\n",
    "import os \n",
    "from PIL import Image\n",
    "from torchvision import transforms\n",
    "\n",
    "\n",
    "\n",
    "class TileDataset(Dataset):\n",
    "    def __init__(self,df_path,tilepath,ext,trainmode):\n",
    "        \"\"\"Custom Dataset for Feature Extractor Finetuning for Survival Analysis \n",
    "\n",
    "        Args:\n",
    "            df_path (str): Path to Dataframe which contains meta data and genomic data \n",
    "            tilepath (str): path to folder which contains subfolders with tiles(subfolder names must ne slide id)\n",
    "            ext (str): file extension of tiles(eg jpg or png)\n",
    "            trainmode (Bool): To generate train set or test set \n",
    "        \"\"\"\n",
    "        super(TileDataset,self).__init__()\n",
    "        #Genomic Tensor and Meta Dataframe\n",
    "        df = pd.read_csv(df_path) \n",
    "        df[df[\"traintest\"]==(1 if trainmode else 0)]\n",
    "        \n",
    "        self.genomics_tensor = torch.Tensor(df_train[df_train.keys()[11:]].to_numpy()).to(torch.float32)\n",
    "        self.df_meta = df_train[[\"slide_id\",\"survival_months_discretized\",\"censorship\",\"survival_months\"]]\n",
    "        \n",
    "        # Tile Data Frame\n",
    "        file_list = []\n",
    "        root_list = []\n",
    "        for root, dirs, files in os.walk(tile_path, topdown=False):\n",
    "            for name in files:\n",
    "                file_list.append(os.path.join(root, name))\n",
    "                root_list.append(root.split(\"/\")[-1]+\".svs\")\n",
    "\n",
    "        df_tiles = pd.DataFrame({\"tilepath\":file_list,\"slide_id\":root_list},)\n",
    "        df_tiles = df_tiles[df_tiles[\"tilepath\"].str.endswith(ext)]\n",
    "        \n",
    "        # add slide_id to index mapping\n",
    "        diction= dict([(name,idx) for idx,name in enumerate(df_meta[\"slide_id\"]) ]) \n",
    "        df_tiles.insert(2,\"slideid_idx\",df_tiles[\"slide_id\"].map(diction))\n",
    "        df_tiles = df_tiles.dropna()\n",
    "        df_tiles.slideid_idx = df_tiles.slideid_idx.astype(int)\n",
    "        self.df_tiles = df_tiles\n",
    "        \n",
    "        # TODO transforms \n",
    "        self.transforms = transforms.Compose([transforms.ToTensor(),transforms.Normalize(mean=(0.5,0.5,0.5),std=(0.5,0.5,0.5)),transforms.RandomHorizontalFlip(p=0.5),transforms.RandomVerticalFlip(p=0.5)])\n",
    "    def __len__(self):\n",
    "        return len(df_tiles)\n",
    "    def __getitem__(self,idx):\n",
    "        \n",
    "        tile_path,_,slide_idx = self.df_tiles.iloc[idx]\n",
    "        tile = Image.open(tile_path)\n",
    "        tile = self.transforms(tile)\n",
    "        \n",
    "        label = torch.tensor(self.df_meta.iloc[slide_idx, 1]).type(torch.int64)\n",
    "        censorship = torch.tensor(self.df_meta.iloc[slide_idx, 2]).type(torch.int64)\n",
    "        label_cont = torch.tensor(self.df_meta.iloc[slide_idx,3]).type(torch.int64)\n",
    "        return tile, self.genomics_tensor[slide_idx], censorship, label,label_cont\n",
    "        \n",
    "        \n",
    "        \n",
    "df_path_train = \"/work4/seibel/PORPOISE/datasets_csv/tcga_brca__4bins_trainsplit.csv\"\n",
    "df_path_test = \"/work4/seibel/PORPOISE/datasets_csv/tcga_brca__4bins_testsplit.csv\"\n",
    "\n",
    "tilepath = \"/work4/seibel/data/TCGA-BRCA-TILES/\"\n",
    "ext = \"jpg\"\n",
    "trainmode=True\n",
    "\n",
    "\n",
    "DS = TileDataset(df_path_train,tilepath,ext,trainmode)\n",
    "DS.__getitem__(8)"
   ]
  },
  {
   "cell_type": "code",
   "execution_count": 9,
   "metadata": {},
   "outputs": [
    {
     "data": {
      "text/plain": [
       "torch.Size([5])"
      ]
     },
     "execution_count": 9,
     "metadata": {},
     "output_type": "execute_result"
    }
   ],
   "source": [
    "import torch\n",
    "from torch import nn\n",
    "channels = 12\n",
    "model = nn.Sequential(nn.Conv2d(3, channels, kernel_size=(3, 3), padding='same', bias=True),\n",
    "                          nn.AdaptiveAvgPool2d(1),\n",
    "                          nn.Flatten(1),\n",
    "                          nn.Linear(channels,1),\n",
    "                          nn.Flatten(0))\n",
    "\n",
    "\n",
    "\n",
    "x = torch.rand((5,3,16,16))\n",
    "model(x).size()"
   ]
  },
  {
   "cell_type": "code",
   "execution_count": 42,
   "metadata": {},
   "outputs": [
    {
     "name": "stdout",
     "output_type": "stream",
     "text": [
      "None\n"
     ]
    }
   ],
   "source": [
    "import argparse\n",
    "import yaml\n",
    "import os\n",
    "f = \"./encoder_configs/base.yaml\"\n",
    "os.path.exists(f)\n",
    "with open(f, 'r') as file:\n",
    "        config = yaml.safe_load(file)\n",
    "        \n",
    "print(config[\"train_settings\"][\"checkpoint_path\"])\n"
   ]
  },
  {
   "cell_type": "code",
   "execution_count": null,
   "metadata": {},
   "outputs": [],
   "source": [
    "DF1 = ['case_id', 'slide_id', 'site', 'traintest', 'metas','gendata']\n",
    "DF2 = ['TILEPATH','SLIDE_ID']\n",
    "#get one tensor for gendata, one df with tilepath, metadata, tensoridx"
   ]
  },
  {
   "cell_type": "code",
   "execution_count": 60,
   "metadata": {},
   "outputs": [
    {
     "ename": "AssertionError",
     "evalue": "Dataset mode not known",
     "output_type": "error",
     "traceback": [
      "\u001b[0;31m---------------------------------------------------------------------------\u001b[0m",
      "\u001b[0;31mAssertionError\u001b[0m                            Traceback (most recent call last)",
      "\u001b[0;32m<ipython-input-60-98f6e74b09df>\u001b[0m in \u001b[0;36m<module>\u001b[0;34m()\u001b[0m\n\u001b[1;32m      1\u001b[0m \u001b[0mmode\u001b[0m \u001b[0;34m=\u001b[0m \u001b[0;34m\"vali\"\u001b[0m\u001b[0;34m\u001b[0m\u001b[0;34m\u001b[0m\u001b[0m\n\u001b[0;32m----> 2\u001b[0;31m \u001b[0;32massert\u001b[0m \u001b[0mmode\u001b[0m \u001b[0;32min\u001b[0m \u001b[0;34m[\u001b[0m\u001b[0;34m\"train\"\u001b[0m\u001b[0;34m,\u001b[0m\u001b[0;34m\"test\"\u001b[0m\u001b[0;34m,\u001b[0m\u001b[0;34m\"val\"\u001b[0m\u001b[0;34m]\u001b[0m\u001b[0;34m,\u001b[0m \u001b[0;34m\"Dataset mode not known\"\u001b[0m\u001b[0;34m\u001b[0m\u001b[0;34m\u001b[0m\u001b[0m\n\u001b[0m\u001b[1;32m      3\u001b[0m \u001b[0mdf_train\u001b[0m\u001b[0;34m.\u001b[0m\u001b[0msurvival_months_discretized\u001b[0m\u001b[0;34m[\u001b[0m\u001b[0mdf_train\u001b[0m\u001b[0;34m.\u001b[0m\u001b[0msurvival_months_discretized\u001b[0m\u001b[0;34m==\u001b[0m\u001b[0;34m(\u001b[0m \u001b[0;36m0\u001b[0m \u001b[0;32mif\u001b[0m \u001b[0mmode\u001b[0m\u001b[0;34m==\u001b[0m\u001b[0;34m\"train\"\u001b[0m \u001b[0;32melse\u001b[0m \u001b[0;36m1\u001b[0m \u001b[0;32mif\u001b[0m \u001b[0mmode\u001b[0m\u001b[0;34m==\u001b[0m\u001b[0;34m\"test\"\u001b[0m \u001b[0;32melse\u001b[0m \u001b[0;36m2\u001b[0m\u001b[0;34m)\u001b[0m\u001b[0;34m]\u001b[0m\u001b[0;34m\u001b[0m\u001b[0;34m\u001b[0m\u001b[0m\n",
      "\u001b[0;31mAssertionError\u001b[0m: Dataset mode not known"
     ]
    }
   ],
   "source": [
    "mode = \"vali\"\n",
    "assert mode in [\"train\",\"test\",\"val\"], \"Dataset mode not known\"\n",
    "df_train.survival_months_discretized[df_train.survival_months_discretized==( 0 if mode==\"train\" else 1 if mode==\"test\" else 2)]"
   ]
  },
  {
   "cell_type": "code",
   "execution_count": 49,
   "metadata": {},
   "outputs": [],
   "source": [
    "if else "
   ]
  },
  {
   "cell_type": "code",
   "execution_count": null,
   "metadata": {},
   "outputs": [],
   "source": []
  }
 ],
 "metadata": {
  "kernelspec": {
   "display_name": "Python 3",
   "language": "python",
   "name": "python3"
  },
  "language_info": {
   "codemirror_mode": {
    "name": "ipython",
    "version": 3
   },
   "file_extension": ".py",
   "mimetype": "text/x-python",
   "name": "python",
   "nbconvert_exporter": "python",
   "pygments_lexer": "ipython3",
   "version": "3.6.9"
  },
  "orig_nbformat": 4
 },
 "nbformat": 4,
 "nbformat_minor": 2
}
