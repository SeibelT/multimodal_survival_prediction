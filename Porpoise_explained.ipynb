{
 "cells": [
  {
   "cell_type": "code",
   "execution_count": null,
   "metadata": {},
   "outputs": [],
   "source": []
  },
  {
   "cell_type": "code",
   "execution_count": null,
   "metadata": {},
   "outputs": [],
   "source": []
  },
  {
   "attachments": {},
   "cell_type": "markdown",
   "metadata": {},
   "source": [
    "# Reproduction of the PORPOISE paper \n",
    "\n",
    "\n",
    "The purpose of this notebook is to partially reconstruct the results of the paper [Pan-Cancer Integrative Histology-Genomic Analysis via Multimodal Deep Learning](https://www.cell.com/cancer-cell/fulltext/S1535-6108(22)00317-8) which introduced the **PORPOISE** platform, therefore this notebook will refer to the paper as the PORPOISE paper for readability.\n",
    "\n",
    "More specifically, this notebook reconstructs the multimodal model that classifies survival prediction from the combination of histological slides and genomic data. \n",
    "The model consists of an attention MIL aggregation on bags of previously extracted feature vectors from Whole Slide Imags (WSI) and a SNN encoding the molecular profile data (mutation status, copy-number variation, RNA sequencing).\n",
    " \n",
    "Both modalities are then fused so that a classification head can be applied to predict survival. The aggregation of the WSI feature vectors, the SNN for genomics, the fusion and the classification head are jointly trained by back-propagation of the Cox loss. \n",
    "\n",
    "The blocks are implemented as described in the paper and commented so as to be understandable, but also compatible, so that they can later be combined into a single pipeline for training and evaluation purposes.\n",
    "\n"
   ]
  },
  {
   "attachments": {},
   "cell_type": "markdown",
   "metadata": {},
   "source": [
    "![width=6](imgs/porpoisemodel.png)\n"
   ]
  },
  {
   "attachments": {},
   "cell_type": "markdown",
   "metadata": {},
   "source": [
    "![](image.png)"
   ]
  },
  {
   "cell_type": "code",
   "execution_count": 2,
   "metadata": {},
   "outputs": [],
   "source": [
    "import torch\n",
    "from torch import nn "
   ]
  },
  {
   "attachments": {},
   "cell_type": "markdown",
   "metadata": {},
   "source": [
    "## Attention MIL\n",
    "The Attention MIL model from the [Paper](https://arxiv.org/pdf/1802.04712) 'Attention-based Deep Multiple Instance Learning' by   M. Ilse et al \n",
    "is a convenient method to evaluate large gigapixel images based on the multiple instance learning principle. \n",
    "The gigapixel images are cropped into multiple non-overlapping tiles and collected in a so called bag of tiles, which are then independently encoded with the same pretrained feature encoder, giving each tile a weak label. Finally the bag of encoded feature vectors is aggregated with an aggregation model, which in this case is an attention based pooling. \n",
    "\n",
    "1. Using a preexisting preprocessing code(*), the notebooks assumes that the histological information is provided as a folder with tensors, each containing the bag of feature vectors from one patient. \n",
    "2.  Similiar to self-attention, we linearly project the input tensor with the weight tensors  U and V and then join them  by elementwhise multiplication $\\odot$ (instead of matrix multiplication as it is done in self-attention). A further projection with a row whise softmax leads to scalar attention scores for each feature vector which are used for a weighted sum as aggregation.\n",
    " \\begin{equation}\n",
    "\\mathbf{z} = \\sum_{k=1}^K a_k \\mathbf{h}_k\n",
    "\\end{equation}\n",
    "\n",
    "where the weight $a_k$ is calculated with\n",
    "\\begin{equation}\n",
    "a_k =softmax \\left( \\mathbf{w}^T ( tanh( \\mathbf{V h}_k^T) \\odot sigm( \\mathbf{U h}_k^T ) )  \\right) \n",
    "\\end{equation}\n",
    "\n",
    "\n",
    "with dimensions $\\mathbf{w} \\in  \\mathbb{R}^{Lx1}$ and  $\\mathbf{V,U} \\in  \\mathbb{R}^{LxM}$\n",
    "\n",
    "\n",
    "(*)Due to time reasons and not reinventing the wheel once again, the [end2end preprocessing pipeline](https://github.com/KatherLab/end2end-WSI-preprocessing) by Kather et al can be used, which takes the WSI, crops the WSI into tiles, gets rid of worthless tiles(those who are too blurry or mostly containing background), applies a Macenko normalization to each tile and finally uses a pre trained feature encoder for the vector embedding. "
   ]
  },
  {
   "cell_type": "code",
   "execution_count": 3,
   "metadata": {},
   "outputs": [],
   "source": [
    "class AttMil(nn.Module):\n",
    "    \"\"\" \n",
    "    Implementation of  \n",
    "    'Attention-based Deep Multiple Instance Learning' \n",
    "    by   M. Ilse et al (https://arxiv.org/pdf/1802.04712)\n",
    "    Gated Attention Mechanism \n",
    "    \n",
    "    Variables: \n",
    "    d : dimension of fwature vectors\n",
    "    \"\"\"\n",
    "    def __init__(self,d : int):\n",
    "        super(AttMil,self).__init__()\n",
    "        self.lin1 = nn.Linear(d,d//2,bias = True)\n",
    "        torch.nn.init.xavier_normal_(self.lin1.weight)\n",
    "        self.lin2 = nn.Linear(d//2,d//4,bias=False)\n",
    "        torch.nn.init.xavier_normal_(self.lin2.weight)\n",
    "        self.lin3 = nn.Linear(d//2,d//4,bias=False)\n",
    "        torch.nn.init.xavier_uniform_(self.lin3.weight)\n",
    "        self.lin4 = nn.Linear(d//4,1,bias=False)\n",
    "        torch.nn.init.xavier_normal_(self.lin4.weight)\n",
    "        self.tanh = nn.Tanh()\n",
    "        self.sigm = nn.Sigmoid()\n",
    "        self.sm = nn.Softmax(dim = 1)\n",
    "\n",
    "    def forward(self,x):\n",
    "        x = self.lin1(x)  \n",
    "        U = self.sigm(self.lin2(x))\n",
    "        V = self.tanh(self.lin3(x))\n",
    "        UV= self.lin4(V*U).squeeze(dim=-1) # (B,m,d/4) -> (B,m,1) -> (B,m)\n",
    "        a = self.sm(UV).unsqueeze(-2)  # (B,m) -> (B,1,m)\n",
    "        out = torch.bmm(a,x).squeeze(1) # (B,1,m)x(B,m,d/2) ->(B,1,d/2) -> (B,d/2)   or    (m1,m2,...m)x(x1|x2|x3|...)^T  or Σ a_i * x_i\n",
    "        return out\n"
   ]
  },
  {
   "attachments": {},
   "cell_type": "markdown",
   "metadata": {},
   "source": [
    "Sanity check: providing a random tensor of dimneison (B,m,d1) representing a **B**atch of bags with the same length **m** of vectors with the same **d**imension.\n",
    "\n",
    "The AttMIL model encodes each bag into a vector of size 512 using trainable weights.\n"
   ]
  },
  {
   "cell_type": "code",
   "execution_count": 4,
   "metadata": {},
   "outputs": [
    {
     "data": {
      "text/plain": [
       "torch.Size([16, 512])"
      ]
     },
     "execution_count": 4,
     "metadata": {},
     "output_type": "execute_result"
    }
   ],
   "source": [
    "## Attention MIL \n",
    "B= 16  # batchsize MUST BE B%4=0 \n",
    "m = 15  # number of vectors encoded from tiles \n",
    "d1 = 1024   # initial dimension of vectors\n",
    "H = torch.rand(B,m,d1) # (Pseudo) Input Tensor \n",
    "\n",
    "model1 = AttMil(d=d1)\n",
    "model1(H).size()"
   ]
  },
  {
   "attachments": {},
   "cell_type": "markdown",
   "metadata": {},
   "source": [
    "## SNN\n",
    "\n",
    "The following block shows the implementation as described in the [paper]( https://pubmed.ncbi.nlm.nih.gov/35944502/) 'Pan-cancer integrative histology-genomic analysis via multimodal deep learning' by R.Chen et al using the self normalizing activation function within a fully connected neural network.\n",
    "   "
   ]
  },
  {
   "cell_type": "code",
   "execution_count": 34,
   "metadata": {},
   "outputs": [],
   "source": [
    "class SNN(nn.Module):\n",
    "    \"\"\" Implementation of SNN as described in 'Pan-cancer integrative histology-genomic analysis via multimodal deep learning' by R.Chen et al \n",
    "    https://pubmed.ncbi.nlm.nih.gov/35944502/ \n",
    "    \n",
    "    Variables:\n",
    "    d : dimension of molecular vector\n",
    "    d_out : dimnesion of embedded output vector \n",
    "    \"\"\"\n",
    "    def __init__(self,d : int,d_out : int = 32):\n",
    "        super(SNN,self).__init__()\n",
    "\n",
    "        self.lin1 = nn.Linear(d,256)\n",
    "        self.lin2 = nn.Linear(256,256)\n",
    "        \n",
    "        self.selu1 = nn.SELU()\n",
    "        self.selu2 = nn.SELU()\n",
    "        self.alphadropout1 = nn.AlphaDropout(p=0.5)\n",
    "        self.alphadropout2 = nn.AlphaDropout(p=0.5)\n",
    "        self.fc = nn.Linear(256,d_out)\n",
    "        self.selu3 = nn.SELU()\n",
    "        #weight init\n",
    "        torch.nn.init.normal_(self.lin1.weight, mean=0, std=1/d**0.5)\n",
    "        torch.nn.init.normal_(self.lin2.weight, mean=0, std=1/256**0.5)\n",
    "        torch.nn.init.normal_(self.fc.weight, mean=0, std=1/256**0.5)\n",
    "        \n",
    "    def forward(self,x):\n",
    "\n",
    "        x = self.alphadropout1(self.selu1(self.lin1(x)))\n",
    "        x = self.alphadropout2(self.selu2(self.lin2(x)))\n",
    "        x = self.fc(x)\n",
    "        return self.selu3(x)\n",
    "\n",
    "    "
   ]
  },
  {
   "cell_type": "code",
   "execution_count": 36,
   "metadata": {},
   "outputs": [
    {
     "data": {
      "text/plain": [
       "torch.Size([16, 32])"
      ]
     },
     "execution_count": 36,
     "metadata": {},
     "output_type": "execute_result"
    }
   ],
   "source": [
    "#Sanitycheck: \n",
    "d2 = 1000\n",
    "d_out_gen = 32\n",
    "model2 = SNN(d=d2,d_out=d_out_gen)\n",
    "x = torch.rand(B,d2) # Pseudo Input Tensor containing one vector per patient \n",
    "model2(x).size() # the encoded vector is of size 32 as proposed by the paper "
   ]
  },
  {
   "attachments": {},
   "cell_type": "markdown",
   "metadata": {},
   "source": [
    "## Multimodal Fusion\n",
    "To join the embeddings of both modalities, the first proposal of the PORPOISE paper is **Tensor Fusion**.\n",
    "1. Input vectors of both modalities are extended by one dimension where a 1 is added as a value, allowing the model to gain information from a single modality as well. \n",
    "2. The Kronecker product is applied, giving a tensor of size (d1+1)x(d2+1) for each patient, where d1= histological embedding dimension, and d2= genomic embedding dimension.\n",
    "3. Since a batch-wise Kronecker product is not implemented in Torch, for two modalities this can simply be solved by the outer product of the two vectors which can be realised by a matrix multiplication of a column and a row vector. \n",
    "\n",
    "$kronecker(u,v) = u*v^T$"
   ]
  },
  {
   "cell_type": "code",
   "execution_count": 28,
   "metadata": {},
   "outputs": [],
   "source": [
    "def Fusion(v1,v2):\n",
    "    \"\"\" \n",
    "    Implementation of Ungated Fusion for two modalities as described in 'Pan-cancer integrative histology-genomic analysis via multimodal deep learning' by R.Chen et al \n",
    "    https://pubmed.ncbi.nlm.nih.gov/35944502/ \n",
    "    No trainable variables, outputs the kronecker product of two vectors. Ones are appended before the kronecker product\n",
    "    \"\"\"\n",
    "    assert v1.size(0) == v2.size(0)\n",
    "    B = v1.size(0)\n",
    "    p = torch.ones((B,1)) \n",
    "    v1 = torch.cat((v1,p),dim=-1) # add one values \n",
    "    v2 = torch.cat((v2,p),dim=-1) # add one values \n",
    "    \n",
    "    return torch.bmm(v1.unsqueeze(-1),v2.unsqueeze(-2))  # 'In the case of column vectors, the Kronecker product can be viewed as a form of vectorization (or flattening) of the outer product.' -Wikipedia"
   ]
  },
  {
   "cell_type": "code",
   "execution_count": 29,
   "metadata": {},
   "outputs": [
    {
     "name": "stdout",
     "output_type": "stream",
     "text": [
      "     Hist size: torch.Size([16, 512])\n",
      "      Gen size: torch.Size([16, 32])\n",
      "Outtensor size: torch.Size([16, 513, 33])\n"
     ]
    }
   ],
   "source": [
    "#Sanity check\n",
    "x1 = torch.rand((B,m,d1))  # bag of feature vectors from tiles\n",
    "x2 = torch.rand((B,d2))  # genetic information per patient \n",
    "\n",
    "# trained feature embedding for each modality \n",
    "hist = model1(x1)\n",
    "gen = model2(x2)\n",
    "\n",
    "print(f\"     Hist size: {hist.size()}\")\n",
    "print(f\"      Gen size: {gen.size()}\")\n",
    "print(f\"Outtensor size: {Fusion(hist,gen).size()}\") "
   ]
  },
  {
   "attachments": {},
   "cell_type": "markdown",
   "metadata": {},
   "source": [
    "## Gated Fusion \n",
    "Second fusion option: For a more balanced fusion of modalities the authors of the [paper]( https://arxiv.org/abs/1912.08937)  proposed \n",
    "\n",
    "a gated fusion which was also implemented in PORPOISE. It could be interpreted as  cross-attention based with respect to all modalities. \n"
   ]
  },
  {
   "cell_type": "code",
   "execution_count": 25,
   "metadata": {},
   "outputs": [],
   "source": [
    "class Gated_Fusion(nn.Module):\n",
    "    \"\"\" \n",
    "    'Pathomic Fusion' by R.Chen et al \n",
    "    https://arxiv.org/abs/1912.08937\n",
    "    Gated Fusion for two modalities \n",
    "    \n",
    "    Variables:\n",
    "    n_mods : Number of modalities\n",
    "    dims : list of dimensions for each modality\n",
    "    modalities : list of trainable feature embeddings from each modality\n",
    "    \"\"\"\n",
    "    def __init__(self,n_mods: int ,dims: list[int] ):\n",
    "        super(Gated_Fusion,self).__init__()\n",
    "        self.n_mods = n_mods\n",
    "        self.dims = dims\n",
    "        #H emb\n",
    "        lin1h = nn.Linear(dims[0],dims[0])\n",
    "        lin2h = nn.Linear(dims[1],dims[1])\n",
    "        \n",
    "        self.h_emb1 = nn.Sequential(lin1h,nn.ReLU())\n",
    "        self.h_emb2 = nn.Sequential(lin2h,nn.ReLU())\n",
    "        #Z emb\n",
    "        lin_1z = nn.Linear(sum(dims),dims[0])\n",
    "        lin_2z = nn.Linear(sum(dims),dims[1])\n",
    "        \n",
    "        self.z_emb1 = nn.Sequential(lin_1z,nn.Sigmoid())\n",
    "        self.z_emb2 = nn.Sequential(lin_2z,nn.Sigmoid())\n",
    "        #weight init\n",
    "        torch.nn.init.kaiming_normal_(lin1h.weight)\n",
    "        torch.nn.init.kaiming_normal_(lin1h.weight)\n",
    "        torch.nn.init.xavier_normal_(lin_1z.weight)\n",
    "        torch.nn.init.xavier_normal_(lin_2z.weight)\n",
    "    def forward(self,mod1,mod2 ):\n",
    "        #first modality \n",
    "        h_1 =  self.h_emb1(mod1) # Projection of first modalitiy \n",
    "        z_1 = self.z_emb1(torch.cat((mod1,mod2),dim=1))  # concatenation and projection of all modalities concatenated \n",
    "        h_1_gated = h_1*z_1  # Attention\n",
    "        \n",
    "        # Same for second modality \n",
    "        h_2 =  self.h_emb2(mod2) \n",
    "        z_2 = self.z_emb2(torch.cat((mod1,mod2),dim=1))\n",
    "        h_2_gated = h_2*z_2\n",
    "\n",
    "        return Fusion(h_1_gated,h_2_gated)\n"
   ]
  },
  {
   "cell_type": "code",
   "execution_count": 27,
   "metadata": {},
   "outputs": [
    {
     "name": "stdout",
     "output_type": "stream",
     "text": [
      "     hist size: torch.Size([16, 512])\n",
      "      gen size: torch.Size([16, 32])\n",
      "outtensor size: torch.Size([16, 513, 33])\n"
     ]
    }
   ],
   "source": [
    "## Sanity check:\n",
    "modalities = [hist,gen]\n",
    "n = len(modalities)  # number of modalities \n",
    "dims = [mods.size(1) for mods in modalities]\n",
    "model3 = Gated_Fusion(n,dims = [mods.size(1) for mods in modalities])\n",
    "\n",
    "\n",
    "\n",
    "print(f\"     hist size: {hist.size()}\")\n",
    "print(f\"      gen size: {gen.size()}\")\n",
    "print(f\"outtensor size: {model3(modalities).size()}\") "
   ]
  },
  {
   "attachments": {},
   "cell_type": "markdown",
   "metadata": {},
   "source": [
    "## Classification\n",
    "The model aims to predict the survival outcome, which was previously been categorized based on the patient's survival days.\\\n",
    "We therefore place a classification head on top of the fusion to predict one of the four classes.\n",
    "1. We implement the  classification head as described in the PORPOISE paper \n",
    "2. the output vector  is of depth 4, each representing one bin of a discretized survival time range  \n"
   ]
  },
  {
   "cell_type": "code",
   "execution_count": 40,
   "metadata": {},
   "outputs": [],
   "source": [
    "class Classifier_Head(nn.Module):\n",
    "    def __init__(self,outsize,d_hidden=256,t_bins=4):\n",
    "        super(Classifier_Head,self).__init__()\n",
    "\n",
    "        self.linear1 = nn.Linear(outsize,d_hidden)\n",
    "        self.activ1 = nn.ReLU()\n",
    "        self.linear2  = nn.Linear(d_hidden,d_hidden)\n",
    "        self.activ2 = nn.ReLU()\n",
    "        self.fc = nn.Linear(d_hidden,t_bins) # TODO test add layer\n",
    "        torch.nn.init.kaiming_normal_(self.linear1.weight)\n",
    "        torch.nn.init.kaiming_normal_(self.linear2.weight)\n",
    "        \n",
    "    def forward(self,x):\n",
    "        x = torch.flatten(x,start_dim=1)\n",
    "        x = self.activ1(self.linear1(x))\n",
    "        x = self.activ2(self.linear2(x))\n",
    "        return self.fc(x)"
   ]
  },
  {
   "attachments": {},
   "cell_type": "markdown",
   "metadata": {},
   "source": [
    "## PORPOISE\n",
    "\n",
    "now one can combine the blocks into the whole model"
   ]
  },
  {
   "attachments": {},
   "cell_type": "markdown",
   "metadata": {},
   "source": [
    "\n",
    "## Survival \n",
    "The trials are limited to time periods. Within these time windows, data were collected from tumour patients. The days-to-event is determined, counting from the day the tumour was diagnosed(?) to the last day the patient was seen alive. If the patient did not die before the end of the trial, the vital status is recorded as 'alive', otherwise as 'dead'.\n",
    "Patients can therefor be divided by their vital status:\n",
    "1. **Uncensored patients**: If the patient is known to be dead, the survival time is exactly known. \n",
    "2. **Censored patients**: If the patient was still alive, the exact survival is not known. However, it is known that the event has not occured yet \n",
    "\n",
    "Further the Authors of the paper binned the continious survival time to discrete bins with the mapping  \n",
    "$$\n",
    "M(t): [0,\\infty)\\rightarrow\n",
    "\\begin{cases}\n",
    "0&\\text{if $t \\in [0,t_1)$}\\\\\n",
    "1&\\text{if $t \\in [t_1,t_2)$}\\\\\n",
    "2&\\text{if $t \\in [t_2,t_3)$}\\\\\n",
    "3&\\text{if $t \\in [t_3,\\infty)$}\\\\\n",
    "\\end{cases}\n",
    "$$\n",
    "Where the boundaries $t_i$ where chosen such that the uncensored patients were equaliy distributed in each bin. \n",
    "So in the case of 4 bins, each bin represents a quartile of the uncensored patients.\n",
    "\n",
    "### Let's first analyse a random Clini table:"
   ]
  },
  {
   "cell_type": "code",
   "execution_count": 3,
   "metadata": {},
   "outputs": [
    {
     "name": "stdout",
     "output_type": "stream",
     "text": [
      "Vital status\n",
      "Alive    642\n",
      "Dead     276\n",
      "Name: count, dtype: int64\n"
     ]
    },
    {
     "data": {
      "text/html": [
       "<div>\n",
       "<style scoped>\n",
       "    .dataframe tbody tr th:only-of-type {\n",
       "        vertical-align: middle;\n",
       "    }\n",
       "\n",
       "    .dataframe tbody tr th {\n",
       "        vertical-align: top;\n",
       "    }\n",
       "\n",
       "    .dataframe thead th {\n",
       "        text-align: right;\n",
       "    }\n",
       "</style>\n",
       "<table border=\"1\" class=\"dataframe\">\n",
       "  <thead>\n",
       "    <tr style=\"text-align: right;\">\n",
       "      <th></th>\n",
       "      <th>Days to last known alive</th>\n",
       "      <th>Vital status</th>\n",
       "    </tr>\n",
       "  </thead>\n",
       "  <tbody>\n",
       "    <tr>\n",
       "      <th>0</th>\n",
       "      <td>784.0</td>\n",
       "      <td>Dead</td>\n",
       "    </tr>\n",
       "    <tr>\n",
       "      <th>1</th>\n",
       "      <td>951.0</td>\n",
       "      <td>Dead</td>\n",
       "    </tr>\n",
       "    <tr>\n",
       "      <th>2</th>\n",
       "      <td>435.0</td>\n",
       "      <td>Dead</td>\n",
       "    </tr>\n",
       "    <tr>\n",
       "      <th>3</th>\n",
       "      <td>232.0</td>\n",
       "      <td>Dead</td>\n",
       "    </tr>\n",
       "    <tr>\n",
       "      <th>4</th>\n",
       "      <td>180.0</td>\n",
       "      <td>Dead</td>\n",
       "    </tr>\n",
       "    <tr>\n",
       "      <th>5</th>\n",
       "      <td>424.0</td>\n",
       "      <td>Dead</td>\n",
       "    </tr>\n",
       "    <tr>\n",
       "      <th>6</th>\n",
       "      <td>272.0</td>\n",
       "      <td>Dead</td>\n",
       "    </tr>\n",
       "    <tr>\n",
       "      <th>7</th>\n",
       "      <td>494.0</td>\n",
       "      <td>Dead</td>\n",
       "    </tr>\n",
       "    <tr>\n",
       "      <th>8</th>\n",
       "      <td>987.0</td>\n",
       "      <td>Dead</td>\n",
       "    </tr>\n",
       "    <tr>\n",
       "      <th>9</th>\n",
       "      <td>475.0</td>\n",
       "      <td>Alive</td>\n",
       "    </tr>\n",
       "    <tr>\n",
       "      <th>10</th>\n",
       "      <td>1765.0</td>\n",
       "      <td>Alive</td>\n",
       "    </tr>\n",
       "  </tbody>\n",
       "</table>\n",
       "</div>"
      ],
      "text/plain": [
       "    Days to last known alive Vital status\n",
       "0                      784.0         Dead\n",
       "1                      951.0         Dead\n",
       "2                      435.0         Dead\n",
       "3                      232.0         Dead\n",
       "4                      180.0         Dead\n",
       "5                      424.0         Dead\n",
       "6                      272.0         Dead\n",
       "7                      494.0         Dead\n",
       "8                      987.0         Dead\n",
       "9                      475.0        Alive\n",
       "10                    1765.0        Alive"
      ]
     },
     "execution_count": 3,
     "metadata": {},
     "output_type": "execute_result"
    }
   ],
   "source": [
    "#!pip install openpyxl\n",
    "#!pip install seaborn\n",
    "import pandas as pd \n",
    "import matplotlib.pyplot as plt \n",
    "import seaborn as sns\n",
    "df = pd.read_excel(\"example_clini.xlsx\")\n",
    "print(df[\"Vital status\"].value_counts())\n",
    "df[[\"Days to last known alive\",\"Vital status\"]].head(11)"
   ]
  },
  {
   "cell_type": "code",
   "execution_count": 94,
   "metadata": {},
   "outputs": [
    {
     "data": {
      "text/plain": [
       "Text(0, 0.5, 'Patients')"
      ]
     },
     "execution_count": 94,
     "metadata": {},
     "output_type": "execute_result"
    },
    {
     "data": {
      "image/png": "[encoded data removed]",
      "text/plain": [
       "<Figure size 640x480 with 1 Axes>"
      ]
     },
     "metadata": {},
     "output_type": "display_data"
    }
   ],
   "source": [
    "plt.clf()\n",
    "plt.style.use('seaborn-v0_8-darkgrid')\n",
    "#plt.hist(df[\"Days to last known alive\"])\n",
    "sns.histplot(data=df,x=\"Days to last known alive\",hue=\"Vital status\",)\n",
    "plt.title(\"Histogram of Days of survival\")\n",
    "plt.xlabel(\"days\")\n",
    "plt.ylabel(\"Patients\")"
   ]
  },
  {
   "attachments": {},
   "cell_type": "markdown",
   "metadata": {},
   "source": [
    "### Survival Lossfunction \n",
    " <span style=\"color:red\">  # TODO  </span> explain hazard function, Survival function with equation \n",
    "\n",
    "the Lossfunction used in PORPOISE is based on the proposed loss of the [paper](https://pubmed.ncbi.nlm.nih.gov/32149626/) by Zadeh et al which seems to be an improvement to the basic cross entropy loss usually used for survival networks \n",
    " <span style=\"color:red\">  # TODO  </span> write down loss equation \n",
    "\n",
    "\n"
   ]
  },
  {
   "cell_type": "code",
   "execution_count": 43,
   "metadata": {},
   "outputs": [],
   "source": [
    "def survival_loss(out,c,t,alpha):\n",
    "    \"\"\"\n",
    "    'Bias in Cross-Entropy-Based Training of Deep Survival Networks' by S.Zadeh and M.Schmid \n",
    "    https://pubmed.ncbi.nlm.nih.gov/32149626/\n",
    "    Improved negative loglikeliehood loss  \n",
    "    \n",
    "    Variables:\n",
    "    out : torch.FloatTensor  output logits of the model \n",
    "    c : torch.BoolTensor wether the patient is censored(c=1) or ucensored(c=0)\n",
    "    t : torch.IntTensor label/ground truth of the index where the time-to-event is nested\n",
    "    alpha : float value within [0,1] weighting the Loss of the censored patients \n",
    "    \"\"\"\n",
    "    \n",
    "    h = nn.Sigmoid()(out) #   Hazard function \n",
    "    S = torch.cumprod(1-h,dim = -1)  # Survival function\n",
    "\n",
    "    t = t.unsqueeze(-1)\n",
    "    S_bar = torch.cat((torch.ones_like(t),S),dim=-1) # padded survival function to get acess to the previous time window \n",
    "\n",
    "    # gathering the probabilty within the bin with the ground truth index for hazard,survival and padded survival \n",
    "    S = S.gather(dim=-1,index=t)\n",
    "    h = h.gather(dim=-1,index=t)\n",
    "    S_bar = S_bar.gather(dim=-1,index = t)\n",
    "    \n",
    "    \n",
    "    \n",
    "    #applying log function  \n",
    "    logS = torch.log(S)\n",
    "    logS_bar = torch.log(S_bar)\n",
    "    logh = torch.log(h)\n",
    "\n",
    "    #masking by censored or uncensored \n",
    "    # L_z(h,S) -> h,S_bar only uncensored,\n",
    "    # while  L_censored(S) only censored \n",
    "    logh = logh*(1-c)\n",
    "    logS_bar = logS_bar*(1-c)\n",
    "    logS = logS*c\n",
    "\n",
    "\n",
    "    L_z = -(logh+logS_bar) # -torch.sum(logS_bar) # only uncensored needed! for h and S_bar \n",
    "    L_censored = -(logS) # only censored S \n",
    "    \n",
    "    \n",
    "    return L_z + (1-alpha)*L_censored"
   ]
  },
  {
   "attachments": {},
   "cell_type": "markdown",
   "metadata": {},
   "source": [
    "### Comparing the result with the given loss function "
   ]
  },
  {
   "cell_type": "code",
   "execution_count": 98,
   "metadata": {},
   "outputs": [
    {
     "name": "stdout",
     "output_type": "stream",
     "text": [
      "Custom loss         : 19.889612197875977\n",
      "PORPOISE loss       : 19.88961410522461\n",
      "Differences in loss : 1.9073486328125e-06\n",
      "probably due to rounding? \n"
     ]
    }
   ],
   "source": [
    "from PORPOISE.utils.loss_func import NLLSurvLoss\n",
    "import torch \n",
    "from torch import nn \n",
    "\n",
    "B = 10 \n",
    "n_bins = 4 \n",
    "alpha = 0\n",
    "seed = torch.manual_seed(5)\n",
    "\n",
    "#generated input \n",
    "out = torch.rand((B,4), generator = seed)  ## Logits output from the model f(x) = out \n",
    "t = torch.randint(low=0, high=n_bins, size=(B,1), generator = seed)  ## label as index value for the ground truth time window where the event ocurred\n",
    "c = torch.randint(low=0, high=2, size=(B,1), generator = seed)  ## Groundtruth boolean information wether the the patient is censored  c = 1 or uncensored  \n",
    "c = c.type(torch.bool)\n",
    "\n",
    "#Custom Loss function\n",
    "custom_surv_loss = survival_loss(out,c,t,alpha=alpha)\n",
    "print(f\"Custom loss         : {custom_surv_loss.item()}\")\n",
    "\n",
    "# PORPOISE loss function implementation \n",
    "from PORPOISE.utils.loss_func import NLLSurvLoss\n",
    "\n",
    "porpoise_loss_func = NLLSurvLoss( alpha=alpha, eps=-torch.inf, reduction='sum')\n",
    "\n",
    "PRP_loss = porpoise_loss_func(h = out,y=t.squeeze(),t=t.squeeze(),c=c.squeeze())\n",
    "print(f\"PORPOISE loss       : {PRP_loss.item()}\")\n",
    "print(f\"Differences in loss : {PRP_loss-custom_surv_loss}\")\n",
    "print(f\"probably due to rounding? \")"
   ]
  },
  {
   "attachments": {},
   "cell_type": "markdown",
   "metadata": {},
   "source": [
    "## Genomic Data Gathering  <span style=\"color:red\">  # TODO  </span>\n",
    "\n",
    "1. Download Data from [NIH Genomic Data Commons Data Portal](https://portal.gdc.cancer.gov/) \n",
    "2. Reject datasamples as was done in Porpoise(eg: 'To mitigate overfitting in modeling the survival distribution during survival analysis, TCGA projects with less than 150 patients and have poor uncensorship were excluded from the study.','To decrease feature sparsity in molecular profile data, genes with greater than 10% CNV or 5% mutation frequency in each cancer study were used.','To limit the number of the features from RNA-Seq, we used gene sets from the gene family categories from the Molecular Signatures Database (Subramanian et al., 2005). Molecular and clinical data were obtained from qual- ity-controlled files from the cBioPortal. Summary tables of cohort characteristics, censorship statistics, and feature alignment can be found in Tables S1 and S3.\n",
    "')\n",
    "4. ... \n",
    "\n"
   ]
  },
  {
   "attachments": {},
   "cell_type": "markdown",
   "metadata": {},
   "source": [
    "## Genomic Data Preprocessing\n",
    "\n",
    "Previous analysis of the genomic values "
   ]
  },
  {
   "cell_type": "code",
   "execution_count": 21,
   "metadata": {},
   "outputs": [
    {
     "name": "stdout",
     "output_type": "stream",
     "text": [
      "Index(['case_id', 'slide_id', 'site', 'is_female', 'oncotree_code', 'age',\n",
      "       'survival_months', 'censorship', 'train', 'NOTCH2_cnv', 'ACP6_cnv',\n",
      "       'ANKRD20A12P_cnv', 'ANKRD34A_cnv', 'ANKRD35_cnv', 'BCL9_cnv',\n",
      "       'BOLA1_cnv', 'CD160_cnv', 'CHD1L_cnv', 'FAM72B_cnv', 'FAM72C_cnv'],\n",
      "      dtype='object')\n"
     ]
    },
    {
     "data": {
      "text/html": [
       "<div>\n",
       "<style scoped>\n",
       "    .dataframe tbody tr th:only-of-type {\n",
       "        vertical-align: middle;\n",
       "    }\n",
       "\n",
       "    .dataframe tbody tr th {\n",
       "        vertical-align: top;\n",
       "    }\n",
       "\n",
       "    .dataframe thead th {\n",
       "        text-align: right;\n",
       "    }\n",
       "</style>\n",
       "<table border=\"1\" class=\"dataframe\">\n",
       "  <thead>\n",
       "    <tr style=\"text-align: right;\">\n",
       "      <th></th>\n",
       "      <th>case_id</th>\n",
       "      <th>slide_id</th>\n",
       "      <th>site</th>\n",
       "      <th>is_female</th>\n",
       "      <th>oncotree_code</th>\n",
       "      <th>age</th>\n",
       "      <th>survival_months</th>\n",
       "      <th>censorship</th>\n",
       "      <th>train</th>\n",
       "      <th>NOTCH2_cnv</th>\n",
       "      <th>...</th>\n",
       "      <th>ZSWIM6</th>\n",
       "      <th>ZSWIM8</th>\n",
       "      <th>ZXDA</th>\n",
       "      <th>ZXDB</th>\n",
       "      <th>ZXDC</th>\n",
       "      <th>ZYG11A</th>\n",
       "      <th>ZYX</th>\n",
       "      <th>ZZEF1</th>\n",
       "      <th>ZZZ3</th>\n",
       "      <th>snoU13</th>\n",
       "    </tr>\n",
       "  </thead>\n",
       "  <tbody>\n",
       "    <tr>\n",
       "      <th>0</th>\n",
       "      <td>TCGA-2E-A9G8</td>\n",
       "      <td>TCGA-2E-A9G8-01Z-00-DX1.DCD3E31B-1774-40BA-805...</td>\n",
       "      <td>2E</td>\n",
       "      <td>1</td>\n",
       "      <td>UCEC</td>\n",
       "      <td>59.0</td>\n",
       "      <td>41.03</td>\n",
       "      <td>1</td>\n",
       "      <td>1.0</td>\n",
       "      <td>0</td>\n",
       "      <td>...</td>\n",
       "      <td>0</td>\n",
       "      <td>0</td>\n",
       "      <td>0</td>\n",
       "      <td>0</td>\n",
       "      <td>0</td>\n",
       "      <td>0</td>\n",
       "      <td>0</td>\n",
       "      <td>0</td>\n",
       "      <td>0</td>\n",
       "      <td>0</td>\n",
       "    </tr>\n",
       "    <tr>\n",
       "      <th>1</th>\n",
       "      <td>TCGA-4E-A92E</td>\n",
       "      <td>TCGA-4E-A92E-01Z-00-DX1.60ED140E-11EA-49D7-ADF...</td>\n",
       "      <td>4E</td>\n",
       "      <td>1</td>\n",
       "      <td>UEC</td>\n",
       "      <td>54.0</td>\n",
       "      <td>0.43</td>\n",
       "      <td>1</td>\n",
       "      <td>1.0</td>\n",
       "      <td>1</td>\n",
       "      <td>...</td>\n",
       "      <td>0</td>\n",
       "      <td>0</td>\n",
       "      <td>0</td>\n",
       "      <td>0</td>\n",
       "      <td>0</td>\n",
       "      <td>0</td>\n",
       "      <td>0</td>\n",
       "      <td>0</td>\n",
       "      <td>0</td>\n",
       "      <td>0</td>\n",
       "    </tr>\n",
       "    <tr>\n",
       "      <th>2</th>\n",
       "      <td>TCGA-4E-A92E</td>\n",
       "      <td>TCGA-4E-A92E-01Z-00-DX2.465234E4-02AC-40DF-975...</td>\n",
       "      <td>4E</td>\n",
       "      <td>1</td>\n",
       "      <td>UEC</td>\n",
       "      <td>54.0</td>\n",
       "      <td>0.43</td>\n",
       "      <td>1</td>\n",
       "      <td>1.0</td>\n",
       "      <td>1</td>\n",
       "      <td>...</td>\n",
       "      <td>0</td>\n",
       "      <td>0</td>\n",
       "      <td>0</td>\n",
       "      <td>0</td>\n",
       "      <td>0</td>\n",
       "      <td>0</td>\n",
       "      <td>0</td>\n",
       "      <td>0</td>\n",
       "      <td>0</td>\n",
       "      <td>0</td>\n",
       "    </tr>\n",
       "    <tr>\n",
       "      <th>3</th>\n",
       "      <td>TCGA-4E-A92E</td>\n",
       "      <td>TCGA-4E-A92E-01Z-00-DX3.F8F74B7E-0601-4084-AE3...</td>\n",
       "      <td>4E</td>\n",
       "      <td>1</td>\n",
       "      <td>UEC</td>\n",
       "      <td>54.0</td>\n",
       "      <td>0.43</td>\n",
       "      <td>1</td>\n",
       "      <td>1.0</td>\n",
       "      <td>1</td>\n",
       "      <td>...</td>\n",
       "      <td>0</td>\n",
       "      <td>0</td>\n",
       "      <td>0</td>\n",
       "      <td>0</td>\n",
       "      <td>0</td>\n",
       "      <td>0</td>\n",
       "      <td>0</td>\n",
       "      <td>0</td>\n",
       "      <td>0</td>\n",
       "      <td>0</td>\n",
       "    </tr>\n",
       "    <tr>\n",
       "      <th>4</th>\n",
       "      <td>TCGA-5B-A90C</td>\n",
       "      <td>TCGA-5B-A90C-01Z-00-DX1.3F24BFBE-425C-456A-AFF...</td>\n",
       "      <td>5B</td>\n",
       "      <td>1</td>\n",
       "      <td>UEC</td>\n",
       "      <td>69.0</td>\n",
       "      <td>39.49</td>\n",
       "      <td>1</td>\n",
       "      <td>1.0</td>\n",
       "      <td>1</td>\n",
       "      <td>...</td>\n",
       "      <td>0</td>\n",
       "      <td>0</td>\n",
       "      <td>0</td>\n",
       "      <td>0</td>\n",
       "      <td>0</td>\n",
       "      <td>0</td>\n",
       "      <td>0</td>\n",
       "      <td>0</td>\n",
       "      <td>0</td>\n",
       "      <td>0</td>\n",
       "    </tr>\n",
       "  </tbody>\n",
       "</table>\n",
       "<p>5 rows × 9081 columns</p>\n",
       "</div>"
      ],
      "text/plain": [
       "        case_id                                           slide_id site  \\\n",
       "0  TCGA-2E-A9G8  TCGA-2E-A9G8-01Z-00-DX1.DCD3E31B-1774-40BA-805...   2E   \n",
       "1  TCGA-4E-A92E  TCGA-4E-A92E-01Z-00-DX1.60ED140E-11EA-49D7-ADF...   4E   \n",
       "2  TCGA-4E-A92E  TCGA-4E-A92E-01Z-00-DX2.465234E4-02AC-40DF-975...   4E   \n",
       "3  TCGA-4E-A92E  TCGA-4E-A92E-01Z-00-DX3.F8F74B7E-0601-4084-AE3...   4E   \n",
       "4  TCGA-5B-A90C  TCGA-5B-A90C-01Z-00-DX1.3F24BFBE-425C-456A-AFF...   5B   \n",
       "\n",
       "   is_female oncotree_code   age  survival_months  censorship  train  \\\n",
       "0          1          UCEC  59.0            41.03           1    1.0   \n",
       "1          1           UEC  54.0             0.43           1    1.0   \n",
       "2          1           UEC  54.0             0.43           1    1.0   \n",
       "3          1           UEC  54.0             0.43           1    1.0   \n",
       "4          1           UEC  69.0            39.49           1    1.0   \n",
       "\n",
       "   NOTCH2_cnv  ...  ZSWIM6  ZSWIM8  ZXDA  ZXDB  ZXDC  ZYG11A  ZYX  ZZEF1  \\\n",
       "0           0  ...       0       0     0     0     0       0    0      0   \n",
       "1           1  ...       0       0     0     0     0       0    0      0   \n",
       "2           1  ...       0       0     0     0     0       0    0      0   \n",
       "3           1  ...       0       0     0     0     0       0    0      0   \n",
       "4           1  ...       0       0     0     0     0       0    0      0   \n",
       "\n",
       "   ZZZ3  snoU13  \n",
       "0     0       0  \n",
       "1     0       0  \n",
       "2     0       0  \n",
       "3     0       0  \n",
       "4     0       0  \n",
       "\n",
       "[5 rows x 9081 columns]"
      ]
     },
     "execution_count": 21,
     "metadata": {},
     "output_type": "execute_result"
    }
   ],
   "source": [
    "import pandas as pd \n",
    "import matplotlib.pyplot as plt \n",
    "import numpy as np\n",
    "import seaborn as sns \n",
    "sns.set()\n",
    "f = \"/nodes/bevog/work4/seibel/PORPOISE/datasets_csv/tcga_ucec_all_clean.csv.zip\"\n",
    "n_bins = 4 \n",
    "df = pd.read_csv(f,compression='zip')\n",
    "print(df.keys()[:20])\n",
    "df.head()\n",
    "\n"
   ]
  },
  {
   "attachments": {},
   "cell_type": "markdown",
   "metadata": {},
   "source": [
    "## Discretize Survival months"
   ]
  },
  {
   "cell_type": "code",
   "execution_count": 22,
   "metadata": {},
   "outputs": [
    {
     "name": "stdout",
     "output_type": "stream",
     "text": [
      "smallest value :  1.64\n",
      "largest value  :  110.55\n",
      "bin values     : [  1.64   12.125  23.46   33.855 110.55 ]\n"
     ]
    }
   ],
   "source": [
    "df_uncensored = (df[df[\"censorship\"]==0]).drop_duplicates([\"case_id\"])\n",
    "_,bins = pd.qcut(df_uncensored['survival_months'],q = n_bins,retbins=True)  # distribute censored survival months into quartiles\n",
    "df_uncensored.head(4)\n",
    "print(\"smallest value : \",df_uncensored[\"survival_months\"].min())\n",
    "print(\"largest value  : \", df_uncensored[\"survival_months\"].max())\n",
    "print(f\"bin values     : {bins}\")"
   ]
  },
  {
   "cell_type": "code",
   "execution_count": 23,
   "metadata": {},
   "outputs": [
    {
     "data": {
      "image/png": "[encoded data removed]",
      "text/plain": [
       "<Figure size 640x480 with 1 Axes>"
      ]
     },
     "metadata": {},
     "output_type": "display_data"
    }
   ],
   "source": [
    "\n",
    "values = df_uncensored[\"survival_months\"].values\n",
    "values.sort()\n",
    "\n",
    "plt.plot(values,\"x\",color = \"green\")\n",
    "for line in bins:\n",
    "    plt.axhline(line)\n",
    "plt.xlabel(\"patient\")\n",
    "plt.ylabel(\"Survival Months\")\n",
    "plt.title(\"Sorted uncensored survival times with quantiles as vertical lines\")\n",
    "plt.show()"
   ]
  },
  {
   "cell_type": "code",
   "execution_count": 24,
   "metadata": {},
   "outputs": [
    {
     "data": {
      "text/html": [
       "<div>\n",
       "<style scoped>\n",
       "    .dataframe tbody tr th:only-of-type {\n",
       "        vertical-align: middle;\n",
       "    }\n",
       "\n",
       "    .dataframe tbody tr th {\n",
       "        vertical-align: top;\n",
       "    }\n",
       "\n",
       "    .dataframe thead th {\n",
       "        text-align: right;\n",
       "    }\n",
       "</style>\n",
       "<table border=\"1\" class=\"dataframe\">\n",
       "  <thead>\n",
       "    <tr style=\"text-align: right;\">\n",
       "      <th></th>\n",
       "      <th>case_id</th>\n",
       "      <th>slide_id</th>\n",
       "      <th>site</th>\n",
       "      <th>is_female</th>\n",
       "      <th>oncotree_code</th>\n",
       "      <th>age</th>\n",
       "      <th>survival_months_discretized</th>\n",
       "      <th>survival_months</th>\n",
       "      <th>censorship</th>\n",
       "      <th>train</th>\n",
       "      <th>...</th>\n",
       "      <th>ZSWIM6</th>\n",
       "      <th>ZSWIM8</th>\n",
       "      <th>ZXDA</th>\n",
       "      <th>ZXDB</th>\n",
       "      <th>ZXDC</th>\n",
       "      <th>ZYG11A</th>\n",
       "      <th>ZYX</th>\n",
       "      <th>ZZEF1</th>\n",
       "      <th>ZZZ3</th>\n",
       "      <th>snoU13</th>\n",
       "    </tr>\n",
       "  </thead>\n",
       "  <tbody>\n",
       "    <tr>\n",
       "      <th>0</th>\n",
       "      <td>TCGA-2E-A9G8</td>\n",
       "      <td>TCGA-2E-A9G8-01Z-00-DX1.DCD3E31B-1774-40BA-805...</td>\n",
       "      <td>2E</td>\n",
       "      <td>1</td>\n",
       "      <td>UCEC</td>\n",
       "      <td>59.0</td>\n",
       "      <td>3</td>\n",
       "      <td>41.03</td>\n",
       "      <td>1</td>\n",
       "      <td>1.0</td>\n",
       "      <td>...</td>\n",
       "      <td>0</td>\n",
       "      <td>0</td>\n",
       "      <td>0</td>\n",
       "      <td>0</td>\n",
       "      <td>0</td>\n",
       "      <td>0</td>\n",
       "      <td>0</td>\n",
       "      <td>0</td>\n",
       "      <td>0</td>\n",
       "      <td>0</td>\n",
       "    </tr>\n",
       "    <tr>\n",
       "      <th>1</th>\n",
       "      <td>TCGA-4E-A92E</td>\n",
       "      <td>TCGA-4E-A92E-01Z-00-DX1.60ED140E-11EA-49D7-ADF...</td>\n",
       "      <td>4E</td>\n",
       "      <td>1</td>\n",
       "      <td>UEC</td>\n",
       "      <td>54.0</td>\n",
       "      <td>0</td>\n",
       "      <td>0.43</td>\n",
       "      <td>1</td>\n",
       "      <td>1.0</td>\n",
       "      <td>...</td>\n",
       "      <td>0</td>\n",
       "      <td>0</td>\n",
       "      <td>0</td>\n",
       "      <td>0</td>\n",
       "      <td>0</td>\n",
       "      <td>0</td>\n",
       "      <td>0</td>\n",
       "      <td>0</td>\n",
       "      <td>0</td>\n",
       "      <td>0</td>\n",
       "    </tr>\n",
       "    <tr>\n",
       "      <th>2</th>\n",
       "      <td>TCGA-4E-A92E</td>\n",
       "      <td>TCGA-4E-A92E-01Z-00-DX2.465234E4-02AC-40DF-975...</td>\n",
       "      <td>4E</td>\n",
       "      <td>1</td>\n",
       "      <td>UEC</td>\n",
       "      <td>54.0</td>\n",
       "      <td>0</td>\n",
       "      <td>0.43</td>\n",
       "      <td>1</td>\n",
       "      <td>1.0</td>\n",
       "      <td>...</td>\n",
       "      <td>0</td>\n",
       "      <td>0</td>\n",
       "      <td>0</td>\n",
       "      <td>0</td>\n",
       "      <td>0</td>\n",
       "      <td>0</td>\n",
       "      <td>0</td>\n",
       "      <td>0</td>\n",
       "      <td>0</td>\n",
       "      <td>0</td>\n",
       "    </tr>\n",
       "    <tr>\n",
       "      <th>3</th>\n",
       "      <td>TCGA-4E-A92E</td>\n",
       "      <td>TCGA-4E-A92E-01Z-00-DX3.F8F74B7E-0601-4084-AE3...</td>\n",
       "      <td>4E</td>\n",
       "      <td>1</td>\n",
       "      <td>UEC</td>\n",
       "      <td>54.0</td>\n",
       "      <td>0</td>\n",
       "      <td>0.43</td>\n",
       "      <td>1</td>\n",
       "      <td>1.0</td>\n",
       "      <td>...</td>\n",
       "      <td>0</td>\n",
       "      <td>0</td>\n",
       "      <td>0</td>\n",
       "      <td>0</td>\n",
       "      <td>0</td>\n",
       "      <td>0</td>\n",
       "      <td>0</td>\n",
       "      <td>0</td>\n",
       "      <td>0</td>\n",
       "      <td>0</td>\n",
       "    </tr>\n",
       "    <tr>\n",
       "      <th>4</th>\n",
       "      <td>TCGA-5B-A90C</td>\n",
       "      <td>TCGA-5B-A90C-01Z-00-DX1.3F24BFBE-425C-456A-AFF...</td>\n",
       "      <td>5B</td>\n",
       "      <td>1</td>\n",
       "      <td>UEC</td>\n",
       "      <td>69.0</td>\n",
       "      <td>3</td>\n",
       "      <td>39.49</td>\n",
       "      <td>1</td>\n",
       "      <td>1.0</td>\n",
       "      <td>...</td>\n",
       "      <td>0</td>\n",
       "      <td>0</td>\n",
       "      <td>0</td>\n",
       "      <td>0</td>\n",
       "      <td>0</td>\n",
       "      <td>0</td>\n",
       "      <td>0</td>\n",
       "      <td>0</td>\n",
       "      <td>0</td>\n",
       "      <td>0</td>\n",
       "    </tr>\n",
       "  </tbody>\n",
       "</table>\n",
       "<p>5 rows × 9082 columns</p>\n",
       "</div>"
      ],
      "text/plain": [
       "        case_id                                           slide_id site  \\\n",
       "0  TCGA-2E-A9G8  TCGA-2E-A9G8-01Z-00-DX1.DCD3E31B-1774-40BA-805...   2E   \n",
       "1  TCGA-4E-A92E  TCGA-4E-A92E-01Z-00-DX1.60ED140E-11EA-49D7-ADF...   4E   \n",
       "2  TCGA-4E-A92E  TCGA-4E-A92E-01Z-00-DX2.465234E4-02AC-40DF-975...   4E   \n",
       "3  TCGA-4E-A92E  TCGA-4E-A92E-01Z-00-DX3.F8F74B7E-0601-4084-AE3...   4E   \n",
       "4  TCGA-5B-A90C  TCGA-5B-A90C-01Z-00-DX1.3F24BFBE-425C-456A-AFF...   5B   \n",
       "\n",
       "   is_female oncotree_code   age survival_months_discretized  survival_months  \\\n",
       "0          1          UCEC  59.0                           3            41.03   \n",
       "1          1           UEC  54.0                           0             0.43   \n",
       "2          1           UEC  54.0                           0             0.43   \n",
       "3          1           UEC  54.0                           0             0.43   \n",
       "4          1           UEC  69.0                           3            39.49   \n",
       "\n",
       "   censorship  train  ...  ZSWIM6  ZSWIM8  ZXDA  ZXDB  ZXDC  ZYG11A  ZYX  \\\n",
       "0           1    1.0  ...       0       0     0     0     0       0    0   \n",
       "1           1    1.0  ...       0       0     0     0     0       0    0   \n",
       "2           1    1.0  ...       0       0     0     0     0       0    0   \n",
       "3           1    1.0  ...       0       0     0     0     0       0    0   \n",
       "4           1    1.0  ...       0       0     0     0     0       0    0   \n",
       "\n",
       "   ZZEF1  ZZZ3  snoU13  \n",
       "0      0     0       0  \n",
       "1      0     0       0  \n",
       "2      0     0       0  \n",
       "3      0     0       0  \n",
       "4      0     0       0  \n",
       "\n",
       "[5 rows x 9082 columns]"
      ]
     },
     "execution_count": 24,
     "metadata": {},
     "output_type": "execute_result"
    }
   ],
   "source": [
    "# adapt bins \n",
    "bins[0] = 0 \n",
    "bins[-1] = np.inf\n",
    "\n",
    "#\n",
    "labels=[i for i in range(n_bins)]\n",
    "labels\n",
    "\n",
    "\n",
    "df.insert(6,\"survival_months_discretized\",  pd.cut(df[\"survival_months\"],\n",
    "                                                               bins=bins, \n",
    "                                                               labels=labels))\n",
    "df.head(5)"
   ]
  },
  {
   "attachments": {},
   "cell_type": "markdown",
   "metadata": {},
   "source": [
    "## Analyse different features "
   ]
  },
  {
   "cell_type": "code",
   "execution_count": 25,
   "metadata": {},
   "outputs": [
    {
     "name": "stdout",
     "output_type": "stream",
     "text": [
      "Index(['case_id', 'slide_id', 'site', 'is_female', 'oncotree_code', 'age',\n",
      "       'survival_months_discretized', 'survival_months', 'censorship',\n",
      "       'train'],\n",
      "      dtype='object')\n",
      "[]\n",
      "['NOTCH2_cnv', 'ACP6_cnv', 'ANKRD20A12P_cnv', 'ANKRD34A_cnv', 'ANKRD35_cnv', 'BCL9_cnv', 'BOLA1_cnv', 'CD160_cnv', 'CHD1L_cnv', 'FAM72B_cnv', 'FAM72C_cnv', 'FAM72D_cnv', 'FCGR1A_cnv', 'FCGR1B_cnv', 'FMO5_cnv', 'GJA5_cnv', 'GJA8_cnv', 'GNRHR2_cnv', 'GPR89A_cnv', 'GPR89B_cnv', 'HIST2H2AA3_cnv', 'HIST2H2AA4_cnv', 'HIST2H2AB_cnv', 'HIST2H2AC_cnv', 'HIST2H2BA_cnv', 'HIST2H2BE_cnv', 'HIST2H2BF_cnv', 'HIST2H3A_cnv', 'HIST2H3C_cnv', 'HIST2H3D_cnv', 'HIST2H4A_cnv', 'HIST2H4B_cnv', 'HYDIN2_cnv', 'ITGA10_cnv', 'LINC00623_cnv', 'LINC00624_cnv', 'LIX1L_cnv', 'NBPF10_cnv', 'NBPF11_cnv', 'NBPF12_cnv', 'NBPF14_cnv', 'NBPF15_cnv', 'NBPF20_cnv', 'NBPF8_cnv', 'NBPF9_cnv', 'NUDT17_cnv', 'PDE4DIP_cnv', 'PDZK1P1_cnv', 'PDZK1_cnv', 'PEX11B_cnv', 'PIAS3_cnv', 'POLR3C_cnv', 'POLR3GL_cnv', 'PPIAL4A_cnv', 'PPIAL4C_cnv', 'PPIAL4D_cnv', 'PPIAL4G_cnv', 'PRKAB2_cnv', 'RBM8A_cnv', 'RN7SKP88_cnv', 'RN7SL261P_cnv', 'RNA5SP57_cnv', 'RNA5SP59_cnv', 'RNF115_cnv', 'SEC22B_cnv', 'SRGAP2B_cnv', 'SV2A_cnv', 'TXNIP_cnv', 'SF3B4_cnv', 'MTMR11_cnv', 'OTUD7B_cnv', 'VPS45_cnv', 'PLEKHO1_cnv', 'RN7SL480P_cnv', 'ANP32E_cnv', 'CA14_cnv', 'APH1A_cnv', 'MRPS21_cnv', 'PRPF3_cnv', 'RPRD2_cnv', 'TARS2_cnv', 'ECM1_cnv', 'ADAMTSL4_cnv', 'RN7SL473P_cnv', 'RN7SL600P_cnv', 'MCL1_cnv', 'ENSA_cnv', 'GOLPH3L_cnv', 'HORMAD1_cnv', 'CTSS_cnv', 'CTSK_cnv', 'ARNT_cnv', 'SETDB1_cnv', 'CERS2_cnv', 'ANXA9_cnv', 'BNIPL_cnv', 'CDC42SE1_cnv', 'MLLT11_cnv', 'GABPB2_cnv', 'SEMA6C_cnv', 'LYSMD1_cnv', 'SCNM1_cnv', 'TNFAIP8L2_cnv', 'TMOD4_cnv', 'VPS72_cnv', 'PIP5K1A_cnv', 'PSMD4_cnv', 'ZNF687_cnv', 'PI4KB_cnv', 'RN7SL444P_cnv', 'RFX5_cnv', 'POGZ_cnv', 'PSMB4_cnv', 'SELENBP1_cnv', 'RNY4P25_cnv', 'CGN_cnv', 'SNORA44_cnv', 'TUFT1_cnv', 'SNX27_cnv', 'CELF3_cnv', 'RIIAD1_cnv', 'MRPL9_cnv', 'OAZ3_cnv', 'TDRKH_cnv', 'LINGO4_cnv', 'RORC_cnv', 'C2CD4D_cnv', 'THEM5_cnv', 'THEM4_cnv', 'S100A10_cnv', 'NBPF18P_cnv', 'S100A11_cnv', 'TCHHL1_cnv', 'TCHH_cnv', 'RPTN_cnv', 'HRNR_cnv', 'FLG_cnv', 'FLG2_cnv', 'CRNN_cnv', 'LCE5A_cnv', 'CRCT1_cnv', 'LCE3B_cnv', 'LCE3C_cnv', 'LCE3D_cnv', 'LCE3E_cnv', 'LCE3A_cnv', 'LCE2D_cnv', 'LINC00302_cnv', 'LCE2B_cnv', 'LCE2C_cnv', 'LCE2A_cnv', 'LCE4A_cnv', 'KPRP_cnv', 'LCE1F_cnv', 'LCE1C_cnv', 'LCE1D_cnv', 'LCE1E_cnv', 'LCE1B_cnv', 'LCE1A_cnv', 'LCE6A_cnv', 'SMCP_cnv', 'IVL_cnv', 'SPRR4_cnv', 'SPRR1A_cnv', 'SPRR3_cnv', 'SPRR1B_cnv', 'SPRR2D_cnv', 'SPRR2A_cnv', 'SPRR2B_cnv', 'SPRR2E_cnv', 'SPRR2F_cnv', 'SPRR2G_cnv', 'LELP1_cnv', 'PRR9_cnv', 'LOR_cnv', 'PGLYRP3_cnv', 'PGLYRP4_cnv', 'S100A12_cnv', 'S100A8_cnv', 'S100A9_cnv', 'S100A7A_cnv', 'S100A7L2_cnv', 'S100A7_cnv', 'RN7SL44P_cnv', 'S100A3_cnv', 'S100A4_cnv', 'S100A5_cnv', 'S100A6_cnv', 'S100A2_cnv', 'S100A16_cnv', 'S100A14_cnv', 'S100A13_cnv', 'S100A1_cnv', 'CHTOP_cnv', 'SNAPIN_cnv', 'ILF2_cnv', 'NPR1_cnv', 'INTS3_cnv', 'RN7SL372P_cnv', 'SLC27A3_cnv', 'GATAD2B_cnv', 'DENND4B_cnv', 'CRTC2_cnv', 'SLC39A1_cnv', 'CREB3L4_cnv', 'JTB_cnv', 'RAB13_cnv', 'NUP210L_cnv', 'RPS27_cnv', 'TPM3_cnv', 'RN7SL431P_cnv', 'UBAP2L_cnv', 'HAX1_cnv', 'AQP10_cnv', 'ATP8B2_cnv', 'IL6R_cnv', 'SHE_cnv', 'TDRD10_cnv', 'UBE2Q1_cnv', 'CHRNB2_cnv', 'ADAR_cnv', 'KCNN3_cnv', 'PMVK_cnv', 'PBXIP1_cnv', 'PYGO2_cnv', 'SHC1_cnv', 'FLAD1_cnv', 'LENEP_cnv', 'ZBTB7B_cnv', 'DCST2_cnv', 'DCST1_cnv', 'ADAM15_cnv', 'EFNA3_cnv', 'EFNA4_cnv', 'EFNA1_cnv', 'DPM3_cnv', 'SLC50A1_cnv', 'KRTCAP2_cnv', 'TRIM46_cnv', 'MUC1_cnv', 'THBS3_cnv', 'MTX1_cnv', 'GBAP1_cnv', 'GBA_cnv', 'FAM189B_cnv', 'SCAMP3_cnv', 'CLK2_cnv', 'HCN3_cnv', 'PKLR_cnv', 'FDPS_cnv', 'RUSC1_cnv', 'ASH1L_cnv', 'MSTO1_cnv', 'YY1AP1_cnv', 'DAP3_cnv', 'GON4L_cnv', 'SYT11_cnv', 'RIT1_cnv', 'RXFP4_cnv', 'ARHGEF2_cnv', 'SSR2_cnv', 'UBQLN4_cnv', 'LAMTOR2_cnv', 'RAB25_cnv', 'MEX3A_cnv', 'LMNA_cnv', 'SEMA4A_cnv', 'SLC25A44_cnv', 'PMF1_cnv', 'BGLAP_cnv', 'PAQR6_cnv', 'SMG5_cnv', 'TMEM79_cnv', 'VHLL_cnv', 'CCT3_cnv', 'TSACC_cnv', 'RHBG_cnv', 'MEF2D_cnv', 'IQGAP3_cnv', 'TTC24_cnv', 'GPATCH4_cnv', 'HAPLN2_cnv', 'BCAN_cnv', 'NES_cnv', 'CRABP2_cnv', 'ISG20L2_cnv', 'RRNAD1_cnv', 'MRPL24_cnv', 'HDGF_cnv', 'PRCC_cnv', 'SH2D2A_cnv', 'NTRK1_cnv', 'COPA_cnv', 'GPR37L1_cnv', 'ARL8A_cnv', 'PLEKHA6_cnv', 'LEMD1_cnv', 'CDK18_cnv', 'IL1RN_cnv', 'PSD4_cnv', 'PAX8_cnv', 'CBWD2_cnv', 'LRP1B_cnv', 'SI_cnv', 'SLITRK3_cnv', 'BCHE_cnv', 'RN7SKP298_cnv', 'ZBBX_cnv', 'SERPINI2_cnv', 'WDR49_cnv', 'PDCD10_cnv', 'SERPINI1_cnv', 'GOLIM4_cnv', 'EGFEM1P_cnv', 'MECOM_cnv', 'ACTRT3_cnv', 'TERC_cnv', 'MYNN_cnv', 'LRRC34_cnv', 'LRRIQ4_cnv', 'LRRC31_cnv', 'SAMD7_cnv', 'SEC62_cnv', 'GPR160_cnv', 'PHC3_cnv', 'PRKCI_cnv', 'SKIL_cnv', 'CLDN11_cnv', 'SLC7A14_cnv', 'RNY5P3_cnv', 'RPL22L1_cnv', 'EIF5A2_cnv', 'SLC2A2_cnv', 'TNIK_cnv', 'PLD1_cnv', 'PP13439_cnv', 'TMEM212_cnv', 'FNDC3B_cnv', 'RN7SL141P_cnv', 'GHSR_cnv', 'TNFSF10_cnv', 'NCEH1_cnv', 'ECT2_cnv', 'SPATA16_cnv', 'NLGN1_cnv', 'RN7SKP234_cnv', 'NAALADL2_cnv', 'RN7SKP40_cnv', 'RNA5SP147_cnv', 'TBL1XR1_cnv', 'LINC00501_cnv', 'LINC00578_cnv', 'RN7SKP52_cnv', 'KCNMB2_cnv', 'RNA5SP148_cnv', 'ZMAT3_cnv', 'PIK3CA_cnv', 'KCNMB3_cnv', 'ZNF639_cnv', 'MFN1_cnv', 'GNB4_cnv', 'ACTL6A_cnv', 'MRPL47_cnv', 'NDUFB5_cnv', 'USP13_cnv', 'PEX5L_cnv', 'RNA5SP149_cnv', 'TTC14_cnv', 'CCDC39_cnv', 'RN7SL229P_cnv', 'FXR1_cnv', 'DNAJC19_cnv', 'SOX2_cnv', 'RN7SL703P_cnv', 'RNA5SP150_cnv', 'RN7SKP265_cnv', 'ATP11B_cnv', 'DCUN1D1_cnv', 'MCCC1_cnv', 'LAMP3_cnv', 'MCF2L2_cnv', 'B3GNT5_cnv', 'RNA5SP151_cnv', 'ABCC5_cnv', 'AP2M1_cnv', 'CYP2AB1P_cnv', 'DVL3_cnv', 'EIF2B5_cnv', 'HTR3C_cnv', 'HTR3D_cnv', 'HTR3E_cnv', 'KLHL24_cnv', 'KLHL6_cnv', 'LINC00888_cnv', 'MAP6D1_cnv', 'PARL_cnv', 'YEATS2_cnv', 'ABCF3_cnv', 'VWA5B2_cnv', 'ALG3_cnv', 'ECE2_cnv', 'CAMK2N2_cnv', 'PSMD2_cnv', 'EIF4G1_cnv', 'FAM131A_cnv', 'CLCN2_cnv', 'POLR2H_cnv', 'THPO_cnv', 'CHRD_cnv', 'EPHB3_cnv', 'MAGEF1_cnv', 'VPS8_cnv', 'EHHADH_cnv', 'MAP3K13_cnv', 'TMEM41A_cnv', 'LIPH_cnv', 'SENP2_cnv', 'IGF2BP2_cnv', 'TRA2B_cnv', 'ETV5_cnv', 'DGKG_cnv', 'CRYGS_cnv', 'TBCCD1_cnv', 'DNAJB11_cnv', 'AHSG_cnv', 'FETUB_cnv', 'HRG_cnv', 'KNG1_cnv', 'EIF4A2_cnv', 'RFC4_cnv', 'ADIPOQ_cnv', 'ST6GAL1_cnv', 'RPL39L_cnv', 'RTP1_cnv', 'MASP1_cnv', 'RTP4_cnv', 'SST_cnv', 'RTP2_cnv', 'BCL6_cnv', 'LPP_cnv', 'TPRG1_cnv', 'TP63_cnv', 'CLDN1_cnv', 'CLDN16_cnv', 'TMEM207_cnv', 'IL1RAP_cnv', 'RN7SKP296_cnv', 'GMNC_cnv', 'OSTN_cnv', 'UTS2B_cnv', 'CCDC50_cnv', 'PYDC2_cnv', 'RN7SKP222_cnv', 'FGF12_cnv', 'MB21D2_cnv', 'ATP13A5_cnv', 'ATP13A4_cnv', 'OPA1_cnv', 'RN7SL447P_cnv', 'HES1_cnv', 'RN7SL215P_cnv', 'LINC00887_cnv', 'CPN2_cnv', 'LRRC15_cnv', 'GP5_cnv', 'ATP13A3_cnv', 'LINC00884_cnv', 'TMEM44_cnv', 'LSG1_cnv', 'FAM43A_cnv', 'XXYLT1_cnv', 'RN7SL36P_cnv', 'ACAP2_cnv', 'APOD_cnv', 'MUC20_cnv', 'MUC4_cnv', 'PPP1R2_cnv', 'RNU6ATAC24P_cnv', 'SDHAP1_cnv', 'TNK2_cnv', 'TFRC_cnv', 'LINC00885_cnv', 'ZDHHC19_cnv', 'SLC51A_cnv', 'PCYT1A_cnv', 'TCTEX1D2_cnv', 'TM4SF19_cnv', 'UBXN7_cnv', 'RN7SL434P_cnv', 'RN7SL738P_cnv', 'RNF168_cnv', 'SMCO1_cnv', 'WDR53_cnv', 'FBXO45_cnv', 'NRROS_cnv', 'PIGX_cnv', 'CEP19_cnv', 'DLG1_cnv', 'NCBP2_cnv', 'PAK2_cnv', 'PIGZ_cnv', 'SENP5_cnv', 'BDH1_cnv', 'FYTTD1_cnv', 'LRCH3_cnv', 'ANKRD18DP_cnv', 'FAM157A_cnv', 'IQCG_cnv', 'LMLN_cnv', 'RPL35A_cnv', 'PDE4D_cnv', 'NEDD9_cnv', 'CSMD1_cnv', 'RNA5SP251_cnv', 'GINS4_cnv', 'ANK1_cnv', 'RN7SL149P_cnv', 'KAT6A_cnv', 'AP3M2_cnv', 'PLAT_cnv', 'IKBKB_cnv', 'POLB_cnv', 'DKK4_cnv', 'VDAC3_cnv', 'SLC20A2_cnv', 'SMIM19_cnv', 'CHRNB3_cnv', 'CHRNA6_cnv', 'THAP1_cnv', 'RNF170_cnv', 'FNTA_cnv', 'HGSNAT_cnv', 'POTEA_cnv', 'RNU105C_cnv', 'RN7SL250P_cnv', 'SOX17_cnv', 'CCNE2_cnv', 'NDUFAF6_cnv', 'TP53INP1_cnv', 'PLEKHF2_cnv', 'SDC2_cnv', 'CPQ_cnv', 'TSPYL5_cnv', 'MTDH_cnv', 'LAPTM4B_cnv', 'MATN2_cnv', 'RPL30_cnv', 'ANKRD46_cnv', 'RN7SKP249_cnv', 'ZNF706_cnv', 'RN7SL563P_cnv', 'GRHL2_cnv', 'NCALD_cnv', 'RRM2B_cnv', 'ZFPM2_cnv', 'OXR1_cnv', 'ABRA_cnv', 'ANGPT1_cnv', 'RNA5SP275_cnv', 'RSPO2_cnv', 'EIF3E_cnv', 'EMC2_cnv', 'TMEM74_cnv', 'TRHR_cnv', 'NUDCD1_cnv', 'ENY2_cnv', 'PKHD1L1_cnv', 'EBAG9_cnv', 'SYBU_cnv', 'KCNV1_cnv', 'CSMD3_cnv', 'TRPS1_cnv', 'LINC00536_cnv', 'RNA5SP276_cnv', 'EIF3H_cnv', 'UTP23_cnv', 'RAD21_cnv', 'AARD_cnv', 'SLC30A8_cnv', 'RN7SL228P_cnv', 'MED30_cnv', 'EXT1_cnv', 'SAMD12_cnv', 'TNFRSF11B_cnv', 'COLEC10_cnv', 'MAL2_cnv', 'ENPP2_cnv', 'RN7SKP153_cnv', 'TAF2_cnv', 'DSCC1_cnv', 'RN7SL396P_cnv', 'DEPTOR_cnv', 'RNA5SP277_cnv', 'COL14A1_cnv', 'MRPL13_cnv', 'MTBP_cnv', 'SNTB1_cnv', 'HAS2_cnv', 'ZHX2_cnv', 'DERL1_cnv', 'RNY4P5_cnv', 'TBC1D31_cnv', 'FAM83A_cnv', 'ZHX1_cnv', 'ATAD2_cnv', 'WDYHV1_cnv', 'FBXO32_cnv', 'RN7SKP155_cnv', 'KLHL38_cnv', 'ANXA13_cnv', 'FAM91A1_cnv', 'FER1L6_cnv', 'TMEM65_cnv', 'TRMT12_cnv', 'RNF139_cnv', 'TATDN1_cnv', 'NDUFB9_cnv', 'MTSS1_cnv', 'LINC00964_cnv', 'ZNF572_cnv', 'SQLE_cnv', 'NSMCE2_cnv', 'RN7SL329P_cnv', 'TRIB1_cnv', 'LINC00861_cnv', 'PCAT1_cnv', 'PCAT2_cnv', 'CCAT1_cnv', 'CASC8_cnv', 'POU5F1B_cnv', 'MYC_cnv', 'PVT1_cnv', 'TMEM75_cnv', 'RN7SKP226_cnv', 'LINC00977_cnv', 'RN7SKP206_cnv', 'CCDC26_cnv', 'GSDMC_cnv', 'FAM49B_cnv', 'ASAP1_cnv', 'ADCY8_cnv', 'EFR3A_cnv', 'OC90_cnv', 'HHLA1_cnv', 'KCNQ3_cnv', 'HPYR1_cnv', 'LRRC6_cnv', 'TMEM71_cnv', 'PHF20L1_cnv', 'TG_cnv', 'SLA_cnv', 'NDRG1_cnv', 'ST3GAL1_cnv', 'ZFAT_cnv', 'AGO2_cnv', 'DENND3_cnv', 'PTK2_cnv', 'RNA5SP278_cnv', 'SLC45A4_cnv', 'RHPN1_cnv', 'MAFA_cnv', 'ZC3H3_cnv', 'WWOX_cnv', 'CDK12_cnv', 'NEUROD2_cnv', 'PPP1R1B_cnv', 'STARD3_cnv', 'TCAP_cnv', 'PNMT_cnv', 'PGAP3_cnv', 'ERBB2_cnv', 'MIEN1_cnv', 'GRB7_cnv', 'IKZF3_cnv', 'ANGPTL6_cnv', 'PPAN_cnv', 'SNORD105_cnv', 'P2RY11_cnv', 'SNORD105B_cnv', 'EIF3G_cnv', 'DNMT1_cnv', 'S1PR2_cnv', 'MRPL4_cnv', 'ICAM1_cnv', 'ICAM4_cnv', 'ICAM5_cnv', 'ZGLP1_cnv', 'RAVER1_cnv', 'ICAM3_cnv', 'TYK2_cnv', 'CDC37_cnv', 'PDE4A_cnv', 'KEAP1_cnv', 'S1PR5_cnv', 'ATG4D_cnv', 'KRI1_cnv', 'AP1M2_cnv', 'CDKN2D_cnv', 'SLC44A2_cnv', 'ILF3_cnv', 'QTRT1_cnv', 'DNM2_cnv', 'TMED1_cnv', 'CARM1_cnv', 'YIPF2_cnv', 'SMARCA4_cnv', 'RN7SL192P_cnv', 'LDLR_cnv', 'SPC24_cnv', 'KANK2_cnv', 'DOCK6_cnv', 'TSPAN16_cnv', 'RAB3D_cnv', 'CCDC159_cnv', 'TMEM205_cnv', 'EPOR_cnv', 'SWSAP1_cnv', 'RGL3_cnv', 'CCDC151_cnv', 'PRKCSH_cnv', 'ELAVL3_cnv', 'ZNF653_cnv', 'ECSIT_cnv', 'RN7SL833P_cnv', 'CNN1_cnv', 'ELOF1_cnv', 'ZNF627_cnv', 'ACP5_cnv', 'ZNF833P_cnv', 'ZNF823_cnv', 'ZNF441_cnv', 'ZNF491_cnv', 'ZNF439_cnv', 'ZNF440_cnv', 'ZNF69_cnv', 'ZNF700_cnv', 'ZNF763_cnv', 'RNA5SP464_cnv', 'ZNF433_cnv', 'RNA5SP465_cnv', 'ZNF878_cnv', 'RNA5SP466_cnv', 'ZNF844_cnv', 'ZNF20_cnv', 'RNA5SP467_cnv', 'ZNF625_cnv', 'ZNF136_cnv', 'ZNF44_cnv', 'ZNF563_cnv', 'ZNF442_cnv', 'ZNF443_cnv', 'ZNF799_cnv', 'ZNF709_cnv', 'ZNF490_cnv', 'ZNF791_cnv', 'MAN2B1_cnv', 'WDR83OS_cnv', 'WDR83_cnv', 'DHPS_cnv', 'FBXW9_cnv', 'TNPO2_cnv', 'ASNA1_cnv', 'BEST2_cnv', 'HOOK2_cnv', 'JUNB_cnv', 'PRDX2_cnv', 'RNASEH2A_cnv', 'RTBDN_cnv', 'MAST1_cnv', 'DNASE2_cnv', 'KLF1_cnv', 'GCDH_cnv', 'SYCE2_cnv', 'FARSA_cnv', 'CALR_cnv', 'RAD23A_cnv', 'GADD45GIP1_cnv', 'DAND5_cnv', 'NFIX_cnv', 'LYL1_cnv', 'TRMT1_cnv', 'NACC1_cnv', 'STX10_cnv', 'IER2_cnv', 'CACNA1A_cnv', 'CCDC130_cnv', 'MRI1_cnv', 'ZSWIM4_cnv', 'RN7SL619P_cnv', 'NANOS3_cnv', 'CC2D1A_cnv', 'PODNL1_cnv', 'DCAF15_cnv', 'RFX1_cnv', 'IL27RA_cnv', 'RLN3_cnv', 'PALM3_cnv', 'PRKACA_cnv', 'SAMD1_cnv', 'ASF1B_cnv', 'RN7SL231P_cnv', 'DDX39A_cnv', 'PKN1_cnv', 'GIPC1_cnv', 'PTGER1_cnv', 'DNAJB1_cnv', 'TECR_cnv', 'NDUFB7_cnv', 'CLEC17A_cnv', 'RN7SL337P_cnv', 'RN7SL842P_cnv', 'ZNF333_cnv', 'OR7A5_cnv', 'OR7C1_cnv', 'OR7A10_cnv', 'OR7A17_cnv', 'OR7C2_cnv', 'SLC1A6_cnv', 'CCDC105_cnv', 'CASP14_cnv', 'OR1I1_cnv', 'SYDE1_cnv', 'ILVBL_cnv', 'NOTCH3_cnv', 'EPHX3_cnv', 'BRD4_cnv', 'AKAP8_cnv', 'AKAP8L_cnv', 'WIZ_cnv', 'RASAL3_cnv', 'PGLYRP2_cnv', 'CYP4F22_cnv', 'CYP4F23P_cnv', 'CYP4F8_cnv', 'CYP4F3_cnv', 'CYP4F12_cnv', 'OR10H2_cnv', 'OR10H3_cnv', 'CYP4F24P_cnv', 'OR10H5_cnv', 'OR10H1_cnv', 'UCA1_cnv', 'CYP4F2_cnv', 'CYP4F11_cnv', 'OR10H4_cnv', 'LINC00661_cnv', 'LINC00905_cnv', 'TPM4_cnv', 'RAB8A_cnv', 'HSH2D_cnv', 'CIB3_cnv', 'FAM32A_cnv', 'AP1M1_cnv', 'SLC35E1_cnv', 'MED26_cnv', 'SMIM7_cnv', 'TMEM38A_cnv', 'NWD1_cnv', 'SIN3B_cnv', 'F2RL3_cnv', 'CPAMD8_cnv', 'RN7SL835P_cnv', 'RN7SL823P_cnv', 'HAUS8_cnv', 'MYO9B_cnv', 'OCEL1_cnv', 'USE1_cnv', 'NR2F6_cnv', 'USHBP1_cnv', 'BABAM1_cnv', 'ANKLE1_cnv', 'ABHD8_cnv', 'MRPL34_cnv', 'DDA1_cnv', 'ANO8_cnv', 'GTPBP3_cnv', 'PLVAP_cnv', 'BST2_cnv', 'MVB12A_cnv', 'TMEM221_cnv', 'NXNL1_cnv', 'SLC27A1_cnv', 'PGLS_cnv', 'COLGALT1_cnv', 'UNC13A_cnv', 'MAP1S_cnv', 'FCHO1_cnv', 'B3GNT3_cnv', 'PDE4C_cnv', 'JUND_cnv', 'LSM4_cnv', 'PGPEP1_cnv', 'LINC00662_cnv', 'ZNF254_cnv', 'ZNF726_cnv', 'LINC00906_cnv', 'RNA5SP470_cnv', 'UQCRFS1_cnv', 'RN7SL340P_cnv', 'VSTM2B_cnv', 'POP4_cnv', 'PLEKHF1_cnv', 'CCNE1_cnv', 'URI1_cnv', 'ZNF536_cnv', 'TSHZ3_cnv', 'THEG5_cnv', 'RNA5SP471_cnv', 'RNA5SP472_cnv', 'ZNF507_cnv', 'ANKRD27_cnv', 'NUDT19_cnv', 'TDRD12_cnv', 'SLC7A9_cnv', 'RN7SKP22_cnv', 'CEP89_cnv', 'RHPN2_cnv', 'GPATCH1_cnv', 'WDR88_cnv', 'LRP3_cnv', 'SLC7A10_cnv', 'CEBPA_cnv', 'CEBPG_cnv', 'PEPD_cnv', 'ID1_cnv', 'COX4I2_cnv', 'BCL2L1_cnv', 'TPX2_cnv', 'HCK_cnv', 'TM9SF4_cnv', 'TSPY26P_cnv', 'PLAGL2_cnv', 'POFUT1_cnv', 'KIF3B_cnv', 'ASXL1_cnv']\n",
      "Index(['A1CF', 'A2M', 'A2ML1', 'AADACL2', 'AAK1', 'AARS', 'AARS2', 'AASDH',\n",
      "       'AASS', 'AATF',\n",
      "       ...\n",
      "       'ZSWIM6', 'ZSWIM8', 'ZXDA', 'ZXDB', 'ZXDC', 'ZYG11A', 'ZYX', 'ZZEF1',\n",
      "       'ZZZ3', 'snoU13'],\n",
      "      dtype='object', length=8137)\n"
     ]
    }
   ],
   "source": [
    "patient_info_keys = df.keys()[:10] \n",
    "rnaseq_keys = [key for key in df.keys() if key.endswith(\"_rnaseq\")]\n",
    "cnv_keys = [key for key in df.keys() if key.endswith(\"_cnv\")]\n",
    "mut_keys = df.drop(rnaseq_keys,axis=1).drop(cnv_keys,axis=1).drop(patient_info_keys,axis=1).keys()\n",
    "\n",
    "print(patient_info_keys)\n",
    "print(rnaseq_keys)\n",
    "print(cnv_keys)\n",
    "print(mut_keys)"
   ]
  },
  {
   "attachments": {},
   "cell_type": "markdown",
   "metadata": {},
   "source": [
    "### RNA Seq"
   ]
  },
  {
   "cell_type": "code",
   "execution_count": 15,
   "metadata": {},
   "outputs": [
    {
     "name": "stdout",
     "output_type": "stream",
     "text": [
      "Size of rna_sequences patients: 538 #rna_seq: 0\n"
     ]
    },
    {
     "ename": "ValueError",
     "evalue": "min() arg is an empty sequence",
     "output_type": "error",
     "traceback": [
      "\u001b[0;31m---------------------------------------------------------------------------\u001b[0m",
      "\u001b[0;31mValueError\u001b[0m                                Traceback (most recent call last)",
      "\u001b[1;32m/nodes/bevog/work4/seibel/multimodal_survival_prediction/Porpoise_explained.ipynb Cell 38\u001b[0m line \u001b[0;36m8\n\u001b[1;32m      <a href='vscode-notebook-cell://ssh-remote%2Bvision-bevog/nodes/bevog/work4/seibel/multimodal_survival_prediction/Porpoise_explained.ipynb#X52sdnNjb2RlLXJlbW90ZQ%3D%3D?line=4'>5</a>\u001b[0m values\u001b[39m.\u001b[39msort()\n\u001b[1;32m      <a href='vscode-notebook-cell://ssh-remote%2Bvision-bevog/nodes/bevog/work4/seibel/multimodal_survival_prediction/Porpoise_explained.ipynb#X52sdnNjb2RlLXJlbW90ZQ%3D%3D?line=6'>7</a>\u001b[0m \u001b[39mprint\u001b[39m(\u001b[39mf\u001b[39m\u001b[39m\"\u001b[39m\u001b[39mSize of rna_sequences patients: \u001b[39m\u001b[39m{\u001b[39;00mn_patients\u001b[39m}\u001b[39;00m\u001b[39m #rna_seq: \u001b[39m\u001b[39m{\u001b[39;00mn_seqs\u001b[39m}\u001b[39;00m\u001b[39m\"\u001b[39m)\n\u001b[0;32m----> <a href='vscode-notebook-cell://ssh-remote%2Bvision-bevog/nodes/bevog/work4/seibel/multimodal_survival_prediction/Porpoise_explained.ipynb#X52sdnNjb2RlLXJlbW90ZQ%3D%3D?line=7'>8</a>\u001b[0m \u001b[39mprint\u001b[39m(\u001b[39mf\u001b[39m\u001b[39m\"\u001b[39m\u001b[39mmin value: \u001b[39m\u001b[39m{\u001b[39;00m\u001b[39mmin\u001b[39;49m(values)\u001b[39m}\u001b[39;00m\u001b[39m\"\u001b[39m)\n\u001b[1;32m      <a href='vscode-notebook-cell://ssh-remote%2Bvision-bevog/nodes/bevog/work4/seibel/multimodal_survival_prediction/Porpoise_explained.ipynb#X52sdnNjb2RlLXJlbW90ZQ%3D%3D?line=8'>9</a>\u001b[0m \u001b[39mprint\u001b[39m(\u001b[39mf\u001b[39m\u001b[39m\"\u001b[39m\u001b[39mmax value: \u001b[39m\u001b[39m{\u001b[39;00m\u001b[39mmax\u001b[39m(values)\u001b[39m}\u001b[39;00m\u001b[39m\"\u001b[39m)\n",
      "\u001b[0;31mValueError\u001b[0m: min() arg is an empty sequence"
     ]
    }
   ],
   "source": [
    "df_rnaseq = df[rnaseq_keys].copy()\n",
    "\n",
    "n_patients, n_seqs = df_rnaseq.shape\n",
    "values = df_rnaseq.values.flatten()\n",
    "values.sort()\n",
    "\n",
    "print(f\"Size of rna_sequences patients: {n_patients} #rna_seq: {n_seqs}\")\n",
    "print(f\"min value: {min(values)}\")\n",
    "print(f\"max value: {max(values)}\")"
   ]
  },
  {
   "cell_type": "code",
   "execution_count": 9,
   "metadata": {},
   "outputs": [
    {
     "data": {
      "image/png": "[encoded data removed]",
      "text/plain": [
       "<Figure size 640x480 with 1 Axes>"
      ]
     },
     "metadata": {},
     "output_type": "display_data"
    }
   ],
   "source": [
    "plt.hist(values,log=True,bins=100)\n",
    "plt.title(\"Distribution of all RNA_seq values on a logarithmic scale\")\n",
    "plt.show()"
   ]
  },
  {
   "attachments": {},
   "cell_type": "markdown",
   "metadata": {},
   "source": [
    "### CNV"
   ]
  },
  {
   "cell_type": "code",
   "execution_count": 26,
   "metadata": {},
   "outputs": [
    {
     "name": "stdout",
     "output_type": "stream",
     "text": [
      "Size of #patients: 539 #cnv_types: 935\n",
      "min value: -2\n",
      "max value: 2\n"
     ]
    }
   ],
   "source": [
    "df_cnv = df[cnv_keys].copy()\n",
    "\n",
    "n_patients, n_seqs = df_cnv.shape\n",
    "values = df_cnv.values.flatten()\n",
    "values.sort()\n",
    "\n",
    "print(f\"Size of #patients: {n_patients} #cnv_types: {n_seqs}\")\n",
    "print(f\"min value: {min(values)}\")\n",
    "print(f\"max value: {max(values)}\")"
   ]
  },
  {
   "cell_type": "code",
   "execution_count": 27,
   "metadata": {},
   "outputs": [
    {
     "data": {
      "image/png": "[encoded data removed]",
      "text/plain": [
       "<Figure size 640x480 with 1 Axes>"
      ]
     },
     "metadata": {},
     "output_type": "display_data"
    }
   ],
   "source": [
    "plt.hist(values)\n",
    "plt.title(\"Distribution of all CNV values \")\n",
    "plt.show()"
   ]
  },
  {
   "attachments": {},
   "cell_type": "markdown",
   "metadata": {},
   "source": [
    "### Mutations"
   ]
  },
  {
   "cell_type": "code",
   "execution_count": 28,
   "metadata": {},
   "outputs": [
    {
     "name": "stdout",
     "output_type": "stream",
     "text": [
      "Size of #patients: 539 #mut_types: 8137\n",
      "min value: 0\n",
      "max value: 1\n"
     ]
    }
   ],
   "source": [
    "df_mut = df[mut_keys].copy()\n",
    "\n",
    "n_patients, n_seqs = df_mut.shape\n",
    "values = df_mut.values.flatten()\n",
    "values.sort()\n",
    "\n",
    "print(f\"Size of #patients: {n_patients} #mut_types: {n_seqs}\")\n",
    "print(f\"min value: {min(values)}\")\n",
    "print(f\"max value: {max(values)}\")"
   ]
  },
  {
   "cell_type": "code",
   "execution_count": 29,
   "metadata": {},
   "outputs": [
    {
     "data": {
      "image/png": "[encoded data removed]",
      "text/plain": [
       "<Figure size 640x480 with 1 Axes>"
      ]
     },
     "metadata": {},
     "output_type": "display_data"
    }
   ],
   "source": [
    "plt.hist(values,bins=3)\n",
    "plt.title(\"Distribution of all Mut values \")\n",
    "plt.show()"
   ]
  },
  {
   "attachments": {},
   "cell_type": "markdown",
   "metadata": {},
   "source": [
    "## Normalization \n",
    "The Porpoise pipeline applies a regular standard scaler to the genomic data which  transforms the features independently from each other to transform the data to a standard gauß distribution\n",
    "\n",
    "\n",
    "from sklearn.preprocessing import StandardScaler\n",
    "\n",
    "genomic_features = slide_data.drop(metadata, axis=1)\n",
    "scaler_omic = StandardScaler().fit(genomic_features)"
   ]
  },
  {
   "cell_type": "code",
   "execution_count": null,
   "metadata": {},
   "outputs": [],
   "source": []
  }
 ],
 "metadata": {
  "kernelspec": {
   "display_name": "env",
   "language": "python",
   "name": "python3"
  },
  "language_info": {
   "codemirror_mode": {
    "name": "ipython",
    "version": 3
   },
   "file_extension": ".py",
   "mimetype": "text/x-python",
   "name": "python",
   "nbconvert_exporter": "python",
   "pygments_lexer": "ipython3",
   "version": "3.10.12"
  },
  "orig_nbformat": 4
 },
 "nbformat": 4,
 "nbformat_minor": 2
}
